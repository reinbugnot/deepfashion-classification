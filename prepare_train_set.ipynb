{
 "cells": [
  {
   "cell_type": "code",
   "id": "initial_id",
   "metadata": {
    "collapsed": true,
    "ExecuteTime": {
     "end_time": "2024-04-27T19:54:28.730669Z",
     "start_time": "2024-04-27T19:54:28.727669Z"
    }
   },
   "source": [
    "import os\n",
    "import json\n",
    "import shutil\n",
    "\n",
    "import matplotlib.pyplot as plt\n",
    "import seaborn as sns"
   ],
   "outputs": [],
   "execution_count": 88
  },
  {
   "metadata": {
    "ExecuteTime": {
     "end_time": "2024-04-27T19:55:16.760447Z",
     "start_time": "2024-04-27T19:55:16.754890Z"
    }
   },
   "cell_type": "code",
   "source": [
    "original_dataset = \"C:/Users/vinit/Documents/test4/data/img/img\"\n",
    "out_dataset = \"C:/Users/vinit/Documents/test6/fashion_data/train\"\n",
    "out_copy_file = \"C:/Users/vinit/Documents/test4/data/copy_imgs.txt\"\n",
    "out_jsonl = \"C:/Users/vinit/Documents/test4/data/metadata.jsonl\"\n",
    "\n",
    "img_names_file = \"C:/Users/vinit/Documents/test4/data/split/train.txt\"\n",
    "img_attr_file = \"C:/Users/vinit/Documents/test4/data/split/train_attr.txt\"\n",
    "\n",
    "with open(img_names_file, \"r\") as f:\n",
    "    img_names = f.readlines()\n",
    "\n",
    "with open(img_attr_file, \"r\") as f:\n",
    "    img_attr = f.readlines()"
   ],
   "id": "63b93611ef54c57",
   "outputs": [],
   "execution_count": 98
  },
  {
   "metadata": {
    "ExecuteTime": {
     "end_time": "2024-04-27T19:55:17.180062Z",
     "start_time": "2024-04-27T19:55:17.176572Z"
    }
   },
   "cell_type": "code",
   "source": [
    "attr_dicts = [\n",
    "    {\n",
    "        \"0\": \"floral\",\n",
    "        \"1\": \"graphic\",\n",
    "        \"2\": \"striped\",\n",
    "        \"3\": \"embroidered\",\n",
    "        \"4\": \"pleated\",\n",
    "        \"5\": \"solid\",\n",
    "        \"6\": \"lattice\"\n",
    "    },\n",
    "    {\n",
    "        \"0\": \"short_sleeve\",\n",
    "        \"1\": \"long_sleeve\",\n",
    "        \"2\": \"sleeveless\"\n",
    "    },\n",
    "    {\n",
    "        \"0\": \"maxi_length\",\n",
    "        \"1\": \"mini_length\",\n",
    "        \"2\": \"no_dress\"\n",
    "    },\n",
    "    {\n",
    "        \"0\": \"crew_neckline\",\n",
    "        \"1\": \"v_neckline\",\n",
    "        \"2\": \"square_neckline\",\n",
    "        \"3\": \"no_neckline\"\n",
    "    },\n",
    "    {\n",
    "        \"0\": \"denim\",\n",
    "        \"1\": \"chiffon\",\n",
    "        \"2\": \"cotton\",\n",
    "        \"3\": \"leather\",\n",
    "        \"4\": \"faux\",\n",
    "        \"5\": \"knit\"\n",
    "    },\n",
    "    {\n",
    "        \"0\": \"tight\",\n",
    "        \"1\": \"loose\",\n",
    "        \"2\": \"conventional\"\n",
    "    }\n",
    "]"
   ],
   "id": "999efe19ba55e99a",
   "outputs": [],
   "execution_count": 99
  },
  {
   "metadata": {
    "ExecuteTime": {
     "end_time": "2024-04-27T19:55:17.680639Z",
     "start_time": "2024-04-27T19:55:17.656714Z"
    }
   },
   "cell_type": "code",
   "source": [
    "counts = {}\n",
    "\n",
    "for line in range(len(img_attr)):\n",
    "    catwise_attrs = img_attr[line].replace(\"\\n\", \"\").split(\" \")\n",
    "    for cat_idx in range(len(catwise_attrs)):\n",
    "        attr = attr_dicts[cat_idx][catwise_attrs[cat_idx]]\n",
    "        if attr in counts.keys():\n",
    "            counts[attr] += 1\n",
    "        else:\n",
    "            counts[attr] = 1\n",
    "print(counts)"
   ],
   "id": "a566e6eebdf7a748",
   "outputs": [
    {
     "name": "stdout",
     "output_type": "stream",
     "text": [
      "{'embroidered': 1179, 'sleeveless': 7294, 'no_dress': 9858, 'no_neckline': 5858, 'chiffon': 2073, 'conventional': 11241, 'solid': 6633, 'cotton': 9469, 'tight': 2001, 'graphic': 2329, 'maxi_length': 1436, 'denim': 835, 'short_sleeve': 4269, 'v_neckline': 2416, 'floral': 2383, 'mini_length': 2706, 'loose': 758, 'striped': 938, 'crew_neckline': 5679, 'lattice': 242, 'long_sleeve': 2437, 'leather': 292, 'knit': 1207, 'pleated': 296, 'square_neckline': 47, 'faux': 124}\n"
     ]
    }
   ],
   "execution_count": 100
  },
  {
   "metadata": {
    "ExecuteTime": {
     "end_time": "2024-04-27T19:55:18.214780Z",
     "start_time": "2024-04-27T19:55:18.090575Z"
    }
   },
   "cell_type": "code",
   "source": [
    "sns.barplot(x=list(counts.keys()), y=list(counts.values()))\n",
    "plt.xticks(rotation=90)"
   ],
   "id": "4d2a1eff7eab687b",
   "outputs": [
    {
     "data": {
      "text/plain": [
       "([0,\n",
       "  1,\n",
       "  2,\n",
       "  3,\n",
       "  4,\n",
       "  5,\n",
       "  6,\n",
       "  7,\n",
       "  8,\n",
       "  9,\n",
       "  10,\n",
       "  11,\n",
       "  12,\n",
       "  13,\n",
       "  14,\n",
       "  15,\n",
       "  16,\n",
       "  17,\n",
       "  18,\n",
       "  19,\n",
       "  20,\n",
       "  21,\n",
       "  22,\n",
       "  23,\n",
       "  24,\n",
       "  25],\n",
       " [Text(0, 0, 'embroidered'),\n",
       "  Text(1, 0, 'sleeveless'),\n",
       "  Text(2, 0, 'no_dress'),\n",
       "  Text(3, 0, 'no_neckline'),\n",
       "  Text(4, 0, 'chiffon'),\n",
       "  Text(5, 0, 'conventional'),\n",
       "  Text(6, 0, 'solid'),\n",
       "  Text(7, 0, 'cotton'),\n",
       "  Text(8, 0, 'tight'),\n",
       "  Text(9, 0, 'graphic'),\n",
       "  Text(10, 0, 'maxi_length'),\n",
       "  Text(11, 0, 'denim'),\n",
       "  Text(12, 0, 'short_sleeve'),\n",
       "  Text(13, 0, 'v_neckline'),\n",
       "  Text(14, 0, 'floral'),\n",
       "  Text(15, 0, 'mini_length'),\n",
       "  Text(16, 0, 'loose'),\n",
       "  Text(17, 0, 'striped'),\n",
       "  Text(18, 0, 'crew_neckline'),\n",
       "  Text(19, 0, 'lattice'),\n",
       "  Text(20, 0, 'long_sleeve'),\n",
       "  Text(21, 0, 'leather'),\n",
       "  Text(22, 0, 'knit'),\n",
       "  Text(23, 0, 'pleated'),\n",
       "  Text(24, 0, 'square_neckline'),\n",
       "  Text(25, 0, 'faux')])"
      ]
     },
     "execution_count": 101,
     "metadata": {},
     "output_type": "execute_result"
    },
    {
     "data": {
      "text/plain": [
       "<Figure size 640x480 with 1 Axes>"
      ],
      "image/png": "[encoded data removed]"
     },
     "metadata": {},
     "output_type": "display_data"
    }
   ],
   "execution_count": 101
  },
  {
   "metadata": {
    "ExecuteTime": {
     "end_time": "2024-04-27T19:55:18.797198Z",
     "start_time": "2024-04-27T19:55:18.793996Z"
    }
   },
   "cell_type": "code",
   "source": [
    "scarcity = 500\n",
    "\n",
    "scarce_attrs = [k for k, v in counts.items() if v < scarcity]\n",
    "scarce_attrs"
   ],
   "id": "ee997769839fd612",
   "outputs": [
    {
     "data": {
      "text/plain": [
       "['lattice', 'leather', 'pleated', 'square_neckline', 'faux']"
      ]
     },
     "execution_count": 102,
     "metadata": {},
     "output_type": "execute_result"
    }
   ],
   "execution_count": 102
  },
  {
   "metadata": {
    "ExecuteTime": {
     "end_time": "2024-04-27T19:55:19.413845Z",
     "start_time": "2024-04-27T19:55:19.375888Z"
    }
   },
   "cell_type": "code",
   "source": [
    "scarce_attrs = [k for k, v in counts.items() if v < scarcity]\n",
    "meta = []\n",
    "img_copy_paths = []\n",
    "\n",
    "for line in range(len(img_attr)):\n",
    "    img_name_parts = img_names[line].replace(\"\\n\", \"\").split(\"/\")\n",
    "    img_name = f\"{img_name_parts[1]}_{img_name_parts[2]}\"\n",
    "    catwise_attrs = img_attr[line].replace(\"\\n\", \"\").split(\" \")\n",
    "    add = False\n",
    "    caption = \"A person wearing \"\n",
    "    for cat_idx in range(len(catwise_attrs)):\n",
    "        attr = attr_dicts[cat_idx][catwise_attrs[cat_idx]]\n",
    "        if attr in scarce_attrs:\n",
    "            add = True\n",
    "        attr_formatted = attr.replace(\"_\", \" \")\n",
    "        caption += attr_formatted + \" \"\n",
    "    caption += \"clothes\"\n",
    "    if add:\n",
    "        meta.append({\n",
    "            \"file_name\": img_name,\n",
    "            \"caption\": caption\n",
    "        })\n",
    "        img_copy_paths.append(img_names[line].replace(\"\\n\", \"\"))\n",
    "    \n",
    "print(meta[0])\n"
   ],
   "id": "5844a5b40638daa6",
   "outputs": [
    {
     "name": "stdout",
     "output_type": "stream",
     "text": [
      "{'file_name': 'Grid_Print_Jumpsuit_img_00000048.jpg', 'caption': 'A person wearing lattice sleeveless no dress v neckline cotton conventional clothes'}\n"
     ]
    }
   ],
   "execution_count": 103
  },
  {
   "metadata": {},
   "cell_type": "markdown",
   "source": "### Gen Files for training SD",
   "id": "a6c21bf1bf5a95c4"
  },
  {
   "metadata": {
    "ExecuteTime": {
     "end_time": "2024-04-27T19:55:19.995881Z",
     "start_time": "2024-04-27T19:55:19.989438Z"
    }
   },
   "cell_type": "code",
   "source": [
    "with open(out_jsonl, 'w') as f:\n",
    "    for item in meta:\n",
    "        f.write(json.dumps(item) + \"\\n\")\n",
    "\n",
    "with open(out_copy_file, 'w') as f:\n",
    "    for line in img_copy_paths:\n",
    "        f.write(f\"{line}\\n\")"
   ],
   "id": "5800261ab42e2342",
   "outputs": [],
   "execution_count": 104
  },
  {
   "metadata": {
    "ExecuteTime": {
     "end_time": "2024-04-27T19:55:20.550301Z",
     "start_time": "2024-04-27T19:55:20.543937Z"
    }
   },
   "cell_type": "code",
   "source": [
    "with open(out_copy_file, \"r\") as f:\n",
    "    img_copy_paths_in = f.readlines()"
   ],
   "id": "64e7454dcc993c2c",
   "outputs": [],
   "execution_count": 105
  },
  {
   "metadata": {
    "ExecuteTime": {
     "end_time": "2024-04-27T19:55:22.009909Z",
     "start_time": "2024-04-27T19:55:21.557515Z"
    }
   },
   "cell_type": "code",
   "source": [
    "for img_path in img_copy_paths_in:\n",
    "    img_path = img_path.replace(\"\\n\", \"\")\n",
    "    img_name_parts = img_path.split(\"/\")\n",
    "    img_name = f\"{img_name_parts[1]}_{img_name_parts[2]}\"\n",
    "    shutil.copy2(os.path.join(\"C:/Users/vinit/Documents/test4/data/img\", img_path), os.path.join(out_dataset, img_name))"
   ],
   "id": "9fcd2da576e4d529",
   "outputs": [],
   "execution_count": 106
  },
  {
   "metadata": {},
   "cell_type": "markdown",
   "source": "### Gen Files for training classifier",
   "id": "a58469b8efea5c85"
  },
  {
   "metadata": {
    "ExecuteTime": {
     "end_time": "2024-04-28T07:49:04.514702Z",
     "start_time": "2024-04-28T07:49:04.503494Z"
    }
   },
   "cell_type": "code",
   "source": [
    "meta_file = \"C:/Users/vinit/Documents/test6/fashion_data/train/metadata.jsonl\"\n",
    "\n",
    "with open(img_names_file, \"r\") as f:\n",
    "    img_names = f.readlines()\n",
    "\n",
    "with open(img_attr_file, \"r\") as f:\n",
    "    img_attr = f.readlines()\n",
    "    \n",
    "with open(meta_file, \"r\") as f:\n",
    "    meta_attr = list(f)\n",
    "    \n",
    "meta_attr"
   ],
   "id": "80d0644d7121e5f2",
   "outputs": [
    {
     "data": {
      "text/plain": [
       "['{\"file_name\": \"Grid_Print_Jumpsuit_img_00000048.jpg\", \"caption\": \"A person wearing lattice sleeveless no dress v neckline cotton conventional clothes\"}\\n',\n",
       " '{\"file_name\": \"Flutter_Sleeve_Surplice_Dress_img_00000022.jpg\", \"caption\": \"A person wearing lattice sleeveless mini length no neckline cotton conventional clothes\"}\\n',\n",
       " '{\"file_name\": \"Faux_Leather_Moto_Jacket_img_00000028.jpg\", \"caption\": \"A person wearing solid short sleeve no dress v neckline leather tight clothes\"}\\n',\n",
       " '{\"file_name\": \"Gingham-Lined_Pocket_Tee_img_00000055.jpg\", \"caption\": \"A person wearing lattice short sleeve no dress v neckline cotton conventional clothes\"}\\n',\n",
       " '{\"file_name\": \"Sleeveless_Zip-Front_Hoodie_img_00000050.jpg\", \"caption\": \"A person wearing solid sleeveless no dress crew neckline leather conventional clothes\"}\\n',\n",
       " '{\"file_name\": \"V-Neck_Box_Pleat_Dress_img_00000013.jpg\", \"caption\": \"A person wearing pleated sleeveless mini length no neckline cotton conventional clothes\"}\\n',\n",
       " '{\"file_name\": \"Belted_Plaid_Dress_img_00000010.jpg\", \"caption\": \"A person wearing lattice sleeveless mini length v neckline cotton conventional clothes\"}\\n',\n",
       " '{\"file_name\": \"Checkered_Leggings_img_00000001.jpg\", \"caption\": \"A person wearing lattice sleeveless no dress no neckline cotton tight clothes\"}\\n',\n",
       " '{\"file_name\": \"Baroque_Print_High-Neck_Romper_img_00000031.jpg\", \"caption\": \"A person wearing floral short sleeve no dress square neckline chiffon loose clothes\"}\\n',\n",
       " '{\"file_name\": \"Faux_Fur_Jacket_img_00000002.jpg\", \"caption\": \"A person wearing floral short sleeve no dress v neckline faux conventional clothes\"}\\n',\n",
       " '{\"file_name\": \"Faux_Leather-Paneled_Sweatpants_img_00000017.jpg\", \"caption\": \"A person wearing solid sleeveless no dress no neckline leather conventional clothes\"}\\n',\n",
       " '{\"file_name\": \"Longline_Faux_Fur_Coat_img_00000010.jpg\", \"caption\": \"A person wearing solid short sleeve no dress v neckline faux conventional clothes\"}\\n',\n",
       " '{\"file_name\": \"Boxy_Open-Knit_Top_img_00000002.jpg\", \"caption\": \"A person wearing lattice long sleeve no dress crew neckline cotton conventional clothes\"}\\n',\n",
       " '{\"file_name\": \"Boxy_Nautical_Stripe_Top_img_00000001.jpg\", \"caption\": \"A person wearing lattice long sleeve no dress crew neckline chiffon conventional clothes\"}\\n',\n",
       " '{\"file_name\": \"Quilted_Bomber_Jacket_img_00000080.jpg\", \"caption\": \"A person wearing solid short sleeve no dress crew neckline leather conventional clothes\"}\\n',\n",
       " '{\"file_name\": \"Metallic_Polka_Dot_Blouse_img_00000071.jpg\", \"caption\": \"A person wearing solid short sleeve no dress v neckline leather tight clothes\"}\\n',\n",
       " '{\"file_name\": \"Faux_Shearling_Bomber_Jacket_img_00000010.jpg\", \"caption\": \"A person wearing solid short sleeve no dress crew neckline leather conventional clothes\"}\\n',\n",
       " '{\"file_name\": \"Cropped_Faux_Fur_Jacket_img_00000021.jpg\", \"caption\": \"A person wearing solid short sleeve no dress crew neckline faux conventional clothes\"}\\n',\n",
       " '{\"file_name\": \"Collarless_Faux_Leather-Sleeve_Blazer_img_00000002.jpg\", \"caption\": \"A person wearing solid short sleeve no dress v neckline leather conventional clothes\"}\\n',\n",
       " '{\"file_name\": \"Classic_Knit_Skater_Skirt_img_00000039.jpg\", \"caption\": \"A person wearing lattice sleeveless mini length no neckline cotton conventional clothes\"}\\n',\n",
       " '{\"file_name\": \"Always_Be_Chic_Top_img_00000044.jpg\", \"caption\": \"A person wearing lattice short sleeve no dress no neckline knit loose clothes\"}\\n',\n",
       " '{\"file_name\": \"Faux_Leather_Biker_Jacket_img_00000031.jpg\", \"caption\": \"A person wearing solid short sleeve no dress v neckline leather conventional clothes\"}\\n',\n",
       " '{\"file_name\": \"Checkered_Leggings_img_00000006.jpg\", \"caption\": \"A person wearing lattice sleeveless no dress no neckline cotton tight clothes\"}\\n',\n",
       " '{\"file_name\": \"Paneled_Knit_Leggings_img_00000011.jpg\", \"caption\": \"A person wearing solid sleeveless no dress no neckline leather tight clothes\"}\\n',\n",
       " '{\"file_name\": \"Strapless_Pleated_Chiffon_Dress_img_00000030.jpg\", \"caption\": \"A person wearing pleated sleeveless maxi length no neckline cotton conventional clothes\"}\\n',\n",
       " '{\"file_name\": \"Faux_Leather_Mini_Skirt_img_00000017.jpg\", \"caption\": \"A person wearing solid sleeveless no dress no neckline leather tight clothes\"}\\n',\n",
       " '{\"file_name\": \"Fuzzy_Striped_Sweater_img_00000019.jpg\", \"caption\": \"A person wearing striped short sleeve no dress crew neckline faux conventional clothes\"}\\n',\n",
       " '{\"file_name\": \"High_Slit_Midi_Skirt_img_00000028.jpg\", \"caption\": \"A person wearing pleated sleeveless no dress no neckline cotton conventional clothes\"}\\n',\n",
       " '{\"file_name\": \"Quilted_Faux_Leather_Jacket_img_00000013.jpg\", \"caption\": \"A person wearing solid short sleeve no dress crew neckline leather conventional clothes\"}\\n',\n",
       " '{\"file_name\": \"Pocket_Shirt_Jacket_img_00000010.jpg\", \"caption\": \"A person wearing solid short sleeve no dress v neckline leather conventional clothes\"}\\n',\n",
       " '{\"file_name\": \"Belted_Plaid_Shirt_Dress_img_00000042.jpg\", \"caption\": \"A person wearing lattice short sleeve no dress no neckline cotton loose clothes\"}\\n',\n",
       " '{\"file_name\": \"Plaid_Shirt_Dress_img_00000022.jpg\", \"caption\": \"A person wearing lattice long sleeve mini length v neckline cotton conventional clothes\"}\\n',\n",
       " '{\"file_name\": \"Shirred_Sateen_Maxi_Skirt_img_00000006.jpg\", \"caption\": \"A person wearing pleated sleeveless no dress no neckline cotton conventional clothes\"}\\n',\n",
       " '{\"file_name\": \"Zip-Front_Leggings_img_00000021.jpg\", \"caption\": \"A person wearing solid sleeveless no dress no neckline leather tight clothes\"}\\n',\n",
       " '{\"file_name\": \"Hooded_Bomber_Jacket_img_00000067.jpg\", \"caption\": \"A person wearing solid short sleeve no dress crew neckline leather conventional clothes\"}\\n',\n",
       " '{\"file_name\": \"Layered-Collar_Sweater_img_00000066.jpg\", \"caption\": \"A person wearing solid short sleeve no dress v neckline leather conventional clothes\"}\\n',\n",
       " '{\"file_name\": \"Faux_Leather_A-Line_Skirt_img_00000002.jpg\", \"caption\": \"A person wearing solid sleeveless no dress no neckline leather conventional clothes\"}\\n',\n",
       " '{\"file_name\": \"Gingham_Print_Skater_Dress_img_00000065.jpg\", \"caption\": \"A person wearing lattice short sleeve mini length crew neckline cotton conventional clothes\"}\\n',\n",
       " '{\"file_name\": \"Collared_Luxe_Faux_Fur_Jacket_img_00000020.jpg\", \"caption\": \"A person wearing solid short sleeve no dress v neckline faux conventional clothes\"}\\n',\n",
       " '{\"file_name\": \"Twisted-Hem_Plaid_Blouse_img_00000081.jpg\", \"caption\": \"A person wearing lattice short sleeve no dress v neckline cotton conventional clothes\"}\\n',\n",
       " '{\"file_name\": \"High-Collar_Faux_Fur_Jacket_img_00000027.jpg\", \"caption\": \"A person wearing solid short sleeve no dress crew neckline faux conventional clothes\"}\\n',\n",
       " '{\"file_name\": \"Faux_Suede_Fringe_Jacket_img_00000014.jpg\", \"caption\": \"A person wearing solid short sleeve no dress v neckline leather conventional clothes\"}\\n',\n",
       " '{\"file_name\": \"Colorblocked_Faux_Leather_Varsity_Jacket_img_00000052.jpg\", \"caption\": \"A person wearing solid short sleeve no dress crew neckline leather conventional clothes\"}\\n',\n",
       " '{\"file_name\": \"Longline_Plaid_Shirt_Dress_img_00000019.jpg\", \"caption\": \"A person wearing lattice short sleeve mini length crew neckline cotton conventional clothes\"}\\n',\n",
       " '{\"file_name\": \"Pleated_Metallic_Skirt_img_00000054.jpg\", \"caption\": \"A person wearing pleated sleeveless no dress no neckline cotton loose clothes\"}\\n',\n",
       " '{\"file_name\": \"Buttoned_Collarless_Blouse_img_00000020.jpg\", \"caption\": \"A person wearing lattice short sleeve no dress crew neckline cotton conventional clothes\"}\\n',\n",
       " '{\"file_name\": \"Striped_Stretch-Knit_Dress_img_00000041.jpg\", \"caption\": \"A person wearing pleated sleeveless mini length crew neckline chiffon conventional clothes\"}\\n',\n",
       " '{\"file_name\": \"Snap_Collar_Moto_Jacket_img_00000009.jpg\", \"caption\": \"A person wearing solid short sleeve no dress v neckline leather conventional clothes\"}\\n',\n",
       " '{\"file_name\": \"Chain-Trim_Fuzzy_Cardigan_img_00000009.jpg\", \"caption\": \"A person wearing lattice short sleeve no dress crew neckline faux conventional clothes\"}\\n',\n",
       " '{\"file_name\": \"Abstract_Grid_Peplum_Top_img_00000023.jpg\", \"caption\": \"A person wearing floral sleeveless no dress square neckline cotton conventional clothes\"}\\n',\n",
       " '{\"file_name\": \"Cropped_Faux_Fur_Jacket_img_00000060.jpg\", \"caption\": \"A person wearing solid short sleeve no dress v neckline faux conventional clothes\"}\\n',\n",
       " '{\"file_name\": \"Bell-Sleeved_Peasant_Top_img_00000010.jpg\", \"caption\": \"A person wearing pleated short sleeve no dress crew neckline chiffon loose clothes\"}\\n',\n",
       " '{\"file_name\": \"Pleated_Woven_Dress_img_00000059.jpg\", \"caption\": \"A person wearing pleated sleeveless mini length no neckline cotton conventional clothes\"}\\n',\n",
       " '{\"file_name\": \"Halter_Maxi_Dress_img_00000033.jpg\", \"caption\": \"A person wearing pleated sleeveless maxi length v neckline chiffon conventional clothes\"}\\n',\n",
       " '{\"file_name\": \"Cutout-Front_Textured_Bodycon_Dress_img_00000044.jpg\", \"caption\": \"A person wearing pleated short sleeve mini length crew neckline cotton loose clothes\"}\\n',\n",
       " '{\"file_name\": \"Faux_Leather_Cutout_Jacket_img_00000026.jpg\", \"caption\": \"A person wearing solid long sleeve no dress crew neckline leather conventional clothes\"}\\n',\n",
       " '{\"file_name\": \"Pleated_Skater_Skirt_img_00000011.jpg\", \"caption\": \"A person wearing pleated sleeveless no dress no neckline cotton conventional clothes\"}\\n',\n",
       " '{\"file_name\": \"Diamond-Embroidered_Mini_Dress_img_00000016.jpg\", \"caption\": \"A person wearing solid sleeveless mini length no neckline leather conventional clothes\"}\\n',\n",
       " '{\"file_name\": \"Zippered_Faux_Leather_Mini_Skirt_img_00000052.jpg\", \"caption\": \"A person wearing solid sleeveless no dress no neckline leather conventional clothes\"}\\n',\n",
       " '{\"file_name\": \"Belted_Lace_Print_Dress_img_00000077.jpg\", \"caption\": \"A person wearing floral long sleeve mini length square neckline chiffon conventional clothes\"}\\n',\n",
       " '{\"file_name\": \"Zippered_Longline_Sweater_img_00000027.jpg\", \"caption\": \"A person wearing solid short sleeve no dress crew neckline faux conventional clothes\"}\\n',\n",
       " '{\"file_name\": \"High-Waisted_Plaid_Shorts_img_00000091.jpg\", \"caption\": \"A person wearing lattice sleeveless no dress no neckline cotton tight clothes\"}\\n',\n",
       " '{\"file_name\": \"Cap-Sleeved_Midi_Dress_img_00000044.jpg\", \"caption\": \"A person wearing embroidered long sleeve maxi length square neckline chiffon conventional clothes\"}\\n',\n",
       " '{\"file_name\": \"Embroidered_Mini_Skirt_img_00000030.jpg\", \"caption\": \"A person wearing solid sleeveless no dress no neckline leather conventional clothes\"}\\n',\n",
       " '{\"file_name\": \"Pleated_A-Line_Dress_img_00000069.jpg\", \"caption\": \"A person wearing pleated sleeveless maxi length no neckline chiffon conventional clothes\"}\\n',\n",
       " '{\"file_name\": \"Bon_Voyage_Maxi_Dress_img_00000041.jpg\", \"caption\": \"A person wearing embroidered long sleeve maxi length square neckline chiffon conventional clothes\"}\\n',\n",
       " '{\"file_name\": \"Faux_Leather_Jersey_img_00000024.jpg\", \"caption\": \"A person wearing solid short sleeve no dress crew neckline leather conventional clothes\"}\\n',\n",
       " '{\"file_name\": \"Faux_Leather_Pencil_Skirt_img_00000001.jpg\", \"caption\": \"A person wearing solid sleeveless no dress no neckline leather tight clothes\"}\\n',\n",
       " '{\"file_name\": \"Faux_Fur_Jacket_img_00000024.jpg\", \"caption\": \"A person wearing floral sleeveless no dress crew neckline faux conventional clothes\"}\\n',\n",
       " '{\"file_name\": \"Pleated_Floral_Chiffon_Skirt_img_00000006.jpg\", \"caption\": \"A person wearing pleated sleeveless no dress no neckline chiffon conventional clothes\"}\\n',\n",
       " '{\"file_name\": \"Pleated_Overall_Skirt_img_00000025.jpg\", \"caption\": \"A person wearing lattice sleeveless no dress no neckline cotton conventional clothes\"}\\n',\n",
       " '{\"file_name\": \"Strapless_Pleated_Chiffon_Dress_img_00000013.jpg\", \"caption\": \"A person wearing pleated sleeveless maxi length no neckline chiffon conventional clothes\"}\\n',\n",
       " '{\"file_name\": \"Zippered_Faux_Leather_Mini_Skirt_img_00000055.jpg\", \"caption\": \"A person wearing solid sleeveless no dress no neckline leather tight clothes\"}\\n',\n",
       " '{\"file_name\": \"Belted_Paisley_Print_Dress_img_00000077.jpg\", \"caption\": \"A person wearing floral sleeveless mini length square neckline chiffon conventional clothes\"}\\n',\n",
       " '{\"file_name\": \"Strapless_Pleated_Chiffon_Dress_img_00000062.jpg\", \"caption\": \"A person wearing pleated sleeveless maxi length no neckline chiffon conventional clothes\"}\\n',\n",
       " '{\"file_name\": \"Zippered_Shawl_Collar_Blazer_img_00000136.jpg\", \"caption\": \"A person wearing solid short sleeve no dress v neckline leather conventional clothes\"}\\n',\n",
       " '{\"file_name\": \"Vegan_Leather-Sleeved_Bomber_Jacket_img_00000066.jpg\", \"caption\": \"A person wearing solid short sleeve no dress crew neckline leather conventional clothes\"}\\n',\n",
       " '{\"file_name\": \"Fuzzy_Hooded_Toggle_Cardigan_img_00000015.jpg\", \"caption\": \"A person wearing solid short sleeve no dress v neckline faux conventional clothes\"}\\n',\n",
       " '{\"file_name\": \"Heathered_Cutout_Leggings_img_00000025.jpg\", \"caption\": \"A person wearing solid sleeveless no dress no neckline leather tight clothes\"}\\n',\n",
       " '{\"file_name\": \"Gingham_Print_Skater_Dress_img_00000037.jpg\", \"caption\": \"A person wearing lattice sleeveless mini length no neckline cotton conventional clothes\"}\\n',\n",
       " '{\"file_name\": \"Plaid_Midi_Dress_img_00000038.jpg\", \"caption\": \"A person wearing lattice sleeveless mini length no neckline cotton conventional clothes\"}\\n',\n",
       " '{\"file_name\": \"Pleated_Chiffon_Skirt_img_00000078.jpg\", \"caption\": \"A person wearing pleated sleeveless no dress no neckline chiffon conventional clothes\"}\\n',\n",
       " '{\"file_name\": \"Asymmetrical_Open-Front_Blazer_img_00000045.jpg\", \"caption\": \"A person wearing solid short sleeve no dress v neckline faux conventional clothes\"}\\n',\n",
       " '{\"file_name\": \"Sateen_V-Neck_Dolphin_Blouse_img_00000050.jpg\", \"caption\": \"A person wearing lattice short sleeve no dress crew neckline cotton conventional clothes\"}\\n',\n",
       " '{\"file_name\": \"Crinkled_Crepe_Halter_Dress_img_00000031.jpg\", \"caption\": \"A person wearing pleated sleeveless mini length no neckline chiffon conventional clothes\"}\\n',\n",
       " '{\"file_name\": \"Faux_Leather_Fringe_Skirt_img_00000035.jpg\", \"caption\": \"A person wearing solid sleeveless no dress no neckline leather tight clothes\"}\\n',\n",
       " '{\"file_name\": \"Pleated_Skater_Skirt_img_00000026.jpg\", \"caption\": \"A person wearing pleated sleeveless no dress no neckline leather conventional clothes\"}\\n',\n",
       " '{\"file_name\": \"Textured_Pencil_Skirt_img_00000051.jpg\", \"caption\": \"A person wearing solid sleeveless no dress no neckline leather tight clothes\"}\\n',\n",
       " '{\"file_name\": \"Asymmetrical_Pencil_Skirt_img_00000038.jpg\", \"caption\": \"A person wearing solid sleeveless no dress no neckline leather conventional clothes\"}\\n',\n",
       " '{\"file_name\": \"Faux_Leather_Biker_Jacket_img_00000020.jpg\", \"caption\": \"A person wearing solid short sleeve no dress v neckline leather conventional clothes\"}\\n',\n",
       " '{\"file_name\": \"Faux_Fur_Cheetah_Coat_img_00000046.jpg\", \"caption\": \"A person wearing floral short sleeve no dress crew neckline faux conventional clothes\"}\\n',\n",
       " '{\"file_name\": \"Collarless_Faux_Leather-Sleeve_Blazer_img_00000086.jpg\", \"caption\": \"A person wearing lattice short sleeve no dress v neckline cotton conventional clothes\"}\\n',\n",
       " '{\"file_name\": \"Faux_Leather-Paneled_Denim_Jacket_img_00000016.jpg\", \"caption\": \"A person wearing solid short sleeve no dress crew neckline leather tight clothes\"}\\n',\n",
       " '{\"file_name\": \"Fuzzy_Hooded_Toggle_Cardigan_img_00000023.jpg\", \"caption\": \"A person wearing solid short sleeve no dress crew neckline faux conventional clothes\"}\\n',\n",
       " '{\"file_name\": \"Textured_Faux_Fur_Coat_img_00000038.jpg\", \"caption\": \"A person wearing solid short sleeve no dress crew neckline faux conventional clothes\"}\\n',\n",
       " '{\"file_name\": \"Gingham-Lined_Pocket_Tee_img_00000016.jpg\", \"caption\": \"A person wearing graphic short sleeve no dress crew neckline leather conventional clothes\"}\\n',\n",
       " '{\"file_name\": \"Abstract_Plaid_Babydoll_Dress_img_00000002.jpg\", \"caption\": \"A person wearing pleated sleeveless mini length crew neckline chiffon conventional clothes\"}\\n',\n",
       " '{\"file_name\": \"Strapless_Mini_Dress_img_00000046.jpg\", \"caption\": \"A person wearing graphic sleeveless mini length no neckline leather tight clothes\"}\\n',\n",
       " '{\"file_name\": \"Chiffon_Plaid_Blouse_img_00000093.jpg\", \"caption\": \"A person wearing lattice long sleeve no dress crew neckline chiffon conventional clothes\"}\\n',\n",
       " '{\"file_name\": \"Paris_Graphic_Sweatpants_img_00000022.jpg\", \"caption\": \"A person wearing lattice sleeveless no dress no neckline cotton tight clothes\"}\\n',\n",
       " '{\"file_name\": \"Mesh_Strap_A-Line_Dress_img_00000017.jpg\", \"caption\": \"A person wearing pleated sleeveless mini length no neckline cotton conventional clothes\"}\\n',\n",
       " '{\"file_name\": \"Pleated_A-Line_Dress_img_00000043.jpg\", \"caption\": \"A person wearing pleated sleeveless maxi length no neckline cotton tight clothes\"}\\n',\n",
       " '{\"file_name\": \"Chiffon_Halter_Maxi_Dress_img_00000062.jpg\", \"caption\": \"A person wearing pleated sleeveless maxi length crew neckline chiffon loose clothes\"}\\n',\n",
       " '{\"file_name\": \"Gingham_Print_Skater_Dress_img_00000041.jpg\", \"caption\": \"A person wearing lattice long sleeve mini length crew neckline cotton conventional clothes\"}\\n',\n",
       " '{\"file_name\": \"Beaded_Bandage_Dress_img_00000056.jpg\", \"caption\": \"A person wearing solid sleeveless mini length square neckline leather loose clothes\"}\\n',\n",
       " '{\"file_name\": \"Belted_Plaid_Dress_img_00000028.jpg\", \"caption\": \"A person wearing lattice short sleeve no dress v neckline cotton conventional clothes\"}\\n',\n",
       " '{\"file_name\": \"Asymmetrical_Open-Front_Blazer_img_00000097.jpg\", \"caption\": \"A person wearing solid short sleeve no dress crew neckline leather conventional clothes\"}\\n',\n",
       " '{\"file_name\": \"Striped_Waffle_Knit_Dress_img_00000042.jpg\", \"caption\": \"A person wearing lattice long sleeve mini length crew neckline cotton conventional clothes\"}\\n',\n",
       " '{\"file_name\": \"Suede_Fringe_Jacket_img_00000078.jpg\", \"caption\": \"A person wearing solid short sleeve no dress v neckline leather conventional clothes\"}\\n',\n",
       " '{\"file_name\": \"Checkered_Leggings_img_00000019.jpg\", \"caption\": \"A person wearing lattice sleeveless no dress no neckline cotton tight clothes\"}\\n',\n",
       " '{\"file_name\": \"Strapless_Sweetheart_Dress_img_00000070.jpg\", \"caption\": \"A person wearing pleated sleeveless maxi length no neckline chiffon conventional clothes\"}\\n',\n",
       " '{\"file_name\": \"Notched_Open-Front_Textured_Blazer_img_00000043.jpg\", \"caption\": \"A person wearing lattice short sleeve no dress v neckline cotton conventional clothes\"}\\n',\n",
       " '{\"file_name\": \"Pleated_Chiffon_Maxi_Dress_img_00000016.jpg\", \"caption\": \"A person wearing pleated sleeveless maxi length no neckline chiffon conventional clothes\"}\\n',\n",
       " '{\"file_name\": \"Fuzzy_Marled_Knit_Sweater_img_00000006.jpg\", \"caption\": \"A person wearing solid short sleeve no dress crew neckline faux conventional clothes\"}\\n',\n",
       " '{\"file_name\": \"Longline_Faux_Fur_Jacket_img_00000003.jpg\", \"caption\": \"A person wearing solid short sleeve no dress v neckline faux conventional clothes\"}\\n',\n",
       " '{\"file_name\": \"Faux_Leather_Panel_Hoodie_img_00000052.jpg\", \"caption\": \"A person wearing solid short sleeve no dress crew neckline leather conventional clothes\"}\\n',\n",
       " '{\"file_name\": \"Quilted_Faux_Leather_Skirt_img_00000035.jpg\", \"caption\": \"A person wearing solid sleeveless no dress no neckline leather conventional clothes\"}\\n',\n",
       " '{\"file_name\": \"Longline_Faux_Fur_Jacket_img_00000031.jpg\", \"caption\": \"A person wearing solid short sleeve no dress v neckline faux conventional clothes\"}\\n',\n",
       " '{\"file_name\": \"Crochet-Embroidered_Chiffon_Dress_img_00000027.jpg\", \"caption\": \"A person wearing pleated sleeveless mini length no neckline chiffon conventional clothes\"}\\n',\n",
       " '{\"file_name\": \"Tartan_Plaid_Button-Down_img_00000041.jpg\", \"caption\": \"A person wearing lattice short sleeve no dress v neckline cotton conventional clothes\"}\\n',\n",
       " '{\"file_name\": \"Zippered_Sheath_Dress_img_00000037.jpg\", \"caption\": \"A person wearing solid sleeveless mini length crew neckline leather conventional clothes\"}\\n',\n",
       " '{\"file_name\": \"Faux_Leather_Grid_Shorts_img_00000009.jpg\", \"caption\": \"A person wearing lattice sleeveless no dress no neckline cotton conventional clothes\"}\\n',\n",
       " '{\"file_name\": \"Crepe_Midi_Skirt_img_00000014.jpg\", \"caption\": \"A person wearing pleated sleeveless no dress no neckline cotton conventional clothes\"}\\n',\n",
       " '{\"file_name\": \"Embroidered-Mesh_Drop-Waist_Cami_Dress_img_00000011.jpg\", \"caption\": \"A person wearing embroidered sleeveless mini length crew neckline leather conventional clothes\"}\\n',\n",
       " '{\"file_name\": \"Plaid_Flannel_Shirt_Dress_img_00000046.jpg\", \"caption\": \"A person wearing lattice short sleeve mini length crew neckline cotton conventional clothes\"}\\n',\n",
       " '{\"file_name\": \"Faux_Suede_Fringe_Jacket_img_00000058.jpg\", \"caption\": \"A person wearing solid short sleeve no dress v neckline leather conventional clothes\"}\\n',\n",
       " '{\"file_name\": \"Strappy_Chiffon_Maxi_Dress_img_00000067.jpg\", \"caption\": \"A person wearing pleated sleeveless maxi length crew neckline chiffon conventional clothes\"}\\n',\n",
       " '{\"file_name\": \"Floral_Tulle_Maxi_Skirt_img_00000026.jpg\", \"caption\": \"A person wearing pleated sleeveless no dress no neckline chiffon conventional clothes\"}\\n',\n",
       " '{\"file_name\": \"Two-Tone_Knit_Cardigan_img_00000061.jpg\", \"caption\": \"A person wearing lattice short sleeve no dress v neckline knit conventional clothes\"}\\n',\n",
       " '{\"file_name\": \"Box_Pleat_A-Line_Skirt_img_00000035.jpg\", \"caption\": \"A person wearing pleated sleeveless no dress no neckline cotton conventional clothes\"}\\n',\n",
       " '{\"file_name\": \"Tweed-Paneled_Sheath_Dress_img_00000052.jpg\", \"caption\": \"A person wearing lattice sleeveless mini length crew neckline cotton conventional clothes\"}\\n',\n",
       " '{\"file_name\": \"Faux_Leather_Fringe_Skirt_img_00000051.jpg\", \"caption\": \"A person wearing solid sleeveless no dress no neckline leather conventional clothes\"}\\n',\n",
       " '{\"file_name\": \"Zip_Collar_Bomber_img_00000016.jpg\", \"caption\": \"A person wearing solid short sleeve no dress crew neckline leather conventional clothes\"}\\n',\n",
       " '{\"file_name\": \"Strapless_Sweetheart_Dress_img_00000088.jpg\", \"caption\": \"A person wearing pleated sleeveless maxi length no neckline chiffon conventional clothes\"}\\n',\n",
       " '{\"file_name\": \"Crinkled_Gauze_Skirt_img_00000006.jpg\", \"caption\": \"A person wearing pleated sleeveless no dress no neckline chiffon conventional clothes\"}\\n',\n",
       " '{\"file_name\": \"Organza-Paneled_Midi_T-Shirt_Dress_img_00000013.jpg\", \"caption\": \"A person wearing pleated sleeveless mini length crew neckline cotton tight clothes\"}\\n',\n",
       " '{\"file_name\": \"Crinkled_Stretch_Knit_Blouse_img_00000051.jpg\", \"caption\": \"A person wearing lattice short sleeve no dress v neckline cotton conventional clothes\"}\\n',\n",
       " '{\"file_name\": \"Floral-Embroidered_Halter_Romper_img_00000015.jpg\", \"caption\": \"A person wearing lattice sleeveless no dress no neckline cotton conventional clothes\"}\\n',\n",
       " '{\"file_name\": \"Abstract_Print_Tee_img_00000058.jpg\", \"caption\": \"A person wearing lattice short sleeve no dress v neckline cotton conventional clothes\"}\\n',\n",
       " '{\"file_name\": \"Faux_Suede_Shift_Dress_img_00000009.jpg\", \"caption\": \"A person wearing solid sleeveless mini length no neckline leather conventional clothes\"}\\n',\n",
       " '{\"file_name\": \"Y-Back_Halter_Dress_img_00000057.jpg\", \"caption\": \"A person wearing pleated sleeveless maxi length crew neckline chiffon conventional clothes\"}\\n',\n",
       " '{\"file_name\": \"Faux_Leather-Paneled_Jeans_img_00000040.jpg\", \"caption\": \"A person wearing solid sleeveless no dress no neckline leather tight clothes\"}\\n',\n",
       " '{\"file_name\": \"Bell_Sleeve_Blouse_img_00000139.jpg\", \"caption\": \"A person wearing pleated short sleeve no dress crew neckline chiffon conventional clothes\"}\\n',\n",
       " '{\"file_name\": \"Scoop_Back_Skater_Dress_img_00000030.jpg\", \"caption\": \"A person wearing pleated sleeveless mini length no neckline cotton conventional clothes\"}\\n',\n",
       " '{\"file_name\": \"Plaid_Drawstring_Dress_img_00000021.jpg\", \"caption\": \"A person wearing lattice short sleeve no dress crew neckline cotton conventional clothes\"}\\n',\n",
       " '{\"file_name\": \"Crossback_Woven_Maxi_Dress_img_00000002.jpg\", \"caption\": \"A person wearing pleated short sleeve maxi length v neckline cotton conventional clothes\"}\\n',\n",
       " '{\"file_name\": \"Rhinestone-Embellished_Maxi_Dress_img_00000056.jpg\", \"caption\": \"A person wearing pleated sleeveless maxi length no neckline cotton conventional clothes\"}\\n',\n",
       " '{\"file_name\": \"Champagne_Slub_Knit_Top_img_00000033.jpg\", \"caption\": \"A person wearing pleated sleeveless no dress no neckline chiffon loose clothes\"}\\n',\n",
       " '{\"file_name\": \"Faux_Leather_Biker_Jacket_img_00000016.jpg\", \"caption\": \"A person wearing solid short sleeve no dress v neckline leather conventional clothes\"}\\n',\n",
       " '{\"file_name\": \"Longline_Tweed_Coat_img_00000037.jpg\", \"caption\": \"A person wearing lattice short sleeve no dress v neckline cotton conventional clothes\"}\\n',\n",
       " '{\"file_name\": \"Loose-Knit_Zippered_Sweater_img_00000034.jpg\", \"caption\": \"A person wearing pleated short sleeve no dress crew neckline knit conventional clothes\"}\\n',\n",
       " '{\"file_name\": \"Collared_Faux_Leather_Jacket_img_00000022.jpg\", \"caption\": \"A person wearing solid short sleeve no dress v neckline faux conventional clothes\"}\\n',\n",
       " '{\"file_name\": \"Square-Back_Cami_Dress_img_00000028.jpg\", \"caption\": \"A person wearing solid sleeveless mini length no neckline leather tight clothes\"}\\n',\n",
       " '{\"file_name\": \"Faux_Leather_Shorts_img_00000067.jpg\", \"caption\": \"A person wearing solid sleeveless no dress no neckline leather conventional clothes\"}\\n',\n",
       " '{\"file_name\": \"Embroidered_Pintucked_Blouse_img_00000002.jpg\", \"caption\": \"A person wearing pleated short sleeve no dress v neckline cotton conventional clothes\"}\\n',\n",
       " '{\"file_name\": \"Classic_Boyfriend_Blazer_img_00000127.jpg\", \"caption\": \"A person wearing solid short sleeve no dress v neckline leather conventional clothes\"}\\n',\n",
       " '{\"file_name\": \"Faux_Leather_Joggers_img_00000027.jpg\", \"caption\": \"A person wearing solid sleeveless no dress no neckline leather conventional clothes\"}\\n',\n",
       " '{\"file_name\": \"Snap_Collar_Moto_Jacket_img_00000045.jpg\", \"caption\": \"A person wearing solid short sleeve no dress v neckline leather conventional clothes\"}\\n',\n",
       " '{\"file_name\": \"Tartan_Plaid_Maxi_Dress_img_00000013.jpg\", \"caption\": \"A person wearing lattice short sleeve mini length crew neckline cotton conventional clothes\"}\\n',\n",
       " '{\"file_name\": \"Floral_Flutter_Sleeve_Dress_img_00000007.jpg\", \"caption\": \"A person wearing floral sleeveless maxi length square neckline cotton conventional clothes\"}\\n',\n",
       " '{\"file_name\": \"Belted_Pleat-Front_Shorts_img_00000015.jpg\", \"caption\": \"A person wearing lattice sleeveless no dress no neckline cotton conventional clothes\"}\\n',\n",
       " '{\"file_name\": \"Faux_Leather_Flared_Skirt_img_00000065.jpg\", \"caption\": \"A person wearing solid sleeveless no dress no neckline leather conventional clothes\"}\\n',\n",
       " '{\"file_name\": \"Abstract_Print_Joggers_img_00000013.jpg\", \"caption\": \"A person wearing lattice sleeveless no dress no neckline cotton loose clothes\"}\\n',\n",
       " '{\"file_name\": \"Embroidered_Mesh-Paneled_Blouse_img_00000023.jpg\", \"caption\": \"A person wearing solid short sleeve no dress square neckline chiffon conventional clothes\"}\\n',\n",
       " '{\"file_name\": \"Flat_Collar_Woven_Blouse_img_00000061.jpg\", \"caption\": \"A person wearing lattice long sleeve no dress crew neckline cotton conventional clothes\"}\\n',\n",
       " '{\"file_name\": \"Pleated_Chiffon_Maxi_Dress_img_00000068.jpg\", \"caption\": \"A person wearing pleated long sleeve maxi length crew neckline chiffon conventional clothes\"}\\n',\n",
       " '{\"file_name\": \"Pleated_Chiffon_Dress_img_00000079.jpg\", \"caption\": \"A person wearing pleated long sleeve mini length crew neckline chiffon conventional clothes\"}\\n',\n",
       " '{\"file_name\": \"Sleek_V-Back_Dress_img_00000004.jpg\", \"caption\": \"A person wearing solid sleeveless mini length crew neckline leather conventional clothes\"}\\n',\n",
       " '{\"file_name\": \"Pleated_Textured_Skirt_img_00000030.jpg\", \"caption\": \"A person wearing pleated sleeveless no dress no neckline cotton conventional clothes\"}\\n',\n",
       " '{\"file_name\": \"Halter_Maxi_Dress_img_00000003.jpg\", \"caption\": \"A person wearing pleated sleeveless maxi length no neckline cotton conventional clothes\"}\\n',\n",
       " '{\"file_name\": \"Scuba_Knit_A-Line_Dress_img_00000005.jpg\", \"caption\": \"A person wearing graphic sleeveless mini length square neckline cotton conventional clothes\"}\\n',\n",
       " '{\"file_name\": \"Fuzzy_Plaid_Cardigan_img_00000017.jpg\", \"caption\": \"A person wearing lattice short sleeve no dress v neckline cotton conventional clothes\"}\\n',\n",
       " '{\"file_name\": \"Knit_Skater_Skirt_img_00000028.jpg\", \"caption\": \"A person wearing pleated sleeveless no dress no neckline cotton conventional clothes\"}\\n',\n",
       " '{\"file_name\": \"M-Slit_Pleated_Maxi_Skirt_img_00000048.jpg\", \"caption\": \"A person wearing pleated sleeveless no dress no neckline cotton conventional clothes\"}\\n',\n",
       " '{\"file_name\": \"Pleated_Maxi_Skirt_img_00000066.jpg\", \"caption\": \"A person wearing pleated sleeveless no dress no neckline chiffon loose clothes\"}\\n',\n",
       " '{\"file_name\": \"Faux_Leather-Paneled_Denim_Jacket_img_00000030.jpg\", \"caption\": \"A person wearing solid short sleeve no dress v neckline leather conventional clothes\"}\\n',\n",
       " '{\"file_name\": \"Belted_Maxi_Dress_img_00000023.jpg\", \"caption\": \"A person wearing pleated sleeveless maxi length no neckline chiffon conventional clothes\"}\\n',\n",
       " '{\"file_name\": \"Scuba_Knit_Paneled_Leggings_img_00000029.jpg\", \"caption\": \"A person wearing lattice sleeveless no dress no neckline cotton tight clothes\"}\\n',\n",
       " '{\"file_name\": \"Textured_Faux_Fur_Coat_img_00000024.jpg\", \"caption\": \"A person wearing solid short sleeve no dress v neckline faux conventional clothes\"}\\n',\n",
       " '{\"file_name\": \"Southwestern_Print_Braided_Strap_Maxi_Dress_img_00000011.jpg\", \"caption\": \"A person wearing pleated sleeveless maxi length no neckline cotton conventional clothes\"}\\n',\n",
       " '{\"file_name\": \"Layered_Eyelet_Dress_img_00000020.jpg\", \"caption\": \"A person wearing pleated sleeveless mini length no neckline cotton conventional clothes\"}\\n',\n",
       " '{\"file_name\": \"High-Slit_Tartan_Plaid_Midi_Dress_img_00000007.jpg\", \"caption\": \"A person wearing lattice sleeveless mini length v neckline cotton conventional clothes\"}\\n',\n",
       " '{\"file_name\": \"Knotted_Maxi_Dress_img_00000027.jpg\", \"caption\": \"A person wearing pleated sleeveless maxi length v neckline cotton tight clothes\"}\\n',\n",
       " '{\"file_name\": \"Ikat_Print_Chiffon_Blouse_img_00000088.jpg\", \"caption\": \"A person wearing lattice short sleeve no dress v neckline chiffon conventional clothes\"}\\n',\n",
       " '{\"file_name\": \"Classic_Babydoll_Dress_img_00000002.jpg\", \"caption\": \"A person wearing pleated sleeveless mini length crew neckline chiffon conventional clothes\"}\\n',\n",
       " '{\"file_name\": \"Strapless_Chiffon_Maxi_Dress_img_00000072.jpg\", \"caption\": \"A person wearing pleated sleeveless maxi length no neckline chiffon conventional clothes\"}\\n',\n",
       " '{\"file_name\": \"Suede_Fringe_Jacket_img_00000024.jpg\", \"caption\": \"A person wearing solid short sleeve no dress v neckline leather conventional clothes\"}\\n',\n",
       " '{\"file_name\": \"Collared_Crossover_Sweater_Coat_img_00000010.jpg\", \"caption\": \"A person wearing solid short sleeve no dress v neckline faux conventional clothes\"}\\n',\n",
       " '{\"file_name\": \"Faux_Leather_Biker_Jacket_img_00000029.jpg\", \"caption\": \"A person wearing solid short sleeve no dress v neckline leather conventional clothes\"}\\n',\n",
       " '{\"file_name\": \"Glitter_Bodycon_Dress_img_00000032.jpg\", \"caption\": \"A person wearing solid short sleeve mini length crew neckline leather tight clothes\"}\\n',\n",
       " '{\"file_name\": \"Suede_Fringe_Jacket_img_00000051.jpg\", \"caption\": \"A person wearing solid short sleeve no dress v neckline leather conventional clothes\"}\\n',\n",
       " '{\"file_name\": \"Textured_Maxi_Cardigan_img_00000044.jpg\", \"caption\": \"A person wearing striped short sleeve no dress square neckline knit conventional clothes\"}\\n',\n",
       " '{\"file_name\": \"Racerback_Floral_A-Line_Dress_img_00000049.jpg\", \"caption\": \"A person wearing pleated sleeveless mini length no neckline chiffon conventional clothes\"}\\n',\n",
       " '{\"file_name\": \"Faux_Leather_Shawl_Collar_Blazer_img_00000065.jpg\", \"caption\": \"A person wearing solid short sleeve no dress v neckline leather conventional clothes\"}\\n',\n",
       " '{\"file_name\": \"Abstract_Zig_Zag_Sweatpants_img_00000031.jpg\", \"caption\": \"A person wearing solid sleeveless no dress no neckline leather conventional clothes\"}\\n',\n",
       " '{\"file_name\": \"Knotted_Jersey_Tee_img_00000016.jpg\", \"caption\": \"A person wearing pleated long sleeve no dress crew neckline cotton conventional clothes\"}\\n',\n",
       " '{\"file_name\": \"Pleated_Metallic_Skirt_img_00000036.jpg\", \"caption\": \"A person wearing pleated sleeveless no dress no neckline chiffon loose clothes\"}\\n',\n",
       " '{\"file_name\": \"Snap_Collar_Moto_Jacket_img_00000071.jpg\", \"caption\": \"A person wearing solid short sleeve no dress v neckline leather conventional clothes\"}\\n',\n",
       " '{\"file_name\": \"Quilted_Faux_Leather_Bomber_img_00000027.jpg\", \"caption\": \"A person wearing solid short sleeve no dress crew neckline leather conventional clothes\"}\\n',\n",
       " '{\"file_name\": \"Faux_Leather_Skater_Dress_img_00000063.jpg\", \"caption\": \"A person wearing solid short sleeve mini length crew neckline leather conventional clothes\"}\\n',\n",
       " '{\"file_name\": \"Eyelash_Knit_Ball_Sweater_img_00000010.jpg\", \"caption\": \"A person wearing graphic short sleeve no dress crew neckline faux conventional clothes\"}\\n',\n",
       " '{\"file_name\": \"Gingham_Print_Skater_Dress_img_00000025.jpg\", \"caption\": \"A person wearing lattice short sleeve mini length crew neckline cotton conventional clothes\"}\\n',\n",
       " '{\"file_name\": \"Floral_Print_Shift_Dress_img_00000038.jpg\", \"caption\": \"A person wearing floral long sleeve maxi length square neckline cotton tight clothes\"}\\n',\n",
       " '{\"file_name\": \"Paisley_Maxi_Cami_Dress_img_00000024.jpg\", \"caption\": \"A person wearing lattice sleeveless maxi length no neckline cotton conventional clothes\"}\\n',\n",
       " '{\"file_name\": \"Collarless_Open-Front_Blazer_img_00000008.jpg\", \"caption\": \"A person wearing solid short sleeve no dress crew neckline faux conventional clothes\"}\\n',\n",
       " '{\"file_name\": \"Faux_Leather_Midi_Pencil_Skirt_img_00000001.jpg\", \"caption\": \"A person wearing solid sleeveless no dress no neckline leather tight clothes\"}\\n',\n",
       " '{\"file_name\": \"Button-Front_Drawstring_Romper_img_00000016.jpg\", \"caption\": \"A person wearing solid sleeveless no dress no neckline leather tight clothes\"}\\n',\n",
       " '{\"file_name\": \"Faux_Leather_Mini_Skirt_img_00000061.jpg\", \"caption\": \"A person wearing solid sleeveless no dress no neckline leather conventional clothes\"}\\n',\n",
       " '{\"file_name\": \"Lace_PJ_Shorts_img_00000071.jpg\", \"caption\": \"A person wearing lattice sleeveless no dress no neckline cotton conventional clothes\"}\\n',\n",
       " '{\"file_name\": \"Hooded_Bomber_Jacket_img_00000087.jpg\", \"caption\": \"A person wearing solid short sleeve no dress crew neckline leather conventional clothes\"}\\n',\n",
       " '{\"file_name\": \"Zippered_Faux_Leather_Mini_Skirt_img_00000045.jpg\", \"caption\": \"A person wearing solid sleeveless no dress no neckline leather tight clothes\"}\\n',\n",
       " '{\"file_name\": \"Striped_Tulip-Front_Shorts_img_00000003.jpg\", \"caption\": \"A person wearing solid sleeveless no dress no neckline leather conventional clothes\"}\\n',\n",
       " '{\"file_name\": \"Between_Right_Longline_Tee_img_00000042.jpg\", \"caption\": \"A person wearing solid short sleeve no dress no neckline faux loose clothes\"}\\n',\n",
       " '{\"file_name\": \"Tribal_Print_Cutout_Back_Dress_img_00000031.jpg\", \"caption\": \"A person wearing pleated sleeveless mini length v neckline chiffon conventional clothes\"}\\n',\n",
       " '{\"file_name\": \"Angel-Sleeved_Top_img_00000014.jpg\", \"caption\": \"A person wearing pleated long sleeve no dress v neckline cotton loose clothes\"}\\n',\n",
       " '{\"file_name\": \"Faux_Suede_Moto_Jacket_img_00000040.jpg\", \"caption\": \"A person wearing solid short sleeve no dress v neckline leather tight clothes\"}\\n',\n",
       " '{\"file_name\": \"Paneled_Faux_Leather_Bomber_Jacket_img_00000002.jpg\", \"caption\": \"A person wearing solid short sleeve no dress v neckline leather conventional clothes\"}\\n',\n",
       " '{\"file_name\": \"Sequined_Chiffon_Maxi_Dress_img_00000051.jpg\", \"caption\": \"A person wearing pleated sleeveless maxi length no neckline chiffon conventional clothes\"}\\n',\n",
       " '{\"file_name\": \"Checkered_Print_Chiffon_Blouse_img_00000098.jpg\", \"caption\": \"A person wearing lattice sleeveless no dress no neckline chiffon loose clothes\"}\\n',\n",
       " '{\"file_name\": \"Pleated_Faux_Leather_Skirt_img_00000042.jpg\", \"caption\": \"A person wearing pleated sleeveless no dress no neckline cotton conventional clothes\"}\\n',\n",
       " '{\"file_name\": \"Sequined_Paisley_Shift_Dress_img_00000023.jpg\", \"caption\": \"A person wearing graphic sleeveless mini length crew neckline leather conventional clothes\"}\\n',\n",
       " '{\"file_name\": \"Layered_A-Line_Dress_img_00000024.jpg\", \"caption\": \"A person wearing pleated sleeveless maxi length no neckline chiffon conventional clothes\"}\\n',\n",
       " '{\"file_name\": \"Faux_Leather_Biker_Jacket_img_00000069.jpg\", \"caption\": \"A person wearing solid short sleeve no dress v neckline leather tight clothes\"}\\n',\n",
       " '{\"file_name\": \"Tartan_Plaid_Blouse_img_00000101.jpg\", \"caption\": \"A person wearing lattice short sleeve no dress crew neckline cotton conventional clothes\"}\\n',\n",
       " '{\"file_name\": \"Pleated_Chiffon_Blouse_img_00000089.jpg\", \"caption\": \"A person wearing pleated short sleeve no dress v neckline chiffon conventional clothes\"}\\n',\n",
       " '{\"file_name\": \"Faux_Shearling_Bomber_Jacket_img_00000039.jpg\", \"caption\": \"A person wearing solid short sleeve no dress v neckline leather conventional clothes\"}\\n',\n",
       " '{\"file_name\": \"Open-Front_Collared_Jacket_img_00000034.jpg\", \"caption\": \"A person wearing solid short sleeve no dress v neckline leather conventional clothes\"}\\n',\n",
       " '{\"file_name\": \"Zip_Collar_Bomber_img_00000064.jpg\", \"caption\": \"A person wearing lattice short sleeve no dress crew neckline cotton conventional clothes\"}\\n',\n",
       " '{\"file_name\": \"Plaid_Skater_Skirt_img_00000004.jpg\", \"caption\": \"A person wearing lattice sleeveless no dress no neckline cotton conventional clothes\"}\\n',\n",
       " '{\"file_name\": \"Short-Sleeved_Crepe_Jumpsuit_img_00000025.jpg\", \"caption\": \"A person wearing striped sleeveless no dress crew neckline faux conventional clothes\"}\\n',\n",
       " '{\"file_name\": \"Faux_Leather_Biker_Jacket_img_00000068.jpg\", \"caption\": \"A person wearing solid short sleeve no dress v neckline leather conventional clothes\"}\\n',\n",
       " '{\"file_name\": \"Plaid_Drawstring_Sweatpants_img_00000038.jpg\", \"caption\": \"A person wearing lattice sleeveless no dress no neckline cotton conventional clothes\"}\\n',\n",
       " '{\"file_name\": \"Abstract_Chevron_Henley_Dress_img_00000008.jpg\", \"caption\": \"A person wearing striped long sleeve mini length crew neckline leather conventional clothes\"}\\n',\n",
       " '{\"file_name\": \"Abstract_Floral_Babydoll_Dress_img_00000011.jpg\", \"caption\": \"A person wearing floral sleeveless mini length square neckline cotton conventional clothes\"}\\n',\n",
       " '{\"file_name\": \"Metallic_Brocade_Mini_Skirt_img_00000008.jpg\", \"caption\": \"A person wearing solid sleeveless no dress no neckline leather conventional clothes\"}\\n',\n",
       " '{\"file_name\": \"Pleated_Floral_Sheath_Dress_img_00000047.jpg\", \"caption\": \"A person wearing pleated short sleeve mini length v neckline cotton tight clothes\"}\\n',\n",
       " '{\"file_name\": \"Pleated_Woven_Blouse_img_00000015.jpg\", \"caption\": \"A person wearing pleated sleeveless no dress crew neckline cotton conventional clothes\"}\\n',\n",
       " '{\"file_name\": \"XO_Print_Crisscross-Back_Dress_img_00000046.jpg\", \"caption\": \"A person wearing solid sleeveless mini length crew neckline leather tight clothes\"}\\n',\n",
       " '{\"file_name\": \"M-Slit_Pleated_Maxi_Skirt_img_00000001.jpg\", \"caption\": \"A person wearing pleated sleeveless no dress no neckline cotton conventional clothes\"}\\n',\n",
       " '{\"file_name\": \"Strapless_Pleated_Chiffon_Dress_img_00000069.jpg\", \"caption\": \"A person wearing pleated sleeveless maxi length no neckline chiffon conventional clothes\"}\\n',\n",
       " '{\"file_name\": \"Waffle-Textured_Moto_Jacket_img_00000040.jpg\", \"caption\": \"A person wearing solid short sleeve no dress v neckline leather conventional clothes\"}\\n',\n",
       " '{\"file_name\": \"Knife-Pleated_Denim_Shorts_img_00000002.jpg\", \"caption\": \"A person wearing pleated sleeveless no dress no neckline cotton conventional clothes\"}\\n',\n",
       " '{\"file_name\": \"Collared_Faux_Leather_Jacket_img_00000026.jpg\", \"caption\": \"A person wearing solid short sleeve no dress v neckline faux conventional clothes\"}\\n',\n",
       " '{\"file_name\": \"Button-Down_Plaid_Flannel_img_00000020.jpg\", \"caption\": \"A person wearing lattice short sleeve no dress v neckline cotton conventional clothes\"}\\n',\n",
       " '{\"file_name\": \"Bell_Sleeve_Georgette_Blouse_img_00000017.jpg\", \"caption\": \"A person wearing pleated short sleeve no dress crew neckline chiffon loose clothes\"}\\n',\n",
       " '{\"file_name\": \"Faux_Fur-Trimmed_Southwestern-Patterned_Cardigan_img_00000008.jpg\", \"caption\": \"A person wearing graphic short sleeve no dress v neckline faux conventional clothes\"}\\n',\n",
       " '{\"file_name\": \"Contrast_Mesh_Pencil_Skirt_img_00000056.jpg\", \"caption\": \"A person wearing lattice sleeveless no dress no neckline cotton tight clothes\"}\\n',\n",
       " '{\"file_name\": \"Zippered_Faux_Leather_Mini_Skirt_img_00000014.jpg\", \"caption\": \"A person wearing solid sleeveless no dress no neckline leather tight clothes\"}\\n',\n",
       " '{\"file_name\": \"Abstract_Zippered_Crop_Top_img_00000012.jpg\", \"caption\": \"A person wearing lattice short sleeve no dress v neckline cotton conventional clothes\"}\\n',\n",
       " '{\"file_name\": \"Pleated_Faux_Leather_Skirt_img_00000011.jpg\", \"caption\": \"A person wearing pleated sleeveless no dress no neckline leather conventional clothes\"}\\n',\n",
       " '{\"file_name\": \"Collarless_Faux_Leather_Moto_Jacket_img_00000034.jpg\", \"caption\": \"A person wearing solid short sleeve no dress v neckline leather conventional clothes\"}\\n',\n",
       " '{\"file_name\": \"Braided_Strap_Maxi_Dress_img_00000020.jpg\", \"caption\": \"A person wearing pleated sleeveless maxi length v neckline cotton conventional clothes\"}\\n',\n",
       " '{\"file_name\": \"Button-Down_Plaid_Flannel_img_00000061.jpg\", \"caption\": \"A person wearing lattice short sleeve no dress crew neckline cotton conventional clothes\"}\\n',\n",
       " '{\"file_name\": \"Bird_Print_Sateen_Dress_img_00000002.jpg\", \"caption\": \"A person wearing floral sleeveless mini length square neckline chiffon conventional clothes\"}\\n',\n",
       " '{\"file_name\": \"Windowpane_Print_Blouse_img_00000035.jpg\", \"caption\": \"A person wearing lattice short sleeve no dress v neckline cotton conventional clothes\"}\\n',\n",
       " '{\"file_name\": \"Gingham_Print_Skater_Dress_img_00000028.jpg\", \"caption\": \"A person wearing lattice sleeveless mini length no neckline cotton conventional clothes\"}\\n',\n",
       " '{\"file_name\": \"Houndstooth_Surplice_Dress_img_00000019.jpg\", \"caption\": \"A person wearing lattice long sleeve mini length crew neckline cotton conventional clothes\"}\\n',\n",
       " '{\"file_name\": \"Linen_Overall_Dress_img_00000016.jpg\", \"caption\": \"A person wearing pleated short sleeve maxi length crew neckline cotton conventional clothes\"}\\n',\n",
       " '{\"file_name\": \"Faux_Shearling_Bomber_Jacket_img_00000008.jpg\", \"caption\": \"A person wearing solid short sleeve no dress crew neckline leather conventional clothes\"}\\n',\n",
       " '{\"file_name\": \"Boxy_Faux_Fur_Jacket_img_00000067.jpg\", \"caption\": \"A person wearing solid short sleeve no dress crew neckline faux conventional clothes\"}\\n',\n",
       " '{\"file_name\": \"Textured_Faux_Fur_Coat_img_00000023.jpg\", \"caption\": \"A person wearing solid short sleeve no dress v neckline faux conventional clothes\"}\\n',\n",
       " '{\"file_name\": \"Rustic_Plaid_Flannel_img_00000042.jpg\", \"caption\": \"A person wearing lattice short sleeve no dress crew neckline cotton conventional clothes\"}\\n',\n",
       " '{\"file_name\": \"Faux_Leather_Drawstring_Joggers_img_00000043.jpg\", \"caption\": \"A person wearing solid sleeveless no dress no neckline leather conventional clothes\"}\\n',\n",
       " '{\"file_name\": \"Faux_Fur_Jacket_img_00000038.jpg\", \"caption\": \"A person wearing solid short sleeve no dress crew neckline faux conventional clothes\"}\\n',\n",
       " '{\"file_name\": \"Cinched_Ankle_Jeans_img_00000001.jpg\", \"caption\": \"A person wearing solid short sleeve no dress v neckline faux conventional clothes\"}\\n',\n",
       " '{\"file_name\": \"Faux_Leather_Bomber_Jacket_img_00000011.jpg\", \"caption\": \"A person wearing solid short sleeve no dress crew neckline leather conventional clothes\"}\\n',\n",
       " '{\"file_name\": \"Longline_Faux_Fur_Jacket_img_00000033.jpg\", \"caption\": \"A person wearing solid short sleeve no dress crew neckline faux conventional clothes\"}\\n',\n",
       " '{\"file_name\": \"Metallic_Knit_Bodycon_Dress_img_00000048.jpg\", \"caption\": \"A person wearing solid short sleeve mini length crew neckline leather tight clothes\"}\\n',\n",
       " '{\"file_name\": \"Sleeveless_Combo_Jumpsuit_img_00000004.jpg\", \"caption\": \"A person wearing pleated sleeveless mini length no neckline cotton conventional clothes\"}\\n',\n",
       " '{\"file_name\": \"Oversized_Two-Tone_Blazer_img_00000056.jpg\", \"caption\": \"A person wearing solid short sleeve no dress v neckline faux conventional clothes\"}\\n',\n",
       " '{\"file_name\": \"Cutout_A-Line_Dress_img_00000006.jpg\", \"caption\": \"A person wearing pleated sleeveless mini length crew neckline cotton conventional clothes\"}\\n',\n",
       " '{\"file_name\": \"Faux_Leather_Shawl_Collar_Blazer_img_00000110.jpg\", \"caption\": \"A person wearing solid short sleeve no dress v neckline leather conventional clothes\"}\\n',\n",
       " '{\"file_name\": \"Everyday_Gathered_Mini_Skirt_img_00000001.jpg\", \"caption\": \"A person wearing pleated sleeveless no dress no neckline cotton tight clothes\"}\\n',\n",
       " '{\"file_name\": \"Braided_Strap_Maxi_Dress_img_00000022.jpg\", \"caption\": \"A person wearing pleated sleeveless maxi length v neckline cotton conventional clothes\"}\\n',\n",
       " '{\"file_name\": \"Embroidered_Crepe_Shorts_img_00000039.jpg\", \"caption\": \"A person wearing solid sleeveless no dress no neckline leather conventional clothes\"}\\n',\n",
       " '{\"file_name\": \"Faux_Leather_Bomber_Jacket_img_00000004.jpg\", \"caption\": \"A person wearing solid short sleeve no dress v neckline leather conventional clothes\"}\\n',\n",
       " '{\"file_name\": \"Windowpane_Floral_Crochet_Blouse_img_00000039.jpg\", \"caption\": \"A person wearing lattice short sleeve no dress crew neckline cotton conventional clothes\"}\\n',\n",
       " '{\"file_name\": \"Pleated_Scuba_Knit_Dress_img_00000052.jpg\", \"caption\": \"A person wearing pleated sleeveless mini length no neckline cotton conventional clothes\"}\\n',\n",
       " '{\"file_name\": \"Plaid_Knit_Sweater_img_00000063.jpg\", \"caption\": \"A person wearing lattice short sleeve no dress crew neckline knit conventional clothes\"}\\n',\n",
       " '{\"file_name\": \"Pleated_Front_Blouse_img_00000092.jpg\", \"caption\": \"A person wearing pleated short sleeve no dress crew neckline cotton conventional clothes\"}\\n',\n",
       " '{\"file_name\": \"Lace_Overlay_Maxi_Dress_img_00000028.jpg\", \"caption\": \"A person wearing pleated sleeveless maxi length v neckline chiffon conventional clothes\"}\\n',\n",
       " '{\"file_name\": \"Reason_Faux_Suede_Joggers_img_00000028.jpg\", \"caption\": \"A person wearing solid sleeveless no dress no neckline leather conventional clothes\"}\\n',\n",
       " '{\"file_name\": \"Reason_Rose_Paneled_Jersey_img_00000026.jpg\", \"caption\": \"A person wearing pleated short sleeve no dress v neckline cotton conventional clothes\"}\\n',\n",
       " '{\"file_name\": \"Sheer_Pleated-Front_Blouse_img_00000012.jpg\", \"caption\": \"A person wearing pleated sleeveless no dress v neckline cotton conventional clothes\"}\\n',\n",
       " '{\"file_name\": \"Collarless_Sequined_Jacket_img_00000042.jpg\", \"caption\": \"A person wearing solid short sleeve no dress v neckline leather conventional clothes\"}\\n',\n",
       " '{\"file_name\": \"Longline_Plaid_Shirt_Dress_img_00000007.jpg\", \"caption\": \"A person wearing lattice short sleeve mini length v neckline cotton conventional clothes\"}\\n',\n",
       " '{\"file_name\": \"Faux_Fur_Cheetah_Coat_img_00000032.jpg\", \"caption\": \"A person wearing graphic short sleeve no dress crew neckline faux conventional clothes\"}\\n',\n",
       " '{\"file_name\": \"High-Slit_Plaid_Shirt_Dress_img_00000007.jpg\", \"caption\": \"A person wearing lattice short sleeve mini length v neckline cotton conventional clothes\"}\\n',\n",
       " '{\"file_name\": \"Faux_Leather_Combo_Jumpsuit_img_00000041.jpg\", \"caption\": \"A person wearing solid sleeveless mini length crew neckline leather conventional clothes\"}\\n',\n",
       " '{\"file_name\": \"Tartan_Plaid_Cuffed-Sleeve_Tee_img_00000052.jpg\", \"caption\": \"A person wearing lattice short sleeve no dress crew neckline cotton tight clothes\"}\\n',\n",
       " '{\"file_name\": \"Cropped_Faux_Fur_Jacket_img_00000053.jpg\", \"caption\": \"A person wearing solid short sleeve no dress crew neckline faux conventional clothes\"}\\n',\n",
       " '{\"file_name\": \"Faux_Snakeskin-Trimmed_Blazer_img_00000027.jpg\", \"caption\": \"A person wearing solid short sleeve no dress v neckline leather tight clothes\"}\\n',\n",
       " '{\"file_name\": \"Pleated_Maxi_Skirt_img_00000011.jpg\", \"caption\": \"A person wearing pleated sleeveless no dress no neckline chiffon loose clothes\"}\\n',\n",
       " '{\"file_name\": \"Faux_Leather-Paneled_Mesh_Jacket_img_00000028.jpg\", \"caption\": \"A person wearing solid short sleeve no dress crew neckline leather conventional clothes\"}\\n',\n",
       " '{\"file_name\": \"Embroidered_Floral_Cami_Dress_img_00000006.jpg\", \"caption\": \"A person wearing lattice sleeveless mini length no neckline cotton conventional clothes\"}\\n',\n",
       " '{\"file_name\": \"Draped_Tie-Back_Midi_Dress_img_00000035.jpg\", \"caption\": \"A person wearing pleated sleeveless mini length no neckline chiffon conventional clothes\"}\\n',\n",
       " '{\"file_name\": \"Pleated_Chiffon_Maxi_Dress_img_00000007.jpg\", \"caption\": \"A person wearing pleated sleeveless maxi length crew neckline chiffon conventional clothes\"}\\n',\n",
       " '{\"file_name\": \"Prairie-Embroidered_Peplum_Blouse_img_00000010.jpg\", \"caption\": \"A person wearing lattice sleeveless no dress crew neckline cotton conventional clothes\"}\\n',\n",
       " '{\"file_name\": \"Pintucked_Shirt_Dress_img_00000050.jpg\", \"caption\": \"A person wearing solid short sleeve mini length crew neckline faux conventional clothes\"}\\n',\n",
       " '{\"file_name\": \"Crochet-Back_Maxi_Dress_img_00000034.jpg\", \"caption\": \"A person wearing pleated sleeveless maxi length no neckline cotton conventional clothes\"}\\n',\n",
       " '{\"file_name\": \"Brushstroke_Print_Shirt_Dress_img_00000005.jpg\", \"caption\": \"A person wearing pleated long sleeve mini length crew neckline cotton conventional clothes\"}\\n',\n",
       " '{\"file_name\": \"Checkered_Leggings_img_00000024.jpg\", \"caption\": \"A person wearing lattice sleeveless no dress no neckline cotton tight clothes\"}\\n',\n",
       " '{\"file_name\": \"Crochet-Trimmed_Mixed_Print_Kimono_img_00000026.jpg\", \"caption\": \"A person wearing embroidered long sleeve mini length square neckline cotton loose clothes\"}\\n',\n",
       " '{\"file_name\": \"Collarless_Faux_Leather-Sleeve_Blazer_img_00000060.jpg\", \"caption\": \"A person wearing solid short sleeve no dress v neckline leather conventional clothes\"}\\n',\n",
       " '{\"file_name\": \"Loop_Knit_Open-Front_Cardigan_img_00000020.jpg\", \"caption\": \"A person wearing solid short sleeve no dress v neckline faux conventional clothes\"}\\n',\n",
       " '{\"file_name\": \"Faux_Leather_Flared_Skirt_img_00000036.jpg\", \"caption\": \"A person wearing pleated sleeveless no dress no neckline leather conventional clothes\"}\\n',\n",
       " '{\"file_name\": \"Faux_Leather_Biker_Jacket_img_00000018.jpg\", \"caption\": \"A person wearing solid short sleeve no dress v neckline leather conventional clothes\"}\\n',\n",
       " '{\"file_name\": \"Pleated_Floral_Sheath_Dress_img_00000061.jpg\", \"caption\": \"A person wearing pleated sleeveless mini length no neckline chiffon conventional clothes\"}\\n',\n",
       " '{\"file_name\": \"Faux_Gem-Embellished_Woven_Romper_img_00000028.jpg\", \"caption\": \"A person wearing solid sleeveless no dress no neckline leather conventional clothes\"}\\n',\n",
       " '{\"file_name\": \"Button-Down_Plaid_Flannel_img_00000038.jpg\", \"caption\": \"A person wearing lattice short sleeve no dress v neckline cotton conventional clothes\"}\\n',\n",
       " '{\"file_name\": \"Pleated_Midi_Skirt_img_00000065.jpg\", \"caption\": \"A person wearing pleated sleeveless no dress no neckline cotton conventional clothes\"}\\n',\n",
       " '{\"file_name\": \"Windowpane_Print_Blouse_img_00000068.jpg\", \"caption\": \"A person wearing lattice short sleeve no dress crew neckline cotton conventional clothes\"}\\n',\n",
       " '{\"file_name\": \"Crochet-Trimmed_Blouse_img_00000024.jpg\", \"caption\": \"A person wearing pleated short sleeve no dress square neckline cotton loose clothes\"}\\n',\n",
       " '{\"file_name\": \"Pleated_Faux_Leather_Skirt_img_00000023.jpg\", \"caption\": \"A person wearing pleated sleeveless no dress no neckline cotton conventional clothes\"}\\n',\n",
       " '{\"file_name\": \"Tartan_Plaid_Blouse_img_00000091.jpg\", \"caption\": \"A person wearing lattice short sleeve no dress crew neckline cotton conventional clothes\"}\\n',\n",
       " '{\"file_name\": \"Rose_Print_Surplice_Dress_img_00000003.jpg\", \"caption\": \"A person wearing pleated sleeveless mini length v neckline cotton tight clothes\"}\\n',\n",
       " '{\"file_name\": \"Pleated_Woven_Dress_img_00000055.jpg\", \"caption\": \"A person wearing pleated sleeveless maxi length no neckline cotton conventional clothes\"}\\n',\n",
       " '{\"file_name\": \"Dotted_A-Line_Skirt_img_00000033.jpg\", \"caption\": \"A person wearing solid sleeveless no dress no neckline leather conventional clothes\"}\\n',\n",
       " '{\"file_name\": \"Faux_Leather_Skater_Skirt_img_00000064.jpg\", \"caption\": \"A person wearing pleated sleeveless no dress no neckline leather conventional clothes\"}\\n',\n",
       " '{\"file_name\": \"Shirred_Chiffon_Dress_img_00000030.jpg\", \"caption\": \"A person wearing pleated sleeveless maxi length no neckline chiffon conventional clothes\"}\\n',\n",
       " '{\"file_name\": \"Grid_Print_Jumpsuit_img_00000025.jpg\", \"caption\": \"A person wearing lattice sleeveless no dress no neckline cotton conventional clothes\"}\\n',\n",
       " '{\"file_name\": \"Longline_Plaid_Shirt_Dress_img_00000030.jpg\", \"caption\": \"A person wearing lattice short sleeve maxi length crew neckline cotton conventional clothes\"}\\n',\n",
       " '{\"file_name\": \"Faux_Fur_Trimmed_Moto_Jacket_img_00000005.jpg\", \"caption\": \"A person wearing graphic short sleeve no dress v neckline faux conventional clothes\"}\\n',\n",
       " '{\"file_name\": \"Drape-Front_Shawl_Collar_Jacket_img_00000025.jpg\", \"caption\": \"A person wearing lattice short sleeve no dress crew neckline leather conventional clothes\"}\\n',\n",
       " '{\"file_name\": \"Faux_Leather_Bomber_Jacket_img_00000042.jpg\", \"caption\": \"A person wearing solid short sleeve no dress crew neckline leather conventional clothes\"}\\n',\n",
       " '{\"file_name\": \"Varsity_Stripe-Neck_Dress_img_00000022.jpg\", \"caption\": \"A person wearing pleated sleeveless mini length crew neckline cotton conventional clothes\"}\\n',\n",
       " '{\"file_name\": \"Fluted_Faux_Leather-Trimmed_Skirt_img_00000019.jpg\", \"caption\": \"A person wearing solid sleeveless no dress no neckline leather conventional clothes\"}\\n',\n",
       " '{\"file_name\": \"Geo_Embellished_Beadwork_Dress_img_00000032.jpg\", \"caption\": \"A person wearing lattice sleeveless maxi length no neckline chiffon conventional clothes\"}\\n',\n",
       " '{\"file_name\": \"Collarless_Quilted_Moto_Jacket_img_00000018.jpg\", \"caption\": \"A person wearing solid short sleeve no dress crew neckline leather conventional clothes\"}\\n',\n",
       " '{\"file_name\": \"Gingham_Print_Skater_Dress_img_00000038.jpg\", \"caption\": \"A person wearing lattice sleeveless mini length no neckline cotton conventional clothes\"}\\n',\n",
       " '{\"file_name\": \"36_Plaid_Shirt_Dress_img_00000017.jpg\", \"caption\": \"A person wearing lattice short sleeve no dress v neckline cotton conventional clothes\"}\\n',\n",
       " '{\"file_name\": \"Textured_Boyfriend_Blazer_img_00000063.jpg\", \"caption\": \"A person wearing lattice short sleeve no dress v neckline cotton conventional clothes\"}\\n',\n",
       " '{\"file_name\": \"Open-Back_Blouse_img_00000084.jpg\", \"caption\": \"A person wearing solid short sleeve no dress square neckline chiffon conventional clothes\"}\\n',\n",
       " '{\"file_name\": \"Pleated_Combo_Dress_img_00000058.jpg\", \"caption\": \"A person wearing pleated sleeveless mini length crew neckline chiffon conventional clothes\"}\\n',\n",
       " '{\"file_name\": \"Collarless_Draped-Front_Blazer_img_00000056.jpg\", \"caption\": \"A person wearing solid short sleeve no dress crew neckline leather conventional clothes\"}\\n',\n",
       " '{\"file_name\": \"Chiffon_Shift_Dress_img_00000061.jpg\", \"caption\": \"A person wearing pleated sleeveless mini length crew neckline chiffon conventional clothes\"}\\n',\n",
       " '{\"file_name\": \"Longline_Marled_Single-Button_Jacket_img_00000028.jpg\", \"caption\": \"A person wearing solid short sleeve no dress v neckline faux conventional clothes\"}\\n',\n",
       " '{\"file_name\": \"Y-Back_Halter_Dress_img_00000065.jpg\", \"caption\": \"A person wearing pleated sleeveless mini length no neckline chiffon conventional clothes\"}\\n',\n",
       " '{\"file_name\": \"Textured_Bodycon_Dress_img_00000006.jpg\", \"caption\": \"A person wearing lattice sleeveless mini length crew neckline cotton tight clothes\"}\\n',\n",
       " '{\"file_name\": \"Longline_Cutout_Cami_Dress_img_00000026.jpg\", \"caption\": \"A person wearing lattice short sleeve mini length crew neckline cotton conventional clothes\"}\\n',\n",
       " '{\"file_name\": \"Longline_Open-Front_Cardigan_img_00000025.jpg\", \"caption\": \"A person wearing solid short sleeve no dress v neckline faux conventional clothes\"}\\n',\n",
       " '{\"file_name\": \"Boxy_Pintucked_Top_img_00000020.jpg\", \"caption\": \"A person wearing pleated sleeveless no dress crew neckline chiffon conventional clothes\"}\\n',\n",
       " '{\"file_name\": \"Pleated_Mosaic_Print_Skirt_img_00000007.jpg\", \"caption\": \"A person wearing pleated sleeveless no dress no neckline cotton conventional clothes\"}\\n',\n",
       " '{\"file_name\": \"Embroidered_Self-Tie_Blouse_img_00000039.jpg\", \"caption\": \"A person wearing lattice sleeveless no dress crew neckline cotton conventional clothes\"}\\n',\n",
       " '{\"file_name\": \"Quilted_Faux_Leather_Bomber_img_00000066.jpg\", \"caption\": \"A person wearing solid short sleeve no dress crew neckline leather conventional clothes\"}\\n',\n",
       " '{\"file_name\": \"M-Slit_Pleated_Maxi_Skirt_img_00000015.jpg\", \"caption\": \"A person wearing pleated sleeveless no dress no neckline cotton conventional clothes\"}\\n',\n",
       " '{\"file_name\": \"Always_Be_Chic_Top_img_00000005.jpg\", \"caption\": \"A person wearing lattice short sleeve no dress no neckline cotton conventional clothes\"}\\n',\n",
       " '{\"file_name\": \"Structured_Quilted_Jacket_img_00000011.jpg\", \"caption\": \"A person wearing solid short sleeve no dress v neckline leather conventional clothes\"}\\n',\n",
       " '{\"file_name\": \"Faux_Leather_Biker_Jacket_img_00000006.jpg\", \"caption\": \"A person wearing solid short sleeve no dress crew neckline leather conventional clothes\"}\\n',\n",
       " '{\"file_name\": \"Hooded_Longline_Toggle_Coat_img_00000031.jpg\", \"caption\": \"A person wearing solid short sleeve no dress crew neckline faux conventional clothes\"}\\n',\n",
       " '{\"file_name\": \"Classic_Single-Button_Blazer_img_00000030.jpg\", \"caption\": \"A person wearing solid short sleeve no dress v neckline leather conventional clothes\"}\\n',\n",
       " '{\"file_name\": \"Pleated_Open-Front_Cardigan_img_00000039.jpg\", \"caption\": \"A person wearing pleated short sleeve no dress crew neckline chiffon conventional clothes\"}\\n',\n",
       " '{\"file_name\": \"Longline_Boyfriend_Blazer_img_00000096.jpg\", \"caption\": \"A person wearing lattice short sleeve no dress crew neckline cotton conventional clothes\"}\\n',\n",
       " '{\"file_name\": \"Faux_Leather_A-Line_Skirt_img_00000029.jpg\", \"caption\": \"A person wearing solid sleeveless no dress no neckline leather conventional clothes\"}\\n',\n",
       " '{\"file_name\": \"Paris_Graphic_Sweatpants_img_00000003.jpg\", \"caption\": \"A person wearing lattice sleeveless no dress no neckline cotton conventional clothes\"}\\n',\n",
       " '{\"file_name\": \"Faux_Leather_Grid_Shorts_img_00000047.jpg\", \"caption\": \"A person wearing solid sleeveless no dress no neckline leather conventional clothes\"}\\n',\n",
       " '{\"file_name\": \"Pleated_Chiffon_Blouse_img_00000138.jpg\", \"caption\": \"A person wearing pleated sleeveless no dress crew neckline chiffon conventional clothes\"}\\n',\n",
       " '{\"file_name\": \"Abstract_Animal_Print_Dress_img_00000043.jpg\", \"caption\": \"A person wearing floral short sleeve mini length square neckline cotton tight clothes\"}\\n',\n",
       " '{\"file_name\": \"Faux_Shearling_Hooded_Parka_img_00000071.jpg\", \"caption\": \"A person wearing solid short sleeve no dress v neckline leather conventional clothes\"}\\n',\n",
       " '{\"file_name\": \"Boxy_Shirt_Dress_img_00000022.jpg\", \"caption\": \"A person wearing lattice long sleeve mini length v neckline chiffon loose clothes\"}\\n',\n",
       " '{\"file_name\": \"Brushstroke_Print_Shirt_Dress_img_00000014.jpg\", \"caption\": \"A person wearing pleated long sleeve mini length v neckline cotton conventional clothes\"}\\n',\n",
       " '{\"file_name\": \"Faux_Leather_Skater_Dress_img_00000068.jpg\", \"caption\": \"A person wearing solid sleeveless mini length crew neckline leather conventional clothes\"}\\n',\n",
       " '{\"file_name\": \"Striped_Midi_Skirt_img_00000082.jpg\", \"caption\": \"A person wearing pleated sleeveless no dress no neckline cotton conventional clothes\"}\\n',\n",
       " '{\"file_name\": \"Lady_in_Lace_Dress_img_00000026.jpg\", \"caption\": \"A person wearing solid long sleeve maxi length square neckline cotton conventional clothes\"}\\n',\n",
       " '{\"file_name\": \"Reason_Faux_Suede_Joggers_img_00000011.jpg\", \"caption\": \"A person wearing solid sleeveless no dress no neckline leather conventional clothes\"}\\n',\n",
       " '{\"file_name\": \"Asymmetrical_Pencil_Skirt_img_00000077.jpg\", \"caption\": \"A person wearing pleated sleeveless no dress no neckline cotton tight clothes\"}\\n',\n",
       " '{\"file_name\": \"Grid_Print_Jumpsuit_img_00000039.jpg\", \"caption\": \"A person wearing lattice short sleeve no dress v neckline cotton conventional clothes\"}\\n',\n",
       " '{\"file_name\": \"Lace-Paneled_Illusion_Maxi_Dress_img_00000035.jpg\", \"caption\": \"A person wearing pleated short sleeve maxi length crew neckline cotton conventional clothes\"}\\n',\n",
       " '{\"file_name\": \"Zippered_Faux_Leather_Mini_Skirt_img_00000027.jpg\", \"caption\": \"A person wearing solid sleeveless no dress no neckline leather tight clothes\"}\\n',\n",
       " '{\"file_name\": \"Asymmetrical_Hem_Top_img_00000041.jpg\", \"caption\": \"A person wearing solid sleeveless no dress square neckline cotton conventional clothes\"}\\n',\n",
       " '{\"file_name\": \"Pleated_Scuba_Knit_Dress_img_00000019.jpg\", \"caption\": \"A person wearing pleated sleeveless mini length v neckline cotton conventional clothes\"}\\n',\n",
       " '{\"file_name\": \"Faux_Leather_Midi_Pencil_Skirt_img_00000013.jpg\", \"caption\": \"A person wearing solid sleeveless no dress no neckline leather tight clothes\"}\\n',\n",
       " '{\"file_name\": \"Textured_Collarless_Jacket_img_00000007.jpg\", \"caption\": \"A person wearing solid short sleeve no dress v neckline leather conventional clothes\"}\\n',\n",
       " '{\"file_name\": \"Boxy_Plaid_Flannel_img_00000010.jpg\", \"caption\": \"A person wearing lattice sleeveless no dress crew neckline cotton conventional clothes\"}\\n',\n",
       " '{\"file_name\": \"Faux_Leather_Peplum_Jacket_img_00000072.jpg\", \"caption\": \"A person wearing solid sleeveless no dress no neckline leather conventional clothes\"}\\n',\n",
       " '{\"file_name\": \"Faux_Leather_Grid_Shorts_img_00000038.jpg\", \"caption\": \"A person wearing solid sleeveless no dress no neckline leather tight clothes\"}\\n',\n",
       " '{\"file_name\": \"Cropped_Faux_Fur_Jacket_img_00000026.jpg\", \"caption\": \"A person wearing solid short sleeve no dress v neckline faux conventional clothes\"}\\n',\n",
       " '{\"file_name\": \"Pleated_Square_Neck_Dress_img_00000004.jpg\", \"caption\": \"A person wearing pleated sleeveless mini length crew neckline cotton conventional clothes\"}\\n',\n",
       " '{\"file_name\": \"Collarless_Faux_Leather-Sleeve_Blazer_img_00000118.jpg\", \"caption\": \"A person wearing solid short sleeve no dress crew neckline leather conventional clothes\"}\\n',\n",
       " '{\"file_name\": \"Two-Tone_Chunky_Cardigan_img_00000020.jpg\", \"caption\": \"A person wearing lattice short sleeve no dress no neckline knit conventional clothes\"}\\n',\n",
       " '{\"file_name\": \"Faux_Leather_Convertible_Jacket_img_00000036.jpg\", \"caption\": \"A person wearing solid short sleeve no dress v neckline leather conventional clothes\"}\\n',\n",
       " '{\"file_name\": \"Shirred_Panel_Shorts_img_00000033.jpg\", \"caption\": \"A person wearing pleated sleeveless no dress no neckline cotton conventional clothes\"}\\n',\n",
       " '{\"file_name\": \"Faux_Fur_Bomber_Jacket_img_00000057.jpg\", \"caption\": \"A person wearing solid short sleeve no dress crew neckline faux conventional clothes\"}\\n',\n",
       " '{\"file_name\": \"Asymmetric_Zip-Front_Cardigan_img_00000009.jpg\", \"caption\": \"A person wearing solid short sleeve no dress v neckline leather conventional clothes\"}\\n',\n",
       " '{\"file_name\": \"Metallic_Maxi_Dress_img_00000077.jpg\", \"caption\": \"A person wearing pleated sleeveless maxi length v neckline cotton conventional clothes\"}\\n',\n",
       " '{\"file_name\": \"Heathered_Babydoll_Dress_img_00000031.jpg\", \"caption\": \"A person wearing pleated long sleeve mini length crew neckline chiffon conventional clothes\"}\\n',\n",
       " '{\"file_name\": \"Classic_Pencil_Skirt_img_00000005.jpg\", \"caption\": \"A person wearing lattice sleeveless no dress no neckline cotton tight clothes\"}\\n',\n",
       " '{\"file_name\": \"Pleated_Square_Neck_Dress_img_00000001.jpg\", \"caption\": \"A person wearing pleated sleeveless mini length square neckline cotton conventional clothes\"}\\n',\n",
       " '{\"file_name\": \"Triangle-Patterned_Dolman_Cardigan_img_00000008.jpg\", \"caption\": \"A person wearing lattice long sleeve no dress v neckline cotton conventional clothes\"}\\n',\n",
       " '{\"file_name\": \"Checkered_Leggings_img_00000069.jpg\", \"caption\": \"A person wearing lattice sleeveless no dress no neckline cotton tight clothes\"}\\n',\n",
       " '{\"file_name\": \"Shore_Thing_Maxi_Dress_img_00000040.jpg\", \"caption\": \"A person wearing pleated sleeveless maxi length no neckline cotton conventional clothes\"}\\n',\n",
       " '{\"file_name\": \"Vegan_Leather-Sleeved_Bomber_Jacket_img_00000057.jpg\", \"caption\": \"A person wearing lattice short sleeve no dress crew neckline cotton conventional clothes\"}\\n',\n",
       " '{\"file_name\": \"Faux_Leather_Skater_Skirt_img_00000067.jpg\", \"caption\": \"A person wearing solid sleeveless no dress no neckline leather conventional clothes\"}\\n',\n",
       " '{\"file_name\": \"Faux_Leather_Grid_Shorts_img_00000029.jpg\", \"caption\": \"A person wearing solid sleeveless no dress no neckline leather tight clothes\"}\\n',\n",
       " '{\"file_name\": \"Pleated_Midi_Skirt_img_00000003.jpg\", \"caption\": \"A person wearing pleated sleeveless no dress no neckline chiffon conventional clothes\"}\\n',\n",
       " '{\"file_name\": \"Plaid_Flannel_Shirt_Dress_img_00000049.jpg\", \"caption\": \"A person wearing lattice short sleeve mini length v neckline cotton conventional clothes\"}\\n',\n",
       " '{\"file_name\": \"Collared_Faux_Leather_Jacket_img_00000031.jpg\", \"caption\": \"A person wearing solid short sleeve no dress v neckline leather conventional clothes\"}\\n',\n",
       " '{\"file_name\": \"Swiss_Dot_Crochet_Tank_img_00000028.jpg\", \"caption\": \"A person wearing embroidered long sleeve no dress square neckline knit conventional clothes\"}\\n',\n",
       " '{\"file_name\": \"Abstract_Stripe_Bodycon_Dress_img_00000044.jpg\", \"caption\": \"A person wearing striped long sleeve mini length square neckline cotton conventional clothes\"}\\n',\n",
       " '{\"file_name\": \"Collarless_Faux_Suede_Jacket_img_00000043.jpg\", \"caption\": \"A person wearing solid short sleeve no dress v neckline faux conventional clothes\"}\\n',\n",
       " '{\"file_name\": \"Cloud_Wash_Tee_img_00000063.jpg\", \"caption\": \"A person wearing lattice short sleeve no dress v neckline cotton conventional clothes\"}\\n',\n",
       " '{\"file_name\": \"Strapless_Pleated_Chiffon_Dress_img_00000077.jpg\", \"caption\": \"A person wearing pleated sleeveless maxi length no neckline chiffon conventional clothes\"}\\n',\n",
       " '{\"file_name\": \"Glen_Plaid_Blazer_img_00000025.jpg\", \"caption\": \"A person wearing lattice short sleeve no dress v neckline cotton conventional clothes\"}\\n',\n",
       " '{\"file_name\": \"Metallic_Wrap_Skirt_img_00000015.jpg\", \"caption\": \"A person wearing solid sleeveless no dress no neckline leather conventional clothes\"}\\n',\n",
       " '{\"file_name\": \"Beaded_Chiffon_Maxi_Dress_img_00000079.jpg\", \"caption\": \"A person wearing pleated sleeveless maxi length no neckline chiffon tight clothes\"}\\n',\n",
       " '{\"file_name\": \"Pleated_A-Line_Dress_img_00000013.jpg\", \"caption\": \"A person wearing solid sleeveless mini length square neckline cotton conventional clothes\"}\\n',\n",
       " '{\"file_name\": \"Boat_Neck_Top_img_00000026.jpg\", \"caption\": \"A person wearing pleated long sleeve no dress crew neckline chiffon conventional clothes\"}\\n',\n",
       " '{\"file_name\": \"Faux_Fur_Collar_Waffle_Knit_Cardigan_img_00000001.jpg\", \"caption\": \"A person wearing solid short sleeve no dress crew neckline faux loose clothes\"}\\n',\n",
       " '{\"file_name\": \"Crossback_Jumpsuit_img_00000043.jpg\", \"caption\": \"A person wearing solid sleeveless no dress v neckline leather conventional clothes\"}\\n',\n",
       " '{\"file_name\": \"Faux_Leather_Shawl_Collar_Blazer_img_00000006.jpg\", \"caption\": \"A person wearing solid short sleeve no dress v neckline leather conventional clothes\"}\\n',\n",
       " '{\"file_name\": \"Fluted_Velvet_Skirt_img_00000042.jpg\", \"caption\": \"A person wearing solid sleeveless no dress no neckline leather conventional clothes\"}\\n',\n",
       " '{\"file_name\": \"Faux_Shearling_Aviator_Jacket_img_00000076.jpg\", \"caption\": \"A person wearing solid short sleeve no dress crew neckline leather conventional clothes\"}\\n',\n",
       " '{\"file_name\": \"Faux_Leather_Biker_Jacket_img_00000054.jpg\", \"caption\": \"A person wearing solid short sleeve no dress v neckline leather conventional clothes\"}\\n',\n",
       " '{\"file_name\": \"Lace-Paneled_Babydoll_Dress_img_00000036.jpg\", \"caption\": \"A person wearing pleated sleeveless mini length no neckline cotton conventional clothes\"}\\n',\n",
       " '{\"file_name\": \"Collarless_Sequined_Jacket_img_00000024.jpg\", \"caption\": \"A person wearing solid short sleeve no dress crew neckline faux conventional clothes\"}\\n',\n",
       " '{\"file_name\": \"Draped_Surplice_Blouse_img_00000077.jpg\", \"caption\": \"A person wearing lattice short sleeve no dress v neckline chiffon conventional clothes\"}\\n',\n",
       " '{\"file_name\": \"Longline_Faux_Fur_Coat_img_00000011.jpg\", \"caption\": \"A person wearing solid short sleeve no dress crew neckline faux conventional clothes\"}\\n',\n",
       " '{\"file_name\": \"Loop_Knit_Jacket_img_00000048.jpg\", \"caption\": \"A person wearing solid short sleeve no dress no neckline faux conventional clothes\"}\\n',\n",
       " '{\"file_name\": \"Mid-Rise_-_Zippered_Skinny_Jeans_img_00000038.jpg\", \"caption\": \"A person wearing solid sleeveless no dress no neckline leather tight clothes\"}\\n',\n",
       " '{\"file_name\": \"Cuffed-Sleeve_Boyfriend_Blazer_img_00000038.jpg\", \"caption\": \"A person wearing lattice short sleeve no dress v neckline cotton conventional clothes\"}\\n',\n",
       " '{\"file_name\": \"Floral_Flutter_Sleeve_Dress_img_00000042.jpg\", \"caption\": \"A person wearing lattice long sleeve maxi length v neckline cotton conventional clothes\"}\\n',\n",
       " '{\"file_name\": \"Classic_Georgette_Top_img_00000030.jpg\", \"caption\": \"A person wearing solid sleeveless no dress no neckline leather loose clothes\"}\\n',\n",
       " '{\"file_name\": \"Boat_Neck_Top_img_00000038.jpg\", \"caption\": \"A person wearing pleated long sleeve no dress crew neckline chiffon conventional clothes\"}\\n',\n",
       " '{\"file_name\": \"Diamond_Print_Skater_Dress_img_00000016.jpg\", \"caption\": \"A person wearing graphic sleeveless mini length square neckline cotton conventional clothes\"}\\n',\n",
       " '{\"file_name\": \"High-Slit_Maxi_Skirt_img_00000006.jpg\", \"caption\": \"A person wearing pleated sleeveless no dress no neckline cotton loose clothes\"}\\n',\n",
       " '{\"file_name\": \"Heathered_Knit_Skater_Skirt_img_00000002.jpg\", \"caption\": \"A person wearing pleated sleeveless no dress no neckline cotton conventional clothes\"}\\n',\n",
       " '{\"file_name\": \"Button-Front_Blazer_img_00000138.jpg\", \"caption\": \"A person wearing lattice short sleeve no dress v neckline cotton conventional clothes\"}\\n',\n",
       " '{\"file_name\": \"Distressed_Chino_Joggers_img_00000006.jpg\", \"caption\": \"A person wearing solid sleeveless no dress no neckline leather conventional clothes\"}\\n',\n",
       " '{\"file_name\": \"Zippered_Shawl_Collar_Blazer_img_00000126.jpg\", \"caption\": \"A person wearing solid short sleeve no dress v neckline leather conventional clothes\"}\\n',\n",
       " '{\"file_name\": \"Boys_Aint_Loyal_Graphic_Tee_img_00000001.jpg\", \"caption\": \"A person wearing graphic long sleeve no dress v neckline leather conventional clothes\"}\\n',\n",
       " '{\"file_name\": \"Strapless_Sweetheart_Dress_img_00000043.jpg\", \"caption\": \"A person wearing pleated sleeveless mini length no neckline cotton conventional clothes\"}\\n',\n",
       " '{\"file_name\": \"Abstract_Floral_Babydoll_Dress_img_00000008.jpg\", \"caption\": \"A person wearing floral sleeveless mini length square neckline cotton conventional clothes\"}\\n',\n",
       " '{\"file_name\": \"Collarless_Scuba_Knit_Coat_img_00000007.jpg\", \"caption\": \"A person wearing lattice short sleeve no dress v neckline cotton conventional clothes\"}\\n',\n",
       " '{\"file_name\": \"Cable-Knit_Shrug_Cardigan_img_00000016.jpg\", \"caption\": \"A person wearing solid long sleeve no dress crew neckline faux loose clothes\"}\\n',\n",
       " '{\"file_name\": \"Plaid_Drawstring_Dress_img_00000023.jpg\", \"caption\": \"A person wearing lattice short sleeve mini length v neckline cotton conventional clothes\"}\\n',\n",
       " '{\"file_name\": \"Glen_Plaid_Blazer_img_00000001.jpg\", \"caption\": \"A person wearing lattice short sleeve no dress v neckline cotton conventional clothes\"}\\n',\n",
       " '{\"file_name\": \"Tab-Sleeved_Chiffon_Blouse_img_00000072.jpg\", \"caption\": \"A person wearing lattice short sleeve no dress v neckline cotton conventional clothes\"}\\n',\n",
       " '{\"file_name\": \"Self-Tie_Peasant_Blouse_img_00000053.jpg\", \"caption\": \"A person wearing pleated short sleeve no dress crew neckline chiffon conventional clothes\"}\\n',\n",
       " '{\"file_name\": \"Side-Slit_Collared_Blouse_img_00000085.jpg\", \"caption\": \"A person wearing lattice short sleeve no dress v neckline cotton conventional clothes\"}\\n',\n",
       " '{\"file_name\": \"Pleated_Skater_Skirt_img_00000022.jpg\", \"caption\": \"A person wearing pleated sleeveless no dress no neckline cotton conventional clothes\"}\\n',\n",
       " '{\"file_name\": \"Sequined_Tweed_Skirt_img_00000009.jpg\", \"caption\": \"A person wearing lattice sleeveless no dress no neckline cotton tight clothes\"}\\n',\n",
       " '{\"file_name\": \"Faux_Leather_Pencil_Skirt_img_00000013.jpg\", \"caption\": \"A person wearing solid sleeveless no dress no neckline leather tight clothes\"}\\n',\n",
       " '{\"file_name\": \"Textured_Boyfriend_Blazer_img_00000049.jpg\", \"caption\": \"A person wearing lattice short sleeve no dress v neckline cotton conventional clothes\"}\\n',\n",
       " '{\"file_name\": \"Structured_Pleated_A-Line_Dress_img_00000011.jpg\", \"caption\": \"A person wearing pleated sleeveless mini length crew neckline cotton conventional clothes\"}\\n',\n",
       " '{\"file_name\": \"Slub_Knit_Drawstring_Hoodie_img_00000016.jpg\", \"caption\": \"A person wearing solid short sleeve no dress v neckline faux conventional clothes\"}\\n',\n",
       " '{\"file_name\": \"Ice_Cube_Tee_img_00000041.jpg\", \"caption\": \"A person wearing solid short sleeve no dress v neckline leather conventional clothes\"}\\n',\n",
       " '{\"file_name\": \"Glitter_Bodycon_Dress_img_00000055.jpg\", \"caption\": \"A person wearing solid long sleeve mini length crew neckline leather conventional clothes\"}\\n',\n",
       " '{\"file_name\": \"Lace-Paneled_Maxi_Dress_img_00000068.jpg\", \"caption\": \"A person wearing pleated short sleeve maxi length crew neckline cotton conventional clothes\"}\\n',\n",
       " '{\"file_name\": \"Collarless_Moto_Jacket_img_00000041.jpg\", \"caption\": \"A person wearing solid sleeveless no dress v neckline leather conventional clothes\"}\\n',\n",
       " '{\"file_name\": \"Faux_Leather_Skater_Dress_img_00000054.jpg\", \"caption\": \"A person wearing solid sleeveless mini length no neckline leather conventional clothes\"}\\n',\n",
       " '{\"file_name\": \"Box-Pleated_Gingham_Skirt_img_00000007.jpg\", \"caption\": \"A person wearing lattice sleeveless no dress no neckline cotton loose clothes\"}\\n',\n",
       " '{\"file_name\": \"High-Neck_Blouse_img_00000022.jpg\", \"caption\": \"A person wearing embroidered short sleeve no dress crew neckline faux conventional clothes\"}\\n',\n",
       " '{\"file_name\": \"Collarless_Faux_Fur_Jacket_img_00000021.jpg\", \"caption\": \"A person wearing solid short sleeve no dress crew neckline faux conventional clothes\"}\\n',\n",
       " '{\"file_name\": \"Bejeweled_Floral_Lace_Sheath_Dress_img_00000048.jpg\", \"caption\": \"A person wearing pleated sleeveless maxi length v neckline chiffon conventional clothes\"}\\n',\n",
       " '{\"file_name\": \"Pleated_Chiffon_Skirt_img_00000048.jpg\", \"caption\": \"A person wearing pleated sleeveless no dress no neckline chiffon conventional clothes\"}\\n',\n",
       " '{\"file_name\": \"Layered-Panel_Chiffon_Blouse_img_00000045.jpg\", \"caption\": \"A person wearing solid sleeveless no dress crew neckline faux conventional clothes\"}\\n',\n",
       " '{\"file_name\": \"Lace_Collar_Shift_Dress_img_00000034.jpg\", \"caption\": \"A person wearing pleated sleeveless mini length crew neckline cotton conventional clothes\"}\\n',\n",
       " '{\"file_name\": \"Quilted_Open-Front_Blazer_img_00000043.jpg\", \"caption\": \"A person wearing solid short sleeve no dress crew neckline leather conventional clothes\"}\\n',\n",
       " '{\"file_name\": \"Crinkled_Satin_Halter_Dress_img_00000054.jpg\", \"caption\": \"A person wearing pleated sleeveless mini length no neckline chiffon conventional clothes\"}\\n',\n",
       " '{\"file_name\": \"Faux_Leather-Paneled_Denim_Jacket_img_00000033.jpg\", \"caption\": \"A person wearing solid short sleeve no dress v neckline faux conventional clothes\"}\\n',\n",
       " '{\"file_name\": \"Faux_Shearling_Bomber_Jacket_img_00000046.jpg\", \"caption\": \"A person wearing solid short sleeve no dress crew neckline leather conventional clothes\"}\\n',\n",
       " '{\"file_name\": \"Knotted_Sheath_Dress_img_00000057.jpg\", \"caption\": \"A person wearing pleated short sleeve mini length v neckline cotton tight clothes\"}\\n',\n",
       " '{\"file_name\": \"Zippered_Bomber_Jacket_img_00000037.jpg\", \"caption\": \"A person wearing solid short sleeve no dress v neckline leather conventional clothes\"}\\n',\n",
       " '{\"file_name\": \"Metallic_Knit_Sweater_img_00000039.jpg\", \"caption\": \"A person wearing solid short sleeve no dress square neckline cotton conventional clothes\"}\\n',\n",
       " '{\"file_name\": \"Flutter_Sleeve_Surplice_Dress_img_00000005.jpg\", \"caption\": \"A person wearing pleated long sleeve maxi length v neckline chiffon conventional clothes\"}\\n',\n",
       " '{\"file_name\": \"Quilted_Sweater_img_00000010.jpg\", \"caption\": \"A person wearing solid short sleeve no dress crew neckline leather loose clothes\"}\\n',\n",
       " '{\"file_name\": \"Layered_Sleeveless_Dress_img_00000042.jpg\", \"caption\": \"A person wearing pleated sleeveless maxi length v neckline cotton tight clothes\"}\\n',\n",
       " '{\"file_name\": \"Diamond_Print_Chiffon_Blouse_img_00000084.jpg\", \"caption\": \"A person wearing lattice short sleeve no dress v neckline chiffon conventional clothes\"}\\n',\n",
       " '{\"file_name\": \"Chevron-Striped_Maxi_Dress_img_00000013.jpg\", \"caption\": \"A person wearing pleated sleeveless no dress crew neckline cotton conventional clothes\"}\\n',\n",
       " '{\"file_name\": \"Classic_Cuffed_Blazer_img_00000052.jpg\", \"caption\": \"A person wearing solid short sleeve no dress crew neckline faux conventional clothes\"}\\n',\n",
       " '{\"file_name\": \"Crepe_Woven_Skater_Skirt_img_00000043.jpg\", \"caption\": \"A person wearing pleated sleeveless no dress no neckline cotton conventional clothes\"}\\n',\n",
       " '{\"file_name\": \"Pleated_Floral_Chiffon_Dress_img_00000030.jpg\", \"caption\": \"A person wearing pleated sleeveless mini length crew neckline chiffon conventional clothes\"}\\n',\n",
       " '{\"file_name\": \"Buttoned_Knee-Length_Skirt_img_00000037.jpg\", \"caption\": \"A person wearing pleated sleeveless no dress no neckline cotton conventional clothes\"}\\n',\n",
       " '{\"file_name\": \"Ruffle-Trimmed_Blouse_img_00000016.jpg\", \"caption\": \"A person wearing pleated short sleeve no dress crew neckline cotton conventional clothes\"}\\n',\n",
       " '{\"file_name\": \"Longline_Faux_Fur_Coat_img_00000029.jpg\", \"caption\": \"A person wearing solid short sleeve no dress crew neckline faux conventional clothes\"}\\n',\n",
       " '{\"file_name\": \"Abstract_Grid_Peplum_Top_img_00000009.jpg\", \"caption\": \"A person wearing lattice short sleeve no dress v neckline leather conventional clothes\"}\\n',\n",
       " '{\"file_name\": \"Grid_Print_Jumpsuit_img_00000046.jpg\", \"caption\": \"A person wearing lattice short sleeve no dress v neckline cotton conventional clothes\"}\\n',\n",
       " '{\"file_name\": \"Pebbled_Faux_Leather_Moto_Jacket_img_00000033.jpg\", \"caption\": \"A person wearing solid short sleeve no dress v neckline leather conventional clothes\"}\\n',\n",
       " '{\"file_name\": \"Faux_Suede_Fringe_Jacket_img_00000024.jpg\", \"caption\": \"A person wearing solid short sleeve no dress no neckline leather conventional clothes\"}\\n',\n",
       " '{\"file_name\": \"Faux_Shearling_Aviator_Jacket_img_00000056.jpg\", \"caption\": \"A person wearing solid short sleeve no dress crew neckline leather conventional clothes\"}\\n',\n",
       " '{\"file_name\": \"Longline_Faux_Fur_Jacket_img_00000064.jpg\", \"caption\": \"A person wearing solid short sleeve no dress crew neckline faux conventional clothes\"}\\n',\n",
       " '{\"file_name\": \"Faux_Fur_Bomber_Jacket_img_00000078.jpg\", \"caption\": \"A person wearing solid short sleeve no dress crew neckline faux conventional clothes\"}\\n',\n",
       " '{\"file_name\": \"Longline_Faux_Fur_Jacket_img_00000014.jpg\", \"caption\": \"A person wearing floral short sleeve no dress crew neckline faux conventional clothes\"}\\n',\n",
       " '{\"file_name\": \"Faux_Leather_Bomber_Jacket_img_00000006.jpg\", \"caption\": \"A person wearing solid short sleeve no dress crew neckline leather conventional clothes\"}\\n',\n",
       " '{\"file_name\": \"Metallic_Tribal-Inspired_Shorts_img_00000037.jpg\", \"caption\": \"A person wearing solid sleeveless no dress no neckline leather conventional clothes\"}\\n',\n",
       " '{\"file_name\": \"Abstract_Print_Tasseled_Mini_Dress_img_00000015.jpg\", \"caption\": \"A person wearing solid sleeveless mini length square neckline chiffon conventional clothes\"}\\n',\n",
       " '{\"file_name\": \"Grid_Print_Jumpsuit_img_00000044.jpg\", \"caption\": \"A person wearing lattice sleeveless no dress no neckline cotton conventional clothes\"}\\n',\n",
       " '{\"file_name\": \"Longline_Faux_Fur_Jacket_img_00000018.jpg\", \"caption\": \"A person wearing solid short sleeve no dress crew neckline faux conventional clothes\"}\\n',\n",
       " '{\"file_name\": \"High-Waisted_Plaid_Shorts_img_00000019.jpg\", \"caption\": \"A person wearing lattice sleeveless no dress no neckline cotton conventional clothes\"}\\n',\n",
       " '{\"file_name\": \"Sparkling_Ruched_Dress_img_00000049.jpg\", \"caption\": \"A person wearing pleated sleeveless mini length no neckline chiffon tight clothes\"}\\n',\n",
       " '{\"file_name\": \"Shaggy_Open-Front_Cardigan_img_00000019.jpg\", \"caption\": \"A person wearing solid short sleeve no dress crew neckline faux conventional clothes\"}\\n',\n",
       " '{\"file_name\": \"Collarless_Draped-Front_Blazer_img_00000089.jpg\", \"caption\": \"A person wearing solid short sleeve no dress crew neckline leather conventional clothes\"}\\n',\n",
       " '{\"file_name\": \"Abstract_Stripe_Sheath_Dress_img_00000044.jpg\", \"caption\": \"A person wearing striped sleeveless mini length square neckline cotton conventional clothes\"}\\n',\n",
       " '{\"file_name\": \"Collarless_Woven_Jacket_img_00000018.jpg\", \"caption\": \"A person wearing solid short sleeve no dress crew neckline faux conventional clothes\"}\\n',\n",
       " '{\"file_name\": \"Pleated_Bermuda_Shorts_img_00000068.jpg\", \"caption\": \"A person wearing solid sleeveless no dress no neckline leather conventional clothes\"}\\n',\n",
       " '{\"file_name\": \"Shirred_Chiffon_Dress_img_00000079.jpg\", \"caption\": \"A person wearing pleated sleeveless maxi length no neckline chiffon conventional clothes\"}\\n',\n",
       " '{\"file_name\": \"Faux_Leather_Cutout_Jacket_img_00000017.jpg\", \"caption\": \"A person wearing solid short sleeve no dress crew neckline leather conventional clothes\"}\\n',\n",
       " '{\"file_name\": \"Pleated_Textured_Skirt_img_00000021.jpg\", \"caption\": \"A person wearing pleated sleeveless no dress no neckline cotton conventional clothes\"}\\n',\n",
       " '{\"file_name\": \"Faux_Shearling_Parka_img_00000044.jpg\", \"caption\": \"A person wearing solid short sleeve no dress v neckline leather conventional clothes\"}\\n',\n",
       " '{\"file_name\": \"Woven_Trench_Coat_img_00000013.jpg\", \"caption\": \"A person wearing lattice short sleeve no dress v neckline cotton conventional clothes\"}\\n',\n",
       " '{\"file_name\": \"Pintucked_Button-Down_Blouse_img_00000026.jpg\", \"caption\": \"A person wearing lattice short sleeve no dress v neckline cotton conventional clothes\"}\\n',\n",
       " '{\"file_name\": \"Caged_V-Neck_Maxi_Dress_img_00000048.jpg\", \"caption\": \"A person wearing pleated sleeveless mini length crew neckline chiffon loose clothes\"}\\n',\n",
       " '{\"file_name\": \"Reason_Faux_Suede_Joggers_img_00000046.jpg\", \"caption\": \"A person wearing solid sleeveless no dress no neckline leather conventional clothes\"}\\n',\n",
       " '{\"file_name\": \"Baroque_Floral_Sweater_Dress_img_00000052.jpg\", \"caption\": \"A person wearing floral sleeveless mini length square neckline cotton conventional clothes\"}\\n',\n",
       " '{\"file_name\": \"Shirred_Gauze_Midi_Dress_img_00000047.jpg\", \"caption\": \"A person wearing pleated sleeveless maxi length no neckline chiffon conventional clothes\"}\\n',\n",
       " '{\"file_name\": \"Loyal_Cropped_Sweater_img_00000020.jpg\", \"caption\": \"A person wearing lattice short sleeve no dress crew neckline cotton conventional clothes\"}\\n',\n",
       " '{\"file_name\": \"Collarless_Draped-Front_Blazer_img_00000004.jpg\", \"caption\": \"A person wearing pleated sleeveless no dress no neckline chiffon conventional clothes\"}\\n',\n",
       " '{\"file_name\": \"Weekend_Lover_Graphic_Tee_img_00000035.jpg\", \"caption\": \"A person wearing solid short sleeve no dress v neckline leather conventional clothes\"}\\n',\n",
       " '{\"file_name\": \"Scoop_Back_Bodycon_Dress_img_00000048.jpg\", \"caption\": \"A person wearing solid short sleeve mini length crew neckline leather tight clothes\"}\\n',\n",
       " '{\"file_name\": \"Faux_Fur_Cheetah_Coat_img_00000007.jpg\", \"caption\": \"A person wearing graphic short sleeve no dress v neckline faux conventional clothes\"}\\n',\n",
       " '{\"file_name\": \"Lace-Paneled_Pintucked_Blouse_img_00000034.jpg\", \"caption\": \"A person wearing pleated sleeveless no dress no neckline chiffon conventional clothes\"}\\n',\n",
       " '{\"file_name\": \"Textured_Faux_Fur_Coat_img_00000014.jpg\", \"caption\": \"A person wearing solid short sleeve no dress crew neckline faux conventional clothes\"}\\n',\n",
       " '{\"file_name\": \"Linen_Overall_Dress_img_00000052.jpg\", \"caption\": \"A person wearing pleated sleeveless mini length crew neckline cotton conventional clothes\"}\\n',\n",
       " '{\"file_name\": \"Double-Breasted_Drawstring_Parka_img_00000004.jpg\", \"caption\": \"A person wearing lattice short sleeve no dress crew neckline cotton conventional clothes\"}\\n',\n",
       " '{\"file_name\": \"Pleated_Maxi_Skirt_img_00000088.jpg\", \"caption\": \"A person wearing pleated sleeveless no dress no neckline chiffon loose clothes\"}\\n',\n",
       " '{\"file_name\": \"Abstract_Grid_Print_Top_img_00000019.jpg\", \"caption\": \"A person wearing lattice sleeveless no dress crew neckline cotton conventional clothes\"}\\n',\n",
       " '{\"file_name\": \"Cap-Sleeved_Shift_Dress_img_00000077.jpg\", \"caption\": \"A person wearing lattice long sleeve mini length crew neckline chiffon conventional clothes\"}\\n',\n",
       " '{\"file_name\": \"Knit_Skater_Skirt_img_00000023.jpg\", \"caption\": \"A person wearing lattice sleeveless no dress no neckline cotton conventional clothes\"}\\n',\n",
       " '{\"file_name\": \"Collarless_Faux_Fur_Jacket_img_00000075.jpg\", \"caption\": \"A person wearing solid short sleeve no dress crew neckline faux conventional clothes\"}\\n',\n",
       " '{\"file_name\": \"Zip_Collar_Bomber_img_00000071.jpg\", \"caption\": \"A person wearing solid short sleeve no dress v neckline faux conventional clothes\"}\\n',\n",
       " '{\"file_name\": \"Tartan_Plaid_Blouse_img_00000092.jpg\", \"caption\": \"A person wearing lattice short sleeve no dress v neckline cotton conventional clothes\"}\\n',\n",
       " '{\"file_name\": \"Fuzzy_Plaid_Skirt_img_00000009.jpg\", \"caption\": \"A person wearing lattice sleeveless no dress no neckline cotton conventional clothes\"}\\n',\n",
       " '{\"file_name\": \"Embroidered_Faux_Leather_Pencil_Skirt_img_00000005.jpg\", \"caption\": \"A person wearing solid sleeveless no dress no neckline leather tight clothes\"}\\n',\n",
       " '{\"file_name\": \"Shirred_Chiffon_Dress_img_00000010.jpg\", \"caption\": \"A person wearing pleated sleeveless maxi length no neckline chiffon tight clothes\"}\\n',\n",
       " '{\"file_name\": \"Paneled_Knit_Leggings_img_00000010.jpg\", \"caption\": \"A person wearing solid sleeveless no dress no neckline leather tight clothes\"}\\n',\n",
       " '{\"file_name\": \"Quilted_Bomber_Jacket_img_00000025.jpg\", \"caption\": \"A person wearing solid short sleeve no dress v neckline faux conventional clothes\"}\\n',\n",
       " '{\"file_name\": \"Longline_Chiffon_Baseball_Jersey_img_00000022.jpg\", \"caption\": \"A person wearing graphic short sleeve no dress square neckline chiffon conventional clothes\"}\\n',\n",
       " '{\"file_name\": \"Tartan_Plaid_Button-Down_img_00000094.jpg\", \"caption\": \"A person wearing lattice short sleeve no dress crew neckline cotton conventional clothes\"}\\n',\n",
       " '{\"file_name\": \"Diagonal_Plaid_Skirt_img_00000002.jpg\", \"caption\": \"A person wearing lattice sleeveless no dress no neckline chiffon conventional clothes\"}\\n',\n",
       " '{\"file_name\": \"Boxy_Buttoned_Blazer_img_00000093.jpg\", \"caption\": \"A person wearing solid short sleeve no dress no neckline faux loose clothes\"}\\n',\n",
       " '{\"file_name\": \"Crochet-Paneled_Floral_Shorts_img_00000003.jpg\", \"caption\": \"A person wearing pleated sleeveless no dress no neckline cotton conventional clothes\"}\\n',\n",
       " '{\"file_name\": \"Collarless_Longline_Side-Slit_Jacket_img_00000021.jpg\", \"caption\": \"A person wearing solid short sleeve no dress v neckline leather conventional clothes\"}\\n',\n",
       " '{\"file_name\": \"Belted_Tropical_Shorts_img_00000019.jpg\", \"caption\": \"A person wearing lattice sleeveless no dress no neckline cotton conventional clothes\"}\\n',\n",
       " '{\"file_name\": \"Faux_Shearling_Moto_Jacket_img_00000052.jpg\", \"caption\": \"A person wearing solid short sleeve no dress crew neckline leather conventional clothes\"}\\n',\n",
       " '{\"file_name\": \"Faux_Leather_Shawl_Collar_Blazer_img_00000093.jpg\", \"caption\": \"A person wearing solid short sleeve no dress crew neckline leather conventional clothes\"}\\n',\n",
       " '{\"file_name\": \"Easy_Going_Muscle_Tee_img_00000019.jpg\", \"caption\": \"A person wearing lattice short sleeve no dress v neckline cotton conventional clothes\"}\\n',\n",
       " '{\"file_name\": \"Stretch_Fit_Skinny_Jeans_img_00000030.jpg\", \"caption\": \"A person wearing solid sleeveless no dress no neckline leather tight clothes\"}\\n',\n",
       " '{\"file_name\": \"Lace_Trimmed_Blouse_img_00000131.jpg\", \"caption\": \"A person wearing pleated short sleeve no dress crew neckline cotton conventional clothes\"}\\n',\n",
       " '{\"file_name\": \"Pleated_Maxi_Skirt_img_00000039.jpg\", \"caption\": \"A person wearing pleated sleeveless no dress no neckline chiffon loose clothes\"}\\n',\n",
       " '{\"file_name\": \"Faux_Leather_Skater_Skirt_img_00000005.jpg\", \"caption\": \"A person wearing pleated sleeveless no dress no neckline leather conventional clothes\"}\\n',\n",
       " '{\"file_name\": \"Box_Pleat_Crop_Top_img_00000062.jpg\", \"caption\": \"A person wearing pleated long sleeve no dress crew neckline chiffon conventional clothes\"}\\n',\n",
       " '{\"file_name\": \"Pleated_Chiffon_Maxi_Dress_img_00000013.jpg\", \"caption\": \"A person wearing pleated sleeveless maxi length no neckline chiffon conventional clothes\"}\\n',\n",
       " '{\"file_name\": \"Plaid_Midi_Dress_img_00000069.jpg\", \"caption\": \"A person wearing lattice sleeveless maxi length no neckline cotton tight clothes\"}\\n',\n",
       " '{\"file_name\": \"Faux_Fur_Jacket_img_00000053.jpg\", \"caption\": \"A person wearing solid short sleeve no dress crew neckline faux loose clothes\"}\\n',\n",
       " '{\"file_name\": \"High-Collar_Faux_Fur_Jacket_img_00000055.jpg\", \"caption\": \"A person wearing solid short sleeve no dress v neckline leather conventional clothes\"}\\n',\n",
       " '{\"file_name\": \"Plaid_Shirt_Dress_img_00000044.jpg\", \"caption\": \"A person wearing lattice short sleeve mini length v neckline cotton conventional clothes\"}\\n',\n",
       " '{\"file_name\": \"Hooded_Chambray_Parka_Jacket_img_00000017.jpg\", \"caption\": \"A person wearing solid short sleeve no dress crew neckline faux conventional clothes\"}\\n',\n",
       " '{\"file_name\": \"Crinkled_Satin_Halter_Dress_img_00000018.jpg\", \"caption\": \"A person wearing pleated sleeveless maxi length no neckline chiffon conventional clothes\"}\\n',\n",
       " '{\"file_name\": \"Faux_Leather_Panel_Hoodie_img_00000038.jpg\", \"caption\": \"A person wearing solid short sleeve no dress crew neckline leather conventional clothes\"}\\n',\n",
       " '{\"file_name\": \"Chiffon_Pleated_Jumpsuit_img_00000041.jpg\", \"caption\": \"A person wearing pleated sleeveless no dress no neckline chiffon loose clothes\"}\\n',\n",
       " '{\"file_name\": \"Beaded_Chiffon_Maxi_Dress_img_00000031.jpg\", \"caption\": \"A person wearing pleated short sleeve maxi length no neckline chiffon conventional clothes\"}\\n',\n",
       " '{\"file_name\": \"Mesh_Maxi_Dress_img_00000024.jpg\", \"caption\": \"A person wearing pleated sleeveless maxi length no neckline chiffon conventional clothes\"}\\n',\n",
       " '{\"file_name\": \"Abstract_Geo_Crop_Top_img_00000008.jpg\", \"caption\": \"A person wearing lattice sleeveless no dress no neckline cotton tight clothes\"}\\n',\n",
       " '{\"file_name\": \"Longline_Plaid_Shirt_Dress_img_00000036.jpg\", \"caption\": \"A person wearing lattice sleeveless mini length v neckline cotton conventional clothes\"}\\n',\n",
       " '{\"file_name\": \"Faux_Leather_Jersey_img_00000055.jpg\", \"caption\": \"A person wearing solid short sleeve no dress crew neckline leather conventional clothes\"}\\n',\n",
       " '{\"file_name\": \"Be_Cool_Crop_Top_img_00000074.jpg\", \"caption\": \"A person wearing solid sleeveless no dress crew neckline leather tight clothes\"}\\n',\n",
       " '{\"file_name\": \"V-Neck_Tie-Dye_Dress_img_00000026.jpg\", \"caption\": \"A person wearing pleated sleeveless maxi length v neckline chiffon conventional clothes\"}\\n',\n",
       " '{\"file_name\": \"Embroidered_Faux_Leather_Shorts_img_00000010.jpg\", \"caption\": \"A person wearing solid sleeveless no dress no neckline leather conventional clothes\"}\\n',\n",
       " '{\"file_name\": \"Faux_Fur_Bomber_Jacket_img_00000069.jpg\", \"caption\": \"A person wearing solid short sleeve no dress crew neckline faux conventional clothes\"}\\n',\n",
       " '{\"file_name\": \"Faux_Leather_Midi_Pencil_Skirt_img_00000065.jpg\", \"caption\": \"A person wearing solid sleeveless no dress no neckline leather tight clothes\"}\\n',\n",
       " '{\"file_name\": \"Quilted_Faux_Leather_Skirt_img_00000026.jpg\", \"caption\": \"A person wearing solid sleeveless no dress no neckline leather conventional clothes\"}\\n',\n",
       " '{\"file_name\": \"Faux_Suede_Fringe_Jacket_img_00000028.jpg\", \"caption\": \"A person wearing solid short sleeve no dress crew neckline leather conventional clothes\"}\\n',\n",
       " '{\"file_name\": \"Faux_Leather_Shorts_img_00000058.jpg\", \"caption\": \"A person wearing solid sleeveless no dress no neckline leather loose clothes\"}\\n',\n",
       " '{\"file_name\": \"Contrast_Chiffon_Shift_Dress_img_00000028.jpg\", \"caption\": \"A person wearing pleated sleeveless maxi length no neckline chiffon conventional clothes\"}\\n',\n",
       " '{\"file_name\": \"Shawl_Collar_Cardigan_img_00000015.jpg\", \"caption\": \"A person wearing lattice short sleeve no dress v neckline knit conventional clothes\"}\\n',\n",
       " '{\"file_name\": \"Collared_Faux_Leather_Jacket_img_00000007.jpg\", \"caption\": \"A person wearing floral short sleeve no dress crew neckline leather conventional clothes\"}\\n',\n",
       " '{\"file_name\": \"Pleated_Woven_Blouse_img_00000045.jpg\", \"caption\": \"A person wearing pleated short sleeve mini length crew neckline chiffon conventional clothes\"}\\n',\n",
       " '{\"file_name\": \"Pleated_Textured_Skirt_img_00000025.jpg\", \"caption\": \"A person wearing pleated sleeveless no dress no neckline cotton conventional clothes\"}\\n',\n",
       " '{\"file_name\": \"Chiffon_Plaid_Blouse_img_00000006.jpg\", \"caption\": \"A person wearing lattice short sleeve no dress v neckline chiffon conventional clothes\"}\\n',\n",
       " '{\"file_name\": \"Collarless_Moto_Jacket_img_00000053.jpg\", \"caption\": \"A person wearing solid short sleeve no dress crew neckline leather conventional clothes\"}\\n',\n",
       " '{\"file_name\": \"Textured_Woven_Blazer_img_00000074.jpg\", \"caption\": \"A person wearing solid short sleeve no dress crew neckline leather conventional clothes\"}\\n',\n",
       " '{\"file_name\": \"Chiffon-Paneled_Sheath_Dress_img_00000037.jpg\", \"caption\": \"A person wearing pleated sleeveless mini length crew neckline chiffon tight clothes\"}\\n',\n",
       " '{\"file_name\": \"Faux_Leather_Combo_Dress_img_00000025.jpg\", \"caption\": \"A person wearing solid sleeveless mini length crew neckline leather conventional clothes\"}\\n',\n",
       " '{\"file_name\": \"Deep_V-Neck_Pleated_Dress_img_00000080.jpg\", \"caption\": \"A person wearing pleated long sleeve maxi length no neckline chiffon conventional clothes\"}\\n',\n",
       " '{\"file_name\": \"Knit_Mini_Skirt_img_00000077.jpg\", \"caption\": \"A person wearing solid sleeveless no dress no neckline faux tight clothes\"}\\n',\n",
       " '{\"file_name\": \"Mid-Rise_-_Acid_Wash_Jeggings_img_00000046.jpg\", \"caption\": \"A person wearing lattice sleeveless no dress no neckline denim tight clothes\"}\\n',\n",
       " '{\"file_name\": \"Longline_Abstract-Patterned_Jacket_img_00000007.jpg\", \"caption\": \"A person wearing lattice short sleeve no dress crew neckline cotton conventional clothes\"}\\n',\n",
       " '{\"file_name\": \"Faux_Fur_Trimmed_Moto_Jacket_img_00000078.jpg\", \"caption\": \"A person wearing solid short sleeve no dress crew neckline faux conventional clothes\"}\\n',\n",
       " '{\"file_name\": \"Chunky_Knit_Longline_Cardigan_img_00000019.jpg\", \"caption\": \"A person wearing solid sleeveless no dress no neckline faux conventional clothes\"}\\n',\n",
       " '{\"file_name\": \"Pleated_Convertible_Overall_Romper_img_00000003.jpg\", \"caption\": \"A person wearing pleated short sleeve mini length crew neckline chiffon conventional clothes\"}\\n',\n",
       " '{\"file_name\": \"Lace_Halter_Dress_img_00000082.jpg\", \"caption\": \"A person wearing pleated sleeveless maxi length v neckline chiffon tight clothes\"}\\n',\n",
       " '{\"file_name\": \"Zip_Collar_Bomber_img_00000049.jpg\", \"caption\": \"A person wearing solid short sleeve no dress v neckline faux conventional clothes\"}\\n',\n",
       " '{\"file_name\": \"Shirred_Chiffon_Dress_img_00000028.jpg\", \"caption\": \"A person wearing pleated sleeveless mini length no neckline chiffon conventional clothes\"}\\n',\n",
       " '{\"file_name\": \"Button_Cuffed_Denim_Shorts_img_00000023.jpg\", \"caption\": \"A person wearing lattice sleeveless no dress no neckline denim tight clothes\"}\\n',\n",
       " '{\"file_name\": \"Abstract_Grid_Peplum_Top_img_00000012.jpg\", \"caption\": \"A person wearing lattice sleeveless no dress crew neckline cotton conventional clothes\"}\\n',\n",
       " '{\"file_name\": \"Crochet-Trimmed_Batwing_Cardigan_img_00000041.jpg\", \"caption\": \"A person wearing solid short sleeve no dress v neckline leather conventional clothes\"}\\n',\n",
       " '{\"file_name\": \"Quilted_Faux_Leather_Skirt_img_00000007.jpg\", \"caption\": \"A person wearing solid sleeveless no dress no neckline leather tight clothes\"}\\n',\n",
       " '{\"file_name\": \"Layered_Watercolor_Print_Burnout_Tee_img_00000016.jpg\", \"caption\": \"A person wearing lattice long sleeve no dress no neckline cotton loose clothes\"}\\n',\n",
       " '{\"file_name\": \"Faux_Fur_Bomber_Jacket_img_00000004.jpg\", \"caption\": \"A person wearing solid short sleeve no dress crew neckline faux conventional clothes\"}\\n',\n",
       " '{\"file_name\": \"Southwestern_Print_Blouse_img_00000010.jpg\", \"caption\": \"A person wearing pleated short sleeve no dress crew neckline cotton loose clothes\"}\\n',\n",
       " '{\"file_name\": \"Twisted-Hem_Plaid_Blouse_img_00000061.jpg\", \"caption\": \"A person wearing lattice short sleeve no dress v neckline cotton conventional clothes\"}\\n',\n",
       " '{\"file_name\": \"Classic_Pencil_Skirt_img_00000027.jpg\", \"caption\": \"A person wearing lattice sleeveless no dress no neckline cotton conventional clothes\"}\\n',\n",
       " '{\"file_name\": \"Soft_Pleated_Skater_Dress_img_00000049.jpg\", \"caption\": \"A person wearing pleated sleeveless mini length no neckline chiffon conventional clothes\"}\\n',\n",
       " '{\"file_name\": \"Garden_Party_Pleated_Dress_img_00000004.jpg\", \"caption\": \"A person wearing lattice sleeveless maxi length v neckline cotton conventional clothes\"}\\n',\n",
       " '{\"file_name\": \"Pleated_Floral_Chiffon_Dress_img_00000011.jpg\", \"caption\": \"A person wearing pleated sleeveless mini length no neckline chiffon conventional clothes\"}\\n',\n",
       " '{\"file_name\": \"Floral_Lace_Faux_Leather_Skirt_img_00000029.jpg\", \"caption\": \"A person wearing solid sleeveless no dress no neckline leather conventional clothes\"}\\n',\n",
       " '{\"file_name\": \"Triangle_Print_Chiffon_Blouse_img_00000040.jpg\", \"caption\": \"A person wearing lattice long sleeve no dress crew neckline cotton conventional clothes\"}\\n',\n",
       " '{\"file_name\": \"Woven_Pencil_Skirt_img_00000053.jpg\", \"caption\": \"A person wearing pleated sleeveless no dress no neckline cotton conventional clothes\"}\\n',\n",
       " '{\"file_name\": \"Eyelash_Lace_A-Line_Dress_img_00000045.jpg\", \"caption\": \"A person wearing pleated sleeveless mini length no neckline chiffon conventional clothes\"}\\n',\n",
       " '{\"file_name\": \"Crinkled_Satin_Halter_Dress_img_00000027.jpg\", \"caption\": \"A person wearing pleated sleeveless maxi length no neckline chiffon conventional clothes\"}\\n',\n",
       " '{\"file_name\": \"Faux_Leather_Bodycon_Dress_img_00000054.jpg\", \"caption\": \"A person wearing solid short sleeve mini length crew neckline leather conventional clothes\"}\\n',\n",
       " '{\"file_name\": \"Bell-Sleeved_Peasant_Top_img_00000008.jpg\", \"caption\": \"A person wearing pleated short sleeve no dress crew neckline chiffon loose clothes\"}\\n',\n",
       " '{\"file_name\": \"Southwestern-Patterned_Bodycon_Dress_img_00000019.jpg\", \"caption\": \"A person wearing graphic sleeveless mini length square neckline cotton conventional clothes\"}\\n',\n",
       " '{\"file_name\": \"Faux_Leather_Shawl_Collar_Blazer_img_00000077.jpg\", \"caption\": \"A person wearing solid short sleeve no dress v neckline faux conventional clothes\"}\\n',\n",
       " '{\"file_name\": \"Faux_Leather_Joggers_img_00000034.jpg\", \"caption\": \"A person wearing solid sleeveless no dress no neckline leather conventional clothes\"}\\n',\n",
       " '{\"file_name\": \"Knotted_Sheath_Dress_img_00000021.jpg\", \"caption\": \"A person wearing pleated sleeveless mini length no neckline cotton tight clothes\"}\\n',\n",
       " '{\"file_name\": \"Abstract_Stripe_Top_img_00000043.jpg\", \"caption\": \"A person wearing solid short sleeve no dress crew neckline leather tight clothes\"}\\n',\n",
       " '{\"file_name\": \"Faux_Fur_Jacket_img_00000047.jpg\", \"caption\": \"A person wearing floral short sleeve no dress crew neckline faux conventional clothes\"}\\n',\n",
       " '{\"file_name\": \"Gingham_Print_Skater_Dress_img_00000008.jpg\", \"caption\": \"A person wearing lattice sleeveless mini length v neckline cotton conventional clothes\"}\\n',\n",
       " '{\"file_name\": \"Pleated_Chiffon_Dress_img_00000003.jpg\", \"caption\": \"A person wearing pleated long sleeve mini length crew neckline chiffon conventional clothes\"}\\n',\n",
       " '{\"file_name\": \"Marled_Knit_Pencil_Skirt_img_00000022.jpg\", \"caption\": \"A person wearing lattice sleeveless no dress no neckline cotton tight clothes\"}\\n',\n",
       " '{\"file_name\": \"High-Waisted_Tweed_Shorts_img_00000024.jpg\", \"caption\": \"A person wearing lattice sleeveless no dress no neckline knit conventional clothes\"}\\n',\n",
       " '{\"file_name\": \"Belted_Plaid_Shirt_Dress_img_00000016.jpg\", \"caption\": \"A person wearing lattice long sleeve mini length v neckline cotton conventional clothes\"}\\n',\n",
       " '{\"file_name\": \"Slub_Knit_Buttoned-Back_Blouse_img_00000105.jpg\", \"caption\": \"A person wearing lattice short sleeve no dress v neckline cotton conventional clothes\"}\\n',\n",
       " '{\"file_name\": \"Faux_Leather_Cami_Dress_img_00000009.jpg\", \"caption\": \"A person wearing solid sleeveless mini length no neckline leather tight clothes\"}\\n',\n",
       " '{\"file_name\": \"Dainty_A-Line_Dress_img_00000068.jpg\", \"caption\": \"A person wearing pleated sleeveless mini length no neckline chiffon conventional clothes\"}\\n',\n",
       " '{\"file_name\": \"Hooded_Bomber_Jacket_img_00000002.jpg\", \"caption\": \"A person wearing solid short sleeve no dress crew neckline leather conventional clothes\"}\\n',\n",
       " '{\"file_name\": \"Strapless_Sweetheart_Dress_img_00000049.jpg\", \"caption\": \"A person wearing pleated sleeveless mini length no neckline chiffon conventional clothes\"}\\n',\n",
       " '{\"file_name\": \"Collared_Plaid_Blouse_img_00000026.jpg\", \"caption\": \"A person wearing lattice short sleeve no dress v neckline cotton conventional clothes\"}\\n',\n",
       " '{\"file_name\": \"Classic_Two-Button_Blazer_img_00000060.jpg\", \"caption\": \"A person wearing lattice short sleeve no dress v neckline cotton conventional clothes\"}\\n',\n",
       " '{\"file_name\": \"Plaid_Midi_Dress_img_00000050.jpg\", \"caption\": \"A person wearing lattice short sleeve no dress crew neckline cotton conventional clothes\"}\\n',\n",
       " '{\"file_name\": \"Chiffon_Halter_Maxi_Dress_img_00000007.jpg\", \"caption\": \"A person wearing pleated sleeveless maxi length no neckline chiffon tight clothes\"}\\n',\n",
       " '{\"file_name\": \"Grid_Print_Jumpsuit_img_00000024.jpg\", \"caption\": \"A person wearing lattice sleeveless no dress no neckline cotton conventional clothes\"}\\n',\n",
       " '{\"file_name\": \"Abstract_Geo_Print_Blouse_img_00000059.jpg\", \"caption\": \"A person wearing lattice short sleeve no dress crew neckline cotton conventional clothes\"}\\n',\n",
       " '{\"file_name\": \"Longline_Boyfriend_Blazer_img_00000084.jpg\", \"caption\": \"A person wearing lattice short sleeve no dress v neckline cotton conventional clothes\"}\\n',\n",
       " '{\"file_name\": \"Layered_A-Line_Dress_img_00000011.jpg\", \"caption\": \"A person wearing pleated sleeveless maxi length no neckline chiffon conventional clothes\"}\\n',\n",
       " '{\"file_name\": \"Faux_Leather_Fringe_Skirt_img_00000056.jpg\", \"caption\": \"A person wearing solid sleeveless no dress no neckline leather tight clothes\"}\\n',\n",
       " '{\"file_name\": \"Deep_V-Neck_Halter_Dress_img_00000043.jpg\", \"caption\": \"A person wearing pleated sleeveless maxi length v neckline chiffon conventional clothes\"}\\n',\n",
       " '{\"file_name\": \"Sequined_Mini_Skirt_img_00000018.jpg\", \"caption\": \"A person wearing graphic sleeveless no dress no neckline leather tight clothes\"}\\n',\n",
       " '{\"file_name\": \"Halter_Maxi_Dress_img_00000081.jpg\", \"caption\": \"A person wearing pleated sleeveless maxi length no neckline chiffon conventional clothes\"}\\n',\n",
       " '{\"file_name\": \"Faux_Leather_Cami_Dress_img_00000044.jpg\", \"caption\": \"A person wearing solid sleeveless mini length no neckline leather conventional clothes\"}\\n',\n",
       " '{\"file_name\": \"Meander_Wrap_Cardigan_img_00000012.jpg\", \"caption\": \"A person wearing graphic short sleeve no dress crew neckline faux conventional clothes\"}\\n',\n",
       " '{\"file_name\": \"Open-Front_Linen_Blazer_img_00000055.jpg\", \"caption\": \"A person wearing solid short sleeve no dress no neckline leather conventional clothes\"}\\n',\n",
       " '{\"file_name\": \"Rhinestone-Embellished_Maxi_Dress_img_00000053.jpg\", \"caption\": \"A person wearing pleated sleeveless mini length v neckline cotton conventional clothes\"}\\n',\n",
       " '{\"file_name\": \"Faux_Fur_Jacket_img_00000061.jpg\", \"caption\": \"A person wearing floral sleeveless no dress v neckline faux conventional clothes\"}\\n',\n",
       " '{\"file_name\": \"Faux_Leather_Flared_Skirt_img_00000059.jpg\", \"caption\": \"A person wearing embroidered sleeveless no dress no neckline leather conventional clothes\"}\\n',\n",
       " '{\"file_name\": \"Windowpane_Print_Blouse_img_00000073.jpg\", \"caption\": \"A person wearing lattice short sleeve no dress v neckline cotton conventional clothes\"}\\n',\n",
       " '{\"file_name\": \"Tonal-Patterned_Halter_Dress_img_00000022.jpg\", \"caption\": \"A person wearing lattice sleeveless mini length no neckline cotton tight clothes\"}\\n',\n",
       " '{\"file_name\": \"Two-Button_Blazer_img_00000035.jpg\", \"caption\": \"A person wearing lattice short sleeve no dress v neckline cotton conventional clothes\"}\\n',\n",
       " '{\"file_name\": \"Strapless_Coated_Dress_img_00000010.jpg\", \"caption\": \"A person wearing pleated sleeveless mini length no neckline chiffon conventional clothes\"}\\n',\n",
       " '{\"file_name\": \"Collarless_Draped-Front_Blazer_img_00000076.jpg\", \"caption\": \"A person wearing solid short sleeve no dress v neckline faux conventional clothes\"}\\n',\n",
       " '{\"file_name\": \"Woven_Sheath_Dress_img_00000058.jpg\", \"caption\": \"A person wearing pleated sleeveless mini length no neckline cotton tight clothes\"}\\n',\n",
       " '{\"file_name\": \"Faux_Leather_Skater_Dress_img_00000011.jpg\", \"caption\": \"A person wearing solid sleeveless mini length no neckline leather conventional clothes\"}\\n',\n",
       " '{\"file_name\": \"Quilted_Faux_Leather_Skirt_img_00000008.jpg\", \"caption\": \"A person wearing solid sleeveless no dress no neckline leather conventional clothes\"}\\n',\n",
       " '{\"file_name\": \"Tweed_Boyfriend_Blazer_img_00000073.jpg\", \"caption\": \"A person wearing lattice short sleeve no dress v neckline cotton conventional clothes\"}\\n',\n",
       " '{\"file_name\": \"Collarless_Faux_Fur_Jacket_img_00000062.jpg\", \"caption\": \"A person wearing solid short sleeve no dress crew neckline faux conventional clothes\"}\\n',\n",
       " '{\"file_name\": \"Diagonal_Plaid_Skirt_img_00000038.jpg\", \"caption\": \"A person wearing lattice sleeveless no dress no neckline cotton conventional clothes\"}\\n',\n",
       " '{\"file_name\": \"Longline_Tweed_Coat_img_00000029.jpg\", \"caption\": \"A person wearing lattice short sleeve no dress v neckline cotton conventional clothes\"}\\n',\n",
       " '{\"file_name\": \"Beaded_Laser-Cut_Blouse_img_00000096.jpg\", \"caption\": \"A person wearing solid long sleeve no dress crew neckline leather conventional clothes\"}\\n',\n",
       " '{\"file_name\": \"Cutout_Maxi_Cami_Dress_img_00000034.jpg\", \"caption\": \"A person wearing pleated sleeveless maxi length no neckline chiffon conventional clothes\"}\\n',\n",
       " '{\"file_name\": \"Plaid_Knit_Sweater_img_00000053.jpg\", \"caption\": \"A person wearing lattice short sleeve no dress crew neckline knit conventional clothes\"}\\n',\n",
       " '{\"file_name\": \"Glen_Plaid_Blazer_img_00000050.jpg\", \"caption\": \"A person wearing lattice short sleeve no dress v neckline cotton conventional clothes\"}\\n',\n",
       " '{\"file_name\": \"LEEF_PARIS_Lightning_Graphic_Logo_Tee_img_00000034.jpg\", \"caption\": \"A person wearing lattice long sleeve no dress crew neckline cotton conventional clothes\"}\\n',\n",
       " '{\"file_name\": \"Twist-Back_Colorblocked_Dress_img_00000028.jpg\", \"caption\": \"A person wearing pleated sleeveless mini length crew neckline cotton conventional clothes\"}\\n',\n",
       " '{\"file_name\": \"Lace-Trimmed_Halter_Dress_img_00000056.jpg\", \"caption\": \"A person wearing embroidered sleeveless mini length no neckline faux tight clothes\"}\\n',\n",
       " '{\"file_name\": \"Pintucked_Rose_Print_Blouse_img_00000027.jpg\", \"caption\": \"A person wearing solid long sleeve no dress square neckline cotton conventional clothes\"}\\n',\n",
       " '{\"file_name\": \"Twisted-Hem_Plaid_Blouse_img_00000084.jpg\", \"caption\": \"A person wearing lattice short sleeve no dress crew neckline cotton conventional clothes\"}\\n',\n",
       " '{\"file_name\": \"Garden_Party_Bow_Dress_img_00000026.jpg\", \"caption\": \"A person wearing solid long sleeve mini length square neckline cotton conventional clothes\"}\\n',\n",
       " '{\"file_name\": \"Smocked_Wide-Leg_Jumpsuit_img_00000040.jpg\", \"caption\": \"A person wearing pleated long sleeve no dress crew neckline cotton conventional clothes\"}\\n',\n",
       " '{\"file_name\": \"Faux_Leather_Skater_Skirt_img_00000030.jpg\", \"caption\": \"A person wearing solid sleeveless no dress no neckline leather conventional clothes\"}\\n',\n",
       " '{\"file_name\": \"Belted_Paisley_Print_Romper_img_00000022.jpg\", \"caption\": \"A person wearing floral short sleeve no dress square neckline cotton conventional clothes\"}\\n',\n",
       " '{\"file_name\": \"Drop-Crotch_Drawstring_Sweatshorts_img_00000015.jpg\", \"caption\": \"A person wearing lattice sleeveless no dress no neckline cotton conventional clothes\"}\\n',\n",
       " '{\"file_name\": \"Layered_Sleeveless_Dress_img_00000041.jpg\", \"caption\": \"A person wearing pleated sleeveless maxi length no neckline chiffon conventional clothes\"}\\n',\n",
       " '{\"file_name\": \"Layered_A-Line_Dress_img_00000064.jpg\", \"caption\": \"A person wearing pleated sleeveless maxi length no neckline chiffon conventional clothes\"}\\n',\n",
       " '{\"file_name\": \"Collarless_Longline_Side-Slit_Jacket_img_00000016.jpg\", \"caption\": \"A person wearing solid short sleeve no dress v neckline faux conventional clothes\"}\\n',\n",
       " '{\"file_name\": \"Faux_Leather_Combo_Jumpsuit_img_00000025.jpg\", \"caption\": \"A person wearing solid sleeveless no dress crew neckline leather tight clothes\"}\\n',\n",
       " '{\"file_name\": \"Strapless_Sweetheart_Dress_img_00000030.jpg\", \"caption\": \"A person wearing pleated sleeveless maxi length no neckline chiffon conventional clothes\"}\\n',\n",
       " '{\"file_name\": \"Knife-Pleated_Floral_Skirt_img_00000011.jpg\", \"caption\": \"A person wearing pleated sleeveless no dress no neckline chiffon conventional clothes\"}\\n',\n",
       " '{\"file_name\": \"Pretty_in_Grunge_Tee_img_00000047.jpg\", \"caption\": \"A person wearing lattice short sleeve no dress crew neckline cotton conventional clothes\"}\\n',\n",
       " '{\"file_name\": \"Belted_Plaid_Dress_img_00000008.jpg\", \"caption\": \"A person wearing lattice sleeveless mini length crew neckline cotton conventional clothes\"}\\n',\n",
       " '{\"file_name\": \"Strapless_Sweetheart_Dress_img_00000073.jpg\", \"caption\": \"A person wearing pleated sleeveless mini length no neckline cotton conventional clothes\"}\\n',\n",
       " '{\"file_name\": \"Plaid_Woven_Coat_img_00000013.jpg\", \"caption\": \"A person wearing lattice short sleeve no dress v neckline cotton conventional clothes\"}\\n',\n",
       " '{\"file_name\": \"Boxy_Grid_Print_Top_img_00000014.jpg\", \"caption\": \"A person wearing lattice long sleeve no dress crew neckline chiffon conventional clothes\"}\\n',\n",
       " '{\"file_name\": \"Faux_Leather_A-Line_Skirt_img_00000047.jpg\", \"caption\": \"A person wearing solid sleeveless no dress no neckline leather conventional clothes\"}\\n',\n",
       " '{\"file_name\": \"Tartan_Plaid_Button-Down_img_00000001.jpg\", \"caption\": \"A person wearing lattice long sleeve no dress v neckline cotton conventional clothes\"}\\n',\n",
       " '{\"file_name\": \"Faux_Shearling_Aviator_Jacket_img_00000045.jpg\", \"caption\": \"A person wearing solid short sleeve no dress crew neckline leather conventional clothes\"}\\n',\n",
       " '{\"file_name\": \"Strapless_Mini_Dress_img_00000092.jpg\", \"caption\": \"A person wearing solid sleeveless mini length no neckline leather tight clothes\"}\\n',\n",
       " '{\"file_name\": \"Faux_Shearling_Bomber_Jacket_img_00000030.jpg\", \"caption\": \"A person wearing solid short sleeve no dress crew neckline faux conventional clothes\"}\\n',\n",
       " '{\"file_name\": \"Quilted_Faux_Leather_Jacket_img_00000020.jpg\", \"caption\": \"A person wearing solid short sleeve no dress v neckline leather conventional clothes\"}\\n',\n",
       " '{\"file_name\": \"Faux_Leather_Shawl_Collar_Blazer_img_00000109.jpg\", \"caption\": \"A person wearing solid short sleeve no dress v neckline leather conventional clothes\"}\\n',\n",
       " '{\"file_name\": \"Faux_Leather-Sleeve_Marled_Jacket_img_00000036.jpg\", \"caption\": \"A person wearing solid short sleeve no dress v neckline leather conventional clothes\"}\\n',\n",
       " '{\"file_name\": \"Shirred_Gauze_Midi_Dress_img_00000068.jpg\", \"caption\": \"A person wearing pleated sleeveless mini length no neckline cotton conventional clothes\"}\\n',\n",
       " '{\"file_name\": \"Woven_Sheath_Dress_img_00000034.jpg\", \"caption\": \"A person wearing pleated sleeveless mini length v neckline chiffon tight clothes\"}\\n',\n",
       " '{\"file_name\": \"Pleated_A-Line_Dress_img_00000065.jpg\", \"caption\": \"A person wearing pleated sleeveless maxi length no neckline chiffon conventional clothes\"}\\n',\n",
       " '{\"file_name\": \"Abstract-Striped_Ladder-Back_Dress_img_00000031.jpg\", \"caption\": \"A person wearing lattice sleeveless mini length crew neckline cotton conventional clothes\"}\\n',\n",
       " '{\"file_name\": \"High_Slit_Midi_Skirt_img_00000016.jpg\", \"caption\": \"A person wearing pleated sleeveless maxi length no neckline cotton conventional clothes\"}\\n',\n",
       " '{\"file_name\": \"Eyelash_Lace_Skirt_img_00000045.jpg\", \"caption\": \"A person wearing solid sleeveless no dress no neckline leather tight clothes\"}\\n',\n",
       " '{\"file_name\": \"High_Slit_Midi_Skirt_img_00000053.jpg\", \"caption\": \"A person wearing pleated sleeveless no dress no neckline cotton conventional clothes\"}\\n',\n",
       " '{\"file_name\": \"Shirred_Chiffon_Dress_img_00000009.jpg\", \"caption\": \"A person wearing pleated sleeveless maxi length no neckline chiffon conventional clothes\"}\\n',\n",
       " '{\"file_name\": \"Faux_Suede_Moto_Jacket_img_00000011.jpg\", \"caption\": \"A person wearing solid short sleeve no dress v neckline leather conventional clothes\"}\\n',\n",
       " '{\"file_name\": \"Pleated_Skater_Skirt_img_00000016.jpg\", \"caption\": \"A person wearing pleated sleeveless no dress no neckline cotton conventional clothes\"}\\n',\n",
       " '{\"file_name\": \"Slouchy_Marled_Sweater_img_00000046.jpg\", \"caption\": \"A person wearing lattice short sleeve no dress v neckline knit conventional clothes\"}\\n',\n",
       " '{\"file_name\": \"Two-Button_Blazer_img_00000123.jpg\", \"caption\": \"A person wearing lattice short sleeve no dress v neckline cotton conventional clothes\"}\\n',\n",
       " '{\"file_name\": \"Sequined_Chiffon_Maxi_Dress_img_00000063.jpg\", \"caption\": \"A person wearing pleated short sleeve maxi length crew neckline chiffon conventional clothes\"}\\n',\n",
       " '{\"file_name\": \"Faux_Leather_Sheath_Dress_img_00000007.jpg\", \"caption\": \"A person wearing solid sleeveless mini length crew neckline leather conventional clothes\"}\\n',\n",
       " '{\"file_name\": \"Faux_Leather_Bomber_Jacket_img_00000021.jpg\", \"caption\": \"A person wearing solid short sleeve no dress crew neckline leather conventional clothes\"}\\n',\n",
       " '{\"file_name\": \"Knotted_Maxi_Dress_img_00000083.jpg\", \"caption\": \"A person wearing pleated sleeveless maxi length v neckline cotton tight clothes\"}\\n',\n",
       " '{\"file_name\": \"Textured_Woven_Shorts_img_00000003.jpg\", \"caption\": \"A person wearing solid sleeveless no dress no neckline leather conventional clothes\"}\\n',\n",
       " '{\"file_name\": \"V-Neck_Box_Pleat_Dress_img_00000070.jpg\", \"caption\": \"A person wearing pleated sleeveless maxi length v neckline chiffon conventional clothes\"}\\n',\n",
       " '{\"file_name\": \"Grid_Print_Zippered_Skirt_img_00000048.jpg\", \"caption\": \"A person wearing lattice sleeveless no dress no neckline cotton tight clothes\"}\\n',\n",
       " '{\"file_name\": \"Colorblock_Performance_Leggings_img_00000043.jpg\", \"caption\": \"A person wearing lattice sleeveless no dress no neckline cotton tight clothes\"}\\n',\n",
       " '{\"file_name\": \"Faux_Leather_Pencil_Skirt_img_00000057.jpg\", \"caption\": \"A person wearing solid sleeveless no dress no neckline leather tight clothes\"}\\n',\n",
       " '{\"file_name\": \"Suede_Fringe_Jacket_img_00000049.jpg\", \"caption\": \"A person wearing solid short sleeve no dress v neckline leather conventional clothes\"}\\n',\n",
       " '{\"file_name\": \"Abstract_Grid_Print_Top_img_00000005.jpg\", \"caption\": \"A person wearing lattice sleeveless no dress v neckline cotton conventional clothes\"}\\n',\n",
       " '{\"file_name\": \"Belted_Wrap_Coat_img_00000033.jpg\", \"caption\": \"A person wearing solid short sleeve no dress v neckline faux conventional clothes\"}\\n',\n",
       " '{\"file_name\": \"Fuzzy_Polka_Dot_Cardigan_img_00000014.jpg\", \"caption\": \"A person wearing graphic short sleeve no dress no neckline faux loose clothes\"}\\n',\n",
       " '{\"file_name\": \"Sequined_Paisley_Shift_Dress_img_00000044.jpg\", \"caption\": \"A person wearing embroidered sleeveless mini length no neckline faux conventional clothes\"}\\n',\n",
       " '{\"file_name\": \"Square_Neck_Skater_Dress_img_00000017.jpg\", \"caption\": \"A person wearing pleated sleeveless mini length no neckline cotton conventional clothes\"}\\n',\n",
       " '{\"file_name\": \"Lace_Print_Shift_Dress_img_00000015.jpg\", \"caption\": \"A person wearing lattice sleeveless mini length crew neckline cotton conventional clothes\"}\\n',\n",
       " '{\"file_name\": \"Windowpane_Print_Blouse_img_00000100.jpg\", \"caption\": \"A person wearing lattice short sleeve no dress v neckline cotton conventional clothes\"}\\n',\n",
       " '{\"file_name\": \"Tartan_Plaid_Button-Down_img_00000026.jpg\", \"caption\": \"A person wearing lattice short sleeve no dress v neckline cotton conventional clothes\"}\\n',\n",
       " '{\"file_name\": \"Fuzzy_Knit_Sweater_img_00000022.jpg\", \"caption\": \"A person wearing solid short sleeve no dress v neckline faux conventional clothes\"}\\n',\n",
       " '{\"file_name\": \"Zip-Front_Leggings_img_00000064.jpg\", \"caption\": \"A person wearing solid sleeveless no dress no neckline leather tight clothes\"}\\n',\n",
       " '{\"file_name\": \"Tartan_Plaid_Woven_Tee_img_00000009.jpg\", \"caption\": \"A person wearing lattice sleeveless no dress v neckline cotton conventional clothes\"}\\n',\n",
       " '{\"file_name\": \"Layered_A-Line_Dress_img_00000002.jpg\", \"caption\": \"A person wearing pleated sleeveless maxi length no neckline chiffon conventional clothes\"}\\n',\n",
       " '{\"file_name\": \"Hooded_Maxi_Dress_img_00000023.jpg\", \"caption\": \"A person wearing pleated short sleeve maxi length crew neckline cotton conventional clothes\"}\\n',\n",
       " '{\"file_name\": \"Bejeweled_Waist_Maxi_Dress_img_00000001.jpg\", \"caption\": \"A person wearing pleated sleeveless maxi length v neckline chiffon conventional clothes\"}\\n',\n",
       " '{\"file_name\": \"Pleated_Overall_Skirt_img_00000044.jpg\", \"caption\": \"A person wearing pleated sleeveless no dress no neckline cotton conventional clothes\"}\\n',\n",
       " '{\"file_name\": \"Fuzzy_Eyelash_Knit_Sweater_img_00000013.jpg\", \"caption\": \"A person wearing solid short sleeve no dress crew neckline faux conventional clothes\"}\\n',\n",
       " '{\"file_name\": \"Corduroy_Hooded_Parka_img_00000069.jpg\", \"caption\": \"A person wearing lattice short sleeve no dress crew neckline cotton conventional clothes\"}\\n',\n",
       " '{\"file_name\": \"Zip_Collar_Bomber_img_00000039.jpg\", \"caption\": \"A person wearing solid short sleeve no dress crew neckline leather conventional clothes\"}\\n',\n",
       " '{\"file_name\": \"Boxy_Utility_Jacket_img_00000066.jpg\", \"caption\": \"A person wearing pleated short sleeve no dress v neckline denim conventional clothes\"}\\n',\n",
       " '{\"file_name\": \"Woven_Chelsea_Collar_Blouse_img_00000032.jpg\", \"caption\": \"A person wearing lattice long sleeve no dress v neckline cotton conventional clothes\"}\\n',\n",
       " '{\"file_name\": \"Pleated-Waist_Shorts_img_00000063.jpg\", \"caption\": \"A person wearing solid sleeveless no dress no neckline leather conventional clothes\"}\\n',\n",
       " '{\"file_name\": \"Prairie-Embroidered_Peplum_Blouse_img_00000087.jpg\", \"caption\": \"A person wearing embroidered long sleeve no dress square neckline cotton conventional clothes\"}\\n',\n",
       " '{\"file_name\": \"Striped_Faux_Leather_Shorts_img_00000046.jpg\", \"caption\": \"A person wearing solid sleeveless no dress no neckline leather conventional clothes\"}\\n',\n",
       " '{\"file_name\": \"Tribal_Print_Strapless_Jumpsuit_img_00000034.jpg\", \"caption\": \"A person wearing lattice sleeveless no dress no neckline cotton conventional clothes\"}\\n',\n",
       " '{\"file_name\": \"Belted_Plaid_Shirt_Dress_img_00000007.jpg\", \"caption\": \"A person wearing lattice long sleeve mini length v neckline cotton conventional clothes\"}\\n',\n",
       " '{\"file_name\": \"Abstract_Grid_Peplum_Top_img_00000011.jpg\", \"caption\": \"A person wearing lattice long sleeve no dress crew neckline cotton conventional clothes\"}\\n',\n",
       " '{\"file_name\": \"Cacti_Print_Tee_img_00000037.jpg\", \"caption\": \"A person wearing lattice long sleeve no dress crew neckline cotton conventional clothes\"}\\n',\n",
       " '{\"file_name\": \"Chiffon_Surplice_Dress_img_00000051.jpg\", \"caption\": \"A person wearing pleated sleeveless mini length v neckline chiffon tight clothes\"}\\n',\n",
       " '{\"file_name\": \"Faux_Leather_Combo_Dress_img_00000062.jpg\", \"caption\": \"A person wearing embroidered short sleeve mini length crew neckline leather conventional clothes\"}\\n',\n",
       " '{\"file_name\": \"Faux_Leather_Combo_Jumpsuit_img_00000028.jpg\", \"caption\": \"A person wearing solid sleeveless mini length no neckline leather conventional clothes\"}\\n',\n",
       " '{\"file_name\": \"Faux_Leather-Paneled_Denim_Jacket_img_00000037.jpg\", \"caption\": \"A person wearing solid short sleeve no dress v neckline leather conventional clothes\"}\\n',\n",
       " '{\"file_name\": \"Scoop_Back_Skater_Dress_img_00000003.jpg\", \"caption\": \"A person wearing pleated long sleeve mini length crew neckline cotton conventional clothes\"}\\n',\n",
       " '{\"file_name\": \"Cropped_Faux_Fur_Jacket_img_00000092.jpg\", \"caption\": \"A person wearing solid short sleeve no dress v neckline faux conventional clothes\"}\\n',\n",
       " '{\"file_name\": \"Collarless_Two-Tone_Knit_Cardigan_img_00000038.jpg\", \"caption\": \"A person wearing solid sleeveless no dress crew neckline faux conventional clothes\"}\\n',\n",
       " '{\"file_name\": \"Faux_Leather_Panel_Hoodie_img_00000041.jpg\", \"caption\": \"A person wearing solid short sleeve no dress v neckline leather tight clothes\"}\\n',\n",
       " '{\"file_name\": \"Pleated_A-Line_Skirt_img_00000029.jpg\", \"caption\": \"A person wearing pleated sleeveless no dress no neckline cotton conventional clothes\"}\\n',\n",
       " '{\"file_name\": \"Faux_Leather_Sheath_Dress_img_00000054.jpg\", \"caption\": \"A person wearing floral sleeveless mini length crew neckline leather conventional clothes\"}\\n',\n",
       " '{\"file_name\": \"Faux_Leather-Paneled_Jeans_img_00000042.jpg\", \"caption\": \"A person wearing solid sleeveless no dress no neckline leather tight clothes\"}\\n',\n",
       " '{\"file_name\": \"Geo_Pattern_Fringe_Cardigan_img_00000021.jpg\", \"caption\": \"A person wearing lattice short sleeve no dress no neckline cotton loose clothes\"}\\n',\n",
       " '{\"file_name\": \"Faux_Fur_Jacket_img_00000057.jpg\", \"caption\": \"A person wearing solid short sleeve no dress v neckline faux conventional clothes\"}\\n',\n",
       " '{\"file_name\": \"Textured_Knit_Cardigan_img_00000005.jpg\", \"caption\": \"A person wearing lattice short sleeve no dress crew neckline knit conventional clothes\"}\\n',\n",
       " '{\"file_name\": \"Draped_Hem_V-Neck_Dress_img_00000001.jpg\", \"caption\": \"A person wearing pleated sleeveless mini length no neckline chiffon conventional clothes\"}\\n',\n",
       " '{\"file_name\": \"Watercolor_Plaid_Chiffon_Blouse_img_00000001.jpg\", \"caption\": \"A person wearing lattice short sleeve no dress v neckline cotton conventional clothes\"}\\n',\n",
       " '{\"file_name\": \"Knife-Pleated_Denim_Shorts_img_00000007.jpg\", \"caption\": \"A person wearing pleated sleeveless no dress no neckline cotton conventional clothes\"}\\n',\n",
       " '{\"file_name\": \"Faux_Leather_Skater_Dress_img_00000027.jpg\", \"caption\": \"A person wearing solid sleeveless mini length crew neckline leather conventional clothes\"}\\n',\n",
       " '{\"file_name\": \"Longline_Crepe_Jacket_img_00000032.jpg\", \"caption\": \"A person wearing solid short sleeve no dress v neckline leather conventional clothes\"}\\n',\n",
       " '{\"file_name\": \"High-Slit_Longline_Flannel_img_00000014.jpg\", \"caption\": \"A person wearing lattice sleeveless no dress v neckline cotton conventional clothes\"}\\n',\n",
       " '{\"file_name\": \"Faux_Fur_Jacket_img_00000036.jpg\", \"caption\": \"A person wearing solid short sleeve no dress crew neckline faux conventional clothes\"}\\n',\n",
       " '{\"file_name\": \"Pleated_Square_Neck_Dress_img_00000002.jpg\", \"caption\": \"A person wearing pleated sleeveless maxi length no neckline cotton conventional clothes\"}\\n',\n",
       " '{\"file_name\": \"Tonal_Check-Patterned_Blouse_img_00000057.jpg\", \"caption\": \"A person wearing lattice short sleeve no dress crew neckline cotton conventional clothes\"}\\n',\n",
       " '{\"file_name\": \"Front-Slit_Pleated_Shift_Dress_img_00000058.jpg\", \"caption\": \"A person wearing pleated sleeveless mini length v neckline cotton conventional clothes\"}\\n',\n",
       " '{\"file_name\": \"Strapless_Coated_Dress_img_00000029.jpg\", \"caption\": \"A person wearing solid sleeveless mini length no neckline leather tight clothes\"}\\n',\n",
       " '{\"file_name\": \"Faux_Fur_Hood_Parka_img_00000051.jpg\", \"caption\": \"A person wearing solid short sleeve no dress crew neckline faux conventional clothes\"}\\n',\n",
       " '{\"file_name\": \"Scuba_Knit_Moto_Jacket_img_00000024.jpg\", \"caption\": \"A person wearing solid short sleeve no dress v neckline leather conventional clothes\"}\\n',\n",
       " '{\"file_name\": \"Faux_Leather_Convertible_Jacket_img_00000018.jpg\", \"caption\": \"A person wearing solid short sleeve no dress v neckline leather conventional clothes\"}\\n',\n",
       " '{\"file_name\": \"Pintucked_Shirt_Dress_img_00000047.jpg\", \"caption\": \"A person wearing lattice short sleeve mini length v neckline cotton conventional clothes\"}\\n',\n",
       " '{\"file_name\": \"Pleated_Culottes_img_00000066.jpg\", \"caption\": \"A person wearing pleated sleeveless no dress no neckline cotton conventional clothes\"}\\n',\n",
       " '{\"file_name\": \"Faux_Leather_Shawl_Collar_Blazer_img_00000100.jpg\", \"caption\": \"A person wearing solid short sleeve no dress v neckline faux conventional clothes\"}\\n',\n",
       " '{\"file_name\": \"Beaded_Laser-Cut_Blouse_img_00000020.jpg\", \"caption\": \"A person wearing pleated short sleeve no dress v neckline chiffon conventional clothes\"}\\n',\n",
       " '{\"file_name\": \"Shirred_Sateen_Maxi_Skirt_img_00000004.jpg\", \"caption\": \"A person wearing pleated sleeveless no dress no neckline cotton conventional clothes\"}\\n',\n",
       " '{\"file_name\": \"Crinkled_Satin_Halter_Dress_img_00000013.jpg\", \"caption\": \"A person wearing pleated sleeveless mini length no neckline cotton conventional clothes\"}\\n',\n",
       " '{\"file_name\": \"Abstract_Geo_Print_Jumpsuit_img_00000003.jpg\", \"caption\": \"A person wearing lattice long sleeve mini length crew neckline cotton tight clothes\"}\\n',\n",
       " '{\"file_name\": \"Belted_Plaid_Dress_img_00000058.jpg\", \"caption\": \"A person wearing lattice short sleeve mini length no neckline cotton conventional clothes\"}\\n',\n",
       " '{\"file_name\": \"Eclectic_M-Slit_Maxi_Dress_img_00000030.jpg\", \"caption\": \"A person wearing pleated sleeveless maxi length no neckline chiffon conventional clothes\"}\\n',\n",
       " '{\"file_name\": \"Tartan_Plaid_PJ_Shorts_img_00000047.jpg\", \"caption\": \"A person wearing lattice sleeveless no dress no neckline cotton conventional clothes\"}\\n',\n",
       " '{\"file_name\": \"Beaded_Laser-Cut_Blouse_img_00000050.jpg\", \"caption\": \"A person wearing solid sleeveless mini length no neckline leather tight clothes\"}\\n',\n",
       " '{\"file_name\": \"Plaid_Fringe_Poncho_img_00000032.jpg\", \"caption\": \"A person wearing lattice short sleeve no dress no neckline knit loose clothes\"}\\n',\n",
       " '{\"file_name\": \"Faux_Leather_Bodycon_Dress_img_00000050.jpg\", \"caption\": \"A person wearing graphic sleeveless mini length crew neckline leather tight clothes\"}\\n',\n",
       " '{\"file_name\": \"Contrast_Trim_Henley_img_00000028.jpg\", \"caption\": \"A person wearing solid short sleeve no dress v neckline leather conventional clothes\"}\\n',\n",
       " '{\"file_name\": \"Collarless_Draped-Front_Blazer_img_00000094.jpg\", \"caption\": \"A person wearing solid short sleeve no dress crew neckline faux conventional clothes\"}\\n',\n",
       " '{\"file_name\": \"Raw-Cut_Fringe_Tee_img_00000030.jpg\", \"caption\": \"A person wearing solid short sleeve no dress v neckline leather conventional clothes\"}\\n',\n",
       " '{\"file_name\": \"Tartan_Plaid_PJ_Shorts_img_00000067.jpg\", \"caption\": \"A person wearing lattice sleeveless no dress no neckline cotton conventional clothes\"}\\n',\n",
       " '{\"file_name\": \"Strapless_Pleated_Chiffon_Dress_img_00000043.jpg\", \"caption\": \"A person wearing pleated sleeveless maxi length no neckline chiffon conventional clothes\"}\\n',\n",
       " '{\"file_name\": \"Faux_Leather_Shorts_img_00000026.jpg\", \"caption\": \"A person wearing solid sleeveless no dress no neckline leather tight clothes\"}\\n',\n",
       " '{\"file_name\": \"Floral_Windowpane_Print_Dress_img_00000014.jpg\", \"caption\": \"A person wearing lattice short sleeve mini length v neckline cotton conventional clothes\"}\\n',\n",
       " '{\"file_name\": \"Grid_Print_Jumpsuit_img_00000007.jpg\", \"caption\": \"A person wearing lattice sleeveless no dress no neckline cotton conventional clothes\"}\\n',\n",
       " '{\"file_name\": \"Collared_Drawstring_Jacket_img_00000009.jpg\", \"caption\": \"A person wearing solid short sleeve no dress v neckline faux conventional clothes\"}\\n',\n",
       " '{\"file_name\": \"Plaid_Woven_Coat_img_00000023.jpg\", \"caption\": \"A person wearing lattice short sleeve no dress crew neckline cotton conventional clothes\"}\\n',\n",
       " '{\"file_name\": \"Woven_Shift_Dress_img_00000048.jpg\", \"caption\": \"A person wearing solid short sleeve mini length v neckline leather loose clothes\"}\\n',\n",
       " '{\"file_name\": \"Pleated_Floral_Plaid_Skirt_img_00000006.jpg\", \"caption\": \"A person wearing pleated sleeveless no dress no neckline chiffon conventional clothes\"}\\n',\n",
       " '{\"file_name\": \"Abstract_Floral_Tie-Waist_Dress_img_00000030.jpg\", \"caption\": \"A person wearing solid short sleeve maxi length v neckline faux conventional clothes\"}\\n',\n",
       " '{\"file_name\": \"Beaded_Sheer_Dress_img_00000077.jpg\", \"caption\": \"A person wearing pleated sleeveless maxi length no neckline chiffon tight clothes\"}\\n',\n",
       " '{\"file_name\": \"Quilted_Open-Front_Blazer_img_00000047.jpg\", \"caption\": \"A person wearing solid short sleeve no dress v neckline leather conventional clothes\"}\\n',\n",
       " '{\"file_name\": \"Tartan_Plaid_Maxi_Dress_img_00000004.jpg\", \"caption\": \"A person wearing lattice short sleeve maxi length crew neckline cotton conventional clothes\"}\\n',\n",
       " '{\"file_name\": \"Strapless_Maxi_Dress_img_00000057.jpg\", \"caption\": \"A person wearing pleated sleeveless maxi length no neckline cotton conventional clothes\"}\\n',\n",
       " '{\"file_name\": \"Colorblocked_Scoop_Neck_Sweater_img_00000034.jpg\", \"caption\": \"A person wearing lattice short sleeve no dress crew neckline knit conventional clothes\"}\\n',\n",
       " '{\"file_name\": \"Round_Collar_Chiffon_Blouse_img_00000024.jpg\", \"caption\": \"A person wearing pleated short sleeve no dress crew neckline chiffon conventional clothes\"}\\n',\n",
       " '{\"file_name\": \"Cutout-Back_Sheath_Dress_img_00000052.jpg\", \"caption\": \"A person wearing pleated sleeveless maxi length no neckline chiffon conventional clothes\"}\\n',\n",
       " '{\"file_name\": \"Open-Crochet_Maxi_Dress_img_00000049.jpg\", \"caption\": \"A person wearing pleated sleeveless maxi length no neckline cotton conventional clothes\"}\\n',\n",
       " '{\"file_name\": \"Hooded_Maxi_Dress_img_00000007.jpg\", \"caption\": \"A person wearing pleated short sleeve maxi length crew neckline cotton conventional clothes\"}\\n',\n",
       " '{\"file_name\": \"Zippered_Faux_Leather_Mini_Skirt_img_00000025.jpg\", \"caption\": \"A person wearing solid sleeveless no dress no neckline leather tight clothes\"}\\n',\n",
       " '{\"file_name\": \"Hidden_Zippered_Placket_Blouse_img_00000012.jpg\", \"caption\": \"A person wearing lattice short sleeve no dress crew neckline cotton conventional clothes\"}\\n',\n",
       " '{\"file_name\": \"Belted_Chambray_Shorts_img_00000029.jpg\", \"caption\": \"A person wearing pleated sleeveless no dress no neckline cotton loose clothes\"}\\n',\n",
       " '{\"file_name\": \"Pleated_A-Line_Dress_img_00000054.jpg\", \"caption\": \"A person wearing pleated sleeveless maxi length no neckline chiffon conventional clothes\"}\\n',\n",
       " '{\"file_name\": \"Belted_Floral_Print_Cami_Dress_img_00000031.jpg\", \"caption\": \"A person wearing floral sleeveless mini length square neckline cotton conventional clothes\"}\\n',\n",
       " '{\"file_name\": \"Zippered_Faux_Leather_Mini_Skirt_img_00000008.jpg\", \"caption\": \"A person wearing solid sleeveless no dress no neckline leather tight clothes\"}\\n',\n",
       " '{\"file_name\": \"Faux_Leather-Paneled_Denim_Jacket_img_00000038.jpg\", \"caption\": \"A person wearing floral short sleeve no dress v neckline leather conventional clothes\"}\\n',\n",
       " '{\"file_name\": \"Collarless_Faux_Leather-Sleeve_Blazer_img_00000083.jpg\", \"caption\": \"A person wearing solid short sleeve no dress crew neckline leather conventional clothes\"}\\n',\n",
       " '{\"file_name\": \"Sparkling_Ruched_Dress_img_00000013.jpg\", \"caption\": \"A person wearing solid sleeveless maxi length v neckline leather tight clothes\"}\\n',\n",
       " '{\"file_name\": \"Floral_Lace_Layered_Dress_img_00000043.jpg\", \"caption\": \"A person wearing pleated sleeveless mini length crew neckline chiffon conventional clothes\"}\\n',\n",
       " '{\"file_name\": \"Strapless_Pleated_Chiffon_Dress_img_00000089.jpg\", \"caption\": \"A person wearing pleated sleeveless maxi length no neckline chiffon conventional clothes\"}\\n',\n",
       " '{\"file_name\": \"Tie-Back_Cross_Print_Dress_img_00000029.jpg\", \"caption\": \"A person wearing pleated sleeveless mini length v neckline chiffon tight clothes\"}\\n',\n",
       " '{\"file_name\": \"Strappy-Back_Pleated_Dress_img_00000068.jpg\", \"caption\": \"A person wearing pleated sleeveless maxi length no neckline chiffon conventional clothes\"}\\n',\n",
       " '{\"file_name\": \"Windowpane_Print_Blouse_img_00000024.jpg\", \"caption\": \"A person wearing lattice short sleeve no dress crew neckline cotton conventional clothes\"}\\n',\n",
       " '{\"file_name\": \"Always_Be_Chic_Top_img_00000013.jpg\", \"caption\": \"A person wearing solid short sleeve no dress no neckline leather conventional clothes\"}\\n',\n",
       " '{\"file_name\": \"Ditsy_Floral_Print_Blouse_img_00000059.jpg\", \"caption\": \"A person wearing floral long sleeve no dress square neckline cotton conventional clothes\"}\\n',\n",
       " '{\"file_name\": \"Faux_Shearling_Bomber_Jacket_img_00000011.jpg\", \"caption\": \"A person wearing solid short sleeve no dress crew neckline leather conventional clothes\"}\\n',\n",
       " '{\"file_name\": \"Bird_Print_Pocket_Tee_img_00000013.jpg\", \"caption\": \"A person wearing pleated short sleeve no dress crew neckline chiffon conventional clothes\"}\\n',\n",
       " '{\"file_name\": \"Quilted_Moto_Jacket_img_00000043.jpg\", \"caption\": \"A person wearing solid short sleeve no dress v neckline leather conventional clothes\"}\\n',\n",
       " '{\"file_name\": \"Heathered_Knit_Coat_img_00000029.jpg\", \"caption\": \"A person wearing solid short sleeve no dress crew neckline leather conventional clothes\"}\\n',\n",
       " '{\"file_name\": \"Faux_Suede_Fringe_Jacket_img_00000040.jpg\", \"caption\": \"A person wearing solid sleeveless no dress no neckline leather tight clothes\"}\\n',\n",
       " '{\"file_name\": \"Lace_Trimmed_Blouse_img_00000023.jpg\", \"caption\": \"A person wearing pleated short sleeve no dress crew neckline chiffon conventional clothes\"}\\n',\n",
       " '{\"file_name\": \"Embroidered_Faux_Leather_Shorts_img_00000014.jpg\", \"caption\": \"A person wearing solid sleeveless no dress no neckline leather conventional clothes\"}\\n',\n",
       " '{\"file_name\": \"Heathered_Babydoll_Dress_img_00000006.jpg\", \"caption\": \"A person wearing lattice long sleeve mini length crew neckline cotton conventional clothes\"}\\n',\n",
       " '{\"file_name\": \"Faux_Leather_Jersey_img_00000028.jpg\", \"caption\": \"A person wearing solid short sleeve no dress crew neckline leather conventional clothes\"}\\n',\n",
       " '{\"file_name\": \"Boxy_Plaid_Flannel_Top_img_00000023.jpg\", \"caption\": \"A person wearing lattice short sleeve no dress v neckline cotton conventional clothes\"}\\n',\n",
       " '{\"file_name\": \"Abstract_Geo_Drawstring_Shorts_img_00000008.jpg\", \"caption\": \"A person wearing graphic sleeveless no dress no neckline leather conventional clothes\"}\\n',\n",
       " '{\"file_name\": \"Collarless_Faux_Fur_Jacket_img_00000072.jpg\", \"caption\": \"A person wearing solid short sleeve no dress crew neckline faux conventional clothes\"}\\n',\n",
       " '{\"file_name\": \"Pleated_Floral_Sheath_Dress_img_00000024.jpg\", \"caption\": \"A person wearing pleated sleeveless mini length no neckline cotton tight clothes\"}\\n',\n",
       " '{\"file_name\": \"Strapless_Sweetheart_Dress_img_00000078.jpg\", \"caption\": \"A person wearing pleated sleeveless maxi length no neckline chiffon conventional clothes\"}\\n',\n",
       " '{\"file_name\": \"EPTM._Longline_Mesh_Tee_img_00000012.jpg\", \"caption\": \"A person wearing solid short sleeve no dress v neckline leather conventional clothes\"}\\n',\n",
       " '{\"file_name\": \"Twisted-Hem_Plaid_Blouse_img_00000098.jpg\", \"caption\": \"A person wearing lattice long sleeve no dress v neckline cotton conventional clothes\"}\\n',\n",
       " '{\"file_name\": \"Faux_Suede_Moto_Jacket_img_00000007.jpg\", \"caption\": \"A person wearing solid short sleeve no dress v neckline leather conventional clothes\"}\\n',\n",
       " '{\"file_name\": \"Beaded_Collar_Empire-Waist_Dress_img_00000034.jpg\", \"caption\": \"A person wearing graphic long sleeve mini length square neckline chiffon tight clothes\"}\\n',\n",
       " '{\"file_name\": \"Cropped_Faux_Fur_Jacket_img_00000047.jpg\", \"caption\": \"A person wearing solid short sleeve no dress crew neckline faux conventional clothes\"}\\n',\n",
       " '{\"file_name\": \"Faux_Leather_Moto_Jacket_img_00000006.jpg\", \"caption\": \"A person wearing solid short sleeve no dress v neckline leather conventional clothes\"}\\n',\n",
       " '{\"file_name\": \"Faux_Leather_Combo_Dress_img_00000047.jpg\", \"caption\": \"A person wearing solid sleeveless mini length crew neckline leather conventional clothes\"}\\n',\n",
       " '{\"file_name\": \"Embroidered_Peasant_Tank_img_00000007.jpg\", \"caption\": \"A person wearing pleated short sleeve no dress crew neckline chiffon loose clothes\"}\\n',\n",
       " '{\"file_name\": \"Collarless_Faux_Leather-Sleeve_Blazer_img_00000008.jpg\", \"caption\": \"A person wearing solid short sleeve no dress crew neckline leather conventional clothes\"}\\n',\n",
       " '{\"file_name\": \"Abstract_Print_Buttoned_Romper_img_00000015.jpg\", \"caption\": \"A person wearing floral long sleeve no dress square neckline cotton conventional clothes\"}\\n',\n",
       " '{\"file_name\": \"Box-Pleated_Top_img_00000019.jpg\", \"caption\": \"A person wearing solid sleeveless no dress square neckline chiffon loose clothes\"}\\n',\n",
       " '{\"file_name\": \"Zip_Paneled_Skirt_img_00000036.jpg\", \"caption\": \"A person wearing lattice sleeveless no dress no neckline cotton conventional clothes\"}\\n',\n",
       " '{\"file_name\": \"Chiffon_Plaid_Blouse_img_00000043.jpg\", \"caption\": \"A person wearing lattice sleeveless no dress crew neckline chiffon conventional clothes\"}\\n',\n",
       " '{\"file_name\": \"Hooded_Bomber_Jacket_img_00000088.jpg\", \"caption\": \"A person wearing solid short sleeve no dress v neckline faux conventional clothes\"}\\n',\n",
       " '{\"file_name\": \"Pleated_Woven_Mini_Skirt_img_00000029.jpg\", \"caption\": \"A person wearing pleated sleeveless no dress no neckline cotton conventional clothes\"}\\n',\n",
       " '{\"file_name\": \"Collarless_Draped-Front_Blazer_img_00000079.jpg\", \"caption\": \"A person wearing pleated sleeveless no dress no neckline chiffon conventional clothes\"}\\n',\n",
       " '{\"file_name\": \"Bell-Sleeved_Peasant_Top_img_00000005.jpg\", \"caption\": \"A person wearing pleated short sleeve no dress crew neckline chiffon conventional clothes\"}\\n',\n",
       " '{\"file_name\": \"Crisscross_Bodycon_Dress_img_00000029.jpg\", \"caption\": \"A person wearing solid short sleeve mini length crew neckline leather conventional clothes\"}\\n',\n",
       " '{\"file_name\": \"Statement-Making_Twerk_Tee_img_00000032.jpg\", \"caption\": \"A person wearing solid short sleeve no dress v neckline leather conventional clothes\"}\\n',\n",
       " '{\"file_name\": \"Pleated_Jacquard_Tea_Dress_img_00000044.jpg\", \"caption\": \"A person wearing pleated sleeveless mini length crew neckline cotton conventional clothes\"}\\n',\n",
       " '{\"file_name\": \"Plunging_V-Neckline_Dress_img_00000050.jpg\", \"caption\": \"A person wearing pleated sleeveless maxi length no neckline chiffon conventional clothes\"}\\n',\n",
       " '{\"file_name\": \"Faux_Leather_Biker_Jacket_img_00000019.jpg\", \"caption\": \"A person wearing solid short sleeve no dress v neckline leather conventional clothes\"}\\n',\n",
       " '{\"file_name\": \"Jersey_Knit_Maxi_Dress_img_00000022.jpg\", \"caption\": \"A person wearing pleated sleeveless maxi length no neckline cotton conventional clothes\"}\\n',\n",
       " '{\"file_name\": \"Pleated_Woven_Dress_img_00000023.jpg\", \"caption\": \"A person wearing pleated sleeveless mini length no neckline cotton conventional clothes\"}\\n',\n",
       " '{\"file_name\": \"Pleated_Chiffon_Skirt_img_00000061.jpg\", \"caption\": \"A person wearing pleated sleeveless no dress no neckline chiffon conventional clothes\"}\\n',\n",
       " '{\"file_name\": \"Brushstroke_Print_Shirt_Dress_img_00000025.jpg\", \"caption\": \"A person wearing pleated short sleeve mini length crew neckline cotton conventional clothes\"}\\n',\n",
       " '{\"file_name\": \"Scoop_Back_Sheath_Dress_img_00000039.jpg\", \"caption\": \"A person wearing pleated sleeveless maxi length crew neckline chiffon tight clothes\"}\\n',\n",
       " '{\"file_name\": \"Shirred_Chiffon_Dress_img_00000017.jpg\", \"caption\": \"A person wearing pleated sleeveless maxi length v neckline chiffon conventional clothes\"}\\n',\n",
       " '{\"file_name\": \"Draped_Open-Front_Jacket_img_00000010.jpg\", \"caption\": \"A person wearing solid short sleeve no dress v neckline leather conventional clothes\"}\\n',\n",
       " '{\"file_name\": \"Cami_Peplum_Top_img_00000076.jpg\", \"caption\": \"A person wearing pleated sleeveless no dress no neckline cotton conventional clothes\"}\\n',\n",
       " '{\"file_name\": \"Faux_Leather_Varsity_Jacket_img_00000016.jpg\", \"caption\": \"A person wearing solid short sleeve no dress v neckline leather conventional clothes\"}\\n',\n",
       " '{\"file_name\": \"Abstract_Grid_Peplum_Top_img_00000026.jpg\", \"caption\": \"A person wearing solid sleeveless no dress crew neckline leather conventional clothes\"}\\n',\n",
       " '{\"file_name\": \"Hooded_Woven_Jacket_img_00000022.jpg\", \"caption\": \"A person wearing solid short sleeve no dress crew neckline faux conventional clothes\"}\\n',\n",
       " '{\"file_name\": \"Knotted_Sheath_Dress_img_00000069.jpg\", \"caption\": \"A person wearing pleated sleeveless maxi length no neckline cotton conventional clothes\"}\\n',\n",
       " '{\"file_name\": \"Brushed_Knit_Fringe_Top_img_00000051.jpg\", \"caption\": \"A person wearing embroidered short sleeve no dress crew neckline faux conventional clothes\"}\\n',\n",
       " '{\"file_name\": \"Pleated_Chiffon_Skirt_img_00000069.jpg\", \"caption\": \"A person wearing pleated sleeveless no dress no neckline chiffon conventional clothes\"}\\n',\n",
       " '{\"file_name\": \"Strapless_Sweetheart_Dress_img_00000042.jpg\", \"caption\": \"A person wearing pleated sleeveless maxi length no neckline chiffon conventional clothes\"}\\n',\n",
       " '{\"file_name\": \"Faux_Fur_Trimmed_A-Line_Coat_img_00000063.jpg\", \"caption\": \"A person wearing solid short sleeve no dress v neckline faux conventional clothes\"}\\n',\n",
       " '{\"file_name\": \"Gingham_Print_Skater_Dress_img_00000051.jpg\", \"caption\": \"A person wearing lattice long sleeve mini length v neckline cotton conventional clothes\"}\\n',\n",
       " '{\"file_name\": \"Faux_Leather_Grid_Shorts_img_00000033.jpg\", \"caption\": \"A person wearing lattice sleeveless no dress no neckline cotton conventional clothes\"}\\n',\n",
       " '{\"file_name\": \"Romantic_Rose_Dress_img_00000041.jpg\", \"caption\": \"A person wearing pleated sleeveless maxi length v neckline chiffon conventional clothes\"}\\n',\n",
       " '{\"file_name\": \"Pleated_Metallic_Tweed_Dress_img_00000002.jpg\", \"caption\": \"A person wearing pleated sleeveless mini length no neckline cotton conventional clothes\"}\\n',\n",
       " '{\"file_name\": \"Ruffle-Trimmed_Blouse_img_00000048.jpg\", \"caption\": \"A person wearing pleated sleeveless no dress no neckline cotton conventional clothes\"}\\n',\n",
       " '{\"file_name\": \"Plaid_Drawstring_Dress_img_00000038.jpg\", \"caption\": \"A person wearing lattice short sleeve mini length crew neckline cotton conventional clothes\"}\\n',\n",
       " '{\"file_name\": \"Faux_Leather_Flared_Skirt_img_00000061.jpg\", \"caption\": \"A person wearing solid sleeveless no dress no neckline leather conventional clothes\"}\\n',\n",
       " '{\"file_name\": \"Faux_Suede_Shift_Dress_img_00000051.jpg\", \"caption\": \"A person wearing solid long sleeve mini length v neckline leather conventional clothes\"}\\n',\n",
       " '{\"file_name\": \"Crochet_Strap_Dress_img_00000040.jpg\", \"caption\": \"A person wearing pleated sleeveless maxi length no neckline cotton conventional clothes\"}\\n',\n",
       " '{\"file_name\": \"Hooded_Puff_Parka_img_00000013.jpg\", \"caption\": \"A person wearing solid short sleeve no dress v neckline faux conventional clothes\"}\\n',\n",
       " '{\"file_name\": \"Smocked_Slip_Dress_img_00000037.jpg\", \"caption\": \"A person wearing pleated sleeveless mini length crew neckline cotton loose clothes\"}\\n',\n",
       " '{\"file_name\": \"Plaid_Midi_Dress_img_00000030.jpg\", \"caption\": \"A person wearing lattice short sleeve maxi length crew neckline cotton conventional clothes\"}\\n',\n",
       " '{\"file_name\": \"Forget_Me_Not_Babydoll_Dress_img_00000037.jpg\", \"caption\": \"A person wearing lattice long sleeve mini length crew neckline chiffon conventional clothes\"}\\n',\n",
       " '{\"file_name\": \"Chiffon_Halter_Maxi_Dress_img_00000033.jpg\", \"caption\": \"A person wearing pleated sleeveless maxi length crew neckline chiffon tight clothes\"}\\n',\n",
       " '{\"file_name\": \"Jersey_Knit_Trapeze_Dress_img_00000043.jpg\", \"caption\": \"A person wearing pleated sleeveless mini length crew neckline cotton conventional clothes\"}\\n',\n",
       " '{\"file_name\": \"Classic_Babydoll_Dress_img_00000004.jpg\", \"caption\": \"A person wearing solid sleeveless mini length no neckline leather tight clothes\"}\\n',\n",
       " '{\"file_name\": \"Hooded_Tassel_Cardigan_img_00000006.jpg\", \"caption\": \"A person wearing solid short sleeve no dress v neckline faux loose clothes\"}\\n',\n",
       " '{\"file_name\": \"Crepe_Midi_Skirt_img_00000035.jpg\", \"caption\": \"A person wearing pleated sleeveless no dress no neckline cotton conventional clothes\"}\\n',\n",
       " '{\"file_name\": \"Flat_Collar_Blazer_img_00000040.jpg\", \"caption\": \"A person wearing lattice short sleeve no dress v neckline cotton conventional clothes\"}\\n',\n",
       " '{\"file_name\": \"Longline_Sateen_Open-Front_Jacket_img_00000008.jpg\", \"caption\": \"A person wearing solid sleeveless no dress crew neckline faux conventional clothes\"}\\n',\n",
       " '{\"file_name\": \"Pebbled_Faux_Leather_Moto_Jacket_img_00000026.jpg\", \"caption\": \"A person wearing solid short sleeve no dress v neckline leather conventional clothes\"}\\n',\n",
       " '{\"file_name\": \"Ruched_Heathered_Muscle_Tee_img_00000011.jpg\", \"caption\": \"A person wearing pleated sleeveless no dress crew neckline cotton tight clothes\"}\\n',\n",
       " '{\"file_name\": \"Collarless_Faux_Leather-Sleeve_Blazer_img_00000014.jpg\", \"caption\": \"A person wearing solid short sleeve no dress v neckline leather conventional clothes\"}\\n',\n",
       " '{\"file_name\": \"Wide-Leg_Surplice_Jumpsuit_img_00000028.jpg\", \"caption\": \"A person wearing lattice sleeveless no dress v neckline chiffon conventional clothes\"}\\n',\n",
       " '{\"file_name\": \"Flat_Collar_Woven_Blouse_img_00000050.jpg\", \"caption\": \"A person wearing lattice short sleeve no dress v neckline cotton loose clothes\"}\\n',\n",
       " '{\"file_name\": \"Gingham_Print_Skater_Dress_img_00000016.jpg\", \"caption\": \"A person wearing lattice long sleeve mini length crew neckline cotton conventional clothes\"}\\n',\n",
       " '{\"file_name\": \"Smocked_Slip_Dress_img_00000020.jpg\", \"caption\": \"A person wearing pleated sleeveless mini length crew neckline cotton loose clothes\"}\\n',\n",
       " '{\"file_name\": \"Butterfly_Print_Tie-Neck_Blouse_img_00000109.jpg\", \"caption\": \"A person wearing pleated short sleeve no dress no neckline chiffon conventional clothes\"}\\n',\n",
       " '{\"file_name\": \"Faux_Suede_Shift_Dress_img_00000001.jpg\", \"caption\": \"A person wearing solid long sleeve mini length crew neckline leather conventional clothes\"}\\n',\n",
       " '{\"file_name\": \"Classic_Utility_Jumpsuit_img_00000031.jpg\", \"caption\": \"A person wearing pleated long sleeve no dress crew neckline cotton conventional clothes\"}\\n',\n",
       " '{\"file_name\": \"Abstract_Plaid_Babydoll_Dress_img_00000016.jpg\", \"caption\": \"A person wearing lattice short sleeve mini length crew neckline chiffon conventional clothes\"}\\n',\n",
       " '{\"file_name\": \"Faux_Suede_Shift_Dress_img_00000046.jpg\", \"caption\": \"A person wearing solid short sleeve mini length v neckline leather conventional clothes\"}\\n',\n",
       " '{\"file_name\": \"Collarless_Faux_Fur_Jacket_img_00000020.jpg\", \"caption\": \"A person wearing solid short sleeve no dress v neckline faux conventional clothes\"}\\n',\n",
       " '{\"file_name\": \"Embroidered_Faux_Leather_Pencil_Skirt_img_00000036.jpg\", \"caption\": \"A person wearing embroidered sleeveless no dress no neckline leather conventional clothes\"}\\n',\n",
       " '{\"file_name\": \"Collarless_Faux_Shearling_Coat_img_00000020.jpg\", \"caption\": \"A person wearing solid short sleeve no dress crew neckline faux conventional clothes\"}\\n',\n",
       " '{\"file_name\": \"Abstract_Geo_Print_Blouse_img_00000012.jpg\", \"caption\": \"A person wearing lattice sleeveless no dress no neckline cotton conventional clothes\"}\\n',\n",
       " '{\"file_name\": \"Faux_Mohair_Sweater_img_00000044.jpg\", \"caption\": \"A person wearing lattice short sleeve no dress crew neckline faux conventional clothes\"}\\n',\n",
       " '{\"file_name\": \"Embroidered_Faux_Leather_Shorts_img_00000031.jpg\", \"caption\": \"A person wearing solid sleeveless no dress no neckline leather tight clothes\"}\\n',\n",
       " '{\"file_name\": \"Hidden_Zippered_Placket_Blouse_img_00000036.jpg\", \"caption\": \"A person wearing solid short sleeve no dress v neckline faux conventional clothes\"}\\n',\n",
       " '{\"file_name\": \"Tartan_Plaid_Blouse_img_00000076.jpg\", \"caption\": \"A person wearing lattice short sleeve no dress crew neckline cotton conventional clothes\"}\\n',\n",
       " '{\"file_name\": \"Braided_Halter_Top_img_00000024.jpg\", \"caption\": \"A person wearing pleated sleeveless no dress no neckline chiffon conventional clothes\"}\\n',\n",
       " '{\"file_name\": \"Pleated_Windowpane_Skirt_img_00000037.jpg\", \"caption\": \"A person wearing lattice sleeveless no dress no neckline cotton conventional clothes\"}\\n',\n",
       " '{\"file_name\": \"Quilted_Open-Front_Blazer_img_00000077.jpg\", \"caption\": \"A person wearing solid short sleeve no dress v neckline leather conventional clothes\"}\\n',\n",
       " '{\"file_name\": \"Belted_Crop_Top_img_00000038.jpg\", \"caption\": \"A person wearing solid short sleeve no dress no neckline leather conventional clothes\"}\\n',\n",
       " '{\"file_name\": \"Zip_Collar_Bomber_img_00000087.jpg\", \"caption\": \"A person wearing solid short sleeve no dress crew neckline faux conventional clothes\"}\\n',\n",
       " '{\"file_name\": \"Colorblocked_Faux_Leather_Varsity_Jacket_img_00000021.jpg\", \"caption\": \"A person wearing solid short sleeve no dress crew neckline leather conventional clothes\"}\\n',\n",
       " '{\"file_name\": \"Classic_Woven_Blazer_img_00000071.jpg\", \"caption\": \"A person wearing lattice short sleeve no dress v neckline cotton conventional clothes\"}\\n',\n",
       " '{\"file_name\": \"Tonal_Check-Patterned_Blouse_img_00000021.jpg\", \"caption\": \"A person wearing lattice sleeveless no dress crew neckline cotton conventional clothes\"}\\n',\n",
       " '{\"file_name\": \"Ditsy_Floral_Print_Blouse_img_00000048.jpg\", \"caption\": \"A person wearing floral long sleeve mini length square neckline cotton conventional clothes\"}\\n',\n",
       " '{\"file_name\": \"Longline_Plaid_Shirt_Dress_img_00000027.jpg\", \"caption\": \"A person wearing lattice sleeveless mini length crew neckline cotton conventional clothes\"}\\n',\n",
       " '{\"file_name\": \"Faux_Fur_Cheetah_Coat_img_00000029.jpg\", \"caption\": \"A person wearing graphic short sleeve no dress v neckline faux conventional clothes\"}\\n',\n",
       " '{\"file_name\": \"Varsity-Striped_Bodycon_Dress_img_00000025.jpg\", \"caption\": \"A person wearing striped long sleeve mini length square neckline knit tight clothes\"}\\n',\n",
       " '{\"file_name\": \"Cutout_A-Line_Dress_img_00000060.jpg\", \"caption\": \"A person wearing pleated sleeveless mini length no neckline chiffon conventional clothes\"}\\n',\n",
       " '{\"file_name\": \"Beaded_Chiffon_Maxi_Dress_img_00000081.jpg\", \"caption\": \"A person wearing pleated sleeveless maxi length square neckline chiffon conventional clothes\"}\\n',\n",
       " '{\"file_name\": \"Chiffon_Plaid_Blouse_img_00000003.jpg\", \"caption\": \"A person wearing lattice long sleeve no dress v neckline cotton conventional clothes\"}\\n',\n",
       " '{\"file_name\": \"Layered_Sleeveless_Dress_img_00000082.jpg\", \"caption\": \"A person wearing pleated sleeveless mini length no neckline cotton tight clothes\"}\\n',\n",
       " '{\"file_name\": \"Pleated_Faux_Leather_Skirt_img_00000025.jpg\", \"caption\": \"A person wearing pleated sleeveless no dress no neckline cotton conventional clothes\"}\\n',\n",
       " '{\"file_name\": \"Jersey_Knit_Trapeze_Dress_img_00000050.jpg\", \"caption\": \"A person wearing pleated sleeveless maxi length crew neckline cotton conventional clothes\"}\\n',\n",
       " '{\"file_name\": \"Windowpane_Print_Blouse_img_00000013.jpg\", \"caption\": \"A person wearing lattice short sleeve no dress v neckline cotton conventional clothes\"}\\n',\n",
       " '{\"file_name\": \"Crepe_Midi_Skirt_img_00000012.jpg\", \"caption\": \"A person wearing pleated sleeveless no dress no neckline cotton conventional clothes\"}\\n',\n",
       " '{\"file_name\": \"Be_Cool_Crop_Top_img_00000062.jpg\", \"caption\": \"A person wearing solid sleeveless no dress no neckline leather tight clothes\"}\\n',\n",
       " '{\"file_name\": \"Faux_Leather_Zippered_Skirt_img_00000042.jpg\", \"caption\": \"A person wearing solid sleeveless no dress no neckline leather tight clothes\"}\\n',\n",
       " '{\"file_name\": \"Faux_Fur_Jacket_img_00000045.jpg\", \"caption\": \"A person wearing solid short sleeve no dress crew neckline faux conventional clothes\"}\\n',\n",
       " '{\"file_name\": \"Darted_Sheath_Dress_img_00000032.jpg\", \"caption\": \"A person wearing pleated sleeveless mini length crew neckline cotton conventional clothes\"}\\n',\n",
       " '{\"file_name\": \"Snap_Collar_Moto_Jacket_img_00000065.jpg\", \"caption\": \"A person wearing solid short sleeve no dress crew neckline leather conventional clothes\"}\\n',\n",
       " '{\"file_name\": \"Faux_Leather_Shorts_img_00000045.jpg\", \"caption\": \"A person wearing solid sleeveless no dress no neckline leather tight clothes\"}\\n',\n",
       " '{\"file_name\": \"Faux_Leather_Drawstring_Joggers_img_00000009.jpg\", \"caption\": \"A person wearing solid sleeveless no dress no neckline leather conventional clothes\"}\\n',\n",
       " '{\"file_name\": \"Pleated_Woven_Mini_Skirt_img_00000003.jpg\", \"caption\": \"A person wearing lattice sleeveless no dress no neckline cotton conventional clothes\"}\\n',\n",
       " '{\"file_name\": \"Pleated_Culottes_img_00000051.jpg\", \"caption\": \"A person wearing pleated sleeveless no dress no neckline cotton loose clothes\"}\\n',\n",
       " '{\"file_name\": \"Quilted_Faux_Leather_Skirt_img_00000052.jpg\", \"caption\": \"A person wearing solid sleeveless no dress no neckline leather conventional clothes\"}\\n',\n",
       " '{\"file_name\": \"Hooded_Southwestern-Inspired_Sweater_img_00000002.jpg\", \"caption\": \"A person wearing solid short sleeve no dress crew neckline leather conventional clothes\"}\\n',\n",
       " '{\"file_name\": \"Tri-Stripe_Slim-Leg_Chinos_img_00000007.jpg\", \"caption\": \"A person wearing lattice sleeveless no dress no neckline cotton conventional clothes\"}\\n',\n",
       " '{\"file_name\": \"Butterfly_Print_Maxi_Dress_img_00000011.jpg\", \"caption\": \"A person wearing pleated sleeveless maxi length v neckline chiffon conventional clothes\"}\\n',\n",
       " '{\"file_name\": \"Pleated_Square_Neck_Dress_img_00000075.jpg\", \"caption\": \"A person wearing pleated long sleeve maxi length crew neckline cotton conventional clothes\"}\\n',\n",
       " '{\"file_name\": \"Slouchy_Fuzzy_Knit_Cardigan_img_00000028.jpg\", \"caption\": \"A person wearing lattice short sleeve no dress crew neckline knit conventional clothes\"}\\n',\n",
       " '{\"file_name\": \"Layered_A-Line_Dress_img_00000013.jpg\", \"caption\": \"A person wearing pleated sleeveless maxi length no neckline chiffon conventional clothes\"}\\n',\n",
       " '{\"file_name\": \"Pleated_Chiffon_Skirt_img_00000016.jpg\", \"caption\": \"A person wearing pleated sleeveless no dress no neckline chiffon conventional clothes\"}\\n',\n",
       " '{\"file_name\": \"Collarless_Faux_Fur_Jacket_img_00000010.jpg\", \"caption\": \"A person wearing solid short sleeve no dress crew neckline faux conventional clothes\"}\\n',\n",
       " '{\"file_name\": \"Faux_Leather_Shawl_Collar_Blazer_img_00000118.jpg\", \"caption\": \"A person wearing solid short sleeve no dress v neckline faux loose clothes\"}\\n',\n",
       " '{\"file_name\": \"Faux_Fur_Bomber_Jacket_img_00000039.jpg\", \"caption\": \"A person wearing solid short sleeve no dress crew neckline faux conventional clothes\"}\\n',\n",
       " '{\"file_name\": \"Pleated_Chiffon_Dress_img_00000023.jpg\", \"caption\": \"A person wearing pleated long sleeve maxi length no neckline chiffon conventional clothes\"}\\n',\n",
       " '{\"file_name\": \"Abstract_Print_Surplice_Top_img_00000004.jpg\", \"caption\": \"A person wearing solid short sleeve no dress no neckline faux conventional clothes\"}\\n',\n",
       " '{\"file_name\": \"Collarless_Draped-Front_Blazer_img_00000017.jpg\", \"caption\": \"A person wearing pleated sleeveless no dress v neckline chiffon conventional clothes\"}\\n',\n",
       " '{\"file_name\": \"Rugby_Stripe_Sweater_img_00000046.jpg\", \"caption\": \"A person wearing solid short sleeve no dress crew neckline leather conventional clothes\"}\\n',\n",
       " '{\"file_name\": \"Faux_Shearling_Moto_Jacket_img_00000072.jpg\", \"caption\": \"A person wearing solid short sleeve no dress crew neckline leather conventional clothes\"}\\n',\n",
       " '{\"file_name\": \"Square_Neck_Skater_Dress_img_00000016.jpg\", \"caption\": \"A person wearing pleated short sleeve mini length no neckline cotton conventional clothes\"}\\n',\n",
       " '{\"file_name\": \"Faux_Fur_Bomber_Jacket_img_00000065.jpg\", \"caption\": \"A person wearing solid short sleeve no dress v neckline faux conventional clothes\"}\\n',\n",
       " '{\"file_name\": \"Faux_Fur_Hood_Parka_img_00000002.jpg\", \"caption\": \"A person wearing floral short sleeve no dress crew neckline faux conventional clothes\"}\\n',\n",
       " '{\"file_name\": \"Faux_Shearling_Moto_Jacket_img_00000061.jpg\", \"caption\": \"A person wearing solid short sleeve no dress v neckline leather conventional clothes\"}\\n',\n",
       " '{\"file_name\": \"Crepe_Midi_Skirt_img_00000081.jpg\", \"caption\": \"A person wearing pleated sleeveless no dress no neckline chiffon conventional clothes\"}\\n',\n",
       " '{\"file_name\": \"Ruffled_Surplice_Dress_img_00000016.jpg\", \"caption\": \"A person wearing pleated long sleeve maxi length v neckline chiffon conventional clothes\"}\\n',\n",
       " '{\"file_name\": \"Faux_Leather_Biker_Jacket_img_00000001.jpg\", \"caption\": \"A person wearing solid short sleeve no dress v neckline leather conventional clothes\"}\\n',\n",
       " '{\"file_name\": \"Quilted_Faux_Leather_Bomber_img_00000090.jpg\", \"caption\": \"A person wearing solid short sleeve no dress crew neckline leather conventional clothes\"}\\n',\n",
       " '{\"file_name\": \"Paneled_Grid_Print_Shorts_img_00000013.jpg\", \"caption\": \"A person wearing lattice sleeveless no dress no neckline cotton conventional clothes\"}\\n',\n",
       " '{\"file_name\": \"Racerback_Chiffon_Maxi_Dress_img_00000056.jpg\", \"caption\": \"A person wearing pleated sleeveless maxi length no neckline chiffon conventional clothes\"}\\n',\n",
       " '{\"file_name\": \"Smocked_Slip_Dress_img_00000021.jpg\", \"caption\": \"A person wearing pleated short sleeve mini length crew neckline cotton loose clothes\"}\\n',\n",
       " '{\"file_name\": \"Faux_Fur_Jacket_img_00000064.jpg\", \"caption\": \"A person wearing floral short sleeve no dress crew neckline faux conventional clothes\"}\\n',\n",
       " '{\"file_name\": \"Boxy_Woven_Moto_Jacket_img_00000016.jpg\", \"caption\": \"A person wearing lattice short sleeve no dress v neckline cotton conventional clothes\"}\\n',\n",
       " '{\"file_name\": \"Belted_Wrap_Coat_img_00000089.jpg\", \"caption\": \"A person wearing solid short sleeve no dress v neckline faux conventional clothes\"}\\n',\n",
       " '{\"file_name\": \"Distressed_For_the_Road_Tee_img_00000064.jpg\", \"caption\": \"A person wearing solid short sleeve no dress v neckline leather conventional clothes\"}\\n',\n",
       " '{\"file_name\": \"Pintucked_Chiffon_Dress_img_00000006.jpg\", \"caption\": \"A person wearing pleated sleeveless mini length crew neckline cotton conventional clothes\"}\\n',\n",
       " '{\"file_name\": \"Faux_Shearling_Aviator_Jacket_img_00000052.jpg\", \"caption\": \"A person wearing solid short sleeve no dress crew neckline leather conventional clothes\"}\\n',\n",
       " '{\"file_name\": \"Crisscross_Cutout-Back_Maxi_Dress_img_00000023.jpg\", \"caption\": \"A person wearing pleated sleeveless maxi length no neckline cotton conventional clothes\"}\\n',\n",
       " '{\"file_name\": \"Faux_Shearling_Moto_Jacket_img_00000049.jpg\", \"caption\": \"A person wearing solid short sleeve no dress v neckline faux conventional clothes\"}\\n',\n",
       " '{\"file_name\": \"Polka_Dot_Woven_Shorts_img_00000013.jpg\", \"caption\": \"A person wearing lattice sleeveless no dress no neckline cotton conventional clothes\"}\\n',\n",
       " '{\"file_name\": \"Denim_Utility_Romper_img_00000038.jpg\", \"caption\": \"A person wearing lattice sleeveless no dress crew neckline cotton conventional clothes\"}\\n',\n",
       " '{\"file_name\": \"Zippered_Single-Button_Blazer_img_00000018.jpg\", \"caption\": \"A person wearing lattice short sleeve no dress crew neckline cotton conventional clothes\"}\\n',\n",
       " '{\"file_name\": \"Tie-Dye_Open-Shoulder_Shift_Dress_img_00000018.jpg\", \"caption\": \"A person wearing pleated sleeveless mini length no neckline cotton loose clothes\"}\\n',\n",
       " '{\"file_name\": \"Faux_Leather_Drawstring_Joggers_img_00000053.jpg\", \"caption\": \"A person wearing solid sleeveless no dress no neckline leather conventional clothes\"}\\n',\n",
       " '{\"file_name\": \"Grid_Print_Jumpsuit_img_00000058.jpg\", \"caption\": \"A person wearing lattice sleeveless no dress no neckline cotton conventional clothes\"}\\n',\n",
       " '{\"file_name\": \"Faux_Suede_Moto_Jacket_img_00000028.jpg\", \"caption\": \"A person wearing solid short sleeve no dress v neckline leather conventional clothes\"}\\n',\n",
       " '{\"file_name\": \"Classic_Self-Tie_Blouse_img_00000006.jpg\", \"caption\": \"A person wearing lattice sleeveless no dress v neckline cotton conventional clothes\"}\\n',\n",
       " '{\"file_name\": \"Athletic-Striped_Racerback_Crop_Top_img_00000020.jpg\", \"caption\": \"A person wearing solid sleeveless no dress square neckline cotton tight clothes\"}\\n',\n",
       " '{\"file_name\": \"Strappy-Back_Pleated_Dress_img_00000034.jpg\", \"caption\": \"A person wearing pleated sleeveless maxi length no neckline chiffon conventional clothes\"}\\n',\n",
       " '{\"file_name\": \"Pleated_Skater_Skirt_img_00000037.jpg\", \"caption\": \"A person wearing pleated sleeveless no dress no neckline cotton conventional clothes\"}\\n',\n",
       " '{\"file_name\": \"Sequined_Tweed_Skirt_img_00000037.jpg\", \"caption\": \"A person wearing solid sleeveless no dress no neckline leather tight clothes\"}\\n',\n",
       " '{\"file_name\": \"Genuine_Suede_Shorts_img_00000043.jpg\", \"caption\": \"A person wearing solid sleeveless no dress no neckline leather tight clothes\"}\\n',\n",
       " '{\"file_name\": \"Faux_Leather_Jersey_img_00000034.jpg\", \"caption\": \"A person wearing solid short sleeve no dress v neckline leather conventional clothes\"}\\n',\n",
       " '{\"file_name\": \"Snap_Collar_Moto_Jacket_img_00000011.jpg\", \"caption\": \"A person wearing solid short sleeve no dress v neckline leather conventional clothes\"}\\n',\n",
       " '{\"file_name\": \"Bird_Print_Sateen_Dress_img_00000045.jpg\", \"caption\": \"A person wearing floral long sleeve mini length square neckline chiffon tight clothes\"}\\n',\n",
       " '{\"file_name\": \"Tailored_Woven_Blazer_img_00000066.jpg\", \"caption\": \"A person wearing lattice short sleeve no dress crew neckline cotton conventional clothes\"}\\n',\n",
       " '{\"file_name\": \"Floral_Lace_Cutout_Dress_img_00000008.jpg\", \"caption\": \"A person wearing pleated sleeveless mini length no neckline cotton conventional clothes\"}\\n',\n",
       " '{\"file_name\": \"Diagonal_Plaid_Skirt_img_00000016.jpg\", \"caption\": \"A person wearing lattice sleeveless no dress no neckline cotton conventional clothes\"}\\n',\n",
       " '{\"file_name\": \"Must-Have_Woven_Tee_img_00000037.jpg\", \"caption\": \"A person wearing lattice long sleeve no dress v neckline cotton conventional clothes\"}\\n',\n",
       " '{\"file_name\": \"Gathered_Floral_Lace_Dress_img_00000006.jpg\", \"caption\": \"A person wearing pleated sleeveless mini length crew neckline chiffon conventional clothes\"}\\n',\n",
       " '{\"file_name\": \"Shirred_Lace-Paneled_Blouse_img_00000102.jpg\", \"caption\": \"A person wearing pleated long sleeve no dress crew neckline cotton conventional clothes\"}\\n',\n",
       " '{\"file_name\": \"Abstract_Print_Bodycon_Dress_img_00000027.jpg\", \"caption\": \"A person wearing graphic sleeveless mini length square neckline cotton tight clothes\"}']"
      ]
     },
     "execution_count": 117,
     "metadata": {},
     "output_type": "execute_result"
    }
   ],
   "execution_count": 117
  },
  {
   "metadata": {
    "ExecuteTime": {
     "end_time": "2024-04-28T09:38:24.706807Z",
     "start_time": "2024-04-28T09:38:24.703669Z"
    }
   },
   "cell_type": "code",
   "source": [
    "descriptors = [\"short\", \"long\", \"maxi\", \"mini\", \"no\", \"crew\", \"v\", \"square\"]\n",
    "\n",
    "def combine_descriptors(lst, desc):\n",
    "    i = 0\n",
    "    new_lst = []\n",
    "    while i < len(lst):\n",
    "        if (lst[i] in desc) and (i < len(lst) - 1):\n",
    "            new_lst.append(lst[i] + '_' + lst[i+1])\n",
    "            i += 2\n",
    "        else:\n",
    "            new_lst.append(lst[i])\n",
    "            i += 1\n",
    "    return new_lst\n",
    "\n",
    "def process_caption(cap):\n",
    "    caption_splits = cap.replace(\"A person wearing \", \"\").replace(\" clothes\", \"\").split(\" \")\n",
    "    processed_caption_ls = combine_descriptors(caption_splits, descriptors)\n",
    "    return processed_caption_ls"
   ],
   "id": "7413a7667535cc3",
   "outputs": [],
   "execution_count": 135
  },
  {
   "metadata": {
    "ExecuteTime": {
     "end_time": "2024-04-28T09:12:47.269020Z",
     "start_time": "2024-04-28T09:12:47.261150Z"
    }
   },
   "cell_type": "code",
   "source": [
    "input_prompts = []\n",
    "\n",
    "scarce_counts = {}\n",
    "for json_str in meta_attr:\n",
    "    img_meta = json.loads(json_str)\n",
    "    filename = img_meta[\"file_name\"]\n",
    "    caption = img_meta[\"caption\"]\n",
    "    processed_caption_list = process_caption(caption)\n",
    "\n",
    "    assert len(processed_caption_list) == 6, \"Number of attributes does not match\"\n",
    "    \n",
    "    for i in processed_caption_list:\n",
    "        if i in scarce_attrs:\n",
    "            if i in scarce_counts.keys():\n",
    "                scarce_counts[i] += 1\n",
    "            else:\n",
    "                scarce_counts[i] = 1\n",
    "    input_prompts.append(caption)\n",
    "    \n",
    "print(scarce_counts)"
   ],
   "id": "3990d6ca05a14387",
   "outputs": [
    {
     "name": "stdout",
     "output_type": "stream",
     "text": [
      "{'lattice': 242, 'leather': 292, 'pleated': 296, 'square_neckline': 47, 'faux': 124}\n"
     ]
    }
   ],
   "execution_count": 128
  },
  {
   "metadata": {
    "ExecuteTime": {
     "end_time": "2024-04-28T09:22:50.672204Z",
     "start_time": "2024-04-28T09:22:50.668281Z"
    }
   },
   "cell_type": "code",
   "source": [
    "mult_factors = {\n",
    "    \"square_neckline\": 4,\n",
    "    \"faux\": 2\n",
    "}\n",
    "print(f\"Before: {len(input_prompts)}\")\n",
    "for i in range(len(input_prompts)):\n",
    "    caption = input_prompts[i]\n",
    "    for j in mult_factors.keys():\n",
    "        if j in caption:\n",
    "            for k in range(mult_factors[j]):\n",
    "                input_prompts.append(caption)\n",
    "\n",
    "print(f\"After: {len(input_prompts)}\")"
   ],
   "id": "2c77da5f0686952f",
   "outputs": [
    {
     "name": "stdout",
     "output_type": "stream",
     "text": [
      "Before: 988\n",
      "After: 1236\n"
     ]
    }
   ],
   "execution_count": 132
  },
  {
   "metadata": {},
   "cell_type": "markdown",
   "source": "### Gen synthetic data",
   "id": "6a9c2d916e0fd68b"
  },
  {
   "metadata": {
    "ExecuteTime": {
     "end_time": "2024-04-28T09:26:17.422026Z",
     "start_time": "2024-04-28T09:26:11.394050Z"
    }
   },
   "cell_type": "code",
   "source": [
    "import torch\n",
    "from diffusers import StableDiffusionPipeline\n",
    "\n",
    "model_path = \"C:/Users/vinit/Documents/test6/fashion_out_trial_2\"\n",
    "pipe = StableDiffusionPipeline.from_pretrained(model_path, torch_dtype=torch.float16)\n",
    "pipe.to(\"cuda\")"
   ],
   "id": "d40e57f7f0067371",
   "outputs": [
    {
     "data": {
      "text/plain": [
       "Loading pipeline components...:   0%|          | 0/7 [00:00<?, ?it/s]"
      ],
      "application/vnd.jupyter.widget-view+json": {
       "version_major": 2,
       "version_minor": 0,
       "model_id": "bc6389c2bc4646daa8b5d8d9bc7cbd9c"
      }
     },
     "metadata": {},
     "output_type": "display_data"
    },
    {
     "data": {
      "text/plain": [
       "StableDiffusionPipeline {\n",
       "  \"_class_name\": \"StableDiffusionPipeline\",\n",
       "  \"_diffusers_version\": \"0.28.0.dev0\",\n",
       "  \"_name_or_path\": \"C:/Users/vinit/Documents/test6/fashion_out_trial_2\",\n",
       "  \"feature_extractor\": [\n",
       "    \"transformers\",\n",
       "    \"CLIPImageProcessor\"\n",
       "  ],\n",
       "  \"image_encoder\": [\n",
       "    null,\n",
       "    null\n",
       "  ],\n",
       "  \"requires_safety_checker\": true,\n",
       "  \"safety_checker\": [\n",
       "    \"stable_diffusion\",\n",
       "    \"StableDiffusionSafetyChecker\"\n",
       "  ],\n",
       "  \"scheduler\": [\n",
       "    \"diffusers\",\n",
       "    \"PNDMScheduler\"\n",
       "  ],\n",
       "  \"text_encoder\": [\n",
       "    \"transformers\",\n",
       "    \"CLIPTextModel\"\n",
       "  ],\n",
       "  \"tokenizer\": [\n",
       "    \"transformers\",\n",
       "    \"CLIPTokenizer\"\n",
       "  ],\n",
       "  \"unet\": [\n",
       "    \"diffusers\",\n",
       "    \"UNet2DConditionModel\"\n",
       "  ],\n",
       "  \"vae\": [\n",
       "    \"diffusers\",\n",
       "    \"AutoencoderKL\"\n",
       "  ]\n",
       "}"
      ]
     },
     "execution_count": 133,
     "metadata": {},
     "output_type": "execute_result"
    }
   ],
   "execution_count": 133
  },
  {
   "metadata": {
    "ExecuteTime": {
     "end_time": "2024-04-28T10:18:00.705680Z",
     "start_time": "2024-04-28T09:44:45.712914Z"
    }
   },
   "cell_type": "code",
   "source": [
    "imgs_out = \"C:/Users/vinit/Documents/test6/gen_dataset/syn_imgs\"\n",
    "img_names_txt_out = \"C:/Users/vinit/Documents/test6/gen_dataset/train.txt\"\n",
    "img_attr_txt_out = \"C:/Users/vinit/Documents/test6/gen_dataset/train_attr.txt\"\n",
    "\n",
    "img_count = 0\n",
    "gen_img_names = []\n",
    "gen_img_attrs = []\n",
    "\n",
    "for i in range(len(input_prompts)):\n",
    "    prompt = input_prompts[i]\n",
    "    img_name = f\"gen_{img_count}.jpg\"\n",
    "    img_name_in_txt = f\"img/syn_imgs/{img_name}\"\n",
    "    gen_img_names.append(img_name_in_txt)\n",
    "    img_count += 1\n",
    "    \n",
    "    attributes = process_caption(prompt)\n",
    "    img_attr_str = \"\"\n",
    "    for j in range(len(attributes)):\n",
    "        attr_idx = str(list(attr_dicts[j].keys())[list(attr_dicts[j].values()).index(attributes[j])])\n",
    "        img_attr_str += attr_idx + \" \"\n",
    "    img_attr_str = img_attr_str[:-1]\n",
    "    gen_img_attrs.append(img_attr_str)\n",
    "\n",
    "    image = pipe(prompt=input_prompts[i]).images[0]\n",
    "    image.save(os.path.join(imgs_out, img_name))\n",
    "\n",
    "with open(img_names_txt_out, 'w') as f:\n",
    "    for item in gen_img_names:\n",
    "        f.write(f\"{item}\\n\")\n",
    "\n",
    "with open(img_attr_txt_out, 'w') as f:\n",
    "    for item in gen_img_attrs:\n",
    "        f.write(f\"{item}\\n\")"
   ],
   "id": "5baa23532f3f2e00",
   "outputs": [
    {
     "data": {
      "text/plain": [
       "  0%|          | 0/50 [00:00<?, ?it/s]"
      ],
      "application/vnd.jupyter.widget-view+json": {
       "version_major": 2,
       "version_minor": 0,
       "model_id": "1369f830670143e98d3b1913615d8f85"
      }
     },
     "metadata": {},
     "output_type": "display_data"
    },
    {
     "name": "stderr",
     "output_type": "stream",
     "text": [
      "C:\\Users\\vinit\\miniconda3\\envs\\test\\Lib\\site-packages\\diffusers\\models\\attention_processor.py:1276: UserWarning: 1Torch was not compiled with flash attention. (Triggered internally at ..\\aten\\src\\ATen\\native\\transformers\\cuda\\sdp_utils.cpp:263.)\n",
      "  hidden_states = F.scaled_dot_product_attention(\n"
     ]
    },
    {
     "data": {
      "text/plain": [
       "  0%|          | 0/50 [00:00<?, ?it/s]"
      ],
      "application/vnd.jupyter.widget-view+json": {
       "version_major": 2,
       "version_minor": 0,
       "model_id": "bc57aa0674ec437aa35d6814c270544a"
      }
     },
     "metadata": {},
     "output_type": "display_data"
    },
    {
     "data": {
      "text/plain": [
       "  0%|          | 0/50 [00:00<?, ?it/s]"
      ],
      "application/vnd.jupyter.widget-view+json": {
       "version_major": 2,
       "version_minor": 0,
       "model_id": "57f5ae4c94514cd3a2fd7cf360c0e1c8"
      }
     },
     "metadata": {},
     "output_type": "display_data"
    },
    {
     "data": {
      "text/plain": [
       "  0%|          | 0/50 [00:00<?, ?it/s]"
      ],
      "application/vnd.jupyter.widget-view+json": {
       "version_major": 2,
       "version_minor": 0,
       "model_id": "f8980044fbb8413aa8b06f5b530a8edb"
      }
     },
     "metadata": {},
     "output_type": "display_data"
    },
    {
     "data": {
      "text/plain": [
       "  0%|          | 0/50 [00:00<?, ?it/s]"
      ],
      "application/vnd.jupyter.widget-view+json": {
       "version_major": 2,
       "version_minor": 0,
       "model_id": "c2467008be174e1882f79fb4b8617eda"
      }
     },
     "metadata": {},
     "output_type": "display_data"
    },
    {
     "data": {
      "text/plain": [
       "  0%|          | 0/50 [00:00<?, ?it/s]"
      ],
      "application/vnd.jupyter.widget-view+json": {
       "version_major": 2,
       "version_minor": 0,
       "model_id": "4edd15535b7a49108744475f7db24b18"
      }
     },
     "metadata": {},
     "output_type": "display_data"
    },
    {
     "data": {
      "text/plain": [
       "  0%|          | 0/50 [00:00<?, ?it/s]"
      ],
      "application/vnd.jupyter.widget-view+json": {
       "version_major": 2,
       "version_minor": 0,
       "model_id": "08124b50597440cda05f35256b4583e1"
      }
     },
     "metadata": {},
     "output_type": "display_data"
    },
    {
     "data": {
      "text/plain": [
       "  0%|          | 0/50 [00:00<?, ?it/s]"
      ],
      "application/vnd.jupyter.widget-view+json": {
       "version_major": 2,
       "version_minor": 0,
       "model_id": "39f7e836b31f4e52b602c88714d18368"
      }
     },
     "metadata": {},
     "output_type": "display_data"
    },
    {
     "data": {
      "text/plain": [
       "  0%|          | 0/50 [00:00<?, ?it/s]"
      ],
      "application/vnd.jupyter.widget-view+json": {
       "version_major": 2,
       "version_minor": 0,
       "model_id": "2a1a3c80f71b452ba27db0df2e9aa1f1"
      }
     },
     "metadata": {},
     "output_type": "display_data"
    },
    {
     "data": {
      "text/plain": [
       "  0%|          | 0/50 [00:00<?, ?it/s]"
      ],
      "application/vnd.jupyter.widget-view+json": {
       "version_major": 2,
       "version_minor": 0,
       "model_id": "b87bf85bdf944b44a081e586d23e30b7"
      }
     },
     "metadata": {},
     "output_type": "display_data"
    },
    {
     "data": {
      "text/plain": [
       "  0%|          | 0/50 [00:00<?, ?it/s]"
      ],
      "application/vnd.jupyter.widget-view+json": {
       "version_major": 2,
       "version_minor": 0,
       "model_id": "41762bab862545338ac7908734ec6457"
      }
     },
     "metadata": {},
     "output_type": "display_data"
    },
    {
     "data": {
      "text/plain": [
       "  0%|          | 0/50 [00:00<?, ?it/s]"
      ],
      "application/vnd.jupyter.widget-view+json": {
       "version_major": 2,
       "version_minor": 0,
       "model_id": "c3c6e2ea22374340b31dac57b0b5561c"
      }
     },
     "metadata": {},
     "output_type": "display_data"
    },
    {
     "data": {
      "text/plain": [
       "  0%|          | 0/50 [00:00<?, ?it/s]"
      ],
      "application/vnd.jupyter.widget-view+json": {
       "version_major": 2,
       "version_minor": 0,
       "model_id": "82526c8f636740c6b26afd1c7ecc54c9"
      }
     },
     "metadata": {},
     "output_type": "display_data"
    },
    {
     "data": {
      "text/plain": [
       "  0%|          | 0/50 [00:00<?, ?it/s]"
      ],
      "application/vnd.jupyter.widget-view+json": {
       "version_major": 2,
       "version_minor": 0,
       "model_id": "f678a638ea7646d5986e359873c856dc"
      }
     },
     "metadata": {},
     "output_type": "display_data"
    },
    {
     "data": {
      "text/plain": [
       "  0%|          | 0/50 [00:00<?, ?it/s]"
      ],
      "application/vnd.jupyter.widget-view+json": {
       "version_major": 2,
       "version_minor": 0,
       "model_id": "10829dfa91484deca21b5de44dd021f1"
      }
     },
     "metadata": {},
     "output_type": "display_data"
    },
    {
     "data": {
      "text/plain": [
       "  0%|          | 0/50 [00:00<?, ?it/s]"
      ],
      "application/vnd.jupyter.widget-view+json": {
       "version_major": 2,
       "version_minor": 0,
       "model_id": "d2b9f7e100784d5fa43d45a8c664081a"
      }
     },
     "metadata": {},
     "output_type": "display_data"
    },
    {
     "data": {
      "text/plain": [
       "  0%|          | 0/50 [00:00<?, ?it/s]"
      ],
      "application/vnd.jupyter.widget-view+json": {
       "version_major": 2,
       "version_minor": 0,
       "model_id": "62b1fe19d1554cf69cc996b54363ea08"
      }
     },
     "metadata": {},
     "output_type": "display_data"
    },
    {
     "data": {
      "text/plain": [
       "  0%|          | 0/50 [00:00<?, ?it/s]"
      ],
      "application/vnd.jupyter.widget-view+json": {
       "version_major": 2,
       "version_minor": 0,
       "model_id": "969de1e050c04f99a48db1d3a1a7e07e"
      }
     },
     "metadata": {},
     "output_type": "display_data"
    },
    {
     "data": {
      "text/plain": [
       "  0%|          | 0/50 [00:00<?, ?it/s]"
      ],
      "application/vnd.jupyter.widget-view+json": {
       "version_major": 2,
       "version_minor": 0,
       "model_id": "2071058ec7a741458103ea06fb4983c1"
      }
     },
     "metadata": {},
     "output_type": "display_data"
    },
    {
     "data": {
      "text/plain": [
       "  0%|          | 0/50 [00:00<?, ?it/s]"
      ],
      "application/vnd.jupyter.widget-view+json": {
       "version_major": 2,
       "version_minor": 0,
       "model_id": "e52c8388c52a4eb89cb97e75a75b0ae5"
      }
     },
     "metadata": {},
     "output_type": "display_data"
    },
    {
     "data": {
      "text/plain": [
       "  0%|          | 0/50 [00:00<?, ?it/s]"
      ],
      "application/vnd.jupyter.widget-view+json": {
       "version_major": 2,
       "version_minor": 0,
       "model_id": "f1afb238939048219fbe2c52a2b50018"
      }
     },
     "metadata": {},
     "output_type": "display_data"
    },
    {
     "data": {
      "text/plain": [
       "  0%|          | 0/50 [00:00<?, ?it/s]"
      ],
      "application/vnd.jupyter.widget-view+json": {
       "version_major": 2,
       "version_minor": 0,
       "model_id": "7cdc215e2d4f44e4a6fc249f6468d67a"
      }
     },
     "metadata": {},
     "output_type": "display_data"
    },
    {
     "data": {
      "text/plain": [
       "  0%|          | 0/50 [00:00<?, ?it/s]"
      ],
      "application/vnd.jupyter.widget-view+json": {
       "version_major": 2,
       "version_minor": 0,
       "model_id": "6bd540d210b64958b0f04fcd2ab55bb6"
      }
     },
     "metadata": {},
     "output_type": "display_data"
    },
    {
     "data": {
      "text/plain": [
       "  0%|          | 0/50 [00:00<?, ?it/s]"
      ],
      "application/vnd.jupyter.widget-view+json": {
       "version_major": 2,
       "version_minor": 0,
       "model_id": "3742a9331c0e40a7b817472a738d986c"
      }
     },
     "metadata": {},
     "output_type": "display_data"
    },
    {
     "data": {
      "text/plain": [
       "  0%|          | 0/50 [00:00<?, ?it/s]"
      ],
      "application/vnd.jupyter.widget-view+json": {
       "version_major": 2,
       "version_minor": 0,
       "model_id": "2eb1b5e66cf7414588e5184527232b14"
      }
     },
     "metadata": {},
     "output_type": "display_data"
    },
    {
     "data": {
      "text/plain": [
       "  0%|          | 0/50 [00:00<?, ?it/s]"
      ],
      "application/vnd.jupyter.widget-view+json": {
       "version_major": 2,
       "version_minor": 0,
       "model_id": "f7b0732b4ca4468c8be78826eb140dfb"
      }
     },
     "metadata": {},
     "output_type": "display_data"
    },
    {
     "data": {
      "text/plain": [
       "  0%|          | 0/50 [00:00<?, ?it/s]"
      ],
      "application/vnd.jupyter.widget-view+json": {
       "version_major": 2,
       "version_minor": 0,
       "model_id": "ce87b1ea845147d38be07790be4abe8d"
      }
     },
     "metadata": {},
     "output_type": "display_data"
    },
    {
     "data": {
      "text/plain": [
       "  0%|          | 0/50 [00:00<?, ?it/s]"
      ],
      "application/vnd.jupyter.widget-view+json": {
       "version_major": 2,
       "version_minor": 0,
       "model_id": "7ba81ca162154990aa19ad4672ebbcb0"
      }
     },
     "metadata": {},
     "output_type": "display_data"
    },
    {
     "data": {
      "text/plain": [
       "  0%|          | 0/50 [00:00<?, ?it/s]"
      ],
      "application/vnd.jupyter.widget-view+json": {
       "version_major": 2,
       "version_minor": 0,
       "model_id": "8b84f73cdcc04313b02502620019e900"
      }
     },
     "metadata": {},
     "output_type": "display_data"
    },
    {
     "data": {
      "text/plain": [
       "  0%|          | 0/50 [00:00<?, ?it/s]"
      ],
      "application/vnd.jupyter.widget-view+json": {
       "version_major": 2,
       "version_minor": 0,
       "model_id": "e6e5f8fa376d4696b7c4bc9487ecbd1f"
      }
     },
     "metadata": {},
     "output_type": "display_data"
    },
    {
     "data": {
      "text/plain": [
       "  0%|          | 0/50 [00:00<?, ?it/s]"
      ],
      "application/vnd.jupyter.widget-view+json": {
       "version_major": 2,
       "version_minor": 0,
       "model_id": "b3a207cc19054f2aaf408bf52500bdf6"
      }
     },
     "metadata": {},
     "output_type": "display_data"
    },
    {
     "data": {
      "text/plain": [
       "  0%|          | 0/50 [00:00<?, ?it/s]"
      ],
      "application/vnd.jupyter.widget-view+json": {
       "version_major": 2,
       "version_minor": 0,
       "model_id": "aab1c3d6d6fa45ce88586fa7e1be2033"
      }
     },
     "metadata": {},
     "output_type": "display_data"
    },
    {
     "data": {
      "text/plain": [
       "  0%|          | 0/50 [00:00<?, ?it/s]"
      ],
      "application/vnd.jupyter.widget-view+json": {
       "version_major": 2,
       "version_minor": 0,
       "model_id": "523b2635c8134acdb9c0bac509546791"
      }
     },
     "metadata": {},
     "output_type": "display_data"
    },
    {
     "data": {
      "text/plain": [
       "  0%|          | 0/50 [00:00<?, ?it/s]"
      ],
      "application/vnd.jupyter.widget-view+json": {
       "version_major": 2,
       "version_minor": 0,
       "model_id": "2b7766b54cde46f78f1d6d372914af02"
      }
     },
     "metadata": {},
     "output_type": "display_data"
    },
    {
     "data": {
      "text/plain": [
       "  0%|          | 0/50 [00:00<?, ?it/s]"
      ],
      "application/vnd.jupyter.widget-view+json": {
       "version_major": 2,
       "version_minor": 0,
       "model_id": "381fe21a413f426db819f4656ba3e613"
      }
     },
     "metadata": {},
     "output_type": "display_data"
    },
    {
     "data": {
      "text/plain": [
       "  0%|          | 0/50 [00:00<?, ?it/s]"
      ],
      "application/vnd.jupyter.widget-view+json": {
       "version_major": 2,
       "version_minor": 0,
       "model_id": "317afadc0eb6430691f4ea301be060c4"
      }
     },
     "metadata": {},
     "output_type": "display_data"
    },
    {
     "data": {
      "text/plain": [
       "  0%|          | 0/50 [00:00<?, ?it/s]"
      ],
      "application/vnd.jupyter.widget-view+json": {
       "version_major": 2,
       "version_minor": 0,
       "model_id": "12b67f67875f4fd793899e4bfc8820a6"
      }
     },
     "metadata": {},
     "output_type": "display_data"
    },
    {
     "data": {
      "text/plain": [
       "  0%|          | 0/50 [00:00<?, ?it/s]"
      ],
      "application/vnd.jupyter.widget-view+json": {
       "version_major": 2,
       "version_minor": 0,
       "model_id": "4075e91b23e8446384dc5906f67b7fee"
      }
     },
     "metadata": {},
     "output_type": "display_data"
    },
    {
     "data": {
      "text/plain": [
       "  0%|          | 0/50 [00:00<?, ?it/s]"
      ],
      "application/vnd.jupyter.widget-view+json": {
       "version_major": 2,
       "version_minor": 0,
       "model_id": "f317c567e1ad466c8c9620ebd48d169f"
      }
     },
     "metadata": {},
     "output_type": "display_data"
    },
    {
     "data": {
      "text/plain": [
       "  0%|          | 0/50 [00:00<?, ?it/s]"
      ],
      "application/vnd.jupyter.widget-view+json": {
       "version_major": 2,
       "version_minor": 0,
       "model_id": "c754194577fe43bb887cfa65950a5073"
      }
     },
     "metadata": {},
     "output_type": "display_data"
    },
    {
     "data": {
      "text/plain": [
       "  0%|          | 0/50 [00:00<?, ?it/s]"
      ],
      "application/vnd.jupyter.widget-view+json": {
       "version_major": 2,
       "version_minor": 0,
       "model_id": "cafae6b07dd847bca51a6682b371e7b6"
      }
     },
     "metadata": {},
     "output_type": "display_data"
    },
    {
     "data": {
      "text/plain": [
       "  0%|          | 0/50 [00:00<?, ?it/s]"
      ],
      "application/vnd.jupyter.widget-view+json": {
       "version_major": 2,
       "version_minor": 0,
       "model_id": "9fb500d73f2b4097a4941d1e8cb94926"
      }
     },
     "metadata": {},
     "output_type": "display_data"
    },
    {
     "data": {
      "text/plain": [
       "  0%|          | 0/50 [00:00<?, ?it/s]"
      ],
      "application/vnd.jupyter.widget-view+json": {
       "version_major": 2,
       "version_minor": 0,
       "model_id": "7b941b8cc95045e29764eda01bc5cb3e"
      }
     },
     "metadata": {},
     "output_type": "display_data"
    },
    {
     "data": {
      "text/plain": [
       "  0%|          | 0/50 [00:00<?, ?it/s]"
      ],
      "application/vnd.jupyter.widget-view+json": {
       "version_major": 2,
       "version_minor": 0,
       "model_id": "9cb28b4c72444018b520e2d84169941c"
      }
     },
     "metadata": {},
     "output_type": "display_data"
    },
    {
     "data": {
      "text/plain": [
       "  0%|          | 0/50 [00:00<?, ?it/s]"
      ],
      "application/vnd.jupyter.widget-view+json": {
       "version_major": 2,
       "version_minor": 0,
       "model_id": "ac41cca3d14f46c49985da6435c75a61"
      }
     },
     "metadata": {},
     "output_type": "display_data"
    },
    {
     "data": {
      "text/plain": [
       "  0%|          | 0/50 [00:00<?, ?it/s]"
      ],
      "application/vnd.jupyter.widget-view+json": {
       "version_major": 2,
       "version_minor": 0,
       "model_id": "f1bbe9b0bf6c48969c995abc22e1316c"
      }
     },
     "metadata": {},
     "output_type": "display_data"
    },
    {
     "data": {
      "text/plain": [
       "  0%|          | 0/50 [00:00<?, ?it/s]"
      ],
      "application/vnd.jupyter.widget-view+json": {
       "version_major": 2,
       "version_minor": 0,
       "model_id": "a3bf28bf3615490394dbfb04aeea8d44"
      }
     },
     "metadata": {},
     "output_type": "display_data"
    },
    {
     "data": {
      "text/plain": [
       "  0%|          | 0/50 [00:00<?, ?it/s]"
      ],
      "application/vnd.jupyter.widget-view+json": {
       "version_major": 2,
       "version_minor": 0,
       "model_id": "80a2705b27204f37b8b8ce701c22ed77"
      }
     },
     "metadata": {},
     "output_type": "display_data"
    },
    {
     "data": {
      "text/plain": [
       "  0%|          | 0/50 [00:00<?, ?it/s]"
      ],
      "application/vnd.jupyter.widget-view+json": {
       "version_major": 2,
       "version_minor": 0,
       "model_id": "22fe5ae8744947d7a18400403069211b"
      }
     },
     "metadata": {},
     "output_type": "display_data"
    },
    {
     "data": {
      "text/plain": [
       "  0%|          | 0/50 [00:00<?, ?it/s]"
      ],
      "application/vnd.jupyter.widget-view+json": {
       "version_major": 2,
       "version_minor": 0,
       "model_id": "708ceb1f2b19462a8aa64d5058fbb830"
      }
     },
     "metadata": {},
     "output_type": "display_data"
    },
    {
     "name": "stderr",
     "output_type": "stream",
     "text": [
      "Potential NSFW content was detected in one or more images. A black image will be returned instead. Try again with a different prompt and/or seed.\n"
     ]
    },
    {
     "data": {
      "text/plain": [
       "  0%|          | 0/50 [00:00<?, ?it/s]"
      ],
      "application/vnd.jupyter.widget-view+json": {
       "version_major": 2,
       "version_minor": 0,
       "model_id": "417b2d516bbb4cc092c3878fdc77c560"
      }
     },
     "metadata": {},
     "output_type": "display_data"
    },
    {
     "data": {
      "text/plain": [
       "  0%|          | 0/50 [00:00<?, ?it/s]"
      ],
      "application/vnd.jupyter.widget-view+json": {
       "version_major": 2,
       "version_minor": 0,
       "model_id": "6d6d067f8c004080abeeba34719306d7"
      }
     },
     "metadata": {},
     "output_type": "display_data"
    },
    {
     "data": {
      "text/plain": [
       "  0%|          | 0/50 [00:00<?, ?it/s]"
      ],
      "application/vnd.jupyter.widget-view+json": {
       "version_major": 2,
       "version_minor": 0,
       "model_id": "8b4e46ae8adb4ca78f9f92ac756fa1bd"
      }
     },
     "metadata": {},
     "output_type": "display_data"
    },
    {
     "data": {
      "text/plain": [
       "  0%|          | 0/50 [00:00<?, ?it/s]"
      ],
      "application/vnd.jupyter.widget-view+json": {
       "version_major": 2,
       "version_minor": 0,
       "model_id": "8ce38676858440e88bad6c77df860f25"
      }
     },
     "metadata": {},
     "output_type": "display_data"
    },
    {
     "data": {
      "text/plain": [
       "  0%|          | 0/50 [00:00<?, ?it/s]"
      ],
      "application/vnd.jupyter.widget-view+json": {
       "version_major": 2,
       "version_minor": 0,
       "model_id": "898b2996dddb4da3a8e9b23345b34075"
      }
     },
     "metadata": {},
     "output_type": "display_data"
    },
    {
     "data": {
      "text/plain": [
       "  0%|          | 0/50 [00:00<?, ?it/s]"
      ],
      "application/vnd.jupyter.widget-view+json": {
       "version_major": 2,
       "version_minor": 0,
       "model_id": "57257cbf998a4bb199a4b6c4538a3827"
      }
     },
     "metadata": {},
     "output_type": "display_data"
    },
    {
     "data": {
      "text/plain": [
       "  0%|          | 0/50 [00:00<?, ?it/s]"
      ],
      "application/vnd.jupyter.widget-view+json": {
       "version_major": 2,
       "version_minor": 0,
       "model_id": "4ae65dd23bc647f4af47494b5f028b80"
      }
     },
     "metadata": {},
     "output_type": "display_data"
    },
    {
     "data": {
      "text/plain": [
       "  0%|          | 0/50 [00:00<?, ?it/s]"
      ],
      "application/vnd.jupyter.widget-view+json": {
       "version_major": 2,
       "version_minor": 0,
       "model_id": "fc5f2fc910384306aa5c06b88f362f04"
      }
     },
     "metadata": {},
     "output_type": "display_data"
    },
    {
     "data": {
      "text/plain": [
       "  0%|          | 0/50 [00:00<?, ?it/s]"
      ],
      "application/vnd.jupyter.widget-view+json": {
       "version_major": 2,
       "version_minor": 0,
       "model_id": "791a0f36f7224461b36b319813823f9c"
      }
     },
     "metadata": {},
     "output_type": "display_data"
    },
    {
     "data": {
      "text/plain": [
       "  0%|          | 0/50 [00:00<?, ?it/s]"
      ],
      "application/vnd.jupyter.widget-view+json": {
       "version_major": 2,
       "version_minor": 0,
       "model_id": "a038a1fa970c449dace04c4e4a1fc2ab"
      }
     },
     "metadata": {},
     "output_type": "display_data"
    },
    {
     "data": {
      "text/plain": [
       "  0%|          | 0/50 [00:00<?, ?it/s]"
      ],
      "application/vnd.jupyter.widget-view+json": {
       "version_major": 2,
       "version_minor": 0,
       "model_id": "90bb8319c36544579194f79bbb81d44d"
      }
     },
     "metadata": {},
     "output_type": "display_data"
    },
    {
     "data": {
      "text/plain": [
       "  0%|          | 0/50 [00:00<?, ?it/s]"
      ],
      "application/vnd.jupyter.widget-view+json": {
       "version_major": 2,
       "version_minor": 0,
       "model_id": "78a789e0e221426e87b1995d5d4a7c48"
      }
     },
     "metadata": {},
     "output_type": "display_data"
    },
    {
     "data": {
      "text/plain": [
       "  0%|          | 0/50 [00:00<?, ?it/s]"
      ],
      "application/vnd.jupyter.widget-view+json": {
       "version_major": 2,
       "version_minor": 0,
       "model_id": "d53df778220641efa11b5518654159bd"
      }
     },
     "metadata": {},
     "output_type": "display_data"
    },
    {
     "data": {
      "text/plain": [
       "  0%|          | 0/50 [00:00<?, ?it/s]"
      ],
      "application/vnd.jupyter.widget-view+json": {
       "version_major": 2,
       "version_minor": 0,
       "model_id": "eb531253893f4583b82abf981535b5b0"
      }
     },
     "metadata": {},
     "output_type": "display_data"
    },
    {
     "data": {
      "text/plain": [
       "  0%|          | 0/50 [00:00<?, ?it/s]"
      ],
      "application/vnd.jupyter.widget-view+json": {
       "version_major": 2,
       "version_minor": 0,
       "model_id": "a69f125325794becb4e4e84a1a355b36"
      }
     },
     "metadata": {},
     "output_type": "display_data"
    },
    {
     "data": {
      "text/plain": [
       "  0%|          | 0/50 [00:00<?, ?it/s]"
      ],
      "application/vnd.jupyter.widget-view+json": {
       "version_major": 2,
       "version_minor": 0,
       "model_id": "d7e9ddaff52342c991cd2cfb993af614"
      }
     },
     "metadata": {},
     "output_type": "display_data"
    },
    {
     "data": {
      "text/plain": [
       "  0%|          | 0/50 [00:00<?, ?it/s]"
      ],
      "application/vnd.jupyter.widget-view+json": {
       "version_major": 2,
       "version_minor": 0,
       "model_id": "b75cdad8119f4523a8bd2dc04d566a08"
      }
     },
     "metadata": {},
     "output_type": "display_data"
    },
    {
     "data": {
      "text/plain": [
       "  0%|          | 0/50 [00:00<?, ?it/s]"
      ],
      "application/vnd.jupyter.widget-view+json": {
       "version_major": 2,
       "version_minor": 0,
       "model_id": "ae87853549024b0993ab1d3294940dbe"
      }
     },
     "metadata": {},
     "output_type": "display_data"
    },
    {
     "data": {
      "text/plain": [
       "  0%|          | 0/50 [00:00<?, ?it/s]"
      ],
      "application/vnd.jupyter.widget-view+json": {
       "version_major": 2,
       "version_minor": 0,
       "model_id": "f9f7ee00b0004032bb9a3d8fcda3c298"
      }
     },
     "metadata": {},
     "output_type": "display_data"
    },
    {
     "data": {
      "text/plain": [
       "  0%|          | 0/50 [00:00<?, ?it/s]"
      ],
      "application/vnd.jupyter.widget-view+json": {
       "version_major": 2,
       "version_minor": 0,
       "model_id": "6d149442a1fa4d6cbe94d584bbe32e0f"
      }
     },
     "metadata": {},
     "output_type": "display_data"
    },
    {
     "data": {
      "text/plain": [
       "  0%|          | 0/50 [00:00<?, ?it/s]"
      ],
      "application/vnd.jupyter.widget-view+json": {
       "version_major": 2,
       "version_minor": 0,
       "model_id": "94108245ad9b4e15afc16d6e07adb90a"
      }
     },
     "metadata": {},
     "output_type": "display_data"
    },
    {
     "data": {
      "text/plain": [
       "  0%|          | 0/50 [00:00<?, ?it/s]"
      ],
      "application/vnd.jupyter.widget-view+json": {
       "version_major": 2,
       "version_minor": 0,
       "model_id": "5272747b9dbb4f77a7ca6c56f549fedf"
      }
     },
     "metadata": {},
     "output_type": "display_data"
    },
    {
     "data": {
      "text/plain": [
       "  0%|          | 0/50 [00:00<?, ?it/s]"
      ],
      "application/vnd.jupyter.widget-view+json": {
       "version_major": 2,
       "version_minor": 0,
       "model_id": "a629930abd6a481985327cf659d07390"
      }
     },
     "metadata": {},
     "output_type": "display_data"
    },
    {
     "data": {
      "text/plain": [
       "  0%|          | 0/50 [00:00<?, ?it/s]"
      ],
      "application/vnd.jupyter.widget-view+json": {
       "version_major": 2,
       "version_minor": 0,
       "model_id": "c49361290eef468c8006fce238c66924"
      }
     },
     "metadata": {},
     "output_type": "display_data"
    },
    {
     "data": {
      "text/plain": [
       "  0%|          | 0/50 [00:00<?, ?it/s]"
      ],
      "application/vnd.jupyter.widget-view+json": {
       "version_major": 2,
       "version_minor": 0,
       "model_id": "227efad4a8fb408cb06fd70a2567c9fa"
      }
     },
     "metadata": {},
     "output_type": "display_data"
    },
    {
     "data": {
      "text/plain": [
       "  0%|          | 0/50 [00:00<?, ?it/s]"
      ],
      "application/vnd.jupyter.widget-view+json": {
       "version_major": 2,
       "version_minor": 0,
       "model_id": "b96dae1df5d4441284b972da742cda5b"
      }
     },
     "metadata": {},
     "output_type": "display_data"
    },
    {
     "data": {
      "text/plain": [
       "  0%|          | 0/50 [00:00<?, ?it/s]"
      ],
      "application/vnd.jupyter.widget-view+json": {
       "version_major": 2,
       "version_minor": 0,
       "model_id": "0ed1ad4d28c5412bbb702fee68bde4a4"
      }
     },
     "metadata": {},
     "output_type": "display_data"
    },
    {
     "data": {
      "text/plain": [
       "  0%|          | 0/50 [00:00<?, ?it/s]"
      ],
      "application/vnd.jupyter.widget-view+json": {
       "version_major": 2,
       "version_minor": 0,
       "model_id": "0b2b06f8e42c4f1aae1f73248357410e"
      }
     },
     "metadata": {},
     "output_type": "display_data"
    },
    {
     "data": {
      "text/plain": [
       "  0%|          | 0/50 [00:00<?, ?it/s]"
      ],
      "application/vnd.jupyter.widget-view+json": {
       "version_major": 2,
       "version_minor": 0,
       "model_id": "24ab64c002a747748a140109a99b444a"
      }
     },
     "metadata": {},
     "output_type": "display_data"
    },
    {
     "data": {
      "text/plain": [
       "  0%|          | 0/50 [00:00<?, ?it/s]"
      ],
      "application/vnd.jupyter.widget-view+json": {
       "version_major": 2,
       "version_minor": 0,
       "model_id": "a133707cc4f74fc2811fee2d11236b2a"
      }
     },
     "metadata": {},
     "output_type": "display_data"
    },
    {
     "data": {
      "text/plain": [
       "  0%|          | 0/50 [00:00<?, ?it/s]"
      ],
      "application/vnd.jupyter.widget-view+json": {
       "version_major": 2,
       "version_minor": 0,
       "model_id": "5157e8cf715a42efacf8dcc10fa00dd6"
      }
     },
     "metadata": {},
     "output_type": "display_data"
    },
    {
     "data": {
      "text/plain": [
       "  0%|          | 0/50 [00:00<?, ?it/s]"
      ],
      "application/vnd.jupyter.widget-view+json": {
       "version_major": 2,
       "version_minor": 0,
       "model_id": "eb1262af44b34ea696b35da12ecd4966"
      }
     },
     "metadata": {},
     "output_type": "display_data"
    },
    {
     "data": {
      "text/plain": [
       "  0%|          | 0/50 [00:00<?, ?it/s]"
      ],
      "application/vnd.jupyter.widget-view+json": {
       "version_major": 2,
       "version_minor": 0,
       "model_id": "ad33ff56faaa49efb6891a89837e45e6"
      }
     },
     "metadata": {},
     "output_type": "display_data"
    },
    {
     "data": {
      "text/plain": [
       "  0%|          | 0/50 [00:00<?, ?it/s]"
      ],
      "application/vnd.jupyter.widget-view+json": {
       "version_major": 2,
       "version_minor": 0,
       "model_id": "5b5706ad5ce94a0887fcc25a0d310b13"
      }
     },
     "metadata": {},
     "output_type": "display_data"
    },
    {
     "data": {
      "text/plain": [
       "  0%|          | 0/50 [00:00<?, ?it/s]"
      ],
      "application/vnd.jupyter.widget-view+json": {
       "version_major": 2,
       "version_minor": 0,
       "model_id": "99a96d1d0e4a465bbf4306db91a70b36"
      }
     },
     "metadata": {},
     "output_type": "display_data"
    },
    {
     "data": {
      "text/plain": [
       "  0%|          | 0/50 [00:00<?, ?it/s]"
      ],
      "application/vnd.jupyter.widget-view+json": {
       "version_major": 2,
       "version_minor": 0,
       "model_id": "9fea5ed1bae84f6ca34503ef8382ff8d"
      }
     },
     "metadata": {},
     "output_type": "display_data"
    },
    {
     "data": {
      "text/plain": [
       "  0%|          | 0/50 [00:00<?, ?it/s]"
      ],
      "application/vnd.jupyter.widget-view+json": {
       "version_major": 2,
       "version_minor": 0,
       "model_id": "9c92c8528413414c99dfe93b771a42a5"
      }
     },
     "metadata": {},
     "output_type": "display_data"
    },
    {
     "data": {
      "text/plain": [
       "  0%|          | 0/50 [00:00<?, ?it/s]"
      ],
      "application/vnd.jupyter.widget-view+json": {
       "version_major": 2,
       "version_minor": 0,
       "model_id": "ff1a191412f648bbacb72a1c361a2179"
      }
     },
     "metadata": {},
     "output_type": "display_data"
    },
    {
     "data": {
      "text/plain": [
       "  0%|          | 0/50 [00:00<?, ?it/s]"
      ],
      "application/vnd.jupyter.widget-view+json": {
       "version_major": 2,
       "version_minor": 0,
       "model_id": "007f8c48a16441d993d1ce778ce56391"
      }
     },
     "metadata": {},
     "output_type": "display_data"
    },
    {
     "data": {
      "text/plain": [
       "  0%|          | 0/50 [00:00<?, ?it/s]"
      ],
      "application/vnd.jupyter.widget-view+json": {
       "version_major": 2,
       "version_minor": 0,
       "model_id": "26b39524e8834a5c967889b230a5f5aa"
      }
     },
     "metadata": {},
     "output_type": "display_data"
    },
    {
     "data": {
      "text/plain": [
       "  0%|          | 0/50 [00:00<?, ?it/s]"
      ],
      "application/vnd.jupyter.widget-view+json": {
       "version_major": 2,
       "version_minor": 0,
       "model_id": "8a11bd9dbfe14e949b06b5c21ea37c05"
      }
     },
     "metadata": {},
     "output_type": "display_data"
    },
    {
     "data": {
      "text/plain": [
       "  0%|          | 0/50 [00:00<?, ?it/s]"
      ],
      "application/vnd.jupyter.widget-view+json": {
       "version_major": 2,
       "version_minor": 0,
       "model_id": "72d8f739ec4245a4a69cbd75db877af8"
      }
     },
     "metadata": {},
     "output_type": "display_data"
    },
    {
     "data": {
      "text/plain": [
       "  0%|          | 0/50 [00:00<?, ?it/s]"
      ],
      "application/vnd.jupyter.widget-view+json": {
       "version_major": 2,
       "version_minor": 0,
       "model_id": "bf675fdb41db40dab36e7efe88d1a56a"
      }
     },
     "metadata": {},
     "output_type": "display_data"
    },
    {
     "data": {
      "text/plain": [
       "  0%|          | 0/50 [00:00<?, ?it/s]"
      ],
      "application/vnd.jupyter.widget-view+json": {
       "version_major": 2,
       "version_minor": 0,
       "model_id": "a36bc447635142229ded446cb5fce45b"
      }
     },
     "metadata": {},
     "output_type": "display_data"
    },
    {
     "data": {
      "text/plain": [
       "  0%|          | 0/50 [00:00<?, ?it/s]"
      ],
      "application/vnd.jupyter.widget-view+json": {
       "version_major": 2,
       "version_minor": 0,
       "model_id": "58732e48c460426a99826b96c01738b1"
      }
     },
     "metadata": {},
     "output_type": "display_data"
    },
    {
     "data": {
      "text/plain": [
       "  0%|          | 0/50 [00:00<?, ?it/s]"
      ],
      "application/vnd.jupyter.widget-view+json": {
       "version_major": 2,
       "version_minor": 0,
       "model_id": "9e747abd59214701be89322030a984e1"
      }
     },
     "metadata": {},
     "output_type": "display_data"
    },
    {
     "data": {
      "text/plain": [
       "  0%|          | 0/50 [00:00<?, ?it/s]"
      ],
      "application/vnd.jupyter.widget-view+json": {
       "version_major": 2,
       "version_minor": 0,
       "model_id": "4dc0d6db50c548068dc11e262f0a4803"
      }
     },
     "metadata": {},
     "output_type": "display_data"
    },
    {
     "data": {
      "text/plain": [
       "  0%|          | 0/50 [00:00<?, ?it/s]"
      ],
      "application/vnd.jupyter.widget-view+json": {
       "version_major": 2,
       "version_minor": 0,
       "model_id": "87b3e319dda54d17b4498679d28e5131"
      }
     },
     "metadata": {},
     "output_type": "display_data"
    },
    {
     "data": {
      "text/plain": [
       "  0%|          | 0/50 [00:00<?, ?it/s]"
      ],
      "application/vnd.jupyter.widget-view+json": {
       "version_major": 2,
       "version_minor": 0,
       "model_id": "cdd0ff250c7048a0a3fb8bde46ab261c"
      }
     },
     "metadata": {},
     "output_type": "display_data"
    },
    {
     "data": {
      "text/plain": [
       "  0%|          | 0/50 [00:00<?, ?it/s]"
      ],
      "application/vnd.jupyter.widget-view+json": {
       "version_major": 2,
       "version_minor": 0,
       "model_id": "6a113d4e68394771b7f2088fcea9e13d"
      }
     },
     "metadata": {},
     "output_type": "display_data"
    },
    {
     "data": {
      "text/plain": [
       "  0%|          | 0/50 [00:00<?, ?it/s]"
      ],
      "application/vnd.jupyter.widget-view+json": {
       "version_major": 2,
       "version_minor": 0,
       "model_id": "44579a52fe034901b3548756deb9f7be"
      }
     },
     "metadata": {},
     "output_type": "display_data"
    },
    {
     "data": {
      "text/plain": [
       "  0%|          | 0/50 [00:00<?, ?it/s]"
      ],
      "application/vnd.jupyter.widget-view+json": {
       "version_major": 2,
       "version_minor": 0,
       "model_id": "9eb3405f80c24171987a5e496abc1117"
      }
     },
     "metadata": {},
     "output_type": "display_data"
    },
    {
     "data": {
      "text/plain": [
       "  0%|          | 0/50 [00:00<?, ?it/s]"
      ],
      "application/vnd.jupyter.widget-view+json": {
       "version_major": 2,
       "version_minor": 0,
       "model_id": "6a1d04992b174ff593415540b3b2b0ed"
      }
     },
     "metadata": {},
     "output_type": "display_data"
    },
    {
     "data": {
      "text/plain": [
       "  0%|          | 0/50 [00:00<?, ?it/s]"
      ],
      "application/vnd.jupyter.widget-view+json": {
       "version_major": 2,
       "version_minor": 0,
       "model_id": "fa7e57579bc641fb8efb2a3864e09f23"
      }
     },
     "metadata": {},
     "output_type": "display_data"
    },
    {
     "data": {
      "text/plain": [
       "  0%|          | 0/50 [00:00<?, ?it/s]"
      ],
      "application/vnd.jupyter.widget-view+json": {
       "version_major": 2,
       "version_minor": 0,
       "model_id": "d0ebbd2be672484196501f0c67433277"
      }
     },
     "metadata": {},
     "output_type": "display_data"
    },
    {
     "data": {
      "text/plain": [
       "  0%|          | 0/50 [00:00<?, ?it/s]"
      ],
      "application/vnd.jupyter.widget-view+json": {
       "version_major": 2,
       "version_minor": 0,
       "model_id": "33de62a4c4474bf6896b73f9dd265642"
      }
     },
     "metadata": {},
     "output_type": "display_data"
    },
    {
     "data": {
      "text/plain": [
       "  0%|          | 0/50 [00:00<?, ?it/s]"
      ],
      "application/vnd.jupyter.widget-view+json": {
       "version_major": 2,
       "version_minor": 0,
       "model_id": "d671e62240954caa900f374b45c86a08"
      }
     },
     "metadata": {},
     "output_type": "display_data"
    },
    {
     "data": {
      "text/plain": [
       "  0%|          | 0/50 [00:00<?, ?it/s]"
      ],
      "application/vnd.jupyter.widget-view+json": {
       "version_major": 2,
       "version_minor": 0,
       "model_id": "ef89bc794e2040eabf26ecb02ebaac54"
      }
     },
     "metadata": {},
     "output_type": "display_data"
    },
    {
     "data": {
      "text/plain": [
       "  0%|          | 0/50 [00:00<?, ?it/s]"
      ],
      "application/vnd.jupyter.widget-view+json": {
       "version_major": 2,
       "version_minor": 0,
       "model_id": "203857bd38f84904975d9cc8d4ae65c9"
      }
     },
     "metadata": {},
     "output_type": "display_data"
    },
    {
     "data": {
      "text/plain": [
       "  0%|          | 0/50 [00:00<?, ?it/s]"
      ],
      "application/vnd.jupyter.widget-view+json": {
       "version_major": 2,
       "version_minor": 0,
       "model_id": "ee236ce9eab54690a9b80b13bb2994b5"
      }
     },
     "metadata": {},
     "output_type": "display_data"
    },
    {
     "data": {
      "text/plain": [
       "  0%|          | 0/50 [00:00<?, ?it/s]"
      ],
      "application/vnd.jupyter.widget-view+json": {
       "version_major": 2,
       "version_minor": 0,
       "model_id": "657e68ca01c54eb7a23667ef9d0214f7"
      }
     },
     "metadata": {},
     "output_type": "display_data"
    },
    {
     "data": {
      "text/plain": [
       "  0%|          | 0/50 [00:00<?, ?it/s]"
      ],
      "application/vnd.jupyter.widget-view+json": {
       "version_major": 2,
       "version_minor": 0,
       "model_id": "f8331e304149437baf900701b9fcdca6"
      }
     },
     "metadata": {},
     "output_type": "display_data"
    },
    {
     "data": {
      "text/plain": [
       "  0%|          | 0/50 [00:00<?, ?it/s]"
      ],
      "application/vnd.jupyter.widget-view+json": {
       "version_major": 2,
       "version_minor": 0,
       "model_id": "c92470970c8343aa9c5726c8363e73cd"
      }
     },
     "metadata": {},
     "output_type": "display_data"
    },
    {
     "data": {
      "text/plain": [
       "  0%|          | 0/50 [00:00<?, ?it/s]"
      ],
      "application/vnd.jupyter.widget-view+json": {
       "version_major": 2,
       "version_minor": 0,
       "model_id": "8efd52e902e5499095a1d068c4663426"
      }
     },
     "metadata": {},
     "output_type": "display_data"
    },
    {
     "data": {
      "text/plain": [
       "  0%|          | 0/50 [00:00<?, ?it/s]"
      ],
      "application/vnd.jupyter.widget-view+json": {
       "version_major": 2,
       "version_minor": 0,
       "model_id": "a4cbd2502c284ccabb2185a6be5856a4"
      }
     },
     "metadata": {},
     "output_type": "display_data"
    },
    {
     "data": {
      "text/plain": [
       "  0%|          | 0/50 [00:00<?, ?it/s]"
      ],
      "application/vnd.jupyter.widget-view+json": {
       "version_major": 2,
       "version_minor": 0,
       "model_id": "007f8dcf9c164cc4bb41068bcf3d61ec"
      }
     },
     "metadata": {},
     "output_type": "display_data"
    },
    {
     "data": {
      "text/plain": [
       "  0%|          | 0/50 [00:00<?, ?it/s]"
      ],
      "application/vnd.jupyter.widget-view+json": {
       "version_major": 2,
       "version_minor": 0,
       "model_id": "af6353877917404cb9761d1754a50ae8"
      }
     },
     "metadata": {},
     "output_type": "display_data"
    },
    {
     "data": {
      "text/plain": [
       "  0%|          | 0/50 [00:00<?, ?it/s]"
      ],
      "application/vnd.jupyter.widget-view+json": {
       "version_major": 2,
       "version_minor": 0,
       "model_id": "e655fe7155344ef1b3e9e10d8225bf01"
      }
     },
     "metadata": {},
     "output_type": "display_data"
    },
    {
     "data": {
      "text/plain": [
       "  0%|          | 0/50 [00:00<?, ?it/s]"
      ],
      "application/vnd.jupyter.widget-view+json": {
       "version_major": 2,
       "version_minor": 0,
       "model_id": "21d0411e3f5f44e5a97bcb30c21d1a4d"
      }
     },
     "metadata": {},
     "output_type": "display_data"
    },
    {
     "data": {
      "text/plain": [
       "  0%|          | 0/50 [00:00<?, ?it/s]"
      ],
      "application/vnd.jupyter.widget-view+json": {
       "version_major": 2,
       "version_minor": 0,
       "model_id": "a23e3379fb77441885b7d7d56126b8a6"
      }
     },
     "metadata": {},
     "output_type": "display_data"
    },
    {
     "data": {
      "text/plain": [
       "  0%|          | 0/50 [00:00<?, ?it/s]"
      ],
      "application/vnd.jupyter.widget-view+json": {
       "version_major": 2,
       "version_minor": 0,
       "model_id": "efee1580c7654d5395d971ec246efc75"
      }
     },
     "metadata": {},
     "output_type": "display_data"
    },
    {
     "data": {
      "text/plain": [
       "  0%|          | 0/50 [00:00<?, ?it/s]"
      ],
      "application/vnd.jupyter.widget-view+json": {
       "version_major": 2,
       "version_minor": 0,
       "model_id": "9aa2ac37ca804bef9866792fe6875860"
      }
     },
     "metadata": {},
     "output_type": "display_data"
    },
    {
     "data": {
      "text/plain": [
       "  0%|          | 0/50 [00:00<?, ?it/s]"
      ],
      "application/vnd.jupyter.widget-view+json": {
       "version_major": 2,
       "version_minor": 0,
       "model_id": "223745ddc7ea44839e345189398cb1de"
      }
     },
     "metadata": {},
     "output_type": "display_data"
    },
    {
     "data": {
      "text/plain": [
       "  0%|          | 0/50 [00:00<?, ?it/s]"
      ],
      "application/vnd.jupyter.widget-view+json": {
       "version_major": 2,
       "version_minor": 0,
       "model_id": "6db041d0c64849b19253dff6ff3fe2c8"
      }
     },
     "metadata": {},
     "output_type": "display_data"
    },
    {
     "data": {
      "text/plain": [
       "  0%|          | 0/50 [00:00<?, ?it/s]"
      ],
      "application/vnd.jupyter.widget-view+json": {
       "version_major": 2,
       "version_minor": 0,
       "model_id": "587c19962fa14d85b97e236ac25abe5e"
      }
     },
     "metadata": {},
     "output_type": "display_data"
    },
    {
     "data": {
      "text/plain": [
       "  0%|          | 0/50 [00:00<?, ?it/s]"
      ],
      "application/vnd.jupyter.widget-view+json": {
       "version_major": 2,
       "version_minor": 0,
       "model_id": "f1cc466ed7ee487a8b246faef1ced871"
      }
     },
     "metadata": {},
     "output_type": "display_data"
    },
    {
     "data": {
      "text/plain": [
       "  0%|          | 0/50 [00:00<?, ?it/s]"
      ],
      "application/vnd.jupyter.widget-view+json": {
       "version_major": 2,
       "version_minor": 0,
       "model_id": "7d16e67aae944f939ed9be337205df93"
      }
     },
     "metadata": {},
     "output_type": "display_data"
    },
    {
     "data": {
      "text/plain": [
       "  0%|          | 0/50 [00:00<?, ?it/s]"
      ],
      "application/vnd.jupyter.widget-view+json": {
       "version_major": 2,
       "version_minor": 0,
       "model_id": "fa1179c7bb004e4ab52203aeae64e32a"
      }
     },
     "metadata": {},
     "output_type": "display_data"
    },
    {
     "data": {
      "text/plain": [
       "  0%|          | 0/50 [00:00<?, ?it/s]"
      ],
      "application/vnd.jupyter.widget-view+json": {
       "version_major": 2,
       "version_minor": 0,
       "model_id": "7c5fb5a6d84f41b3b786a35c864e3e0d"
      }
     },
     "metadata": {},
     "output_type": "display_data"
    },
    {
     "data": {
      "text/plain": [
       "  0%|          | 0/50 [00:00<?, ?it/s]"
      ],
      "application/vnd.jupyter.widget-view+json": {
       "version_major": 2,
       "version_minor": 0,
       "model_id": "b4c2961154a54810a9a87432b523e422"
      }
     },
     "metadata": {},
     "output_type": "display_data"
    },
    {
     "data": {
      "text/plain": [
       "  0%|          | 0/50 [00:00<?, ?it/s]"
      ],
      "application/vnd.jupyter.widget-view+json": {
       "version_major": 2,
       "version_minor": 0,
       "model_id": "c54624dc8f654ce1a8e453e4946319dc"
      }
     },
     "metadata": {},
     "output_type": "display_data"
    },
    {
     "data": {
      "text/plain": [
       "  0%|          | 0/50 [00:00<?, ?it/s]"
      ],
      "application/vnd.jupyter.widget-view+json": {
       "version_major": 2,
       "version_minor": 0,
       "model_id": "d9e144cff7fe43618a701e3ebc5e7f6a"
      }
     },
     "metadata": {},
     "output_type": "display_data"
    },
    {
     "data": {
      "text/plain": [
       "  0%|          | 0/50 [00:00<?, ?it/s]"
      ],
      "application/vnd.jupyter.widget-view+json": {
       "version_major": 2,
       "version_minor": 0,
       "model_id": "3ed0888edf4b4a3caa974fa3301841e6"
      }
     },
     "metadata": {},
     "output_type": "display_data"
    },
    {
     "data": {
      "text/plain": [
       "  0%|          | 0/50 [00:00<?, ?it/s]"
      ],
      "application/vnd.jupyter.widget-view+json": {
       "version_major": 2,
       "version_minor": 0,
       "model_id": "284c8b51fba249f5b560bf1a50663f8e"
      }
     },
     "metadata": {},
     "output_type": "display_data"
    },
    {
     "data": {
      "text/plain": [
       "  0%|          | 0/50 [00:00<?, ?it/s]"
      ],
      "application/vnd.jupyter.widget-view+json": {
       "version_major": 2,
       "version_minor": 0,
       "model_id": "3d902c03e6604aa0817afff52244f48c"
      }
     },
     "metadata": {},
     "output_type": "display_data"
    },
    {
     "data": {
      "text/plain": [
       "  0%|          | 0/50 [00:00<?, ?it/s]"
      ],
      "application/vnd.jupyter.widget-view+json": {
       "version_major": 2,
       "version_minor": 0,
       "model_id": "dc8a36ef5a6a4020a42e2716c28aee44"
      }
     },
     "metadata": {},
     "output_type": "display_data"
    },
    {
     "data": {
      "text/plain": [
       "  0%|          | 0/50 [00:00<?, ?it/s]"
      ],
      "application/vnd.jupyter.widget-view+json": {
       "version_major": 2,
       "version_minor": 0,
       "model_id": "55ab5bd8b1f740338268f3df2393bb4a"
      }
     },
     "metadata": {},
     "output_type": "display_data"
    },
    {
     "data": {
      "text/plain": [
       "  0%|          | 0/50 [00:00<?, ?it/s]"
      ],
      "application/vnd.jupyter.widget-view+json": {
       "version_major": 2,
       "version_minor": 0,
       "model_id": "338100528f06462e9e1a316268871c52"
      }
     },
     "metadata": {},
     "output_type": "display_data"
    },
    {
     "data": {
      "text/plain": [
       "  0%|          | 0/50 [00:00<?, ?it/s]"
      ],
      "application/vnd.jupyter.widget-view+json": {
       "version_major": 2,
       "version_minor": 0,
       "model_id": "a21dbd38b0b749bca52c1faf3158078f"
      }
     },
     "metadata": {},
     "output_type": "display_data"
    },
    {
     "data": {
      "text/plain": [
       "  0%|          | 0/50 [00:00<?, ?it/s]"
      ],
      "application/vnd.jupyter.widget-view+json": {
       "version_major": 2,
       "version_minor": 0,
       "model_id": "cb2ecc19a5904a11a2e80b24e528ab2c"
      }
     },
     "metadata": {},
     "output_type": "display_data"
    },
    {
     "data": {
      "text/plain": [
       "  0%|          | 0/50 [00:00<?, ?it/s]"
      ],
      "application/vnd.jupyter.widget-view+json": {
       "version_major": 2,
       "version_minor": 0,
       "model_id": "80c09f34346540c683b4ec145e00702c"
      }
     },
     "metadata": {},
     "output_type": "display_data"
    },
    {
     "data": {
      "text/plain": [
       "  0%|          | 0/50 [00:00<?, ?it/s]"
      ],
      "application/vnd.jupyter.widget-view+json": {
       "version_major": 2,
       "version_minor": 0,
       "model_id": "bd7310ab06a7497f971d292572617d39"
      }
     },
     "metadata": {},
     "output_type": "display_data"
    },
    {
     "data": {
      "text/plain": [
       "  0%|          | 0/50 [00:00<?, ?it/s]"
      ],
      "application/vnd.jupyter.widget-view+json": {
       "version_major": 2,
       "version_minor": 0,
       "model_id": "d726484b538c44d6b15821e1893ee259"
      }
     },
     "metadata": {},
     "output_type": "display_data"
    },
    {
     "data": {
      "text/plain": [
       "  0%|          | 0/50 [00:00<?, ?it/s]"
      ],
      "application/vnd.jupyter.widget-view+json": {
       "version_major": 2,
       "version_minor": 0,
       "model_id": "cf2bf284503e4b6499359ed1302bcf1e"
      }
     },
     "metadata": {},
     "output_type": "display_data"
    },
    {
     "data": {
      "text/plain": [
       "  0%|          | 0/50 [00:00<?, ?it/s]"
      ],
      "application/vnd.jupyter.widget-view+json": {
       "version_major": 2,
       "version_minor": 0,
       "model_id": "69f0f2da1dbe46cab08d9f87ef293aba"
      }
     },
     "metadata": {},
     "output_type": "display_data"
    },
    {
     "data": {
      "text/plain": [
       "  0%|          | 0/50 [00:00<?, ?it/s]"
      ],
      "application/vnd.jupyter.widget-view+json": {
       "version_major": 2,
       "version_minor": 0,
       "model_id": "1375b11b7e724c8fa3f932c3a594fbab"
      }
     },
     "metadata": {},
     "output_type": "display_data"
    },
    {
     "data": {
      "text/plain": [
       "  0%|          | 0/50 [00:00<?, ?it/s]"
      ],
      "application/vnd.jupyter.widget-view+json": {
       "version_major": 2,
       "version_minor": 0,
       "model_id": "98b4803d788646dfbb525af47837e9a5"
      }
     },
     "metadata": {},
     "output_type": "display_data"
    },
    {
     "data": {
      "text/plain": [
       "  0%|          | 0/50 [00:00<?, ?it/s]"
      ],
      "application/vnd.jupyter.widget-view+json": {
       "version_major": 2,
       "version_minor": 0,
       "model_id": "df19876d1da14244ba2a4acd0bb98cab"
      }
     },
     "metadata": {},
     "output_type": "display_data"
    },
    {
     "data": {
      "text/plain": [
       "  0%|          | 0/50 [00:00<?, ?it/s]"
      ],
      "application/vnd.jupyter.widget-view+json": {
       "version_major": 2,
       "version_minor": 0,
       "model_id": "d831cd225c6740a3991d6e59140f1c27"
      }
     },
     "metadata": {},
     "output_type": "display_data"
    },
    {
     "data": {
      "text/plain": [
       "  0%|          | 0/50 [00:00<?, ?it/s]"
      ],
      "application/vnd.jupyter.widget-view+json": {
       "version_major": 2,
       "version_minor": 0,
       "model_id": "907e6b4ac510435fa1063ffe876c7fca"
      }
     },
     "metadata": {},
     "output_type": "display_data"
    },
    {
     "data": {
      "text/plain": [
       "  0%|          | 0/50 [00:00<?, ?it/s]"
      ],
      "application/vnd.jupyter.widget-view+json": {
       "version_major": 2,
       "version_minor": 0,
       "model_id": "4bbd81b9112b437fb6518ee304940c2a"
      }
     },
     "metadata": {},
     "output_type": "display_data"
    },
    {
     "data": {
      "text/plain": [
       "  0%|          | 0/50 [00:00<?, ?it/s]"
      ],
      "application/vnd.jupyter.widget-view+json": {
       "version_major": 2,
       "version_minor": 0,
       "model_id": "cfc4f9b13eb44d2393d118e5542a0c2b"
      }
     },
     "metadata": {},
     "output_type": "display_data"
    },
    {
     "data": {
      "text/plain": [
       "  0%|          | 0/50 [00:00<?, ?it/s]"
      ],
      "application/vnd.jupyter.widget-view+json": {
       "version_major": 2,
       "version_minor": 0,
       "model_id": "492db932ea3744a2b3d320ad4fd4f22e"
      }
     },
     "metadata": {},
     "output_type": "display_data"
    },
    {
     "data": {
      "text/plain": [
       "  0%|          | 0/50 [00:00<?, ?it/s]"
      ],
      "application/vnd.jupyter.widget-view+json": {
       "version_major": 2,
       "version_minor": 0,
       "model_id": "acb2dd78443f4945818b1e18767d639e"
      }
     },
     "metadata": {},
     "output_type": "display_data"
    },
    {
     "data": {
      "text/plain": [
       "  0%|          | 0/50 [00:00<?, ?it/s]"
      ],
      "application/vnd.jupyter.widget-view+json": {
       "version_major": 2,
       "version_minor": 0,
       "model_id": "d178b4c2f23e461081677059846597cf"
      }
     },
     "metadata": {},
     "output_type": "display_data"
    },
    {
     "data": {
      "text/plain": [
       "  0%|          | 0/50 [00:00<?, ?it/s]"
      ],
      "application/vnd.jupyter.widget-view+json": {
       "version_major": 2,
       "version_minor": 0,
       "model_id": "b121a1e841b3424a938d5b81b64888c7"
      }
     },
     "metadata": {},
     "output_type": "display_data"
    },
    {
     "data": {
      "text/plain": [
       "  0%|          | 0/50 [00:00<?, ?it/s]"
      ],
      "application/vnd.jupyter.widget-view+json": {
       "version_major": 2,
       "version_minor": 0,
       "model_id": "7508d721ed3d4022b32910d0563c15d2"
      }
     },
     "metadata": {},
     "output_type": "display_data"
    },
    {
     "data": {
      "text/plain": [
       "  0%|          | 0/50 [00:00<?, ?it/s]"
      ],
      "application/vnd.jupyter.widget-view+json": {
       "version_major": 2,
       "version_minor": 0,
       "model_id": "28b357dfad4146cbb7c802e5b442dfcf"
      }
     },
     "metadata": {},
     "output_type": "display_data"
    },
    {
     "data": {
      "text/plain": [
       "  0%|          | 0/50 [00:00<?, ?it/s]"
      ],
      "application/vnd.jupyter.widget-view+json": {
       "version_major": 2,
       "version_minor": 0,
       "model_id": "0cac1355a635489eb6ced8b4a03d316f"
      }
     },
     "metadata": {},
     "output_type": "display_data"
    },
    {
     "data": {
      "text/plain": [
       "  0%|          | 0/50 [00:00<?, ?it/s]"
      ],
      "application/vnd.jupyter.widget-view+json": {
       "version_major": 2,
       "version_minor": 0,
       "model_id": "42123db8aa274475932ee263cc42da8d"
      }
     },
     "metadata": {},
     "output_type": "display_data"
    },
    {
     "data": {
      "text/plain": [
       "  0%|          | 0/50 [00:00<?, ?it/s]"
      ],
      "application/vnd.jupyter.widget-view+json": {
       "version_major": 2,
       "version_minor": 0,
       "model_id": "b508bbad56e24181bb7e23592156ec8f"
      }
     },
     "metadata": {},
     "output_type": "display_data"
    },
    {
     "data": {
      "text/plain": [
       "  0%|          | 0/50 [00:00<?, ?it/s]"
      ],
      "application/vnd.jupyter.widget-view+json": {
       "version_major": 2,
       "version_minor": 0,
       "model_id": "cb4fd063af404602a4e886798778c3ba"
      }
     },
     "metadata": {},
     "output_type": "display_data"
    },
    {
     "data": {
      "text/plain": [
       "  0%|          | 0/50 [00:00<?, ?it/s]"
      ],
      "application/vnd.jupyter.widget-view+json": {
       "version_major": 2,
       "version_minor": 0,
       "model_id": "36cfa091724d491b93c25a7dbde06b5c"
      }
     },
     "metadata": {},
     "output_type": "display_data"
    },
    {
     "data": {
      "text/plain": [
       "  0%|          | 0/50 [00:00<?, ?it/s]"
      ],
      "application/vnd.jupyter.widget-view+json": {
       "version_major": 2,
       "version_minor": 0,
       "model_id": "0a43be071cc84c04b87f3a73f3fcd734"
      }
     },
     "metadata": {},
     "output_type": "display_data"
    },
    {
     "data": {
      "text/plain": [
       "  0%|          | 0/50 [00:00<?, ?it/s]"
      ],
      "application/vnd.jupyter.widget-view+json": {
       "version_major": 2,
       "version_minor": 0,
       "model_id": "30154d4c7f8247e2a38eddc291734deb"
      }
     },
     "metadata": {},
     "output_type": "display_data"
    },
    {
     "data": {
      "text/plain": [
       "  0%|          | 0/50 [00:00<?, ?it/s]"
      ],
      "application/vnd.jupyter.widget-view+json": {
       "version_major": 2,
       "version_minor": 0,
       "model_id": "425c78caae20416b8d98766da4f12ceb"
      }
     },
     "metadata": {},
     "output_type": "display_data"
    },
    {
     "data": {
      "text/plain": [
       "  0%|          | 0/50 [00:00<?, ?it/s]"
      ],
      "application/vnd.jupyter.widget-view+json": {
       "version_major": 2,
       "version_minor": 0,
       "model_id": "6e290b27860e4d879ef122ef026b0290"
      }
     },
     "metadata": {},
     "output_type": "display_data"
    },
    {
     "data": {
      "text/plain": [
       "  0%|          | 0/50 [00:00<?, ?it/s]"
      ],
      "application/vnd.jupyter.widget-view+json": {
       "version_major": 2,
       "version_minor": 0,
       "model_id": "6f82d697391c4920ab0e8803005eace1"
      }
     },
     "metadata": {},
     "output_type": "display_data"
    },
    {
     "data": {
      "text/plain": [
       "  0%|          | 0/50 [00:00<?, ?it/s]"
      ],
      "application/vnd.jupyter.widget-view+json": {
       "version_major": 2,
       "version_minor": 0,
       "model_id": "eb002faf86ef4131a4e3c16e1fe7a8dd"
      }
     },
     "metadata": {},
     "output_type": "display_data"
    },
    {
     "data": {
      "text/plain": [
       "  0%|          | 0/50 [00:00<?, ?it/s]"
      ],
      "application/vnd.jupyter.widget-view+json": {
       "version_major": 2,
       "version_minor": 0,
       "model_id": "8d5de69345e74a1c84c1d276d0d77cea"
      }
     },
     "metadata": {},
     "output_type": "display_data"
    },
    {
     "data": {
      "text/plain": [
       "  0%|          | 0/50 [00:00<?, ?it/s]"
      ],
      "application/vnd.jupyter.widget-view+json": {
       "version_major": 2,
       "version_minor": 0,
       "model_id": "d97857bc87be4c058799a5cc7288e084"
      }
     },
     "metadata": {},
     "output_type": "display_data"
    },
    {
     "data": {
      "text/plain": [
       "  0%|          | 0/50 [00:00<?, ?it/s]"
      ],
      "application/vnd.jupyter.widget-view+json": {
       "version_major": 2,
       "version_minor": 0,
       "model_id": "4172969595fa484dbdcba196abf76d87"
      }
     },
     "metadata": {},
     "output_type": "display_data"
    },
    {
     "data": {
      "text/plain": [
       "  0%|          | 0/50 [00:00<?, ?it/s]"
      ],
      "application/vnd.jupyter.widget-view+json": {
       "version_major": 2,
       "version_minor": 0,
       "model_id": "27d2c09ef1f64dab9f531df06b655f39"
      }
     },
     "metadata": {},
     "output_type": "display_data"
    },
    {
     "data": {
      "text/plain": [
       "  0%|          | 0/50 [00:00<?, ?it/s]"
      ],
      "application/vnd.jupyter.widget-view+json": {
       "version_major": 2,
       "version_minor": 0,
       "model_id": "1777f12819054cdb82bdb5071fd140a0"
      }
     },
     "metadata": {},
     "output_type": "display_data"
    },
    {
     "data": {
      "text/plain": [
       "  0%|          | 0/50 [00:00<?, ?it/s]"
      ],
      "application/vnd.jupyter.widget-view+json": {
       "version_major": 2,
       "version_minor": 0,
       "model_id": "3a7f93482cb140919483ddc050aa5dc1"
      }
     },
     "metadata": {},
     "output_type": "display_data"
    },
    {
     "data": {
      "text/plain": [
       "  0%|          | 0/50 [00:00<?, ?it/s]"
      ],
      "application/vnd.jupyter.widget-view+json": {
       "version_major": 2,
       "version_minor": 0,
       "model_id": "68e1122ed15141ff823fbd5914edc49e"
      }
     },
     "metadata": {},
     "output_type": "display_data"
    },
    {
     "data": {
      "text/plain": [
       "  0%|          | 0/50 [00:00<?, ?it/s]"
      ],
      "application/vnd.jupyter.widget-view+json": {
       "version_major": 2,
       "version_minor": 0,
       "model_id": "d15a8c865d08402d96acb483b7129d3a"
      }
     },
     "metadata": {},
     "output_type": "display_data"
    },
    {
     "data": {
      "text/plain": [
       "  0%|          | 0/50 [00:00<?, ?it/s]"
      ],
      "application/vnd.jupyter.widget-view+json": {
       "version_major": 2,
       "version_minor": 0,
       "model_id": "8f93cc57c69c49428943a39167eb9e55"
      }
     },
     "metadata": {},
     "output_type": "display_data"
    },
    {
     "data": {
      "text/plain": [
       "  0%|          | 0/50 [00:00<?, ?it/s]"
      ],
      "application/vnd.jupyter.widget-view+json": {
       "version_major": 2,
       "version_minor": 0,
       "model_id": "fb31f59365d140879391ac45b090e71f"
      }
     },
     "metadata": {},
     "output_type": "display_data"
    },
    {
     "data": {
      "text/plain": [
       "  0%|          | 0/50 [00:00<?, ?it/s]"
      ],
      "application/vnd.jupyter.widget-view+json": {
       "version_major": 2,
       "version_minor": 0,
       "model_id": "acd1595361524079a369b1835fc48c87"
      }
     },
     "metadata": {},
     "output_type": "display_data"
    },
    {
     "data": {
      "text/plain": [
       "  0%|          | 0/50 [00:00<?, ?it/s]"
      ],
      "application/vnd.jupyter.widget-view+json": {
       "version_major": 2,
       "version_minor": 0,
       "model_id": "99fbad3f588a4cb4980f2721d48e47ef"
      }
     },
     "metadata": {},
     "output_type": "display_data"
    },
    {
     "data": {
      "text/plain": [
       "  0%|          | 0/50 [00:00<?, ?it/s]"
      ],
      "application/vnd.jupyter.widget-view+json": {
       "version_major": 2,
       "version_minor": 0,
       "model_id": "106dad1655944b1ba54eef94947c190c"
      }
     },
     "metadata": {},
     "output_type": "display_data"
    },
    {
     "data": {
      "text/plain": [
       "  0%|          | 0/50 [00:00<?, ?it/s]"
      ],
      "application/vnd.jupyter.widget-view+json": {
       "version_major": 2,
       "version_minor": 0,
       "model_id": "dfe3ce6344614598b87a8c4d3b2da2a0"
      }
     },
     "metadata": {},
     "output_type": "display_data"
    },
    {
     "data": {
      "text/plain": [
       "  0%|          | 0/50 [00:00<?, ?it/s]"
      ],
      "application/vnd.jupyter.widget-view+json": {
       "version_major": 2,
       "version_minor": 0,
       "model_id": "ea6f12e423e948c28c437e1163df68ca"
      }
     },
     "metadata": {},
     "output_type": "display_data"
    },
    {
     "data": {
      "text/plain": [
       "  0%|          | 0/50 [00:00<?, ?it/s]"
      ],
      "application/vnd.jupyter.widget-view+json": {
       "version_major": 2,
       "version_minor": 0,
       "model_id": "1f5c5e8b16644437a60961d785fec600"
      }
     },
     "metadata": {},
     "output_type": "display_data"
    },
    {
     "data": {
      "text/plain": [
       "  0%|          | 0/50 [00:00<?, ?it/s]"
      ],
      "application/vnd.jupyter.widget-view+json": {
       "version_major": 2,
       "version_minor": 0,
       "model_id": "1b140b55bbb04b4f9e7aa89131204007"
      }
     },
     "metadata": {},
     "output_type": "display_data"
    },
    {
     "data": {
      "text/plain": [
       "  0%|          | 0/50 [00:00<?, ?it/s]"
      ],
      "application/vnd.jupyter.widget-view+json": {
       "version_major": 2,
       "version_minor": 0,
       "model_id": "d6e2e7b0d8b94ed9bfed72ad471179da"
      }
     },
     "metadata": {},
     "output_type": "display_data"
    },
    {
     "data": {
      "text/plain": [
       "  0%|          | 0/50 [00:00<?, ?it/s]"
      ],
      "application/vnd.jupyter.widget-view+json": {
       "version_major": 2,
       "version_minor": 0,
       "model_id": "f6fced49fe68424782a9bf9756db01e8"
      }
     },
     "metadata": {},
     "output_type": "display_data"
    },
    {
     "data": {
      "text/plain": [
       "  0%|          | 0/50 [00:00<?, ?it/s]"
      ],
      "application/vnd.jupyter.widget-view+json": {
       "version_major": 2,
       "version_minor": 0,
       "model_id": "9d4a32bb2c8542fead810a7b1517c406"
      }
     },
     "metadata": {},
     "output_type": "display_data"
    },
    {
     "data": {
      "text/plain": [
       "  0%|          | 0/50 [00:00<?, ?it/s]"
      ],
      "application/vnd.jupyter.widget-view+json": {
       "version_major": 2,
       "version_minor": 0,
       "model_id": "0c3ce3cc2241417381e4145dcb6d9834"
      }
     },
     "metadata": {},
     "output_type": "display_data"
    },
    {
     "data": {
      "text/plain": [
       "  0%|          | 0/50 [00:00<?, ?it/s]"
      ],
      "application/vnd.jupyter.widget-view+json": {
       "version_major": 2,
       "version_minor": 0,
       "model_id": "e933bf3342dc4a36aafa67436b432e4b"
      }
     },
     "metadata": {},
     "output_type": "display_data"
    },
    {
     "data": {
      "text/plain": [
       "  0%|          | 0/50 [00:00<?, ?it/s]"
      ],
      "application/vnd.jupyter.widget-view+json": {
       "version_major": 2,
       "version_minor": 0,
       "model_id": "15e47891b9dd454594ab89db6e8eda24"
      }
     },
     "metadata": {},
     "output_type": "display_data"
    },
    {
     "data": {
      "text/plain": [
       "  0%|          | 0/50 [00:00<?, ?it/s]"
      ],
      "application/vnd.jupyter.widget-view+json": {
       "version_major": 2,
       "version_minor": 0,
       "model_id": "b2ddef680bd54452b9cd44a5f46ac976"
      }
     },
     "metadata": {},
     "output_type": "display_data"
    },
    {
     "data": {
      "text/plain": [
       "  0%|          | 0/50 [00:00<?, ?it/s]"
      ],
      "application/vnd.jupyter.widget-view+json": {
       "version_major": 2,
       "version_minor": 0,
       "model_id": "447c16d955b544a6aed1ef746f5525af"
      }
     },
     "metadata": {},
     "output_type": "display_data"
    },
    {
     "data": {
      "text/plain": [
       "  0%|          | 0/50 [00:00<?, ?it/s]"
      ],
      "application/vnd.jupyter.widget-view+json": {
       "version_major": 2,
       "version_minor": 0,
       "model_id": "cb9d13cbd4ad40ec8347d7193c1d7708"
      }
     },
     "metadata": {},
     "output_type": "display_data"
    },
    {
     "data": {
      "text/plain": [
       "  0%|          | 0/50 [00:00<?, ?it/s]"
      ],
      "application/vnd.jupyter.widget-view+json": {
       "version_major": 2,
       "version_minor": 0,
       "model_id": "b06d645727d64cf595c3e782bac46551"
      }
     },
     "metadata": {},
     "output_type": "display_data"
    },
    {
     "data": {
      "text/plain": [
       "  0%|          | 0/50 [00:00<?, ?it/s]"
      ],
      "application/vnd.jupyter.widget-view+json": {
       "version_major": 2,
       "version_minor": 0,
       "model_id": "ba69045f4c2b4f6e822b54344660d7a9"
      }
     },
     "metadata": {},
     "output_type": "display_data"
    },
    {
     "data": {
      "text/plain": [
       "  0%|          | 0/50 [00:00<?, ?it/s]"
      ],
      "application/vnd.jupyter.widget-view+json": {
       "version_major": 2,
       "version_minor": 0,
       "model_id": "cd977af857094c4e9496028cdaa93fdb"
      }
     },
     "metadata": {},
     "output_type": "display_data"
    },
    {
     "data": {
      "text/plain": [
       "  0%|          | 0/50 [00:00<?, ?it/s]"
      ],
      "application/vnd.jupyter.widget-view+json": {
       "version_major": 2,
       "version_minor": 0,
       "model_id": "1336936f27784788900f61d655aad2b6"
      }
     },
     "metadata": {},
     "output_type": "display_data"
    },
    {
     "data": {
      "text/plain": [
       "  0%|          | 0/50 [00:00<?, ?it/s]"
      ],
      "application/vnd.jupyter.widget-view+json": {
       "version_major": 2,
       "version_minor": 0,
       "model_id": "a251701de41e425390dc8a450e142246"
      }
     },
     "metadata": {},
     "output_type": "display_data"
    },
    {
     "data": {
      "text/plain": [
       "  0%|          | 0/50 [00:00<?, ?it/s]"
      ],
      "application/vnd.jupyter.widget-view+json": {
       "version_major": 2,
       "version_minor": 0,
       "model_id": "fa14778a608a45be8eb8168680c232c5"
      }
     },
     "metadata": {},
     "output_type": "display_data"
    },
    {
     "data": {
      "text/plain": [
       "  0%|          | 0/50 [00:00<?, ?it/s]"
      ],
      "application/vnd.jupyter.widget-view+json": {
       "version_major": 2,
       "version_minor": 0,
       "model_id": "38b4050423344209b7907d4f5d2aba01"
      }
     },
     "metadata": {},
     "output_type": "display_data"
    },
    {
     "data": {
      "text/plain": [
       "  0%|          | 0/50 [00:00<?, ?it/s]"
      ],
      "application/vnd.jupyter.widget-view+json": {
       "version_major": 2,
       "version_minor": 0,
       "model_id": "66d8917c123040dd985069b262dd8b2b"
      }
     },
     "metadata": {},
     "output_type": "display_data"
    },
    {
     "data": {
      "text/plain": [
       "  0%|          | 0/50 [00:00<?, ?it/s]"
      ],
      "application/vnd.jupyter.widget-view+json": {
       "version_major": 2,
       "version_minor": 0,
       "model_id": "32a0d9485be14fbfa0e43214767be2bf"
      }
     },
     "metadata": {},
     "output_type": "display_data"
    },
    {
     "data": {
      "text/plain": [
       "  0%|          | 0/50 [00:00<?, ?it/s]"
      ],
      "application/vnd.jupyter.widget-view+json": {
       "version_major": 2,
       "version_minor": 0,
       "model_id": "3655b0656d94405285307a2b1fed809b"
      }
     },
     "metadata": {},
     "output_type": "display_data"
    },
    {
     "data": {
      "text/plain": [
       "  0%|          | 0/50 [00:00<?, ?it/s]"
      ],
      "application/vnd.jupyter.widget-view+json": {
       "version_major": 2,
       "version_minor": 0,
       "model_id": "7e7082bae55d49fe8f4b9607f8f96221"
      }
     },
     "metadata": {},
     "output_type": "display_data"
    },
    {
     "data": {
      "text/plain": [
       "  0%|          | 0/50 [00:00<?, ?it/s]"
      ],
      "application/vnd.jupyter.widget-view+json": {
       "version_major": 2,
       "version_minor": 0,
       "model_id": "7fdc7def875a4576a5ff891aaac01677"
      }
     },
     "metadata": {},
     "output_type": "display_data"
    },
    {
     "data": {
      "text/plain": [
       "  0%|          | 0/50 [00:00<?, ?it/s]"
      ],
      "application/vnd.jupyter.widget-view+json": {
       "version_major": 2,
       "version_minor": 0,
       "model_id": "b584d04493d543bea63081bdfe19dbef"
      }
     },
     "metadata": {},
     "output_type": "display_data"
    },
    {
     "data": {
      "text/plain": [
       "  0%|          | 0/50 [00:00<?, ?it/s]"
      ],
      "application/vnd.jupyter.widget-view+json": {
       "version_major": 2,
       "version_minor": 0,
       "model_id": "4552e927e7b04ea1aac1d146dd96071f"
      }
     },
     "metadata": {},
     "output_type": "display_data"
    },
    {
     "data": {
      "text/plain": [
       "  0%|          | 0/50 [00:00<?, ?it/s]"
      ],
      "application/vnd.jupyter.widget-view+json": {
       "version_major": 2,
       "version_minor": 0,
       "model_id": "f5232b5b99ee4d78839b834e913e72ad"
      }
     },
     "metadata": {},
     "output_type": "display_data"
    },
    {
     "data": {
      "text/plain": [
       "  0%|          | 0/50 [00:00<?, ?it/s]"
      ],
      "application/vnd.jupyter.widget-view+json": {
       "version_major": 2,
       "version_minor": 0,
       "model_id": "1d872505880848a3a60bd928bc8470e6"
      }
     },
     "metadata": {},
     "output_type": "display_data"
    },
    {
     "data": {
      "text/plain": [
       "  0%|          | 0/50 [00:00<?, ?it/s]"
      ],
      "application/vnd.jupyter.widget-view+json": {
       "version_major": 2,
       "version_minor": 0,
       "model_id": "c454e0bd67ae4e7fae43622f119f0355"
      }
     },
     "metadata": {},
     "output_type": "display_data"
    },
    {
     "data": {
      "text/plain": [
       "  0%|          | 0/50 [00:00<?, ?it/s]"
      ],
      "application/vnd.jupyter.widget-view+json": {
       "version_major": 2,
       "version_minor": 0,
       "model_id": "2dd105a8bc824b3984d887caa4594952"
      }
     },
     "metadata": {},
     "output_type": "display_data"
    },
    {
     "data": {
      "text/plain": [
       "  0%|          | 0/50 [00:00<?, ?it/s]"
      ],
      "application/vnd.jupyter.widget-view+json": {
       "version_major": 2,
       "version_minor": 0,
       "model_id": "2a5d571a76e54d0589bcab7ec9ff0b7a"
      }
     },
     "metadata": {},
     "output_type": "display_data"
    },
    {
     "data": {
      "text/plain": [
       "  0%|          | 0/50 [00:00<?, ?it/s]"
      ],
      "application/vnd.jupyter.widget-view+json": {
       "version_major": 2,
       "version_minor": 0,
       "model_id": "9bb7bea0fe7b435680668236f417ae8c"
      }
     },
     "metadata": {},
     "output_type": "display_data"
    },
    {
     "data": {
      "text/plain": [
       "  0%|          | 0/50 [00:00<?, ?it/s]"
      ],
      "application/vnd.jupyter.widget-view+json": {
       "version_major": 2,
       "version_minor": 0,
       "model_id": "9ef0482f6f404879a196c9664bda7de0"
      }
     },
     "metadata": {},
     "output_type": "display_data"
    },
    {
     "data": {
      "text/plain": [
       "  0%|          | 0/50 [00:00<?, ?it/s]"
      ],
      "application/vnd.jupyter.widget-view+json": {
       "version_major": 2,
       "version_minor": 0,
       "model_id": "d61ab01842344f72b8d990e0a3871d10"
      }
     },
     "metadata": {},
     "output_type": "display_data"
    },
    {
     "name": "stderr",
     "output_type": "stream",
     "text": [
      "Potential NSFW content was detected in one or more images. A black image will be returned instead. Try again with a different prompt and/or seed.\n"
     ]
    },
    {
     "data": {
      "text/plain": [
       "  0%|          | 0/50 [00:00<?, ?it/s]"
      ],
      "application/vnd.jupyter.widget-view+json": {
       "version_major": 2,
       "version_minor": 0,
       "model_id": "3c8c2b018b2b465e875d2eb388997705"
      }
     },
     "metadata": {},
     "output_type": "display_data"
    },
    {
     "data": {
      "text/plain": [
       "  0%|          | 0/50 [00:00<?, ?it/s]"
      ],
      "application/vnd.jupyter.widget-view+json": {
       "version_major": 2,
       "version_minor": 0,
       "model_id": "8426725be88d42338441a0b4e28396c0"
      }
     },
     "metadata": {},
     "output_type": "display_data"
    },
    {
     "data": {
      "text/plain": [
       "  0%|          | 0/50 [00:00<?, ?it/s]"
      ],
      "application/vnd.jupyter.widget-view+json": {
       "version_major": 2,
       "version_minor": 0,
       "model_id": "9e7b64394c084902abd3e3728e5a4ff1"
      }
     },
     "metadata": {},
     "output_type": "display_data"
    },
    {
     "data": {
      "text/plain": [
       "  0%|          | 0/50 [00:00<?, ?it/s]"
      ],
      "application/vnd.jupyter.widget-view+json": {
       "version_major": 2,
       "version_minor": 0,
       "model_id": "596bb421040140fe985b6ed0d37c5f80"
      }
     },
     "metadata": {},
     "output_type": "display_data"
    },
    {
     "data": {
      "text/plain": [
       "  0%|          | 0/50 [00:00<?, ?it/s]"
      ],
      "application/vnd.jupyter.widget-view+json": {
       "version_major": 2,
       "version_minor": 0,
       "model_id": "fd78101999104b4e8e4ca3607b251426"
      }
     },
     "metadata": {},
     "output_type": "display_data"
    },
    {
     "data": {
      "text/plain": [
       "  0%|          | 0/50 [00:00<?, ?it/s]"
      ],
      "application/vnd.jupyter.widget-view+json": {
       "version_major": 2,
       "version_minor": 0,
       "model_id": "186bf1db4651461a8cb944575b4e993d"
      }
     },
     "metadata": {},
     "output_type": "display_data"
    },
    {
     "data": {
      "text/plain": [
       "  0%|          | 0/50 [00:00<?, ?it/s]"
      ],
      "application/vnd.jupyter.widget-view+json": {
       "version_major": 2,
       "version_minor": 0,
       "model_id": "dfd6b458964e4745a61f3dcd4a628982"
      }
     },
     "metadata": {},
     "output_type": "display_data"
    },
    {
     "data": {
      "text/plain": [
       "  0%|          | 0/50 [00:00<?, ?it/s]"
      ],
      "application/vnd.jupyter.widget-view+json": {
       "version_major": 2,
       "version_minor": 0,
       "model_id": "fcdaa7a5e5aa411cae3044cf80968328"
      }
     },
     "metadata": {},
     "output_type": "display_data"
    },
    {
     "data": {
      "text/plain": [
       "  0%|          | 0/50 [00:00<?, ?it/s]"
      ],
      "application/vnd.jupyter.widget-view+json": {
       "version_major": 2,
       "version_minor": 0,
       "model_id": "91045e72f8db42e7a10f5c4dac3eed8d"
      }
     },
     "metadata": {},
     "output_type": "display_data"
    },
    {
     "data": {
      "text/plain": [
       "  0%|          | 0/50 [00:00<?, ?it/s]"
      ],
      "application/vnd.jupyter.widget-view+json": {
       "version_major": 2,
       "version_minor": 0,
       "model_id": "ef6655155268421785e92fe56cc5ab27"
      }
     },
     "metadata": {},
     "output_type": "display_data"
    },
    {
     "data": {
      "text/plain": [
       "  0%|          | 0/50 [00:00<?, ?it/s]"
      ],
      "application/vnd.jupyter.widget-view+json": {
       "version_major": 2,
       "version_minor": 0,
       "model_id": "7ccc49224da64c7f8aea53f49561e972"
      }
     },
     "metadata": {},
     "output_type": "display_data"
    },
    {
     "data": {
      "text/plain": [
       "  0%|          | 0/50 [00:00<?, ?it/s]"
      ],
      "application/vnd.jupyter.widget-view+json": {
       "version_major": 2,
       "version_minor": 0,
       "model_id": "3399f6e498544ee983f4117075f55eb6"
      }
     },
     "metadata": {},
     "output_type": "display_data"
    },
    {
     "data": {
      "text/plain": [
       "  0%|          | 0/50 [00:00<?, ?it/s]"
      ],
      "application/vnd.jupyter.widget-view+json": {
       "version_major": 2,
       "version_minor": 0,
       "model_id": "979b43ee02bd48dbada607d7f63eb026"
      }
     },
     "metadata": {},
     "output_type": "display_data"
    },
    {
     "data": {
      "text/plain": [
       "  0%|          | 0/50 [00:00<?, ?it/s]"
      ],
      "application/vnd.jupyter.widget-view+json": {
       "version_major": 2,
       "version_minor": 0,
       "model_id": "5e9b468313cb401bac767d4f221f74ee"
      }
     },
     "metadata": {},
     "output_type": "display_data"
    },
    {
     "data": {
      "text/plain": [
       "  0%|          | 0/50 [00:00<?, ?it/s]"
      ],
      "application/vnd.jupyter.widget-view+json": {
       "version_major": 2,
       "version_minor": 0,
       "model_id": "9eb560ef047741329239450293b54eeb"
      }
     },
     "metadata": {},
     "output_type": "display_data"
    },
    {
     "data": {
      "text/plain": [
       "  0%|          | 0/50 [00:00<?, ?it/s]"
      ],
      "application/vnd.jupyter.widget-view+json": {
       "version_major": 2,
       "version_minor": 0,
       "model_id": "47b3774893384b4db04eee17444967ea"
      }
     },
     "metadata": {},
     "output_type": "display_data"
    },
    {
     "data": {
      "text/plain": [
       "  0%|          | 0/50 [00:00<?, ?it/s]"
      ],
      "application/vnd.jupyter.widget-view+json": {
       "version_major": 2,
       "version_minor": 0,
       "model_id": "188031832c4d425382c3cbc0d56e0c39"
      }
     },
     "metadata": {},
     "output_type": "display_data"
    },
    {
     "data": {
      "text/plain": [
       "  0%|          | 0/50 [00:00<?, ?it/s]"
      ],
      "application/vnd.jupyter.widget-view+json": {
       "version_major": 2,
       "version_minor": 0,
       "model_id": "6ed2f953dcb549d9877def590f0db54e"
      }
     },
     "metadata": {},
     "output_type": "display_data"
    },
    {
     "data": {
      "text/plain": [
       "  0%|          | 0/50 [00:00<?, ?it/s]"
      ],
      "application/vnd.jupyter.widget-view+json": {
       "version_major": 2,
       "version_minor": 0,
       "model_id": "283d2e7014b54ec181b436fc9e9957d9"
      }
     },
     "metadata": {},
     "output_type": "display_data"
    },
    {
     "data": {
      "text/plain": [
       "  0%|          | 0/50 [00:00<?, ?it/s]"
      ],
      "application/vnd.jupyter.widget-view+json": {
       "version_major": 2,
       "version_minor": 0,
       "model_id": "f4df0bf7b6ee4e7e876ebe39aeed3b54"
      }
     },
     "metadata": {},
     "output_type": "display_data"
    },
    {
     "data": {
      "text/plain": [
       "  0%|          | 0/50 [00:00<?, ?it/s]"
      ],
      "application/vnd.jupyter.widget-view+json": {
       "version_major": 2,
       "version_minor": 0,
       "model_id": "c93911ed901f4bb198fcda67b5272882"
      }
     },
     "metadata": {},
     "output_type": "display_data"
    },
    {
     "data": {
      "text/plain": [
       "  0%|          | 0/50 [00:00<?, ?it/s]"
      ],
      "application/vnd.jupyter.widget-view+json": {
       "version_major": 2,
       "version_minor": 0,
       "model_id": "dcee9ab634e54332be74decf28d4c7c2"
      }
     },
     "metadata": {},
     "output_type": "display_data"
    },
    {
     "data": {
      "text/plain": [
       "  0%|          | 0/50 [00:00<?, ?it/s]"
      ],
      "application/vnd.jupyter.widget-view+json": {
       "version_major": 2,
       "version_minor": 0,
       "model_id": "bef5daddcde94e20a085c4bdc75f2187"
      }
     },
     "metadata": {},
     "output_type": "display_data"
    },
    {
     "data": {
      "text/plain": [
       "  0%|          | 0/50 [00:00<?, ?it/s]"
      ],
      "application/vnd.jupyter.widget-view+json": {
       "version_major": 2,
       "version_minor": 0,
       "model_id": "1e75b0a3e84e4c2cb580a0c895bb30cd"
      }
     },
     "metadata": {},
     "output_type": "display_data"
    },
    {
     "data": {
      "text/plain": [
       "  0%|          | 0/50 [00:00<?, ?it/s]"
      ],
      "application/vnd.jupyter.widget-view+json": {
       "version_major": 2,
       "version_minor": 0,
       "model_id": "8c1cc19f17df41fc8869911245dbd31e"
      }
     },
     "metadata": {},
     "output_type": "display_data"
    },
    {
     "data": {
      "text/plain": [
       "  0%|          | 0/50 [00:00<?, ?it/s]"
      ],
      "application/vnd.jupyter.widget-view+json": {
       "version_major": 2,
       "version_minor": 0,
       "model_id": "0994e6c7205f4ed789e2045401de177d"
      }
     },
     "metadata": {},
     "output_type": "display_data"
    },
    {
     "data": {
      "text/plain": [
       "  0%|          | 0/50 [00:00<?, ?it/s]"
      ],
      "application/vnd.jupyter.widget-view+json": {
       "version_major": 2,
       "version_minor": 0,
       "model_id": "dc895ead93994baa9645ea4abc75e863"
      }
     },
     "metadata": {},
     "output_type": "display_data"
    },
    {
     "data": {
      "text/plain": [
       "  0%|          | 0/50 [00:00<?, ?it/s]"
      ],
      "application/vnd.jupyter.widget-view+json": {
       "version_major": 2,
       "version_minor": 0,
       "model_id": "9f24b2c43b584838a9566cedbbaf17ff"
      }
     },
     "metadata": {},
     "output_type": "display_data"
    },
    {
     "data": {
      "text/plain": [
       "  0%|          | 0/50 [00:00<?, ?it/s]"
      ],
      "application/vnd.jupyter.widget-view+json": {
       "version_major": 2,
       "version_minor": 0,
       "model_id": "3ad03680ac2943e49cb33fbd98c7a43a"
      }
     },
     "metadata": {},
     "output_type": "display_data"
    },
    {
     "data": {
      "text/plain": [
       "  0%|          | 0/50 [00:00<?, ?it/s]"
      ],
      "application/vnd.jupyter.widget-view+json": {
       "version_major": 2,
       "version_minor": 0,
       "model_id": "e031e3bbe68c4add9d98c8ca717ce8b3"
      }
     },
     "metadata": {},
     "output_type": "display_data"
    },
    {
     "data": {
      "text/plain": [
       "  0%|          | 0/50 [00:00<?, ?it/s]"
      ],
      "application/vnd.jupyter.widget-view+json": {
       "version_major": 2,
       "version_minor": 0,
       "model_id": "20eb4d86905e4e80b1ce4cdd92bfdde6"
      }
     },
     "metadata": {},
     "output_type": "display_data"
    },
    {
     "data": {
      "text/plain": [
       "  0%|          | 0/50 [00:00<?, ?it/s]"
      ],
      "application/vnd.jupyter.widget-view+json": {
       "version_major": 2,
       "version_minor": 0,
       "model_id": "c9e19a5d21e5445e84bf178500b6a36c"
      }
     },
     "metadata": {},
     "output_type": "display_data"
    },
    {
     "data": {
      "text/plain": [
       "  0%|          | 0/50 [00:00<?, ?it/s]"
      ],
      "application/vnd.jupyter.widget-view+json": {
       "version_major": 2,
       "version_minor": 0,
       "model_id": "4ec3731f919b483095b50ed4ab00505c"
      }
     },
     "metadata": {},
     "output_type": "display_data"
    },
    {
     "data": {
      "text/plain": [
       "  0%|          | 0/50 [00:00<?, ?it/s]"
      ],
      "application/vnd.jupyter.widget-view+json": {
       "version_major": 2,
       "version_minor": 0,
       "model_id": "c8b1b259ce6141e5bad89681ffd9ff13"
      }
     },
     "metadata": {},
     "output_type": "display_data"
    },
    {
     "data": {
      "text/plain": [
       "  0%|          | 0/50 [00:00<?, ?it/s]"
      ],
      "application/vnd.jupyter.widget-view+json": {
       "version_major": 2,
       "version_minor": 0,
       "model_id": "a640b4077d2144f18bb5e578c8d8c1f4"
      }
     },
     "metadata": {},
     "output_type": "display_data"
    },
    {
     "data": {
      "text/plain": [
       "  0%|          | 0/50 [00:00<?, ?it/s]"
      ],
      "application/vnd.jupyter.widget-view+json": {
       "version_major": 2,
       "version_minor": 0,
       "model_id": "3cf5bd3ae85d4b2fa42f76a5cf330115"
      }
     },
     "metadata": {},
     "output_type": "display_data"
    },
    {
     "data": {
      "text/plain": [
       "  0%|          | 0/50 [00:00<?, ?it/s]"
      ],
      "application/vnd.jupyter.widget-view+json": {
       "version_major": 2,
       "version_minor": 0,
       "model_id": "c94dd18d7f7a4d0fa9d95d56ede77048"
      }
     },
     "metadata": {},
     "output_type": "display_data"
    },
    {
     "data": {
      "text/plain": [
       "  0%|          | 0/50 [00:00<?, ?it/s]"
      ],
      "application/vnd.jupyter.widget-view+json": {
       "version_major": 2,
       "version_minor": 0,
       "model_id": "c6cc206fd8444cc8afc23f3ef4698fe5"
      }
     },
     "metadata": {},
     "output_type": "display_data"
    },
    {
     "data": {
      "text/plain": [
       "  0%|          | 0/50 [00:00<?, ?it/s]"
      ],
      "application/vnd.jupyter.widget-view+json": {
       "version_major": 2,
       "version_minor": 0,
       "model_id": "ae318bb267e047dead11ac9d88a2cc6f"
      }
     },
     "metadata": {},
     "output_type": "display_data"
    },
    {
     "data": {
      "text/plain": [
       "  0%|          | 0/50 [00:00<?, ?it/s]"
      ],
      "application/vnd.jupyter.widget-view+json": {
       "version_major": 2,
       "version_minor": 0,
       "model_id": "1ccedc71a41048a387fd884e02b41817"
      }
     },
     "metadata": {},
     "output_type": "display_data"
    },
    {
     "data": {
      "text/plain": [
       "  0%|          | 0/50 [00:00<?, ?it/s]"
      ],
      "application/vnd.jupyter.widget-view+json": {
       "version_major": 2,
       "version_minor": 0,
       "model_id": "100823d59d884ab180a7695d602908c7"
      }
     },
     "metadata": {},
     "output_type": "display_data"
    },
    {
     "data": {
      "text/plain": [
       "  0%|          | 0/50 [00:00<?, ?it/s]"
      ],
      "application/vnd.jupyter.widget-view+json": {
       "version_major": 2,
       "version_minor": 0,
       "model_id": "9adeb119f2eb4797b0bcad1bd8abcb22"
      }
     },
     "metadata": {},
     "output_type": "display_data"
    },
    {
     "data": {
      "text/plain": [
       "  0%|          | 0/50 [00:00<?, ?it/s]"
      ],
      "application/vnd.jupyter.widget-view+json": {
       "version_major": 2,
       "version_minor": 0,
       "model_id": "d52244c686e84d818b24853a3935170f"
      }
     },
     "metadata": {},
     "output_type": "display_data"
    },
    {
     "data": {
      "text/plain": [
       "  0%|          | 0/50 [00:00<?, ?it/s]"
      ],
      "application/vnd.jupyter.widget-view+json": {
       "version_major": 2,
       "version_minor": 0,
       "model_id": "bfc6369f1eeb4bf6a7a59dd56e20ccae"
      }
     },
     "metadata": {},
     "output_type": "display_data"
    },
    {
     "data": {
      "text/plain": [
       "  0%|          | 0/50 [00:00<?, ?it/s]"
      ],
      "application/vnd.jupyter.widget-view+json": {
       "version_major": 2,
       "version_minor": 0,
       "model_id": "87bf5d337f0f429f96e751114c76459d"
      }
     },
     "metadata": {},
     "output_type": "display_data"
    },
    {
     "data": {
      "text/plain": [
       "  0%|          | 0/50 [00:00<?, ?it/s]"
      ],
      "application/vnd.jupyter.widget-view+json": {
       "version_major": 2,
       "version_minor": 0,
       "model_id": "c829e72918eb4211ab1cf880b4fe4d1e"
      }
     },
     "metadata": {},
     "output_type": "display_data"
    },
    {
     "data": {
      "text/plain": [
       "  0%|          | 0/50 [00:00<?, ?it/s]"
      ],
      "application/vnd.jupyter.widget-view+json": {
       "version_major": 2,
       "version_minor": 0,
       "model_id": "22bd8a20ea5f4f89a24e50a0acf18da5"
      }
     },
     "metadata": {},
     "output_type": "display_data"
    },
    {
     "data": {
      "text/plain": [
       "  0%|          | 0/50 [00:00<?, ?it/s]"
      ],
      "application/vnd.jupyter.widget-view+json": {
       "version_major": 2,
       "version_minor": 0,
       "model_id": "143cfb41610c40f391bf123788b502c5"
      }
     },
     "metadata": {},
     "output_type": "display_data"
    },
    {
     "data": {
      "text/plain": [
       "  0%|          | 0/50 [00:00<?, ?it/s]"
      ],
      "application/vnd.jupyter.widget-view+json": {
       "version_major": 2,
       "version_minor": 0,
       "model_id": "9ff75fc078784c9eb6082877e79c9161"
      }
     },
     "metadata": {},
     "output_type": "display_data"
    },
    {
     "data": {
      "text/plain": [
       "  0%|          | 0/50 [00:00<?, ?it/s]"
      ],
      "application/vnd.jupyter.widget-view+json": {
       "version_major": 2,
       "version_minor": 0,
       "model_id": "2e55cfea192a4eec84b44a394ef434e6"
      }
     },
     "metadata": {},
     "output_type": "display_data"
    },
    {
     "data": {
      "text/plain": [
       "  0%|          | 0/50 [00:00<?, ?it/s]"
      ],
      "application/vnd.jupyter.widget-view+json": {
       "version_major": 2,
       "version_minor": 0,
       "model_id": "92e6ce06b2154629baf937c7a802d8fb"
      }
     },
     "metadata": {},
     "output_type": "display_data"
    },
    {
     "data": {
      "text/plain": [
       "  0%|          | 0/50 [00:00<?, ?it/s]"
      ],
      "application/vnd.jupyter.widget-view+json": {
       "version_major": 2,
       "version_minor": 0,
       "model_id": "168e1bd384e648c7b8b144db9c0749be"
      }
     },
     "metadata": {},
     "output_type": "display_data"
    },
    {
     "data": {
      "text/plain": [
       "  0%|          | 0/50 [00:00<?, ?it/s]"
      ],
      "application/vnd.jupyter.widget-view+json": {
       "version_major": 2,
       "version_minor": 0,
       "model_id": "48cb8edd3d484fa38cff368911ff7a38"
      }
     },
     "metadata": {},
     "output_type": "display_data"
    },
    {
     "data": {
      "text/plain": [
       "  0%|          | 0/50 [00:00<?, ?it/s]"
      ],
      "application/vnd.jupyter.widget-view+json": {
       "version_major": 2,
       "version_minor": 0,
       "model_id": "72450f0181d14857b60ef2a918860a21"
      }
     },
     "metadata": {},
     "output_type": "display_data"
    },
    {
     "data": {
      "text/plain": [
       "  0%|          | 0/50 [00:00<?, ?it/s]"
      ],
      "application/vnd.jupyter.widget-view+json": {
       "version_major": 2,
       "version_minor": 0,
       "model_id": "3bc01c669da749329a1ce3011370b1fc"
      }
     },
     "metadata": {},
     "output_type": "display_data"
    },
    {
     "data": {
      "text/plain": [
       "  0%|          | 0/50 [00:00<?, ?it/s]"
      ],
      "application/vnd.jupyter.widget-view+json": {
       "version_major": 2,
       "version_minor": 0,
       "model_id": "cd050013643441508138c228ada5dab5"
      }
     },
     "metadata": {},
     "output_type": "display_data"
    },
    {
     "data": {
      "text/plain": [
       "  0%|          | 0/50 [00:00<?, ?it/s]"
      ],
      "application/vnd.jupyter.widget-view+json": {
       "version_major": 2,
       "version_minor": 0,
       "model_id": "ff65679aaf6147c48667a5de67be53a0"
      }
     },
     "metadata": {},
     "output_type": "display_data"
    },
    {
     "data": {
      "text/plain": [
       "  0%|          | 0/50 [00:00<?, ?it/s]"
      ],
      "application/vnd.jupyter.widget-view+json": {
       "version_major": 2,
       "version_minor": 0,
       "model_id": "83892c3e11934b9695c93ae63ba821b7"
      }
     },
     "metadata": {},
     "output_type": "display_data"
    },
    {
     "data": {
      "text/plain": [
       "  0%|          | 0/50 [00:00<?, ?it/s]"
      ],
      "application/vnd.jupyter.widget-view+json": {
       "version_major": 2,
       "version_minor": 0,
       "model_id": "4a13fd3ccfff44b2a688cb04c31ee2ac"
      }
     },
     "metadata": {},
     "output_type": "display_data"
    },
    {
     "data": {
      "text/plain": [
       "  0%|          | 0/50 [00:00<?, ?it/s]"
      ],
      "application/vnd.jupyter.widget-view+json": {
       "version_major": 2,
       "version_minor": 0,
       "model_id": "55638f215d6c4213af74fc81f1e28f01"
      }
     },
     "metadata": {},
     "output_type": "display_data"
    },
    {
     "data": {
      "text/plain": [
       "  0%|          | 0/50 [00:00<?, ?it/s]"
      ],
      "application/vnd.jupyter.widget-view+json": {
       "version_major": 2,
       "version_minor": 0,
       "model_id": "92e56c90ba954c5aac1e06ee24ca5279"
      }
     },
     "metadata": {},
     "output_type": "display_data"
    },
    {
     "data": {
      "text/plain": [
       "  0%|          | 0/50 [00:00<?, ?it/s]"
      ],
      "application/vnd.jupyter.widget-view+json": {
       "version_major": 2,
       "version_minor": 0,
       "model_id": "ccb294aa1a694175af40f32d5714c25c"
      }
     },
     "metadata": {},
     "output_type": "display_data"
    },
    {
     "data": {
      "text/plain": [
       "  0%|          | 0/50 [00:00<?, ?it/s]"
      ],
      "application/vnd.jupyter.widget-view+json": {
       "version_major": 2,
       "version_minor": 0,
       "model_id": "c062b3d0f7b64d52bf6d71adea85a820"
      }
     },
     "metadata": {},
     "output_type": "display_data"
    },
    {
     "data": {
      "text/plain": [
       "  0%|          | 0/50 [00:00<?, ?it/s]"
      ],
      "application/vnd.jupyter.widget-view+json": {
       "version_major": 2,
       "version_minor": 0,
       "model_id": "57c8319409d04d65bf498b6ee8b72845"
      }
     },
     "metadata": {},
     "output_type": "display_data"
    },
    {
     "data": {
      "text/plain": [
       "  0%|          | 0/50 [00:00<?, ?it/s]"
      ],
      "application/vnd.jupyter.widget-view+json": {
       "version_major": 2,
       "version_minor": 0,
       "model_id": "961305dde56c4455a339cb2ef2e3bfd7"
      }
     },
     "metadata": {},
     "output_type": "display_data"
    },
    {
     "data": {
      "text/plain": [
       "  0%|          | 0/50 [00:00<?, ?it/s]"
      ],
      "application/vnd.jupyter.widget-view+json": {
       "version_major": 2,
       "version_minor": 0,
       "model_id": "4fc4da5b9ed045fe99e6f6ca7f96e1c2"
      }
     },
     "metadata": {},
     "output_type": "display_data"
    },
    {
     "data": {
      "text/plain": [
       "  0%|          | 0/50 [00:00<?, ?it/s]"
      ],
      "application/vnd.jupyter.widget-view+json": {
       "version_major": 2,
       "version_minor": 0,
       "model_id": "6e6323d8c02f4125b8fcac367bff3ed5"
      }
     },
     "metadata": {},
     "output_type": "display_data"
    },
    {
     "data": {
      "text/plain": [
       "  0%|          | 0/50 [00:00<?, ?it/s]"
      ],
      "application/vnd.jupyter.widget-view+json": {
       "version_major": 2,
       "version_minor": 0,
       "model_id": "19c38fe630834f8d82166c1c28f63144"
      }
     },
     "metadata": {},
     "output_type": "display_data"
    },
    {
     "data": {
      "text/plain": [
       "  0%|          | 0/50 [00:00<?, ?it/s]"
      ],
      "application/vnd.jupyter.widget-view+json": {
       "version_major": 2,
       "version_minor": 0,
       "model_id": "be8c5d01d5f54c25aca4b0160e15377b"
      }
     },
     "metadata": {},
     "output_type": "display_data"
    },
    {
     "data": {
      "text/plain": [
       "  0%|          | 0/50 [00:00<?, ?it/s]"
      ],
      "application/vnd.jupyter.widget-view+json": {
       "version_major": 2,
       "version_minor": 0,
       "model_id": "f40914a479704fc68d50666a4c18f26c"
      }
     },
     "metadata": {},
     "output_type": "display_data"
    },
    {
     "data": {
      "text/plain": [
       "  0%|          | 0/50 [00:00<?, ?it/s]"
      ],
      "application/vnd.jupyter.widget-view+json": {
       "version_major": 2,
       "version_minor": 0,
       "model_id": "008ba13083ef45a994ac088458f16b0c"
      }
     },
     "metadata": {},
     "output_type": "display_data"
    },
    {
     "data": {
      "text/plain": [
       "  0%|          | 0/50 [00:00<?, ?it/s]"
      ],
      "application/vnd.jupyter.widget-view+json": {
       "version_major": 2,
       "version_minor": 0,
       "model_id": "6075e09466d846c4af4e211a3cdac212"
      }
     },
     "metadata": {},
     "output_type": "display_data"
    },
    {
     "data": {
      "text/plain": [
       "  0%|          | 0/50 [00:00<?, ?it/s]"
      ],
      "application/vnd.jupyter.widget-view+json": {
       "version_major": 2,
       "version_minor": 0,
       "model_id": "f52b9d39bdf64ff28460d6af0ea77074"
      }
     },
     "metadata": {},
     "output_type": "display_data"
    },
    {
     "data": {
      "text/plain": [
       "  0%|          | 0/50 [00:00<?, ?it/s]"
      ],
      "application/vnd.jupyter.widget-view+json": {
       "version_major": 2,
       "version_minor": 0,
       "model_id": "59f7514daa43410e8e6399f9e30dfd57"
      }
     },
     "metadata": {},
     "output_type": "display_data"
    },
    {
     "data": {
      "text/plain": [
       "  0%|          | 0/50 [00:00<?, ?it/s]"
      ],
      "application/vnd.jupyter.widget-view+json": {
       "version_major": 2,
       "version_minor": 0,
       "model_id": "dfc80b8bef4549deb79577da6e4d4862"
      }
     },
     "metadata": {},
     "output_type": "display_data"
    },
    {
     "data": {
      "text/plain": [
       "  0%|          | 0/50 [00:00<?, ?it/s]"
      ],
      "application/vnd.jupyter.widget-view+json": {
       "version_major": 2,
       "version_minor": 0,
       "model_id": "6e872ca0d634436294f76d83b36df401"
      }
     },
     "metadata": {},
     "output_type": "display_data"
    },
    {
     "data": {
      "text/plain": [
       "  0%|          | 0/50 [00:00<?, ?it/s]"
      ],
      "application/vnd.jupyter.widget-view+json": {
       "version_major": 2,
       "version_minor": 0,
       "model_id": "4f3f6aa321d04ae5885a604bbf5238ae"
      }
     },
     "metadata": {},
     "output_type": "display_data"
    },
    {
     "data": {
      "text/plain": [
       "  0%|          | 0/50 [00:00<?, ?it/s]"
      ],
      "application/vnd.jupyter.widget-view+json": {
       "version_major": 2,
       "version_minor": 0,
       "model_id": "843787b993fd4bd293272d058e53ec36"
      }
     },
     "metadata": {},
     "output_type": "display_data"
    },
    {
     "data": {
      "text/plain": [
       "  0%|          | 0/50 [00:00<?, ?it/s]"
      ],
      "application/vnd.jupyter.widget-view+json": {
       "version_major": 2,
       "version_minor": 0,
       "model_id": "187b9f1f051d4495b74b0cf4eb4067a5"
      }
     },
     "metadata": {},
     "output_type": "display_data"
    },
    {
     "data": {
      "text/plain": [
       "  0%|          | 0/50 [00:00<?, ?it/s]"
      ],
      "application/vnd.jupyter.widget-view+json": {
       "version_major": 2,
       "version_minor": 0,
       "model_id": "4bcbac0120314a30acf2d6733df6eab8"
      }
     },
     "metadata": {},
     "output_type": "display_data"
    },
    {
     "data": {
      "text/plain": [
       "  0%|          | 0/50 [00:00<?, ?it/s]"
      ],
      "application/vnd.jupyter.widget-view+json": {
       "version_major": 2,
       "version_minor": 0,
       "model_id": "259a9d26f2564dee97bb3f1994ffbf21"
      }
     },
     "metadata": {},
     "output_type": "display_data"
    },
    {
     "data": {
      "text/plain": [
       "  0%|          | 0/50 [00:00<?, ?it/s]"
      ],
      "application/vnd.jupyter.widget-view+json": {
       "version_major": 2,
       "version_minor": 0,
       "model_id": "de8e642b814d4384a06a0d3db411825c"
      }
     },
     "metadata": {},
     "output_type": "display_data"
    },
    {
     "data": {
      "text/plain": [
       "  0%|          | 0/50 [00:00<?, ?it/s]"
      ],
      "application/vnd.jupyter.widget-view+json": {
       "version_major": 2,
       "version_minor": 0,
       "model_id": "f089c92775074e4bb2a3e148f781753e"
      }
     },
     "metadata": {},
     "output_type": "display_data"
    },
    {
     "data": {
      "text/plain": [
       "  0%|          | 0/50 [00:00<?, ?it/s]"
      ],
      "application/vnd.jupyter.widget-view+json": {
       "version_major": 2,
       "version_minor": 0,
       "model_id": "414be9efaa364eb9afbd6ea92ead13f2"
      }
     },
     "metadata": {},
     "output_type": "display_data"
    },
    {
     "data": {
      "text/plain": [
       "  0%|          | 0/50 [00:00<?, ?it/s]"
      ],
      "application/vnd.jupyter.widget-view+json": {
       "version_major": 2,
       "version_minor": 0,
       "model_id": "e02e141d58ec4a94aa2b2511cc80838c"
      }
     },
     "metadata": {},
     "output_type": "display_data"
    },
    {
     "data": {
      "text/plain": [
       "  0%|          | 0/50 [00:00<?, ?it/s]"
      ],
      "application/vnd.jupyter.widget-view+json": {
       "version_major": 2,
       "version_minor": 0,
       "model_id": "e5d3358cc0d64fef98b4660e9427d342"
      }
     },
     "metadata": {},
     "output_type": "display_data"
    },
    {
     "data": {
      "text/plain": [
       "  0%|          | 0/50 [00:00<?, ?it/s]"
      ],
      "application/vnd.jupyter.widget-view+json": {
       "version_major": 2,
       "version_minor": 0,
       "model_id": "dc0748a588444bb59ce8f4d07dea8af5"
      }
     },
     "metadata": {},
     "output_type": "display_data"
    },
    {
     "data": {
      "text/plain": [
       "  0%|          | 0/50 [00:00<?, ?it/s]"
      ],
      "application/vnd.jupyter.widget-view+json": {
       "version_major": 2,
       "version_minor": 0,
       "model_id": "b69daf19719d4b07b391c14261d35135"
      }
     },
     "metadata": {},
     "output_type": "display_data"
    },
    {
     "data": {
      "text/plain": [
       "  0%|          | 0/50 [00:00<?, ?it/s]"
      ],
      "application/vnd.jupyter.widget-view+json": {
       "version_major": 2,
       "version_minor": 0,
       "model_id": "5e6659dab05d4a44882c460ced7c3bea"
      }
     },
     "metadata": {},
     "output_type": "display_data"
    },
    {
     "data": {
      "text/plain": [
       "  0%|          | 0/50 [00:00<?, ?it/s]"
      ],
      "application/vnd.jupyter.widget-view+json": {
       "version_major": 2,
       "version_minor": 0,
       "model_id": "4bd89e50df484a7e9722d8bc9e5d86c5"
      }
     },
     "metadata": {},
     "output_type": "display_data"
    },
    {
     "data": {
      "text/plain": [
       "  0%|          | 0/50 [00:00<?, ?it/s]"
      ],
      "application/vnd.jupyter.widget-view+json": {
       "version_major": 2,
       "version_minor": 0,
       "model_id": "67327be78f654688aa63c0ccf78c023e"
      }
     },
     "metadata": {},
     "output_type": "display_data"
    },
    {
     "data": {
      "text/plain": [
       "  0%|          | 0/50 [00:00<?, ?it/s]"
      ],
      "application/vnd.jupyter.widget-view+json": {
       "version_major": 2,
       "version_minor": 0,
       "model_id": "9ef005615fbd4e509a80dca7465b0b0a"
      }
     },
     "metadata": {},
     "output_type": "display_data"
    },
    {
     "data": {
      "text/plain": [
       "  0%|          | 0/50 [00:00<?, ?it/s]"
      ],
      "application/vnd.jupyter.widget-view+json": {
       "version_major": 2,
       "version_minor": 0,
       "model_id": "5ea8c2a6d74e445aa8577567262f2416"
      }
     },
     "metadata": {},
     "output_type": "display_data"
    },
    {
     "data": {
      "text/plain": [
       "  0%|          | 0/50 [00:00<?, ?it/s]"
      ],
      "application/vnd.jupyter.widget-view+json": {
       "version_major": 2,
       "version_minor": 0,
       "model_id": "0ef75cb819fc48dbaef586148964e7a2"
      }
     },
     "metadata": {},
     "output_type": "display_data"
    },
    {
     "data": {
      "text/plain": [
       "  0%|          | 0/50 [00:00<?, ?it/s]"
      ],
      "application/vnd.jupyter.widget-view+json": {
       "version_major": 2,
       "version_minor": 0,
       "model_id": "8b7d0d62c20a4507bea9f916a6f89755"
      }
     },
     "metadata": {},
     "output_type": "display_data"
    },
    {
     "data": {
      "text/plain": [
       "  0%|          | 0/50 [00:00<?, ?it/s]"
      ],
      "application/vnd.jupyter.widget-view+json": {
       "version_major": 2,
       "version_minor": 0,
       "model_id": "9328bc292b7846e89acdbf93d926e278"
      }
     },
     "metadata": {},
     "output_type": "display_data"
    },
    {
     "data": {
      "text/plain": [
       "  0%|          | 0/50 [00:00<?, ?it/s]"
      ],
      "application/vnd.jupyter.widget-view+json": {
       "version_major": 2,
       "version_minor": 0,
       "model_id": "b2fbe31228cb4533b014f2046684235d"
      }
     },
     "metadata": {},
     "output_type": "display_data"
    },
    {
     "data": {
      "text/plain": [
       "  0%|          | 0/50 [00:00<?, ?it/s]"
      ],
      "application/vnd.jupyter.widget-view+json": {
       "version_major": 2,
       "version_minor": 0,
       "model_id": "d6e1a4c7d9fc44e090d6e5cc3206e27a"
      }
     },
     "metadata": {},
     "output_type": "display_data"
    },
    {
     "data": {
      "text/plain": [
       "  0%|          | 0/50 [00:00<?, ?it/s]"
      ],
      "application/vnd.jupyter.widget-view+json": {
       "version_major": 2,
       "version_minor": 0,
       "model_id": "57371ee550774b74932bf4ef3bb9d5bb"
      }
     },
     "metadata": {},
     "output_type": "display_data"
    },
    {
     "data": {
      "text/plain": [
       "  0%|          | 0/50 [00:00<?, ?it/s]"
      ],
      "application/vnd.jupyter.widget-view+json": {
       "version_major": 2,
       "version_minor": 0,
       "model_id": "14f70dec7eb14f3c8ff00d40a39267f8"
      }
     },
     "metadata": {},
     "output_type": "display_data"
    },
    {
     "data": {
      "text/plain": [
       "  0%|          | 0/50 [00:00<?, ?it/s]"
      ],
      "application/vnd.jupyter.widget-view+json": {
       "version_major": 2,
       "version_minor": 0,
       "model_id": "990aa4cce47948f6bea79b695b427e4f"
      }
     },
     "metadata": {},
     "output_type": "display_data"
    },
    {
     "data": {
      "text/plain": [
       "  0%|          | 0/50 [00:00<?, ?it/s]"
      ],
      "application/vnd.jupyter.widget-view+json": {
       "version_major": 2,
       "version_minor": 0,
       "model_id": "fbc9b897a34a4836baa7fe03d02a4b72"
      }
     },
     "metadata": {},
     "output_type": "display_data"
    },
    {
     "data": {
      "text/plain": [
       "  0%|          | 0/50 [00:00<?, ?it/s]"
      ],
      "application/vnd.jupyter.widget-view+json": {
       "version_major": 2,
       "version_minor": 0,
       "model_id": "dd77187b199f40d6ba917b568a3f763f"
      }
     },
     "metadata": {},
     "output_type": "display_data"
    },
    {
     "data": {
      "text/plain": [
       "  0%|          | 0/50 [00:00<?, ?it/s]"
      ],
      "application/vnd.jupyter.widget-view+json": {
       "version_major": 2,
       "version_minor": 0,
       "model_id": "198a5f2421564c4db23f9607473e68e7"
      }
     },
     "metadata": {},
     "output_type": "display_data"
    },
    {
     "data": {
      "text/plain": [
       "  0%|          | 0/50 [00:00<?, ?it/s]"
      ],
      "application/vnd.jupyter.widget-view+json": {
       "version_major": 2,
       "version_minor": 0,
       "model_id": "845c188953c64a0aa5c4377b44d453e9"
      }
     },
     "metadata": {},
     "output_type": "display_data"
    },
    {
     "data": {
      "text/plain": [
       "  0%|          | 0/50 [00:00<?, ?it/s]"
      ],
      "application/vnd.jupyter.widget-view+json": {
       "version_major": 2,
       "version_minor": 0,
       "model_id": "17ba649a7d8e4f10920d1d61469b1255"
      }
     },
     "metadata": {},
     "output_type": "display_data"
    },
    {
     "data": {
      "text/plain": [
       "  0%|          | 0/50 [00:00<?, ?it/s]"
      ],
      "application/vnd.jupyter.widget-view+json": {
       "version_major": 2,
       "version_minor": 0,
       "model_id": "dbf3e3b8c60c410b999b9bea267e5d5f"
      }
     },
     "metadata": {},
     "output_type": "display_data"
    },
    {
     "data": {
      "text/plain": [
       "  0%|          | 0/50 [00:00<?, ?it/s]"
      ],
      "application/vnd.jupyter.widget-view+json": {
       "version_major": 2,
       "version_minor": 0,
       "model_id": "b828f5a734644818bccab26c586f4d0e"
      }
     },
     "metadata": {},
     "output_type": "display_data"
    },
    {
     "data": {
      "text/plain": [
       "  0%|          | 0/50 [00:00<?, ?it/s]"
      ],
      "application/vnd.jupyter.widget-view+json": {
       "version_major": 2,
       "version_minor": 0,
       "model_id": "1fd52540573d4bb18abb32d8855457f2"
      }
     },
     "metadata": {},
     "output_type": "display_data"
    },
    {
     "data": {
      "text/plain": [
       "  0%|          | 0/50 [00:00<?, ?it/s]"
      ],
      "application/vnd.jupyter.widget-view+json": {
       "version_major": 2,
       "version_minor": 0,
       "model_id": "f54257874420473cbf0e894bc2aa61b8"
      }
     },
     "metadata": {},
     "output_type": "display_data"
    },
    {
     "data": {
      "text/plain": [
       "  0%|          | 0/50 [00:00<?, ?it/s]"
      ],
      "application/vnd.jupyter.widget-view+json": {
       "version_major": 2,
       "version_minor": 0,
       "model_id": "2ac5530d4fd140e9b4f4647a9244f185"
      }
     },
     "metadata": {},
     "output_type": "display_data"
    },
    {
     "data": {
      "text/plain": [
       "  0%|          | 0/50 [00:00<?, ?it/s]"
      ],
      "application/vnd.jupyter.widget-view+json": {
       "version_major": 2,
       "version_minor": 0,
       "model_id": "37c5a3ce6c4242c0a1e578f9cd909a33"
      }
     },
     "metadata": {},
     "output_type": "display_data"
    },
    {
     "name": "stderr",
     "output_type": "stream",
     "text": [
      "Potential NSFW content was detected in one or more images. A black image will be returned instead. Try again with a different prompt and/or seed.\n"
     ]
    },
    {
     "data": {
      "text/plain": [
       "  0%|          | 0/50 [00:00<?, ?it/s]"
      ],
      "application/vnd.jupyter.widget-view+json": {
       "version_major": 2,
       "version_minor": 0,
       "model_id": "3981fbb31f734462b1b7dabebac025cf"
      }
     },
     "metadata": {},
     "output_type": "display_data"
    },
    {
     "data": {
      "text/plain": [
       "  0%|          | 0/50 [00:00<?, ?it/s]"
      ],
      "application/vnd.jupyter.widget-view+json": {
       "version_major": 2,
       "version_minor": 0,
       "model_id": "5d99d854fadd41489dd273c6d0c4b35d"
      }
     },
     "metadata": {},
     "output_type": "display_data"
    },
    {
     "data": {
      "text/plain": [
       "  0%|          | 0/50 [00:00<?, ?it/s]"
      ],
      "application/vnd.jupyter.widget-view+json": {
       "version_major": 2,
       "version_minor": 0,
       "model_id": "42f299093a0e4a729c3bb08ef3153b1f"
      }
     },
     "metadata": {},
     "output_type": "display_data"
    },
    {
     "data": {
      "text/plain": [
       "  0%|          | 0/50 [00:00<?, ?it/s]"
      ],
      "application/vnd.jupyter.widget-view+json": {
       "version_major": 2,
       "version_minor": 0,
       "model_id": "3a5054dca48a458fb0a15533a3fef094"
      }
     },
     "metadata": {},
     "output_type": "display_data"
    },
    {
     "data": {
      "text/plain": [
       "  0%|          | 0/50 [00:00<?, ?it/s]"
      ],
      "application/vnd.jupyter.widget-view+json": {
       "version_major": 2,
       "version_minor": 0,
       "model_id": "ca8799abd92342119a8b52239bf80775"
      }
     },
     "metadata": {},
     "output_type": "display_data"
    },
    {
     "data": {
      "text/plain": [
       "  0%|          | 0/50 [00:00<?, ?it/s]"
      ],
      "application/vnd.jupyter.widget-view+json": {
       "version_major": 2,
       "version_minor": 0,
       "model_id": "6091cb506ea7481f8e6ef4bb7fb509bf"
      }
     },
     "metadata": {},
     "output_type": "display_data"
    },
    {
     "data": {
      "text/plain": [
       "  0%|          | 0/50 [00:00<?, ?it/s]"
      ],
      "application/vnd.jupyter.widget-view+json": {
       "version_major": 2,
       "version_minor": 0,
       "model_id": "58444138f0e242b8948b2da48113d94d"
      }
     },
     "metadata": {},
     "output_type": "display_data"
    },
    {
     "data": {
      "text/plain": [
       "  0%|          | 0/50 [00:00<?, ?it/s]"
      ],
      "application/vnd.jupyter.widget-view+json": {
       "version_major": 2,
       "version_minor": 0,
       "model_id": "0fa8e7ee6f1e47e5a72e30254a675506"
      }
     },
     "metadata": {},
     "output_type": "display_data"
    },
    {
     "data": {
      "text/plain": [
       "  0%|          | 0/50 [00:00<?, ?it/s]"
      ],
      "application/vnd.jupyter.widget-view+json": {
       "version_major": 2,
       "version_minor": 0,
       "model_id": "9e665b49662f4d2aba9f855549042c30"
      }
     },
     "metadata": {},
     "output_type": "display_data"
    },
    {
     "data": {
      "text/plain": [
       "  0%|          | 0/50 [00:00<?, ?it/s]"
      ],
      "application/vnd.jupyter.widget-view+json": {
       "version_major": 2,
       "version_minor": 0,
       "model_id": "eff1b56aeee143d7887b9cdbd7376222"
      }
     },
     "metadata": {},
     "output_type": "display_data"
    },
    {
     "data": {
      "text/plain": [
       "  0%|          | 0/50 [00:00<?, ?it/s]"
      ],
      "application/vnd.jupyter.widget-view+json": {
       "version_major": 2,
       "version_minor": 0,
       "model_id": "ddd9d5a40a834a74b38d34c075f0799f"
      }
     },
     "metadata": {},
     "output_type": "display_data"
    },
    {
     "data": {
      "text/plain": [
       "  0%|          | 0/50 [00:00<?, ?it/s]"
      ],
      "application/vnd.jupyter.widget-view+json": {
       "version_major": 2,
       "version_minor": 0,
       "model_id": "9d6662cef42949d788365d7da86578a8"
      }
     },
     "metadata": {},
     "output_type": "display_data"
    },
    {
     "data": {
      "text/plain": [
       "  0%|          | 0/50 [00:00<?, ?it/s]"
      ],
      "application/vnd.jupyter.widget-view+json": {
       "version_major": 2,
       "version_minor": 0,
       "model_id": "e508d471121b41deb4cb46792f1b5a96"
      }
     },
     "metadata": {},
     "output_type": "display_data"
    },
    {
     "data": {
      "text/plain": [
       "  0%|          | 0/50 [00:00<?, ?it/s]"
      ],
      "application/vnd.jupyter.widget-view+json": {
       "version_major": 2,
       "version_minor": 0,
       "model_id": "5bf2e4e6a0804bec94b1e9457eb8be31"
      }
     },
     "metadata": {},
     "output_type": "display_data"
    },
    {
     "data": {
      "text/plain": [
       "  0%|          | 0/50 [00:00<?, ?it/s]"
      ],
      "application/vnd.jupyter.widget-view+json": {
       "version_major": 2,
       "version_minor": 0,
       "model_id": "8d42edbdbff544478453d182eddd5456"
      }
     },
     "metadata": {},
     "output_type": "display_data"
    },
    {
     "data": {
      "text/plain": [
       "  0%|          | 0/50 [00:00<?, ?it/s]"
      ],
      "application/vnd.jupyter.widget-view+json": {
       "version_major": 2,
       "version_minor": 0,
       "model_id": "43e74becb6f34afe9c39d050d12415b4"
      }
     },
     "metadata": {},
     "output_type": "display_data"
    },
    {
     "data": {
      "text/plain": [
       "  0%|          | 0/50 [00:00<?, ?it/s]"
      ],
      "application/vnd.jupyter.widget-view+json": {
       "version_major": 2,
       "version_minor": 0,
       "model_id": "fee9d785b92a4ee499fd48e0c73d0cbf"
      }
     },
     "metadata": {},
     "output_type": "display_data"
    },
    {
     "data": {
      "text/plain": [
       "  0%|          | 0/50 [00:00<?, ?it/s]"
      ],
      "application/vnd.jupyter.widget-view+json": {
       "version_major": 2,
       "version_minor": 0,
       "model_id": "06237390a2ae4eef90b2d43f7d4537aa"
      }
     },
     "metadata": {},
     "output_type": "display_data"
    },
    {
     "data": {
      "text/plain": [
       "  0%|          | 0/50 [00:00<?, ?it/s]"
      ],
      "application/vnd.jupyter.widget-view+json": {
       "version_major": 2,
       "version_minor": 0,
       "model_id": "16b3cb5692b249648a330b7ee473c54d"
      }
     },
     "metadata": {},
     "output_type": "display_data"
    },
    {
     "data": {
      "text/plain": [
       "  0%|          | 0/50 [00:00<?, ?it/s]"
      ],
      "application/vnd.jupyter.widget-view+json": {
       "version_major": 2,
       "version_minor": 0,
       "model_id": "e7bc75fa641f43b99d931520a88d3f90"
      }
     },
     "metadata": {},
     "output_type": "display_data"
    },
    {
     "data": {
      "text/plain": [
       "  0%|          | 0/50 [00:00<?, ?it/s]"
      ],
      "application/vnd.jupyter.widget-view+json": {
       "version_major": 2,
       "version_minor": 0,
       "model_id": "466a62e346884a78bfb68f14fa260209"
      }
     },
     "metadata": {},
     "output_type": "display_data"
    },
    {
     "data": {
      "text/plain": [
       "  0%|          | 0/50 [00:00<?, ?it/s]"
      ],
      "application/vnd.jupyter.widget-view+json": {
       "version_major": 2,
       "version_minor": 0,
       "model_id": "5d7906aa198747edab93cdffe5778b60"
      }
     },
     "metadata": {},
     "output_type": "display_data"
    },
    {
     "data": {
      "text/plain": [
       "  0%|          | 0/50 [00:00<?, ?it/s]"
      ],
      "application/vnd.jupyter.widget-view+json": {
       "version_major": 2,
       "version_minor": 0,
       "model_id": "4b437e9422024689a74a8df724120e8b"
      }
     },
     "metadata": {},
     "output_type": "display_data"
    },
    {
     "data": {
      "text/plain": [
       "  0%|          | 0/50 [00:00<?, ?it/s]"
      ],
      "application/vnd.jupyter.widget-view+json": {
       "version_major": 2,
       "version_minor": 0,
       "model_id": "d5c47203344843a883b1cc5c886553cb"
      }
     },
     "metadata": {},
     "output_type": "display_data"
    },
    {
     "data": {
      "text/plain": [
       "  0%|          | 0/50 [00:00<?, ?it/s]"
      ],
      "application/vnd.jupyter.widget-view+json": {
       "version_major": 2,
       "version_minor": 0,
       "model_id": "2713163baaea4de9aecf6004bced693c"
      }
     },
     "metadata": {},
     "output_type": "display_data"
    },
    {
     "data": {
      "text/plain": [
       "  0%|          | 0/50 [00:00<?, ?it/s]"
      ],
      "application/vnd.jupyter.widget-view+json": {
       "version_major": 2,
       "version_minor": 0,
       "model_id": "3e17158344de452f8e0965451dacbf00"
      }
     },
     "metadata": {},
     "output_type": "display_data"
    },
    {
     "data": {
      "text/plain": [
       "  0%|          | 0/50 [00:00<?, ?it/s]"
      ],
      "application/vnd.jupyter.widget-view+json": {
       "version_major": 2,
       "version_minor": 0,
       "model_id": "cd5ba3730b3c49bb8831f4715cefe7e1"
      }
     },
     "metadata": {},
     "output_type": "display_data"
    },
    {
     "data": {
      "text/plain": [
       "  0%|          | 0/50 [00:00<?, ?it/s]"
      ],
      "application/vnd.jupyter.widget-view+json": {
       "version_major": 2,
       "version_minor": 0,
       "model_id": "b2dd51ed1a614cd1b43cd5bb8f865d42"
      }
     },
     "metadata": {},
     "output_type": "display_data"
    },
    {
     "data": {
      "text/plain": [
       "  0%|          | 0/50 [00:00<?, ?it/s]"
      ],
      "application/vnd.jupyter.widget-view+json": {
       "version_major": 2,
       "version_minor": 0,
       "model_id": "17a07e2621ce4721b2b79bcd2420802b"
      }
     },
     "metadata": {},
     "output_type": "display_data"
    },
    {
     "data": {
      "text/plain": [
       "  0%|          | 0/50 [00:00<?, ?it/s]"
      ],
      "application/vnd.jupyter.widget-view+json": {
       "version_major": 2,
       "version_minor": 0,
       "model_id": "74c0a673710041f08454f02e7070671f"
      }
     },
     "metadata": {},
     "output_type": "display_data"
    },
    {
     "data": {
      "text/plain": [
       "  0%|          | 0/50 [00:00<?, ?it/s]"
      ],
      "application/vnd.jupyter.widget-view+json": {
       "version_major": 2,
       "version_minor": 0,
       "model_id": "cd2357510361408fb868491bebcbc9e2"
      }
     },
     "metadata": {},
     "output_type": "display_data"
    },
    {
     "data": {
      "text/plain": [
       "  0%|          | 0/50 [00:00<?, ?it/s]"
      ],
      "application/vnd.jupyter.widget-view+json": {
       "version_major": 2,
       "version_minor": 0,
       "model_id": "52616e19054b46df885bb37352381873"
      }
     },
     "metadata": {},
     "output_type": "display_data"
    },
    {
     "data": {
      "text/plain": [
       "  0%|          | 0/50 [00:00<?, ?it/s]"
      ],
      "application/vnd.jupyter.widget-view+json": {
       "version_major": 2,
       "version_minor": 0,
       "model_id": "dbf314da04a04b96a3f7886a0e052b25"
      }
     },
     "metadata": {},
     "output_type": "display_data"
    },
    {
     "data": {
      "text/plain": [
       "  0%|          | 0/50 [00:00<?, ?it/s]"
      ],
      "application/vnd.jupyter.widget-view+json": {
       "version_major": 2,
       "version_minor": 0,
       "model_id": "9ac79041753547419711b9702f1bfe1a"
      }
     },
     "metadata": {},
     "output_type": "display_data"
    },
    {
     "data": {
      "text/plain": [
       "  0%|          | 0/50 [00:00<?, ?it/s]"
      ],
      "application/vnd.jupyter.widget-view+json": {
       "version_major": 2,
       "version_minor": 0,
       "model_id": "fe342e26995545c290057d659e4b8675"
      }
     },
     "metadata": {},
     "output_type": "display_data"
    },
    {
     "data": {
      "text/plain": [
       "  0%|          | 0/50 [00:00<?, ?it/s]"
      ],
      "application/vnd.jupyter.widget-view+json": {
       "version_major": 2,
       "version_minor": 0,
       "model_id": "8db70bbff892466bbf8ddbc3e625aa72"
      }
     },
     "metadata": {},
     "output_type": "display_data"
    },
    {
     "data": {
      "text/plain": [
       "  0%|          | 0/50 [00:00<?, ?it/s]"
      ],
      "application/vnd.jupyter.widget-view+json": {
       "version_major": 2,
       "version_minor": 0,
       "model_id": "67b7516626c74269adb077a5be5476a1"
      }
     },
     "metadata": {},
     "output_type": "display_data"
    },
    {
     "data": {
      "text/plain": [
       "  0%|          | 0/50 [00:00<?, ?it/s]"
      ],
      "application/vnd.jupyter.widget-view+json": {
       "version_major": 2,
       "version_minor": 0,
       "model_id": "07335cfc9ec34323a8797ba1386b7bcb"
      }
     },
     "metadata": {},
     "output_type": "display_data"
    },
    {
     "data": {
      "text/plain": [
       "  0%|          | 0/50 [00:00<?, ?it/s]"
      ],
      "application/vnd.jupyter.widget-view+json": {
       "version_major": 2,
       "version_minor": 0,
       "model_id": "85f136487cab4ad7bdc736f8bcae4328"
      }
     },
     "metadata": {},
     "output_type": "display_data"
    },
    {
     "data": {
      "text/plain": [
       "  0%|          | 0/50 [00:00<?, ?it/s]"
      ],
      "application/vnd.jupyter.widget-view+json": {
       "version_major": 2,
       "version_minor": 0,
       "model_id": "8fb9498cc3d240e9900622eb2b2760d4"
      }
     },
     "metadata": {},
     "output_type": "display_data"
    },
    {
     "data": {
      "text/plain": [
       "  0%|          | 0/50 [00:00<?, ?it/s]"
      ],
      "application/vnd.jupyter.widget-view+json": {
       "version_major": 2,
       "version_minor": 0,
       "model_id": "b7fc04d0b323456fbcb4acd2aad6c533"
      }
     },
     "metadata": {},
     "output_type": "display_data"
    },
    {
     "data": {
      "text/plain": [
       "  0%|          | 0/50 [00:00<?, ?it/s]"
      ],
      "application/vnd.jupyter.widget-view+json": {
       "version_major": 2,
       "version_minor": 0,
       "model_id": "ec254ee2fd2c4f22978f915576ebc52f"
      }
     },
     "metadata": {},
     "output_type": "display_data"
    },
    {
     "data": {
      "text/plain": [
       "  0%|          | 0/50 [00:00<?, ?it/s]"
      ],
      "application/vnd.jupyter.widget-view+json": {
       "version_major": 2,
       "version_minor": 0,
       "model_id": "e2966dd189e04abc9960270ece485501"
      }
     },
     "metadata": {},
     "output_type": "display_data"
    },
    {
     "data": {
      "text/plain": [
       "  0%|          | 0/50 [00:00<?, ?it/s]"
      ],
      "application/vnd.jupyter.widget-view+json": {
       "version_major": 2,
       "version_minor": 0,
       "model_id": "3d69a26f47a2461d8678c65e30a3eddc"
      }
     },
     "metadata": {},
     "output_type": "display_data"
    },
    {
     "data": {
      "text/plain": [
       "  0%|          | 0/50 [00:00<?, ?it/s]"
      ],
      "application/vnd.jupyter.widget-view+json": {
       "version_major": 2,
       "version_minor": 0,
       "model_id": "2b647e627fb041539fa7149e890af250"
      }
     },
     "metadata": {},
     "output_type": "display_data"
    },
    {
     "data": {
      "text/plain": [
       "  0%|          | 0/50 [00:00<?, ?it/s]"
      ],
      "application/vnd.jupyter.widget-view+json": {
       "version_major": 2,
       "version_minor": 0,
       "model_id": "a96f541069084f3b8201e2fd5e3985dd"
      }
     },
     "metadata": {},
     "output_type": "display_data"
    },
    {
     "data": {
      "text/plain": [
       "  0%|          | 0/50 [00:00<?, ?it/s]"
      ],
      "application/vnd.jupyter.widget-view+json": {
       "version_major": 2,
       "version_minor": 0,
       "model_id": "6c9330f47a1742fb985f21603dec7141"
      }
     },
     "metadata": {},
     "output_type": "display_data"
    },
    {
     "data": {
      "text/plain": [
       "  0%|          | 0/50 [00:00<?, ?it/s]"
      ],
      "application/vnd.jupyter.widget-view+json": {
       "version_major": 2,
       "version_minor": 0,
       "model_id": "2e40c5e2630f4ec18d5b302cdb032a4b"
      }
     },
     "metadata": {},
     "output_type": "display_data"
    },
    {
     "data": {
      "text/plain": [
       "  0%|          | 0/50 [00:00<?, ?it/s]"
      ],
      "application/vnd.jupyter.widget-view+json": {
       "version_major": 2,
       "version_minor": 0,
       "model_id": "2f47b5da0ccc476e9e6cd161e4bdbf16"
      }
     },
     "metadata": {},
     "output_type": "display_data"
    },
    {
     "data": {
      "text/plain": [
       "  0%|          | 0/50 [00:00<?, ?it/s]"
      ],
      "application/vnd.jupyter.widget-view+json": {
       "version_major": 2,
       "version_minor": 0,
       "model_id": "6fe168b9d5d6415188fe2927ea412eaf"
      }
     },
     "metadata": {},
     "output_type": "display_data"
    },
    {
     "data": {
      "text/plain": [
       "  0%|          | 0/50 [00:00<?, ?it/s]"
      ],
      "application/vnd.jupyter.widget-view+json": {
       "version_major": 2,
       "version_minor": 0,
       "model_id": "b32cf2bfd90240329a705fe4989c7428"
      }
     },
     "metadata": {},
     "output_type": "display_data"
    },
    {
     "data": {
      "text/plain": [
       "  0%|          | 0/50 [00:00<?, ?it/s]"
      ],
      "application/vnd.jupyter.widget-view+json": {
       "version_major": 2,
       "version_minor": 0,
       "model_id": "923156b1cef141d09e0f732dbd128b1c"
      }
     },
     "metadata": {},
     "output_type": "display_data"
    },
    {
     "data": {
      "text/plain": [
       "  0%|          | 0/50 [00:00<?, ?it/s]"
      ],
      "application/vnd.jupyter.widget-view+json": {
       "version_major": 2,
       "version_minor": 0,
       "model_id": "371bfd351eeb42f4b738e0e5a94d1e2c"
      }
     },
     "metadata": {},
     "output_type": "display_data"
    },
    {
     "data": {
      "text/plain": [
       "  0%|          | 0/50 [00:00<?, ?it/s]"
      ],
      "application/vnd.jupyter.widget-view+json": {
       "version_major": 2,
       "version_minor": 0,
       "model_id": "13a4756a56d047b7ac85c203b080cd81"
      }
     },
     "metadata": {},
     "output_type": "display_data"
    },
    {
     "data": {
      "text/plain": [
       "  0%|          | 0/50 [00:00<?, ?it/s]"
      ],
      "application/vnd.jupyter.widget-view+json": {
       "version_major": 2,
       "version_minor": 0,
       "model_id": "65801575c5ae4dde89a5c6dc71fba852"
      }
     },
     "metadata": {},
     "output_type": "display_data"
    },
    {
     "data": {
      "text/plain": [
       "  0%|          | 0/50 [00:00<?, ?it/s]"
      ],
      "application/vnd.jupyter.widget-view+json": {
       "version_major": 2,
       "version_minor": 0,
       "model_id": "06c351251b314b09b0e4fe11b16cffe2"
      }
     },
     "metadata": {},
     "output_type": "display_data"
    },
    {
     "data": {
      "text/plain": [
       "  0%|          | 0/50 [00:00<?, ?it/s]"
      ],
      "application/vnd.jupyter.widget-view+json": {
       "version_major": 2,
       "version_minor": 0,
       "model_id": "f9225782e55b46d3acf0b200ec5f707a"
      }
     },
     "metadata": {},
     "output_type": "display_data"
    },
    {
     "data": {
      "text/plain": [
       "  0%|          | 0/50 [00:00<?, ?it/s]"
      ],
      "application/vnd.jupyter.widget-view+json": {
       "version_major": 2,
       "version_minor": 0,
       "model_id": "35ddaa7fc0fe4962a3b3508d3f7a325b"
      }
     },
     "metadata": {},
     "output_type": "display_data"
    },
    {
     "data": {
      "text/plain": [
       "  0%|          | 0/50 [00:00<?, ?it/s]"
      ],
      "application/vnd.jupyter.widget-view+json": {
       "version_major": 2,
       "version_minor": 0,
       "model_id": "f503e050c180434695fcd2ec3ae105f9"
      }
     },
     "metadata": {},
     "output_type": "display_data"
    },
    {
     "data": {
      "text/plain": [
       "  0%|          | 0/50 [00:00<?, ?it/s]"
      ],
      "application/vnd.jupyter.widget-view+json": {
       "version_major": 2,
       "version_minor": 0,
       "model_id": "291168589f3c450ba3aff16d950e6943"
      }
     },
     "metadata": {},
     "output_type": "display_data"
    },
    {
     "data": {
      "text/plain": [
       "  0%|          | 0/50 [00:00<?, ?it/s]"
      ],
      "application/vnd.jupyter.widget-view+json": {
       "version_major": 2,
       "version_minor": 0,
       "model_id": "8cb4b4433d564d46b15fbdd8c5a5da8e"
      }
     },
     "metadata": {},
     "output_type": "display_data"
    },
    {
     "data": {
      "text/plain": [
       "  0%|          | 0/50 [00:00<?, ?it/s]"
      ],
      "application/vnd.jupyter.widget-view+json": {
       "version_major": 2,
       "version_minor": 0,
       "model_id": "ae98560dee2e4a6d9a270e40064f4847"
      }
     },
     "metadata": {},
     "output_type": "display_data"
    },
    {
     "data": {
      "text/plain": [
       "  0%|          | 0/50 [00:00<?, ?it/s]"
      ],
      "application/vnd.jupyter.widget-view+json": {
       "version_major": 2,
       "version_minor": 0,
       "model_id": "5555af78872347dcb310e61aca76c79b"
      }
     },
     "metadata": {},
     "output_type": "display_data"
    },
    {
     "data": {
      "text/plain": [
       "  0%|          | 0/50 [00:00<?, ?it/s]"
      ],
      "application/vnd.jupyter.widget-view+json": {
       "version_major": 2,
       "version_minor": 0,
       "model_id": "f691eb181130431da93e7bce211a15e3"
      }
     },
     "metadata": {},
     "output_type": "display_data"
    },
    {
     "data": {
      "text/plain": [
       "  0%|          | 0/50 [00:00<?, ?it/s]"
      ],
      "application/vnd.jupyter.widget-view+json": {
       "version_major": 2,
       "version_minor": 0,
       "model_id": "7417a834d6574e3facab0047392a84ee"
      }
     },
     "metadata": {},
     "output_type": "display_data"
    },
    {
     "data": {
      "text/plain": [
       "  0%|          | 0/50 [00:00<?, ?it/s]"
      ],
      "application/vnd.jupyter.widget-view+json": {
       "version_major": 2,
       "version_minor": 0,
       "model_id": "f4d7623234ad4f57943e325ed863b531"
      }
     },
     "metadata": {},
     "output_type": "display_data"
    },
    {
     "data": {
      "text/plain": [
       "  0%|          | 0/50 [00:00<?, ?it/s]"
      ],
      "application/vnd.jupyter.widget-view+json": {
       "version_major": 2,
       "version_minor": 0,
       "model_id": "1a3e101739ff41569f83ff9ba67282b4"
      }
     },
     "metadata": {},
     "output_type": "display_data"
    },
    {
     "data": {
      "text/plain": [
       "  0%|          | 0/50 [00:00<?, ?it/s]"
      ],
      "application/vnd.jupyter.widget-view+json": {
       "version_major": 2,
       "version_minor": 0,
       "model_id": "fc4651840a184f09b4e41e847aa60f10"
      }
     },
     "metadata": {},
     "output_type": "display_data"
    },
    {
     "data": {
      "text/plain": [
       "  0%|          | 0/50 [00:00<?, ?it/s]"
      ],
      "application/vnd.jupyter.widget-view+json": {
       "version_major": 2,
       "version_minor": 0,
       "model_id": "f7303b0f9eda43a08208c69fa884c298"
      }
     },
     "metadata": {},
     "output_type": "display_data"
    },
    {
     "data": {
      "text/plain": [
       "  0%|          | 0/50 [00:00<?, ?it/s]"
      ],
      "application/vnd.jupyter.widget-view+json": {
       "version_major": 2,
       "version_minor": 0,
       "model_id": "889a69102afe439caa42b4a7a283680c"
      }
     },
     "metadata": {},
     "output_type": "display_data"
    },
    {
     "data": {
      "text/plain": [
       "  0%|          | 0/50 [00:00<?, ?it/s]"
      ],
      "application/vnd.jupyter.widget-view+json": {
       "version_major": 2,
       "version_minor": 0,
       "model_id": "f331476ee38d43c89e52245c02d92d47"
      }
     },
     "metadata": {},
     "output_type": "display_data"
    },
    {
     "data": {
      "text/plain": [
       "  0%|          | 0/50 [00:00<?, ?it/s]"
      ],
      "application/vnd.jupyter.widget-view+json": {
       "version_major": 2,
       "version_minor": 0,
       "model_id": "5b62a13fac764d638f74ab9d505ed84a"
      }
     },
     "metadata": {},
     "output_type": "display_data"
    },
    {
     "data": {
      "text/plain": [
       "  0%|          | 0/50 [00:00<?, ?it/s]"
      ],
      "application/vnd.jupyter.widget-view+json": {
       "version_major": 2,
       "version_minor": 0,
       "model_id": "6872c2c4b82b45d2b262605cdf0c51a6"
      }
     },
     "metadata": {},
     "output_type": "display_data"
    },
    {
     "data": {
      "text/plain": [
       "  0%|          | 0/50 [00:00<?, ?it/s]"
      ],
      "application/vnd.jupyter.widget-view+json": {
       "version_major": 2,
       "version_minor": 0,
       "model_id": "82a5bfa77f5548e2b21d7ebe2f86a6f6"
      }
     },
     "metadata": {},
     "output_type": "display_data"
    },
    {
     "data": {
      "text/plain": [
       "  0%|          | 0/50 [00:00<?, ?it/s]"
      ],
      "application/vnd.jupyter.widget-view+json": {
       "version_major": 2,
       "version_minor": 0,
       "model_id": "23f6f1c5c75e4a2b93de02632f7a41f4"
      }
     },
     "metadata": {},
     "output_type": "display_data"
    },
    {
     "data": {
      "text/plain": [
       "  0%|          | 0/50 [00:00<?, ?it/s]"
      ],
      "application/vnd.jupyter.widget-view+json": {
       "version_major": 2,
       "version_minor": 0,
       "model_id": "fe649ba2fb7547209aecec8548d59f84"
      }
     },
     "metadata": {},
     "output_type": "display_data"
    },
    {
     "data": {
      "text/plain": [
       "  0%|          | 0/50 [00:00<?, ?it/s]"
      ],
      "application/vnd.jupyter.widget-view+json": {
       "version_major": 2,
       "version_minor": 0,
       "model_id": "5c95da58363f4087a55b3b6c8a8c615f"
      }
     },
     "metadata": {},
     "output_type": "display_data"
    },
    {
     "data": {
      "text/plain": [
       "  0%|          | 0/50 [00:00<?, ?it/s]"
      ],
      "application/vnd.jupyter.widget-view+json": {
       "version_major": 2,
       "version_minor": 0,
       "model_id": "227c91f901034c03b10e69c0ac44adb8"
      }
     },
     "metadata": {},
     "output_type": "display_data"
    },
    {
     "data": {
      "text/plain": [
       "  0%|          | 0/50 [00:00<?, ?it/s]"
      ],
      "application/vnd.jupyter.widget-view+json": {
       "version_major": 2,
       "version_minor": 0,
       "model_id": "5654dbcb3e5f4e23ac80cd73b18684d1"
      }
     },
     "metadata": {},
     "output_type": "display_data"
    },
    {
     "data": {
      "text/plain": [
       "  0%|          | 0/50 [00:00<?, ?it/s]"
      ],
      "application/vnd.jupyter.widget-view+json": {
       "version_major": 2,
       "version_minor": 0,
       "model_id": "950d81dcc0c8446da7c84d3d72dc3d94"
      }
     },
     "metadata": {},
     "output_type": "display_data"
    },
    {
     "data": {
      "text/plain": [
       "  0%|          | 0/50 [00:00<?, ?it/s]"
      ],
      "application/vnd.jupyter.widget-view+json": {
       "version_major": 2,
       "version_minor": 0,
       "model_id": "5e8b8bf0eafc46a7a281b9646fceee29"
      }
     },
     "metadata": {},
     "output_type": "display_data"
    },
    {
     "data": {
      "text/plain": [
       "  0%|          | 0/50 [00:00<?, ?it/s]"
      ],
      "application/vnd.jupyter.widget-view+json": {
       "version_major": 2,
       "version_minor": 0,
       "model_id": "e53658f72da84b4fac282ee06b72b67d"
      }
     },
     "metadata": {},
     "output_type": "display_data"
    },
    {
     "data": {
      "text/plain": [
       "  0%|          | 0/50 [00:00<?, ?it/s]"
      ],
      "application/vnd.jupyter.widget-view+json": {
       "version_major": 2,
       "version_minor": 0,
       "model_id": "5e9dab1aa4d94a57a5592f091479c623"
      }
     },
     "metadata": {},
     "output_type": "display_data"
    },
    {
     "data": {
      "text/plain": [
       "  0%|          | 0/50 [00:00<?, ?it/s]"
      ],
      "application/vnd.jupyter.widget-view+json": {
       "version_major": 2,
       "version_minor": 0,
       "model_id": "b2e9397334664ff3b7e4bab77eb267da"
      }
     },
     "metadata": {},
     "output_type": "display_data"
    },
    {
     "data": {
      "text/plain": [
       "  0%|          | 0/50 [00:00<?, ?it/s]"
      ],
      "application/vnd.jupyter.widget-view+json": {
       "version_major": 2,
       "version_minor": 0,
       "model_id": "481eeeaa98a341b69c3e1aad470441f4"
      }
     },
     "metadata": {},
     "output_type": "display_data"
    },
    {
     "data": {
      "text/plain": [
       "  0%|          | 0/50 [00:00<?, ?it/s]"
      ],
      "application/vnd.jupyter.widget-view+json": {
       "version_major": 2,
       "version_minor": 0,
       "model_id": "82b3e16fbbee4f59a105a4a115856f8f"
      }
     },
     "metadata": {},
     "output_type": "display_data"
    },
    {
     "data": {
      "text/plain": [
       "  0%|          | 0/50 [00:00<?, ?it/s]"
      ],
      "application/vnd.jupyter.widget-view+json": {
       "version_major": 2,
       "version_minor": 0,
       "model_id": "309a8b0f1cc244daafaea36186e0531b"
      }
     },
     "metadata": {},
     "output_type": "display_data"
    },
    {
     "data": {
      "text/plain": [
       "  0%|          | 0/50 [00:00<?, ?it/s]"
      ],
      "application/vnd.jupyter.widget-view+json": {
       "version_major": 2,
       "version_minor": 0,
       "model_id": "032ae1077e3c43ca990ae99f2722d04f"
      }
     },
     "metadata": {},
     "output_type": "display_data"
    },
    {
     "data": {
      "text/plain": [
       "  0%|          | 0/50 [00:00<?, ?it/s]"
      ],
      "application/vnd.jupyter.widget-view+json": {
       "version_major": 2,
       "version_minor": 0,
       "model_id": "f27051aa038e47dc90eea5f783c05344"
      }
     },
     "metadata": {},
     "output_type": "display_data"
    },
    {
     "data": {
      "text/plain": [
       "  0%|          | 0/50 [00:00<?, ?it/s]"
      ],
      "application/vnd.jupyter.widget-view+json": {
       "version_major": 2,
       "version_minor": 0,
       "model_id": "eff6d194c5ff4aa2a888876e27bf4256"
      }
     },
     "metadata": {},
     "output_type": "display_data"
    },
    {
     "data": {
      "text/plain": [
       "  0%|          | 0/50 [00:00<?, ?it/s]"
      ],
      "application/vnd.jupyter.widget-view+json": {
       "version_major": 2,
       "version_minor": 0,
       "model_id": "b087e669c3e8492f954095c7ce11b298"
      }
     },
     "metadata": {},
     "output_type": "display_data"
    },
    {
     "data": {
      "text/plain": [
       "  0%|          | 0/50 [00:00<?, ?it/s]"
      ],
      "application/vnd.jupyter.widget-view+json": {
       "version_major": 2,
       "version_minor": 0,
       "model_id": "5319609fe931460fa63c12bff00176d5"
      }
     },
     "metadata": {},
     "output_type": "display_data"
    },
    {
     "data": {
      "text/plain": [
       "  0%|          | 0/50 [00:00<?, ?it/s]"
      ],
      "application/vnd.jupyter.widget-view+json": {
       "version_major": 2,
       "version_minor": 0,
       "model_id": "2cf362da40a4483faa86de5c3ac3a16c"
      }
     },
     "metadata": {},
     "output_type": "display_data"
    },
    {
     "data": {
      "text/plain": [
       "  0%|          | 0/50 [00:00<?, ?it/s]"
      ],
      "application/vnd.jupyter.widget-view+json": {
       "version_major": 2,
       "version_minor": 0,
       "model_id": "dca6acd86c114e1c821506d0ea4a1c6d"
      }
     },
     "metadata": {},
     "output_type": "display_data"
    },
    {
     "data": {
      "text/plain": [
       "  0%|          | 0/50 [00:00<?, ?it/s]"
      ],
      "application/vnd.jupyter.widget-view+json": {
       "version_major": 2,
       "version_minor": 0,
       "model_id": "581cda9a9508439f9df57ee6d688a462"
      }
     },
     "metadata": {},
     "output_type": "display_data"
    },
    {
     "data": {
      "text/plain": [
       "  0%|          | 0/50 [00:00<?, ?it/s]"
      ],
      "application/vnd.jupyter.widget-view+json": {
       "version_major": 2,
       "version_minor": 0,
       "model_id": "821c299a5b694bd790fee3849f4d1459"
      }
     },
     "metadata": {},
     "output_type": "display_data"
    },
    {
     "data": {
      "text/plain": [
       "  0%|          | 0/50 [00:00<?, ?it/s]"
      ],
      "application/vnd.jupyter.widget-view+json": {
       "version_major": 2,
       "version_minor": 0,
       "model_id": "f83da36df8e9420aa0960c1cc886613e"
      }
     },
     "metadata": {},
     "output_type": "display_data"
    },
    {
     "data": {
      "text/plain": [
       "  0%|          | 0/50 [00:00<?, ?it/s]"
      ],
      "application/vnd.jupyter.widget-view+json": {
       "version_major": 2,
       "version_minor": 0,
       "model_id": "58512e23a266458a885fde0704e80374"
      }
     },
     "metadata": {},
     "output_type": "display_data"
    },
    {
     "data": {
      "text/plain": [
       "  0%|          | 0/50 [00:00<?, ?it/s]"
      ],
      "application/vnd.jupyter.widget-view+json": {
       "version_major": 2,
       "version_minor": 0,
       "model_id": "1d3e7ad4495c4ae3af939e231fb31c70"
      }
     },
     "metadata": {},
     "output_type": "display_data"
    },
    {
     "data": {
      "text/plain": [
       "  0%|          | 0/50 [00:00<?, ?it/s]"
      ],
      "application/vnd.jupyter.widget-view+json": {
       "version_major": 2,
       "version_minor": 0,
       "model_id": "cbf4cfdfddfc49bbbfe8cf90a46bb007"
      }
     },
     "metadata": {},
     "output_type": "display_data"
    },
    {
     "data": {
      "text/plain": [
       "  0%|          | 0/50 [00:00<?, ?it/s]"
      ],
      "application/vnd.jupyter.widget-view+json": {
       "version_major": 2,
       "version_minor": 0,
       "model_id": "0471c234f5544510a7028d54d67c1cd9"
      }
     },
     "metadata": {},
     "output_type": "display_data"
    },
    {
     "data": {
      "text/plain": [
       "  0%|          | 0/50 [00:00<?, ?it/s]"
      ],
      "application/vnd.jupyter.widget-view+json": {
       "version_major": 2,
       "version_minor": 0,
       "model_id": "fde28632248446bea5f54c53c62c9b2e"
      }
     },
     "metadata": {},
     "output_type": "display_data"
    },
    {
     "data": {
      "text/plain": [
       "  0%|          | 0/50 [00:00<?, ?it/s]"
      ],
      "application/vnd.jupyter.widget-view+json": {
       "version_major": 2,
       "version_minor": 0,
       "model_id": "84c76cf6db5c436eace74202fa221432"
      }
     },
     "metadata": {},
     "output_type": "display_data"
    },
    {
     "data": {
      "text/plain": [
       "  0%|          | 0/50 [00:00<?, ?it/s]"
      ],
      "application/vnd.jupyter.widget-view+json": {
       "version_major": 2,
       "version_minor": 0,
       "model_id": "0014110e06874621b4822c25d3b267bf"
      }
     },
     "metadata": {},
     "output_type": "display_data"
    },
    {
     "data": {
      "text/plain": [
       "  0%|          | 0/50 [00:00<?, ?it/s]"
      ],
      "application/vnd.jupyter.widget-view+json": {
       "version_major": 2,
       "version_minor": 0,
       "model_id": "06e7731db33844e6b00fc5b5cf9673c6"
      }
     },
     "metadata": {},
     "output_type": "display_data"
    },
    {
     "data": {
      "text/plain": [
       "  0%|          | 0/50 [00:00<?, ?it/s]"
      ],
      "application/vnd.jupyter.widget-view+json": {
       "version_major": 2,
       "version_minor": 0,
       "model_id": "6186b30645ca471dae8514b6695031cc"
      }
     },
     "metadata": {},
     "output_type": "display_data"
    },
    {
     "data": {
      "text/plain": [
       "  0%|          | 0/50 [00:00<?, ?it/s]"
      ],
      "application/vnd.jupyter.widget-view+json": {
       "version_major": 2,
       "version_minor": 0,
       "model_id": "337584e9510147888ac93d75d47a8b9f"
      }
     },
     "metadata": {},
     "output_type": "display_data"
    },
    {
     "data": {
      "text/plain": [
       "  0%|          | 0/50 [00:00<?, ?it/s]"
      ],
      "application/vnd.jupyter.widget-view+json": {
       "version_major": 2,
       "version_minor": 0,
       "model_id": "8fc462c327bf448a94ba0281935a01c0"
      }
     },
     "metadata": {},
     "output_type": "display_data"
    },
    {
     "data": {
      "text/plain": [
       "  0%|          | 0/50 [00:00<?, ?it/s]"
      ],
      "application/vnd.jupyter.widget-view+json": {
       "version_major": 2,
       "version_minor": 0,
       "model_id": "856e7b0995ce423f8501350d80e3aa2c"
      }
     },
     "metadata": {},
     "output_type": "display_data"
    },
    {
     "data": {
      "text/plain": [
       "  0%|          | 0/50 [00:00<?, ?it/s]"
      ],
      "application/vnd.jupyter.widget-view+json": {
       "version_major": 2,
       "version_minor": 0,
       "model_id": "2c92e01c323c49f9b2d31a06c25d5474"
      }
     },
     "metadata": {},
     "output_type": "display_data"
    },
    {
     "data": {
      "text/plain": [
       "  0%|          | 0/50 [00:00<?, ?it/s]"
      ],
      "application/vnd.jupyter.widget-view+json": {
       "version_major": 2,
       "version_minor": 0,
       "model_id": "e3c7c37d47204228a2c2231414b75dd9"
      }
     },
     "metadata": {},
     "output_type": "display_data"
    },
    {
     "data": {
      "text/plain": [
       "  0%|          | 0/50 [00:00<?, ?it/s]"
      ],
      "application/vnd.jupyter.widget-view+json": {
       "version_major": 2,
       "version_minor": 0,
       "model_id": "3e019722ecbc47959c4d9bb464b96811"
      }
     },
     "metadata": {},
     "output_type": "display_data"
    },
    {
     "data": {
      "text/plain": [
       "  0%|          | 0/50 [00:00<?, ?it/s]"
      ],
      "application/vnd.jupyter.widget-view+json": {
       "version_major": 2,
       "version_minor": 0,
       "model_id": "a4e7726a614f4de587ad5b4e317064e4"
      }
     },
     "metadata": {},
     "output_type": "display_data"
    },
    {
     "data": {
      "text/plain": [
       "  0%|          | 0/50 [00:00<?, ?it/s]"
      ],
      "application/vnd.jupyter.widget-view+json": {
       "version_major": 2,
       "version_minor": 0,
       "model_id": "57934ef870b748b18a3d4e60ffea01dc"
      }
     },
     "metadata": {},
     "output_type": "display_data"
    },
    {
     "data": {
      "text/plain": [
       "  0%|          | 0/50 [00:00<?, ?it/s]"
      ],
      "application/vnd.jupyter.widget-view+json": {
       "version_major": 2,
       "version_minor": 0,
       "model_id": "a655a2cbdfe44ea8b16faaebcf0a15e7"
      }
     },
     "metadata": {},
     "output_type": "display_data"
    },
    {
     "data": {
      "text/plain": [
       "  0%|          | 0/50 [00:00<?, ?it/s]"
      ],
      "application/vnd.jupyter.widget-view+json": {
       "version_major": 2,
       "version_minor": 0,
       "model_id": "61242848901a4a75af90393dfde1e8ed"
      }
     },
     "metadata": {},
     "output_type": "display_data"
    },
    {
     "data": {
      "text/plain": [
       "  0%|          | 0/50 [00:00<?, ?it/s]"
      ],
      "application/vnd.jupyter.widget-view+json": {
       "version_major": 2,
       "version_minor": 0,
       "model_id": "39d0da35fc6841789974249799e8e0b7"
      }
     },
     "metadata": {},
     "output_type": "display_data"
    },
    {
     "data": {
      "text/plain": [
       "  0%|          | 0/50 [00:00<?, ?it/s]"
      ],
      "application/vnd.jupyter.widget-view+json": {
       "version_major": 2,
       "version_minor": 0,
       "model_id": "9920bbedf3e64ca79a029b9c337a530f"
      }
     },
     "metadata": {},
     "output_type": "display_data"
    },
    {
     "data": {
      "text/plain": [
       "  0%|          | 0/50 [00:00<?, ?it/s]"
      ],
      "application/vnd.jupyter.widget-view+json": {
       "version_major": 2,
       "version_minor": 0,
       "model_id": "4c8e0c7eca3d41ee868874067268344f"
      }
     },
     "metadata": {},
     "output_type": "display_data"
    },
    {
     "data": {
      "text/plain": [
       "  0%|          | 0/50 [00:00<?, ?it/s]"
      ],
      "application/vnd.jupyter.widget-view+json": {
       "version_major": 2,
       "version_minor": 0,
       "model_id": "91b4bd24f0144dfd8de556aa18578be6"
      }
     },
     "metadata": {},
     "output_type": "display_data"
    },
    {
     "data": {
      "text/plain": [
       "  0%|          | 0/50 [00:00<?, ?it/s]"
      ],
      "application/vnd.jupyter.widget-view+json": {
       "version_major": 2,
       "version_minor": 0,
       "model_id": "dfd0b330c4b84bfe9fb540b51fa4419b"
      }
     },
     "metadata": {},
     "output_type": "display_data"
    },
    {
     "data": {
      "text/plain": [
       "  0%|          | 0/50 [00:00<?, ?it/s]"
      ],
      "application/vnd.jupyter.widget-view+json": {
       "version_major": 2,
       "version_minor": 0,
       "model_id": "5c7e3b7f3325447ba15cdf3de39c8994"
      }
     },
     "metadata": {},
     "output_type": "display_data"
    },
    {
     "data": {
      "text/plain": [
       "  0%|          | 0/50 [00:00<?, ?it/s]"
      ],
      "application/vnd.jupyter.widget-view+json": {
       "version_major": 2,
       "version_minor": 0,
       "model_id": "18759827d863478f83f0dbd3441458c1"
      }
     },
     "metadata": {},
     "output_type": "display_data"
    },
    {
     "data": {
      "text/plain": [
       "  0%|          | 0/50 [00:00<?, ?it/s]"
      ],
      "application/vnd.jupyter.widget-view+json": {
       "version_major": 2,
       "version_minor": 0,
       "model_id": "8e6295c9c3b340788be4a0b2019d0d67"
      }
     },
     "metadata": {},
     "output_type": "display_data"
    },
    {
     "data": {
      "text/plain": [
       "  0%|          | 0/50 [00:00<?, ?it/s]"
      ],
      "application/vnd.jupyter.widget-view+json": {
       "version_major": 2,
       "version_minor": 0,
       "model_id": "4d8e8e88dc46461a84b38e8cbe2735dd"
      }
     },
     "metadata": {},
     "output_type": "display_data"
    },
    {
     "data": {
      "text/plain": [
       "  0%|          | 0/50 [00:00<?, ?it/s]"
      ],
      "application/vnd.jupyter.widget-view+json": {
       "version_major": 2,
       "version_minor": 0,
       "model_id": "2befd4811469485bb07b5f5dcff7b9bf"
      }
     },
     "metadata": {},
     "output_type": "display_data"
    },
    {
     "data": {
      "text/plain": [
       "  0%|          | 0/50 [00:00<?, ?it/s]"
      ],
      "application/vnd.jupyter.widget-view+json": {
       "version_major": 2,
       "version_minor": 0,
       "model_id": "6e1abbd8105d4a0e92591389c7220a13"
      }
     },
     "metadata": {},
     "output_type": "display_data"
    },
    {
     "data": {
      "text/plain": [
       "  0%|          | 0/50 [00:00<?, ?it/s]"
      ],
      "application/vnd.jupyter.widget-view+json": {
       "version_major": 2,
       "version_minor": 0,
       "model_id": "5f92aea01d38453da2bab90256406799"
      }
     },
     "metadata": {},
     "output_type": "display_data"
    },
    {
     "data": {
      "text/plain": [
       "  0%|          | 0/50 [00:00<?, ?it/s]"
      ],
      "application/vnd.jupyter.widget-view+json": {
       "version_major": 2,
       "version_minor": 0,
       "model_id": "584d9c03b284479f9088e23ea6dbf299"
      }
     },
     "metadata": {},
     "output_type": "display_data"
    },
    {
     "data": {
      "text/plain": [
       "  0%|          | 0/50 [00:00<?, ?it/s]"
      ],
      "application/vnd.jupyter.widget-view+json": {
       "version_major": 2,
       "version_minor": 0,
       "model_id": "18da0bba190d45f9b73b69d11ed24f13"
      }
     },
     "metadata": {},
     "output_type": "display_data"
    },
    {
     "data": {
      "text/plain": [
       "  0%|          | 0/50 [00:00<?, ?it/s]"
      ],
      "application/vnd.jupyter.widget-view+json": {
       "version_major": 2,
       "version_minor": 0,
       "model_id": "677014fa71b94d6daa53c6529fd0fb96"
      }
     },
     "metadata": {},
     "output_type": "display_data"
    },
    {
     "data": {
      "text/plain": [
       "  0%|          | 0/50 [00:00<?, ?it/s]"
      ],
      "application/vnd.jupyter.widget-view+json": {
       "version_major": 2,
       "version_minor": 0,
       "model_id": "a645d6eb1d9742a381e8f89c06373518"
      }
     },
     "metadata": {},
     "output_type": "display_data"
    },
    {
     "data": {
      "text/plain": [
       "  0%|          | 0/50 [00:00<?, ?it/s]"
      ],
      "application/vnd.jupyter.widget-view+json": {
       "version_major": 2,
       "version_minor": 0,
       "model_id": "ae3db749e27e4dc18e4e19c84914f328"
      }
     },
     "metadata": {},
     "output_type": "display_data"
    },
    {
     "data": {
      "text/plain": [
       "  0%|          | 0/50 [00:00<?, ?it/s]"
      ],
      "application/vnd.jupyter.widget-view+json": {
       "version_major": 2,
       "version_minor": 0,
       "model_id": "588d6047bf664896b11d6febe0063b7f"
      }
     },
     "metadata": {},
     "output_type": "display_data"
    },
    {
     "data": {
      "text/plain": [
       "  0%|          | 0/50 [00:00<?, ?it/s]"
      ],
      "application/vnd.jupyter.widget-view+json": {
       "version_major": 2,
       "version_minor": 0,
       "model_id": "79d00508edad401db23989147157f02e"
      }
     },
     "metadata": {},
     "output_type": "display_data"
    },
    {
     "data": {
      "text/plain": [
       "  0%|          | 0/50 [00:00<?, ?it/s]"
      ],
      "application/vnd.jupyter.widget-view+json": {
       "version_major": 2,
       "version_minor": 0,
       "model_id": "34b40c81e58742c6bfa687d0e51b98f5"
      }
     },
     "metadata": {},
     "output_type": "display_data"
    },
    {
     "data": {
      "text/plain": [
       "  0%|          | 0/50 [00:00<?, ?it/s]"
      ],
      "application/vnd.jupyter.widget-view+json": {
       "version_major": 2,
       "version_minor": 0,
       "model_id": "37542467ae3a4d05a9af0f9e655d0997"
      }
     },
     "metadata": {},
     "output_type": "display_data"
    },
    {
     "data": {
      "text/plain": [
       "  0%|          | 0/50 [00:00<?, ?it/s]"
      ],
      "application/vnd.jupyter.widget-view+json": {
       "version_major": 2,
       "version_minor": 0,
       "model_id": "27ddec0c3f034c479784874cdf42bc4f"
      }
     },
     "metadata": {},
     "output_type": "display_data"
    },
    {
     "data": {
      "text/plain": [
       "  0%|          | 0/50 [00:00<?, ?it/s]"
      ],
      "application/vnd.jupyter.widget-view+json": {
       "version_major": 2,
       "version_minor": 0,
       "model_id": "2af19e6688c746ff8e412472ad690e2f"
      }
     },
     "metadata": {},
     "output_type": "display_data"
    },
    {
     "data": {
      "text/plain": [
       "  0%|          | 0/50 [00:00<?, ?it/s]"
      ],
      "application/vnd.jupyter.widget-view+json": {
       "version_major": 2,
       "version_minor": 0,
       "model_id": "d40c1392f5424737b20ec2a5bde37950"
      }
     },
     "metadata": {},
     "output_type": "display_data"
    },
    {
     "data": {
      "text/plain": [
       "  0%|          | 0/50 [00:00<?, ?it/s]"
      ],
      "application/vnd.jupyter.widget-view+json": {
       "version_major": 2,
       "version_minor": 0,
       "model_id": "cae95bd8bd3b471cbe3e531b7feeddf2"
      }
     },
     "metadata": {},
     "output_type": "display_data"
    },
    {
     "data": {
      "text/plain": [
       "  0%|          | 0/50 [00:00<?, ?it/s]"
      ],
      "application/vnd.jupyter.widget-view+json": {
       "version_major": 2,
       "version_minor": 0,
       "model_id": "bd48fecd2d8f4e49beab7db73953e10a"
      }
     },
     "metadata": {},
     "output_type": "display_data"
    },
    {
     "data": {
      "text/plain": [
       "  0%|          | 0/50 [00:00<?, ?it/s]"
      ],
      "application/vnd.jupyter.widget-view+json": {
       "version_major": 2,
       "version_minor": 0,
       "model_id": "1120f99e898c4a5986194ace7f15f70c"
      }
     },
     "metadata": {},
     "output_type": "display_data"
    },
    {
     "data": {
      "text/plain": [
       "  0%|          | 0/50 [00:00<?, ?it/s]"
      ],
      "application/vnd.jupyter.widget-view+json": {
       "version_major": 2,
       "version_minor": 0,
       "model_id": "1106fcdec0804932b902ec001d864130"
      }
     },
     "metadata": {},
     "output_type": "display_data"
    },
    {
     "data": {
      "text/plain": [
       "  0%|          | 0/50 [00:00<?, ?it/s]"
      ],
      "application/vnd.jupyter.widget-view+json": {
       "version_major": 2,
       "version_minor": 0,
       "model_id": "e4d88d4129154b289ba03cb3161aeb96"
      }
     },
     "metadata": {},
     "output_type": "display_data"
    },
    {
     "data": {
      "text/plain": [
       "  0%|          | 0/50 [00:00<?, ?it/s]"
      ],
      "application/vnd.jupyter.widget-view+json": {
       "version_major": 2,
       "version_minor": 0,
       "model_id": "a4728e3b96fe41389688f62b23af77ae"
      }
     },
     "metadata": {},
     "output_type": "display_data"
    },
    {
     "data": {
      "text/plain": [
       "  0%|          | 0/50 [00:00<?, ?it/s]"
      ],
      "application/vnd.jupyter.widget-view+json": {
       "version_major": 2,
       "version_minor": 0,
       "model_id": "a26b51cf36144ea69ad284773923fa32"
      }
     },
     "metadata": {},
     "output_type": "display_data"
    },
    {
     "data": {
      "text/plain": [
       "  0%|          | 0/50 [00:00<?, ?it/s]"
      ],
      "application/vnd.jupyter.widget-view+json": {
       "version_major": 2,
       "version_minor": 0,
       "model_id": "b2931c95ab9d4b359c1ed8da2891f9d0"
      }
     },
     "metadata": {},
     "output_type": "display_data"
    },
    {
     "data": {
      "text/plain": [
       "  0%|          | 0/50 [00:00<?, ?it/s]"
      ],
      "application/vnd.jupyter.widget-view+json": {
       "version_major": 2,
       "version_minor": 0,
       "model_id": "7e8b41ad0dcb46ffa2ccd7c57a71592b"
      }
     },
     "metadata": {},
     "output_type": "display_data"
    },
    {
     "data": {
      "text/plain": [
       "  0%|          | 0/50 [00:00<?, ?it/s]"
      ],
      "application/vnd.jupyter.widget-view+json": {
       "version_major": 2,
       "version_minor": 0,
       "model_id": "2337363247a14716ae7530ce2fa215a6"
      }
     },
     "metadata": {},
     "output_type": "display_data"
    },
    {
     "data": {
      "text/plain": [
       "  0%|          | 0/50 [00:00<?, ?it/s]"
      ],
      "application/vnd.jupyter.widget-view+json": {
       "version_major": 2,
       "version_minor": 0,
       "model_id": "392b5359c9d045dc827bc55bb73ac161"
      }
     },
     "metadata": {},
     "output_type": "display_data"
    },
    {
     "data": {
      "text/plain": [
       "  0%|          | 0/50 [00:00<?, ?it/s]"
      ],
      "application/vnd.jupyter.widget-view+json": {
       "version_major": 2,
       "version_minor": 0,
       "model_id": "1c4f5f6d446544dca07515ab7d00dd00"
      }
     },
     "metadata": {},
     "output_type": "display_data"
    },
    {
     "data": {
      "text/plain": [
       "  0%|          | 0/50 [00:00<?, ?it/s]"
      ],
      "application/vnd.jupyter.widget-view+json": {
       "version_major": 2,
       "version_minor": 0,
       "model_id": "cf981904aafd4ac9b5d4872b0ba86295"
      }
     },
     "metadata": {},
     "output_type": "display_data"
    },
    {
     "data": {
      "text/plain": [
       "  0%|          | 0/50 [00:00<?, ?it/s]"
      ],
      "application/vnd.jupyter.widget-view+json": {
       "version_major": 2,
       "version_minor": 0,
       "model_id": "e8d2aa152ece4f208f5899a2ff5a9231"
      }
     },
     "metadata": {},
     "output_type": "display_data"
    },
    {
     "data": {
      "text/plain": [
       "  0%|          | 0/50 [00:00<?, ?it/s]"
      ],
      "application/vnd.jupyter.widget-view+json": {
       "version_major": 2,
       "version_minor": 0,
       "model_id": "ef7491f4e4f64e828a3f22648ff3121a"
      }
     },
     "metadata": {},
     "output_type": "display_data"
    },
    {
     "data": {
      "text/plain": [
       "  0%|          | 0/50 [00:00<?, ?it/s]"
      ],
      "application/vnd.jupyter.widget-view+json": {
       "version_major": 2,
       "version_minor": 0,
       "model_id": "9aae5c48f86b455889fef183bc27ffc7"
      }
     },
     "metadata": {},
     "output_type": "display_data"
    },
    {
     "data": {
      "text/plain": [
       "  0%|          | 0/50 [00:00<?, ?it/s]"
      ],
      "application/vnd.jupyter.widget-view+json": {
       "version_major": 2,
       "version_minor": 0,
       "model_id": "55bbea584e6743ca81d86250a0032a7a"
      }
     },
     "metadata": {},
     "output_type": "display_data"
    },
    {
     "data": {
      "text/plain": [
       "  0%|          | 0/50 [00:00<?, ?it/s]"
      ],
      "application/vnd.jupyter.widget-view+json": {
       "version_major": 2,
       "version_minor": 0,
       "model_id": "cefe7839963c4064b46a00a978642a49"
      }
     },
     "metadata": {},
     "output_type": "display_data"
    },
    {
     "data": {
      "text/plain": [
       "  0%|          | 0/50 [00:00<?, ?it/s]"
      ],
      "application/vnd.jupyter.widget-view+json": {
       "version_major": 2,
       "version_minor": 0,
       "model_id": "017a057464f14978970baf755346af9e"
      }
     },
     "metadata": {},
     "output_type": "display_data"
    },
    {
     "data": {
      "text/plain": [
       "  0%|          | 0/50 [00:00<?, ?it/s]"
      ],
      "application/vnd.jupyter.widget-view+json": {
       "version_major": 2,
       "version_minor": 0,
       "model_id": "ef27ff91e41a41c59be4fc8561b1849d"
      }
     },
     "metadata": {},
     "output_type": "display_data"
    },
    {
     "data": {
      "text/plain": [
       "  0%|          | 0/50 [00:00<?, ?it/s]"
      ],
      "application/vnd.jupyter.widget-view+json": {
       "version_major": 2,
       "version_minor": 0,
       "model_id": "fc8fb8564fa548c48c312877872fdb3b"
      }
     },
     "metadata": {},
     "output_type": "display_data"
    },
    {
     "data": {
      "text/plain": [
       "  0%|          | 0/50 [00:00<?, ?it/s]"
      ],
      "application/vnd.jupyter.widget-view+json": {
       "version_major": 2,
       "version_minor": 0,
       "model_id": "9bbe438d257d44d49ccc8a31f6c7643b"
      }
     },
     "metadata": {},
     "output_type": "display_data"
    },
    {
     "data": {
      "text/plain": [
       "  0%|          | 0/50 [00:00<?, ?it/s]"
      ],
      "application/vnd.jupyter.widget-view+json": {
       "version_major": 2,
       "version_minor": 0,
       "model_id": "d52a994ec2a14fc2aa53eb6ba9af4b8d"
      }
     },
     "metadata": {},
     "output_type": "display_data"
    },
    {
     "data": {
      "text/plain": [
       "  0%|          | 0/50 [00:00<?, ?it/s]"
      ],
      "application/vnd.jupyter.widget-view+json": {
       "version_major": 2,
       "version_minor": 0,
       "model_id": "15527ec8d6404a91835306f313c1543c"
      }
     },
     "metadata": {},
     "output_type": "display_data"
    },
    {
     "data": {
      "text/plain": [
       "  0%|          | 0/50 [00:00<?, ?it/s]"
      ],
      "application/vnd.jupyter.widget-view+json": {
       "version_major": 2,
       "version_minor": 0,
       "model_id": "df291e93e9294f8e9d7d46485bf2bf32"
      }
     },
     "metadata": {},
     "output_type": "display_data"
    },
    {
     "data": {
      "text/plain": [
       "  0%|          | 0/50 [00:00<?, ?it/s]"
      ],
      "application/vnd.jupyter.widget-view+json": {
       "version_major": 2,
       "version_minor": 0,
       "model_id": "f7a43b43e9974d5d9f5bcac7118b38bb"
      }
     },
     "metadata": {},
     "output_type": "display_data"
    },
    {
     "data": {
      "text/plain": [
       "  0%|          | 0/50 [00:00<?, ?it/s]"
      ],
      "application/vnd.jupyter.widget-view+json": {
       "version_major": 2,
       "version_minor": 0,
       "model_id": "33cee4ec6a7d4fbbadc934beb5d48294"
      }
     },
     "metadata": {},
     "output_type": "display_data"
    },
    {
     "data": {
      "text/plain": [
       "  0%|          | 0/50 [00:00<?, ?it/s]"
      ],
      "application/vnd.jupyter.widget-view+json": {
       "version_major": 2,
       "version_minor": 0,
       "model_id": "f18a4dc7ee5f42f2b72fe509d6f0b7af"
      }
     },
     "metadata": {},
     "output_type": "display_data"
    },
    {
     "data": {
      "text/plain": [
       "  0%|          | 0/50 [00:00<?, ?it/s]"
      ],
      "application/vnd.jupyter.widget-view+json": {
       "version_major": 2,
       "version_minor": 0,
       "model_id": "a97aab5f751b417585d001b2e8336796"
      }
     },
     "metadata": {},
     "output_type": "display_data"
    },
    {
     "data": {
      "text/plain": [
       "  0%|          | 0/50 [00:00<?, ?it/s]"
      ],
      "application/vnd.jupyter.widget-view+json": {
       "version_major": 2,
       "version_minor": 0,
       "model_id": "0d75adc483cf416bbbaf238d4eb43f75"
      }
     },
     "metadata": {},
     "output_type": "display_data"
    },
    {
     "data": {
      "text/plain": [
       "  0%|          | 0/50 [00:00<?, ?it/s]"
      ],
      "application/vnd.jupyter.widget-view+json": {
       "version_major": 2,
       "version_minor": 0,
       "model_id": "a2fd04bd675045fc88a22122d708b3f8"
      }
     },
     "metadata": {},
     "output_type": "display_data"
    },
    {
     "data": {
      "text/plain": [
       "  0%|          | 0/50 [00:00<?, ?it/s]"
      ],
      "application/vnd.jupyter.widget-view+json": {
       "version_major": 2,
       "version_minor": 0,
       "model_id": "bbbf348ccbd04a8f88480821ece31edd"
      }
     },
     "metadata": {},
     "output_type": "display_data"
    },
    {
     "data": {
      "text/plain": [
       "  0%|          | 0/50 [00:00<?, ?it/s]"
      ],
      "application/vnd.jupyter.widget-view+json": {
       "version_major": 2,
       "version_minor": 0,
       "model_id": "6ed76aa9e9424fdc8b7cbea8327e61d6"
      }
     },
     "metadata": {},
     "output_type": "display_data"
    },
    {
     "data": {
      "text/plain": [
       "  0%|          | 0/50 [00:00<?, ?it/s]"
      ],
      "application/vnd.jupyter.widget-view+json": {
       "version_major": 2,
       "version_minor": 0,
       "model_id": "c3bd4df307824d1f9f6e484a4d607f0f"
      }
     },
     "metadata": {},
     "output_type": "display_data"
    },
    {
     "data": {
      "text/plain": [
       "  0%|          | 0/50 [00:00<?, ?it/s]"
      ],
      "application/vnd.jupyter.widget-view+json": {
       "version_major": 2,
       "version_minor": 0,
       "model_id": "56015adb20be46abb641a051f6d0b2cd"
      }
     },
     "metadata": {},
     "output_type": "display_data"
    },
    {
     "data": {
      "text/plain": [
       "  0%|          | 0/50 [00:00<?, ?it/s]"
      ],
      "application/vnd.jupyter.widget-view+json": {
       "version_major": 2,
       "version_minor": 0,
       "model_id": "5da2a026de724d17ba7baa6f6d76b02b"
      }
     },
     "metadata": {},
     "output_type": "display_data"
    },
    {
     "data": {
      "text/plain": [
       "  0%|          | 0/50 [00:00<?, ?it/s]"
      ],
      "application/vnd.jupyter.widget-view+json": {
       "version_major": 2,
       "version_minor": 0,
       "model_id": "047955650aee4c7ba18bfe6c045a5bf5"
      }
     },
     "metadata": {},
     "output_type": "display_data"
    },
    {
     "data": {
      "text/plain": [
       "  0%|          | 0/50 [00:00<?, ?it/s]"
      ],
      "application/vnd.jupyter.widget-view+json": {
       "version_major": 2,
       "version_minor": 0,
       "model_id": "3908fe3337e84c689c3fddbbc6cafd42"
      }
     },
     "metadata": {},
     "output_type": "display_data"
    },
    {
     "data": {
      "text/plain": [
       "  0%|          | 0/50 [00:00<?, ?it/s]"
      ],
      "application/vnd.jupyter.widget-view+json": {
       "version_major": 2,
       "version_minor": 0,
       "model_id": "2d264b6b526e4ee69ea4502815360e08"
      }
     },
     "metadata": {},
     "output_type": "display_data"
    },
    {
     "data": {
      "text/plain": [
       "  0%|          | 0/50 [00:00<?, ?it/s]"
      ],
      "application/vnd.jupyter.widget-view+json": {
       "version_major": 2,
       "version_minor": 0,
       "model_id": "465417e31e7e49c9b12fb9e0f646f2ed"
      }
     },
     "metadata": {},
     "output_type": "display_data"
    },
    {
     "data": {
      "text/plain": [
       "  0%|          | 0/50 [00:00<?, ?it/s]"
      ],
      "application/vnd.jupyter.widget-view+json": {
       "version_major": 2,
       "version_minor": 0,
       "model_id": "cf8738b195974339a78665771ecf9f67"
      }
     },
     "metadata": {},
     "output_type": "display_data"
    },
    {
     "data": {
      "text/plain": [
       "  0%|          | 0/50 [00:00<?, ?it/s]"
      ],
      "application/vnd.jupyter.widget-view+json": {
       "version_major": 2,
       "version_minor": 0,
       "model_id": "dc85f72efc694e9ebd78373d1a5e97f9"
      }
     },
     "metadata": {},
     "output_type": "display_data"
    },
    {
     "data": {
      "text/plain": [
       "  0%|          | 0/50 [00:00<?, ?it/s]"
      ],
      "application/vnd.jupyter.widget-view+json": {
       "version_major": 2,
       "version_minor": 0,
       "model_id": "663c10bbdc2e435a8c01692ff202fc47"
      }
     },
     "metadata": {},
     "output_type": "display_data"
    },
    {
     "data": {
      "text/plain": [
       "  0%|          | 0/50 [00:00<?, ?it/s]"
      ],
      "application/vnd.jupyter.widget-view+json": {
       "version_major": 2,
       "version_minor": 0,
       "model_id": "fc18d4989c0741db946128570befb54e"
      }
     },
     "metadata": {},
     "output_type": "display_data"
    },
    {
     "data": {
      "text/plain": [
       "  0%|          | 0/50 [00:00<?, ?it/s]"
      ],
      "application/vnd.jupyter.widget-view+json": {
       "version_major": 2,
       "version_minor": 0,
       "model_id": "949942d12e5d431ea3285a926641d915"
      }
     },
     "metadata": {},
     "output_type": "display_data"
    },
    {
     "data": {
      "text/plain": [
       "  0%|          | 0/50 [00:00<?, ?it/s]"
      ],
      "application/vnd.jupyter.widget-view+json": {
       "version_major": 2,
       "version_minor": 0,
       "model_id": "6ff242aab6ef478b816e7d7ab53c21a1"
      }
     },
     "metadata": {},
     "output_type": "display_data"
    },
    {
     "data": {
      "text/plain": [
       "  0%|          | 0/50 [00:00<?, ?it/s]"
      ],
      "application/vnd.jupyter.widget-view+json": {
       "version_major": 2,
       "version_minor": 0,
       "model_id": "6c5381939580478eb11ca7aa9591b798"
      }
     },
     "metadata": {},
     "output_type": "display_data"
    },
    {
     "data": {
      "text/plain": [
       "  0%|          | 0/50 [00:00<?, ?it/s]"
      ],
      "application/vnd.jupyter.widget-view+json": {
       "version_major": 2,
       "version_minor": 0,
       "model_id": "5402bab4e0af45999156489de16283d6"
      }
     },
     "metadata": {},
     "output_type": "display_data"
    },
    {
     "data": {
      "text/plain": [
       "  0%|          | 0/50 [00:00<?, ?it/s]"
      ],
      "application/vnd.jupyter.widget-view+json": {
       "version_major": 2,
       "version_minor": 0,
       "model_id": "de82ac8687a84dfabc9142c82facf65a"
      }
     },
     "metadata": {},
     "output_type": "display_data"
    },
    {
     "data": {
      "text/plain": [
       "  0%|          | 0/50 [00:00<?, ?it/s]"
      ],
      "application/vnd.jupyter.widget-view+json": {
       "version_major": 2,
       "version_minor": 0,
       "model_id": "5a86b49660fd4a629afca2accdd2dbe4"
      }
     },
     "metadata": {},
     "output_type": "display_data"
    },
    {
     "data": {
      "text/plain": [
       "  0%|          | 0/50 [00:00<?, ?it/s]"
      ],
      "application/vnd.jupyter.widget-view+json": {
       "version_major": 2,
       "version_minor": 0,
       "model_id": "9bfc31ece2324131979c74db9e53ee47"
      }
     },
     "metadata": {},
     "output_type": "display_data"
    },
    {
     "data": {
      "text/plain": [
       "  0%|          | 0/50 [00:00<?, ?it/s]"
      ],
      "application/vnd.jupyter.widget-view+json": {
       "version_major": 2,
       "version_minor": 0,
       "model_id": "0ab3784fd660488fadaabf7e807f437d"
      }
     },
     "metadata": {},
     "output_type": "display_data"
    },
    {
     "data": {
      "text/plain": [
       "  0%|          | 0/50 [00:00<?, ?it/s]"
      ],
      "application/vnd.jupyter.widget-view+json": {
       "version_major": 2,
       "version_minor": 0,
       "model_id": "ad91f66f4e754239a6eede487b78b521"
      }
     },
     "metadata": {},
     "output_type": "display_data"
    },
    {
     "data": {
      "text/plain": [
       "  0%|          | 0/50 [00:00<?, ?it/s]"
      ],
      "application/vnd.jupyter.widget-view+json": {
       "version_major": 2,
       "version_minor": 0,
       "model_id": "9ae2c4aff774445da2f43bc4fbd0b436"
      }
     },
     "metadata": {},
     "output_type": "display_data"
    },
    {
     "data": {
      "text/plain": [
       "  0%|          | 0/50 [00:00<?, ?it/s]"
      ],
      "application/vnd.jupyter.widget-view+json": {
       "version_major": 2,
       "version_minor": 0,
       "model_id": "db4c554829f84c3eb1b2c7cf5c719ba7"
      }
     },
     "metadata": {},
     "output_type": "display_data"
    },
    {
     "data": {
      "text/plain": [
       "  0%|          | 0/50 [00:00<?, ?it/s]"
      ],
      "application/vnd.jupyter.widget-view+json": {
       "version_major": 2,
       "version_minor": 0,
       "model_id": "fbe6dbe364904d5999bb05ffd6c317d9"
      }
     },
     "metadata": {},
     "output_type": "display_data"
    },
    {
     "data": {
      "text/plain": [
       "  0%|          | 0/50 [00:00<?, ?it/s]"
      ],
      "application/vnd.jupyter.widget-view+json": {
       "version_major": 2,
       "version_minor": 0,
       "model_id": "fad4363cd0214b2981d84f61eb3ea32a"
      }
     },
     "metadata": {},
     "output_type": "display_data"
    },
    {
     "data": {
      "text/plain": [
       "  0%|          | 0/50 [00:00<?, ?it/s]"
      ],
      "application/vnd.jupyter.widget-view+json": {
       "version_major": 2,
       "version_minor": 0,
       "model_id": "55ca366349ae41fd82a965dbbef59c40"
      }
     },
     "metadata": {},
     "output_type": "display_data"
    },
    {
     "data": {
      "text/plain": [
       "  0%|          | 0/50 [00:00<?, ?it/s]"
      ],
      "application/vnd.jupyter.widget-view+json": {
       "version_major": 2,
       "version_minor": 0,
       "model_id": "ed666fd9e1d04bbc97cc0665e912d3cd"
      }
     },
     "metadata": {},
     "output_type": "display_data"
    },
    {
     "data": {
      "text/plain": [
       "  0%|          | 0/50 [00:00<?, ?it/s]"
      ],
      "application/vnd.jupyter.widget-view+json": {
       "version_major": 2,
       "version_minor": 0,
       "model_id": "2825b829db74407a9f7fb6c982c7d059"
      }
     },
     "metadata": {},
     "output_type": "display_data"
    },
    {
     "data": {
      "text/plain": [
       "  0%|          | 0/50 [00:00<?, ?it/s]"
      ],
      "application/vnd.jupyter.widget-view+json": {
       "version_major": 2,
       "version_minor": 0,
       "model_id": "c6752b852f8945ed9837665af37308b4"
      }
     },
     "metadata": {},
     "output_type": "display_data"
    },
    {
     "data": {
      "text/plain": [
       "  0%|          | 0/50 [00:00<?, ?it/s]"
      ],
      "application/vnd.jupyter.widget-view+json": {
       "version_major": 2,
       "version_minor": 0,
       "model_id": "6add7e5ee50b4553b731ad58d18ebf25"
      }
     },
     "metadata": {},
     "output_type": "display_data"
    },
    {
     "data": {
      "text/plain": [
       "  0%|          | 0/50 [00:00<?, ?it/s]"
      ],
      "application/vnd.jupyter.widget-view+json": {
       "version_major": 2,
       "version_minor": 0,
       "model_id": "46dcbc0ec09047bb9844cf66718285ad"
      }
     },
     "metadata": {},
     "output_type": "display_data"
    },
    {
     "data": {
      "text/plain": [
       "  0%|          | 0/50 [00:00<?, ?it/s]"
      ],
      "application/vnd.jupyter.widget-view+json": {
       "version_major": 2,
       "version_minor": 0,
       "model_id": "33d4efae2886480abecce1a4c266c0cf"
      }
     },
     "metadata": {},
     "output_type": "display_data"
    },
    {
     "data": {
      "text/plain": [
       "  0%|          | 0/50 [00:00<?, ?it/s]"
      ],
      "application/vnd.jupyter.widget-view+json": {
       "version_major": 2,
       "version_minor": 0,
       "model_id": "824eaa4b1c1945e1ab623d03098c465f"
      }
     },
     "metadata": {},
     "output_type": "display_data"
    },
    {
     "data": {
      "text/plain": [
       "  0%|          | 0/50 [00:00<?, ?it/s]"
      ],
      "application/vnd.jupyter.widget-view+json": {
       "version_major": 2,
       "version_minor": 0,
       "model_id": "f3c9737471df41b2b5fbe7eafce15ae0"
      }
     },
     "metadata": {},
     "output_type": "display_data"
    },
    {
     "data": {
      "text/plain": [
       "  0%|          | 0/50 [00:00<?, ?it/s]"
      ],
      "application/vnd.jupyter.widget-view+json": {
       "version_major": 2,
       "version_minor": 0,
       "model_id": "b31851bcd3e14046b478b6cbe19ec2dd"
      }
     },
     "metadata": {},
     "output_type": "display_data"
    },
    {
     "data": {
      "text/plain": [
       "  0%|          | 0/50 [00:00<?, ?it/s]"
      ],
      "application/vnd.jupyter.widget-view+json": {
       "version_major": 2,
       "version_minor": 0,
       "model_id": "723b225039644c1b8eb864d12d526211"
      }
     },
     "metadata": {},
     "output_type": "display_data"
    },
    {
     "data": {
      "text/plain": [
       "  0%|          | 0/50 [00:00<?, ?it/s]"
      ],
      "application/vnd.jupyter.widget-view+json": {
       "version_major": 2,
       "version_minor": 0,
       "model_id": "828d3315f6b54afe83b405e83cf0c1a0"
      }
     },
     "metadata": {},
     "output_type": "display_data"
    },
    {
     "data": {
      "text/plain": [
       "  0%|          | 0/50 [00:00<?, ?it/s]"
      ],
      "application/vnd.jupyter.widget-view+json": {
       "version_major": 2,
       "version_minor": 0,
       "model_id": "276d27ddc99b4255855b5524a6e3b3f9"
      }
     },
     "metadata": {},
     "output_type": "display_data"
    },
    {
     "data": {
      "text/plain": [
       "  0%|          | 0/50 [00:00<?, ?it/s]"
      ],
      "application/vnd.jupyter.widget-view+json": {
       "version_major": 2,
       "version_minor": 0,
       "model_id": "4c8f853e33264de18caa608672088a7e"
      }
     },
     "metadata": {},
     "output_type": "display_data"
    },
    {
     "data": {
      "text/plain": [
       "  0%|          | 0/50 [00:00<?, ?it/s]"
      ],
      "application/vnd.jupyter.widget-view+json": {
       "version_major": 2,
       "version_minor": 0,
       "model_id": "3a9000bb8e0e4c12923277da43d994b0"
      }
     },
     "metadata": {},
     "output_type": "display_data"
    },
    {
     "data": {
      "text/plain": [
       "  0%|          | 0/50 [00:00<?, ?it/s]"
      ],
      "application/vnd.jupyter.widget-view+json": {
       "version_major": 2,
       "version_minor": 0,
       "model_id": "db6687c4b63d4ed5b8d310007cb1f529"
      }
     },
     "metadata": {},
     "output_type": "display_data"
    },
    {
     "data": {
      "text/plain": [
       "  0%|          | 0/50 [00:00<?, ?it/s]"
      ],
      "application/vnd.jupyter.widget-view+json": {
       "version_major": 2,
       "version_minor": 0,
       "model_id": "88d3bb04ca02426ca4184f70f288f017"
      }
     },
     "metadata": {},
     "output_type": "display_data"
    },
    {
     "data": {
      "text/plain": [
       "  0%|          | 0/50 [00:00<?, ?it/s]"
      ],
      "application/vnd.jupyter.widget-view+json": {
       "version_major": 2,
       "version_minor": 0,
       "model_id": "ae5f4065c39c4c23847ef78b842b75c2"
      }
     },
     "metadata": {},
     "output_type": "display_data"
    },
    {
     "data": {
      "text/plain": [
       "  0%|          | 0/50 [00:00<?, ?it/s]"
      ],
      "application/vnd.jupyter.widget-view+json": {
       "version_major": 2,
       "version_minor": 0,
       "model_id": "8d6738d4180946309eeb3a16caf23d28"
      }
     },
     "metadata": {},
     "output_type": "display_data"
    },
    {
     "data": {
      "text/plain": [
       "  0%|          | 0/50 [00:00<?, ?it/s]"
      ],
      "application/vnd.jupyter.widget-view+json": {
       "version_major": 2,
       "version_minor": 0,
       "model_id": "fedee792ec9a4016a1fff0c7631d3b6f"
      }
     },
     "metadata": {},
     "output_type": "display_data"
    },
    {
     "data": {
      "text/plain": [
       "  0%|          | 0/50 [00:00<?, ?it/s]"
      ],
      "application/vnd.jupyter.widget-view+json": {
       "version_major": 2,
       "version_minor": 0,
       "model_id": "9a1282167f6a43719d22917958caf66c"
      }
     },
     "metadata": {},
     "output_type": "display_data"
    },
    {
     "data": {
      "text/plain": [
       "  0%|          | 0/50 [00:00<?, ?it/s]"
      ],
      "application/vnd.jupyter.widget-view+json": {
       "version_major": 2,
       "version_minor": 0,
       "model_id": "edfcd407778f4c1fa65d31805ea30c4f"
      }
     },
     "metadata": {},
     "output_type": "display_data"
    },
    {
     "data": {
      "text/plain": [
       "  0%|          | 0/50 [00:00<?, ?it/s]"
      ],
      "application/vnd.jupyter.widget-view+json": {
       "version_major": 2,
       "version_minor": 0,
       "model_id": "ea8596c4d9604c96b7168a52830faf8a"
      }
     },
     "metadata": {},
     "output_type": "display_data"
    },
    {
     "data": {
      "text/plain": [
       "  0%|          | 0/50 [00:00<?, ?it/s]"
      ],
      "application/vnd.jupyter.widget-view+json": {
       "version_major": 2,
       "version_minor": 0,
       "model_id": "1c9cbfafd2c9423cbfd5f862856180f4"
      }
     },
     "metadata": {},
     "output_type": "display_data"
    },
    {
     "data": {
      "text/plain": [
       "  0%|          | 0/50 [00:00<?, ?it/s]"
      ],
      "application/vnd.jupyter.widget-view+json": {
       "version_major": 2,
       "version_minor": 0,
       "model_id": "75d8b4a2b3c24b418338d57d47b8b838"
      }
     },
     "metadata": {},
     "output_type": "display_data"
    },
    {
     "data": {
      "text/plain": [
       "  0%|          | 0/50 [00:00<?, ?it/s]"
      ],
      "application/vnd.jupyter.widget-view+json": {
       "version_major": 2,
       "version_minor": 0,
       "model_id": "9a2db9cac0bd4a55be21c7bc970fddf3"
      }
     },
     "metadata": {},
     "output_type": "display_data"
    },
    {
     "data": {
      "text/plain": [
       "  0%|          | 0/50 [00:00<?, ?it/s]"
      ],
      "application/vnd.jupyter.widget-view+json": {
       "version_major": 2,
       "version_minor": 0,
       "model_id": "d0fab0364d9a4306a48e899a4026dcdf"
      }
     },
     "metadata": {},
     "output_type": "display_data"
    },
    {
     "data": {
      "text/plain": [
       "  0%|          | 0/50 [00:00<?, ?it/s]"
      ],
      "application/vnd.jupyter.widget-view+json": {
       "version_major": 2,
       "version_minor": 0,
       "model_id": "feb872128d474b33bb1668cf5e4541f3"
      }
     },
     "metadata": {},
     "output_type": "display_data"
    },
    {
     "data": {
      "text/plain": [
       "  0%|          | 0/50 [00:00<?, ?it/s]"
      ],
      "application/vnd.jupyter.widget-view+json": {
       "version_major": 2,
       "version_minor": 0,
       "model_id": "8d20fbc313ae44fc9e1b3ce110d5d856"
      }
     },
     "metadata": {},
     "output_type": "display_data"
    },
    {
     "data": {
      "text/plain": [
       "  0%|          | 0/50 [00:00<?, ?it/s]"
      ],
      "application/vnd.jupyter.widget-view+json": {
       "version_major": 2,
       "version_minor": 0,
       "model_id": "c2c2af3b4631489cbd29d581690d7bce"
      }
     },
     "metadata": {},
     "output_type": "display_data"
    },
    {
     "data": {
      "text/plain": [
       "  0%|          | 0/50 [00:00<?, ?it/s]"
      ],
      "application/vnd.jupyter.widget-view+json": {
       "version_major": 2,
       "version_minor": 0,
       "model_id": "466ad3285e8245749a0d8e0ff89ff478"
      }
     },
     "metadata": {},
     "output_type": "display_data"
    },
    {
     "data": {
      "text/plain": [
       "  0%|          | 0/50 [00:00<?, ?it/s]"
      ],
      "application/vnd.jupyter.widget-view+json": {
       "version_major": 2,
       "version_minor": 0,
       "model_id": "001a71a1a20041a1ab3e66ec4ad1596d"
      }
     },
     "metadata": {},
     "output_type": "display_data"
    },
    {
     "data": {
      "text/plain": [
       "  0%|          | 0/50 [00:00<?, ?it/s]"
      ],
      "application/vnd.jupyter.widget-view+json": {
       "version_major": 2,
       "version_minor": 0,
       "model_id": "bb1dc8c12a4341d7b2c2e85286ad467e"
      }
     },
     "metadata": {},
     "output_type": "display_data"
    },
    {
     "data": {
      "text/plain": [
       "  0%|          | 0/50 [00:00<?, ?it/s]"
      ],
      "application/vnd.jupyter.widget-view+json": {
       "version_major": 2,
       "version_minor": 0,
       "model_id": "b851187183d64458ab529b0e6da27f88"
      }
     },
     "metadata": {},
     "output_type": "display_data"
    },
    {
     "data": {
      "text/plain": [
       "  0%|          | 0/50 [00:00<?, ?it/s]"
      ],
      "application/vnd.jupyter.widget-view+json": {
       "version_major": 2,
       "version_minor": 0,
       "model_id": "5425eb66b55d4e998f2cddfb425bb9d3"
      }
     },
     "metadata": {},
     "output_type": "display_data"
    },
    {
     "data": {
      "text/plain": [
       "  0%|          | 0/50 [00:00<?, ?it/s]"
      ],
      "application/vnd.jupyter.widget-view+json": {
       "version_major": 2,
       "version_minor": 0,
       "model_id": "9ee341216a8d496c9a6b6442063d094e"
      }
     },
     "metadata": {},
     "output_type": "display_data"
    },
    {
     "data": {
      "text/plain": [
       "  0%|          | 0/50 [00:00<?, ?it/s]"
      ],
      "application/vnd.jupyter.widget-view+json": {
       "version_major": 2,
       "version_minor": 0,
       "model_id": "c59b676a842041129815a6b7fb77c1ba"
      }
     },
     "metadata": {},
     "output_type": "display_data"
    },
    {
     "data": {
      "text/plain": [
       "  0%|          | 0/50 [00:00<?, ?it/s]"
      ],
      "application/vnd.jupyter.widget-view+json": {
       "version_major": 2,
       "version_minor": 0,
       "model_id": "202b9836ca914fd9b5da4faaa80d11da"
      }
     },
     "metadata": {},
     "output_type": "display_data"
    },
    {
     "data": {
      "text/plain": [
       "  0%|          | 0/50 [00:00<?, ?it/s]"
      ],
      "application/vnd.jupyter.widget-view+json": {
       "version_major": 2,
       "version_minor": 0,
       "model_id": "819412ecd0cb458fb6a49dfbeeab9056"
      }
     },
     "metadata": {},
     "output_type": "display_data"
    },
    {
     "data": {
      "text/plain": [
       "  0%|          | 0/50 [00:00<?, ?it/s]"
      ],
      "application/vnd.jupyter.widget-view+json": {
       "version_major": 2,
       "version_minor": 0,
       "model_id": "f00dd156169b4f059efcfeaab60e2334"
      }
     },
     "metadata": {},
     "output_type": "display_data"
    },
    {
     "data": {
      "text/plain": [
       "  0%|          | 0/50 [00:00<?, ?it/s]"
      ],
      "application/vnd.jupyter.widget-view+json": {
       "version_major": 2,
       "version_minor": 0,
       "model_id": "d4d292791cfd4cbb919f9d937380c912"
      }
     },
     "metadata": {},
     "output_type": "display_data"
    },
    {
     "data": {
      "text/plain": [
       "  0%|          | 0/50 [00:00<?, ?it/s]"
      ],
      "application/vnd.jupyter.widget-view+json": {
       "version_major": 2,
       "version_minor": 0,
       "model_id": "1331990b0f4d4d819d1a97c3cc9da98c"
      }
     },
     "metadata": {},
     "output_type": "display_data"
    },
    {
     "data": {
      "text/plain": [
       "  0%|          | 0/50 [00:00<?, ?it/s]"
      ],
      "application/vnd.jupyter.widget-view+json": {
       "version_major": 2,
       "version_minor": 0,
       "model_id": "7ad78d78445a4494b3074f305cf28daa"
      }
     },
     "metadata": {},
     "output_type": "display_data"
    },
    {
     "data": {
      "text/plain": [
       "  0%|          | 0/50 [00:00<?, ?it/s]"
      ],
      "application/vnd.jupyter.widget-view+json": {
       "version_major": 2,
       "version_minor": 0,
       "model_id": "eb6ce56277494551a043d96c10831ca6"
      }
     },
     "metadata": {},
     "output_type": "display_data"
    },
    {
     "data": {
      "text/plain": [
       "  0%|          | 0/50 [00:00<?, ?it/s]"
      ],
      "application/vnd.jupyter.widget-view+json": {
       "version_major": 2,
       "version_minor": 0,
       "model_id": "58ad6141fd584e9ea3c1f8808e9623ba"
      }
     },
     "metadata": {},
     "output_type": "display_data"
    },
    {
     "data": {
      "text/plain": [
       "  0%|          | 0/50 [00:00<?, ?it/s]"
      ],
      "application/vnd.jupyter.widget-view+json": {
       "version_major": 2,
       "version_minor": 0,
       "model_id": "87492a8fa3134250b1dbbb9a67c9a5c2"
      }
     },
     "metadata": {},
     "output_type": "display_data"
    },
    {
     "data": {
      "text/plain": [
       "  0%|          | 0/50 [00:00<?, ?it/s]"
      ],
      "application/vnd.jupyter.widget-view+json": {
       "version_major": 2,
       "version_minor": 0,
       "model_id": "374b034adb834d69a97baa5d5ceb7775"
      }
     },
     "metadata": {},
     "output_type": "display_data"
    },
    {
     "data": {
      "text/plain": [
       "  0%|          | 0/50 [00:00<?, ?it/s]"
      ],
      "application/vnd.jupyter.widget-view+json": {
       "version_major": 2,
       "version_minor": 0,
       "model_id": "3af923adff67482f84224f4c452dd895"
      }
     },
     "metadata": {},
     "output_type": "display_data"
    },
    {
     "data": {
      "text/plain": [
       "  0%|          | 0/50 [00:00<?, ?it/s]"
      ],
      "application/vnd.jupyter.widget-view+json": {
       "version_major": 2,
       "version_minor": 0,
       "model_id": "f4295ec8f08740aa8ed7886208be85ea"
      }
     },
     "metadata": {},
     "output_type": "display_data"
    },
    {
     "data": {
      "text/plain": [
       "  0%|          | 0/50 [00:00<?, ?it/s]"
      ],
      "application/vnd.jupyter.widget-view+json": {
       "version_major": 2,
       "version_minor": 0,
       "model_id": "60127ad32668436dbfe5984c2f5f15e7"
      }
     },
     "metadata": {},
     "output_type": "display_data"
    },
    {
     "data": {
      "text/plain": [
       "  0%|          | 0/50 [00:00<?, ?it/s]"
      ],
      "application/vnd.jupyter.widget-view+json": {
       "version_major": 2,
       "version_minor": 0,
       "model_id": "40489211313b4c8ca2b9668c36131f9b"
      }
     },
     "metadata": {},
     "output_type": "display_data"
    },
    {
     "data": {
      "text/plain": [
       "  0%|          | 0/50 [00:00<?, ?it/s]"
      ],
      "application/vnd.jupyter.widget-view+json": {
       "version_major": 2,
       "version_minor": 0,
       "model_id": "1bd914122d6049bc8b91f49cb99faad8"
      }
     },
     "metadata": {},
     "output_type": "display_data"
    },
    {
     "data": {
      "text/plain": [
       "  0%|          | 0/50 [00:00<?, ?it/s]"
      ],
      "application/vnd.jupyter.widget-view+json": {
       "version_major": 2,
       "version_minor": 0,
       "model_id": "e5bd17e8f8e045ff8359c0191c705da9"
      }
     },
     "metadata": {},
     "output_type": "display_data"
    },
    {
     "data": {
      "text/plain": [
       "  0%|          | 0/50 [00:00<?, ?it/s]"
      ],
      "application/vnd.jupyter.widget-view+json": {
       "version_major": 2,
       "version_minor": 0,
       "model_id": "2b9ad494eeb44f97b8ef016f2eb0e740"
      }
     },
     "metadata": {},
     "output_type": "display_data"
    },
    {
     "data": {
      "text/plain": [
       "  0%|          | 0/50 [00:00<?, ?it/s]"
      ],
      "application/vnd.jupyter.widget-view+json": {
       "version_major": 2,
       "version_minor": 0,
       "model_id": "8d220375ddff4beea3c79b31819c8255"
      }
     },
     "metadata": {},
     "output_type": "display_data"
    },
    {
     "data": {
      "text/plain": [
       "  0%|          | 0/50 [00:00<?, ?it/s]"
      ],
      "application/vnd.jupyter.widget-view+json": {
       "version_major": 2,
       "version_minor": 0,
       "model_id": "2f92756aa63b4f1b97f4104facc266c7"
      }
     },
     "metadata": {},
     "output_type": "display_data"
    },
    {
     "data": {
      "text/plain": [
       "  0%|          | 0/50 [00:00<?, ?it/s]"
      ],
      "application/vnd.jupyter.widget-view+json": {
       "version_major": 2,
       "version_minor": 0,
       "model_id": "ed769a17eb484df3ae890de468ccc420"
      }
     },
     "metadata": {},
     "output_type": "display_data"
    },
    {
     "data": {
      "text/plain": [
       "  0%|          | 0/50 [00:00<?, ?it/s]"
      ],
      "application/vnd.jupyter.widget-view+json": {
       "version_major": 2,
       "version_minor": 0,
       "model_id": "5f229b9129e347b4b90cb42bb015f521"
      }
     },
     "metadata": {},
     "output_type": "display_data"
    },
    {
     "data": {
      "text/plain": [
       "  0%|          | 0/50 [00:00<?, ?it/s]"
      ],
      "application/vnd.jupyter.widget-view+json": {
       "version_major": 2,
       "version_minor": 0,
       "model_id": "1d256375703d4384a7bd438f67ecac36"
      }
     },
     "metadata": {},
     "output_type": "display_data"
    },
    {
     "data": {
      "text/plain": [
       "  0%|          | 0/50 [00:00<?, ?it/s]"
      ],
      "application/vnd.jupyter.widget-view+json": {
       "version_major": 2,
       "version_minor": 0,
       "model_id": "7dd91f5248d346afa8f8a4dc68ac88c2"
      }
     },
     "metadata": {},
     "output_type": "display_data"
    },
    {
     "data": {
      "text/plain": [
       "  0%|          | 0/50 [00:00<?, ?it/s]"
      ],
      "application/vnd.jupyter.widget-view+json": {
       "version_major": 2,
       "version_minor": 0,
       "model_id": "d5e52c57591d4e0c9a37a6430d1b2360"
      }
     },
     "metadata": {},
     "output_type": "display_data"
    },
    {
     "data": {
      "text/plain": [
       "  0%|          | 0/50 [00:00<?, ?it/s]"
      ],
      "application/vnd.jupyter.widget-view+json": {
       "version_major": 2,
       "version_minor": 0,
       "model_id": "7beb7f8e6a9f44eaa7127075ebd7806d"
      }
     },
     "metadata": {},
     "output_type": "display_data"
    },
    {
     "data": {
      "text/plain": [
       "  0%|          | 0/50 [00:00<?, ?it/s]"
      ],
      "application/vnd.jupyter.widget-view+json": {
       "version_major": 2,
       "version_minor": 0,
       "model_id": "34227920b61448029601e67d842e9b33"
      }
     },
     "metadata": {},
     "output_type": "display_data"
    },
    {
     "data": {
      "text/plain": [
       "  0%|          | 0/50 [00:00<?, ?it/s]"
      ],
      "application/vnd.jupyter.widget-view+json": {
       "version_major": 2,
       "version_minor": 0,
       "model_id": "39684934cf724098bd4a538475fa332e"
      }
     },
     "metadata": {},
     "output_type": "display_data"
    },
    {
     "data": {
      "text/plain": [
       "  0%|          | 0/50 [00:00<?, ?it/s]"
      ],
      "application/vnd.jupyter.widget-view+json": {
       "version_major": 2,
       "version_minor": 0,
       "model_id": "b11d0f22190547bb85f70a2111f85830"
      }
     },
     "metadata": {},
     "output_type": "display_data"
    },
    {
     "data": {
      "text/plain": [
       "  0%|          | 0/50 [00:00<?, ?it/s]"
      ],
      "application/vnd.jupyter.widget-view+json": {
       "version_major": 2,
       "version_minor": 0,
       "model_id": "47fbb91155744f6b8c320a7343017747"
      }
     },
     "metadata": {},
     "output_type": "display_data"
    },
    {
     "data": {
      "text/plain": [
       "  0%|          | 0/50 [00:00<?, ?it/s]"
      ],
      "application/vnd.jupyter.widget-view+json": {
       "version_major": 2,
       "version_minor": 0,
       "model_id": "9a017a04f9654f058f5d2b0d85544901"
      }
     },
     "metadata": {},
     "output_type": "display_data"
    },
    {
     "data": {
      "text/plain": [
       "  0%|          | 0/50 [00:00<?, ?it/s]"
      ],
      "application/vnd.jupyter.widget-view+json": {
       "version_major": 2,
       "version_minor": 0,
       "model_id": "6704320f8d6b47e0bafbefe3c2c04063"
      }
     },
     "metadata": {},
     "output_type": "display_data"
    },
    {
     "data": {
      "text/plain": [
       "  0%|          | 0/50 [00:00<?, ?it/s]"
      ],
      "application/vnd.jupyter.widget-view+json": {
       "version_major": 2,
       "version_minor": 0,
       "model_id": "2eaeff90581c4d75b3ef579c10370f90"
      }
     },
     "metadata": {},
     "output_type": "display_data"
    },
    {
     "data": {
      "text/plain": [
       "  0%|          | 0/50 [00:00<?, ?it/s]"
      ],
      "application/vnd.jupyter.widget-view+json": {
       "version_major": 2,
       "version_minor": 0,
       "model_id": "cb1055fcbe704050ad24d1ac8f34f599"
      }
     },
     "metadata": {},
     "output_type": "display_data"
    },
    {
     "data": {
      "text/plain": [
       "  0%|          | 0/50 [00:00<?, ?it/s]"
      ],
      "application/vnd.jupyter.widget-view+json": {
       "version_major": 2,
       "version_minor": 0,
       "model_id": "7de05c145fbd43848d611b458136bf1b"
      }
     },
     "metadata": {},
     "output_type": "display_data"
    },
    {
     "data": {
      "text/plain": [
       "  0%|          | 0/50 [00:00<?, ?it/s]"
      ],
      "application/vnd.jupyter.widget-view+json": {
       "version_major": 2,
       "version_minor": 0,
       "model_id": "fd0fef7b120d4697ae16e9c1f624de78"
      }
     },
     "metadata": {},
     "output_type": "display_data"
    },
    {
     "data": {
      "text/plain": [
       "  0%|          | 0/50 [00:00<?, ?it/s]"
      ],
      "application/vnd.jupyter.widget-view+json": {
       "version_major": 2,
       "version_minor": 0,
       "model_id": "5f2cb63501f848b492a70475fc3c0aa1"
      }
     },
     "metadata": {},
     "output_type": "display_data"
    },
    {
     "data": {
      "text/plain": [
       "  0%|          | 0/50 [00:00<?, ?it/s]"
      ],
      "application/vnd.jupyter.widget-view+json": {
       "version_major": 2,
       "version_minor": 0,
       "model_id": "bf698d088fe744c8b5851414b8f087b1"
      }
     },
     "metadata": {},
     "output_type": "display_data"
    },
    {
     "data": {
      "text/plain": [
       "  0%|          | 0/50 [00:00<?, ?it/s]"
      ],
      "application/vnd.jupyter.widget-view+json": {
       "version_major": 2,
       "version_minor": 0,
       "model_id": "fd2d7e8b0a344ac2bac1550384f3a72d"
      }
     },
     "metadata": {},
     "output_type": "display_data"
    },
    {
     "data": {
      "text/plain": [
       "  0%|          | 0/50 [00:00<?, ?it/s]"
      ],
      "application/vnd.jupyter.widget-view+json": {
       "version_major": 2,
       "version_minor": 0,
       "model_id": "8e4f329f081b4e87a6ec1d3eabb94b51"
      }
     },
     "metadata": {},
     "output_type": "display_data"
    },
    {
     "data": {
      "text/plain": [
       "  0%|          | 0/50 [00:00<?, ?it/s]"
      ],
      "application/vnd.jupyter.widget-view+json": {
       "version_major": 2,
       "version_minor": 0,
       "model_id": "d4fe432669f24bb7b9931a597395f0d6"
      }
     },
     "metadata": {},
     "output_type": "display_data"
    },
    {
     "data": {
      "text/plain": [
       "  0%|          | 0/50 [00:00<?, ?it/s]"
      ],
      "application/vnd.jupyter.widget-view+json": {
       "version_major": 2,
       "version_minor": 0,
       "model_id": "d8e8537103a14dd3823310dac31e2f73"
      }
     },
     "metadata": {},
     "output_type": "display_data"
    },
    {
     "data": {
      "text/plain": [
       "  0%|          | 0/50 [00:00<?, ?it/s]"
      ],
      "application/vnd.jupyter.widget-view+json": {
       "version_major": 2,
       "version_minor": 0,
       "model_id": "6b80834f76ec4761ae9ba0116d625286"
      }
     },
     "metadata": {},
     "output_type": "display_data"
    },
    {
     "data": {
      "text/plain": [
       "  0%|          | 0/50 [00:00<?, ?it/s]"
      ],
      "application/vnd.jupyter.widget-view+json": {
       "version_major": 2,
       "version_minor": 0,
       "model_id": "02bc5f7e45554b35a5dbd4adb7fb40c2"
      }
     },
     "metadata": {},
     "output_type": "display_data"
    },
    {
     "data": {
      "text/plain": [
       "  0%|          | 0/50 [00:00<?, ?it/s]"
      ],
      "application/vnd.jupyter.widget-view+json": {
       "version_major": 2,
       "version_minor": 0,
       "model_id": "dedb6d42b97949748f90e8995073ca1c"
      }
     },
     "metadata": {},
     "output_type": "display_data"
    },
    {
     "data": {
      "text/plain": [
       "  0%|          | 0/50 [00:00<?, ?it/s]"
      ],
      "application/vnd.jupyter.widget-view+json": {
       "version_major": 2,
       "version_minor": 0,
       "model_id": "8744639fd4104952b37569923adb4e69"
      }
     },
     "metadata": {},
     "output_type": "display_data"
    },
    {
     "data": {
      "text/plain": [
       "  0%|          | 0/50 [00:00<?, ?it/s]"
      ],
      "application/vnd.jupyter.widget-view+json": {
       "version_major": 2,
       "version_minor": 0,
       "model_id": "733edf88e6034909bd1ebb1c60e1470b"
      }
     },
     "metadata": {},
     "output_type": "display_data"
    },
    {
     "data": {
      "text/plain": [
       "  0%|          | 0/50 [00:00<?, ?it/s]"
      ],
      "application/vnd.jupyter.widget-view+json": {
       "version_major": 2,
       "version_minor": 0,
       "model_id": "a0caf1402a9b4e8d8d76de2ffe083e56"
      }
     },
     "metadata": {},
     "output_type": "display_data"
    },
    {
     "data": {
      "text/plain": [
       "  0%|          | 0/50 [00:00<?, ?it/s]"
      ],
      "application/vnd.jupyter.widget-view+json": {
       "version_major": 2,
       "version_minor": 0,
       "model_id": "5015ab116cf94ae495ca3766e5ad4705"
      }
     },
     "metadata": {},
     "output_type": "display_data"
    },
    {
     "data": {
      "text/plain": [
       "  0%|          | 0/50 [00:00<?, ?it/s]"
      ],
      "application/vnd.jupyter.widget-view+json": {
       "version_major": 2,
       "version_minor": 0,
       "model_id": "1876b165ba9a4490bbb7de4876213a73"
      }
     },
     "metadata": {},
     "output_type": "display_data"
    },
    {
     "data": {
      "text/plain": [
       "  0%|          | 0/50 [00:00<?, ?it/s]"
      ],
      "application/vnd.jupyter.widget-view+json": {
       "version_major": 2,
       "version_minor": 0,
       "model_id": "9dced14bf6ee4672938bcdd574387805"
      }
     },
     "metadata": {},
     "output_type": "display_data"
    },
    {
     "data": {
      "text/plain": [
       "  0%|          | 0/50 [00:00<?, ?it/s]"
      ],
      "application/vnd.jupyter.widget-view+json": {
       "version_major": 2,
       "version_minor": 0,
       "model_id": "7f6c822406d04256afdb50b83d456df7"
      }
     },
     "metadata": {},
     "output_type": "display_data"
    },
    {
     "data": {
      "text/plain": [
       "  0%|          | 0/50 [00:00<?, ?it/s]"
      ],
      "application/vnd.jupyter.widget-view+json": {
       "version_major": 2,
       "version_minor": 0,
       "model_id": "96ff37887b59491f9fc937481aa7f20b"
      }
     },
     "metadata": {},
     "output_type": "display_data"
    },
    {
     "data": {
      "text/plain": [
       "  0%|          | 0/50 [00:00<?, ?it/s]"
      ],
      "application/vnd.jupyter.widget-view+json": {
       "version_major": 2,
       "version_minor": 0,
       "model_id": "e83bedc10302497bb2bd38a05b977ba6"
      }
     },
     "metadata": {},
     "output_type": "display_data"
    },
    {
     "data": {
      "text/plain": [
       "  0%|          | 0/50 [00:00<?, ?it/s]"
      ],
      "application/vnd.jupyter.widget-view+json": {
       "version_major": 2,
       "version_minor": 0,
       "model_id": "535efcde5f864da09de79aa2fc72801e"
      }
     },
     "metadata": {},
     "output_type": "display_data"
    },
    {
     "data": {
      "text/plain": [
       "  0%|          | 0/50 [00:00<?, ?it/s]"
      ],
      "application/vnd.jupyter.widget-view+json": {
       "version_major": 2,
       "version_minor": 0,
       "model_id": "98f5abeccad94eefb269ca3f62f69f7b"
      }
     },
     "metadata": {},
     "output_type": "display_data"
    },
    {
     "data": {
      "text/plain": [
       "  0%|          | 0/50 [00:00<?, ?it/s]"
      ],
      "application/vnd.jupyter.widget-view+json": {
       "version_major": 2,
       "version_minor": 0,
       "model_id": "77b7c74f9e3b478f894c2eeff3ed7151"
      }
     },
     "metadata": {},
     "output_type": "display_data"
    },
    {
     "data": {
      "text/plain": [
       "  0%|          | 0/50 [00:00<?, ?it/s]"
      ],
      "application/vnd.jupyter.widget-view+json": {
       "version_major": 2,
       "version_minor": 0,
       "model_id": "7c606694c30f4b63bf0afa57fa9429a5"
      }
     },
     "metadata": {},
     "output_type": "display_data"
    },
    {
     "data": {
      "text/plain": [
       "  0%|          | 0/50 [00:00<?, ?it/s]"
      ],
      "application/vnd.jupyter.widget-view+json": {
       "version_major": 2,
       "version_minor": 0,
       "model_id": "ae1be3d0129c4911ae6f3dbd38638003"
      }
     },
     "metadata": {},
     "output_type": "display_data"
    },
    {
     "data": {
      "text/plain": [
       "  0%|          | 0/50 [00:00<?, ?it/s]"
      ],
      "application/vnd.jupyter.widget-view+json": {
       "version_major": 2,
       "version_minor": 0,
       "model_id": "c21c5419d8f94e499c4779cbf5a3bfe2"
      }
     },
     "metadata": {},
     "output_type": "display_data"
    },
    {
     "data": {
      "text/plain": [
       "  0%|          | 0/50 [00:00<?, ?it/s]"
      ],
      "application/vnd.jupyter.widget-view+json": {
       "version_major": 2,
       "version_minor": 0,
       "model_id": "a0eea9b136324395b0ebb0d14bc1a2d7"
      }
     },
     "metadata": {},
     "output_type": "display_data"
    },
    {
     "data": {
      "text/plain": [
       "  0%|          | 0/50 [00:00<?, ?it/s]"
      ],
      "application/vnd.jupyter.widget-view+json": {
       "version_major": 2,
       "version_minor": 0,
       "model_id": "aaf816cdde984e97a86b168505091ac5"
      }
     },
     "metadata": {},
     "output_type": "display_data"
    },
    {
     "data": {
      "text/plain": [
       "  0%|          | 0/50 [00:00<?, ?it/s]"
      ],
      "application/vnd.jupyter.widget-view+json": {
       "version_major": 2,
       "version_minor": 0,
       "model_id": "dd9451dd38924584a11bf80779f97d59"
      }
     },
     "metadata": {},
     "output_type": "display_data"
    },
    {
     "data": {
      "text/plain": [
       "  0%|          | 0/50 [00:00<?, ?it/s]"
      ],
      "application/vnd.jupyter.widget-view+json": {
       "version_major": 2,
       "version_minor": 0,
       "model_id": "31761ef879654dbbaac10f5597b731c5"
      }
     },
     "metadata": {},
     "output_type": "display_data"
    },
    {
     "data": {
      "text/plain": [
       "  0%|          | 0/50 [00:00<?, ?it/s]"
      ],
      "application/vnd.jupyter.widget-view+json": {
       "version_major": 2,
       "version_minor": 0,
       "model_id": "977a0341f9b143f6b1e0d78e11d3dd24"
      }
     },
     "metadata": {},
     "output_type": "display_data"
    },
    {
     "data": {
      "text/plain": [
       "  0%|          | 0/50 [00:00<?, ?it/s]"
      ],
      "application/vnd.jupyter.widget-view+json": {
       "version_major": 2,
       "version_minor": 0,
       "model_id": "58ec91e14f3d47bbafbbeaad07a82f2b"
      }
     },
     "metadata": {},
     "output_type": "display_data"
    },
    {
     "data": {
      "text/plain": [
       "  0%|          | 0/50 [00:00<?, ?it/s]"
      ],
      "application/vnd.jupyter.widget-view+json": {
       "version_major": 2,
       "version_minor": 0,
       "model_id": "aadf6f33ff7042278c5914e9997f495f"
      }
     },
     "metadata": {},
     "output_type": "display_data"
    },
    {
     "data": {
      "text/plain": [
       "  0%|          | 0/50 [00:00<?, ?it/s]"
      ],
      "application/vnd.jupyter.widget-view+json": {
       "version_major": 2,
       "version_minor": 0,
       "model_id": "f65f631e980b475b90a1433252bf9eb1"
      }
     },
     "metadata": {},
     "output_type": "display_data"
    },
    {
     "data": {
      "text/plain": [
       "  0%|          | 0/50 [00:00<?, ?it/s]"
      ],
      "application/vnd.jupyter.widget-view+json": {
       "version_major": 2,
       "version_minor": 0,
       "model_id": "463565fe7dfc41f68f2f0d0c88eda3c5"
      }
     },
     "metadata": {},
     "output_type": "display_data"
    },
    {
     "data": {
      "text/plain": [
       "  0%|          | 0/50 [00:00<?, ?it/s]"
      ],
      "application/vnd.jupyter.widget-view+json": {
       "version_major": 2,
       "version_minor": 0,
       "model_id": "ef4de4176464485d8961cedb4f03ded5"
      }
     },
     "metadata": {},
     "output_type": "display_data"
    },
    {
     "data": {
      "text/plain": [
       "  0%|          | 0/50 [00:00<?, ?it/s]"
      ],
      "application/vnd.jupyter.widget-view+json": {
       "version_major": 2,
       "version_minor": 0,
       "model_id": "2f016ed8dd4643e8a85a73e332e9b99f"
      }
     },
     "metadata": {},
     "output_type": "display_data"
    },
    {
     "data": {
      "text/plain": [
       "  0%|          | 0/50 [00:00<?, ?it/s]"
      ],
      "application/vnd.jupyter.widget-view+json": {
       "version_major": 2,
       "version_minor": 0,
       "model_id": "0a7452f4914648f7844864381d768a9c"
      }
     },
     "metadata": {},
     "output_type": "display_data"
    },
    {
     "data": {
      "text/plain": [
       "  0%|          | 0/50 [00:00<?, ?it/s]"
      ],
      "application/vnd.jupyter.widget-view+json": {
       "version_major": 2,
       "version_minor": 0,
       "model_id": "57afab669fa9425ead65e60c64496245"
      }
     },
     "metadata": {},
     "output_type": "display_data"
    },
    {
     "data": {
      "text/plain": [
       "  0%|          | 0/50 [00:00<?, ?it/s]"
      ],
      "application/vnd.jupyter.widget-view+json": {
       "version_major": 2,
       "version_minor": 0,
       "model_id": "ef283582d992439f92bb0444f9d213a4"
      }
     },
     "metadata": {},
     "output_type": "display_data"
    },
    {
     "data": {
      "text/plain": [
       "  0%|          | 0/50 [00:00<?, ?it/s]"
      ],
      "application/vnd.jupyter.widget-view+json": {
       "version_major": 2,
       "version_minor": 0,
       "model_id": "52a68a5dca2445d7ba062cd1630305b0"
      }
     },
     "metadata": {},
     "output_type": "display_data"
    },
    {
     "data": {
      "text/plain": [
       "  0%|          | 0/50 [00:00<?, ?it/s]"
      ],
      "application/vnd.jupyter.widget-view+json": {
       "version_major": 2,
       "version_minor": 0,
       "model_id": "37bb900d2421418d9c34063334d207db"
      }
     },
     "metadata": {},
     "output_type": "display_data"
    },
    {
     "data": {
      "text/plain": [
       "  0%|          | 0/50 [00:00<?, ?it/s]"
      ],
      "application/vnd.jupyter.widget-view+json": {
       "version_major": 2,
       "version_minor": 0,
       "model_id": "8830898fa309474eba050192d5af741e"
      }
     },
     "metadata": {},
     "output_type": "display_data"
    },
    {
     "data": {
      "text/plain": [
       "  0%|          | 0/50 [00:00<?, ?it/s]"
      ],
      "application/vnd.jupyter.widget-view+json": {
       "version_major": 2,
       "version_minor": 0,
       "model_id": "f410460a0ba14fb184d2bad56c292ef3"
      }
     },
     "metadata": {},
     "output_type": "display_data"
    },
    {
     "data": {
      "text/plain": [
       "  0%|          | 0/50 [00:00<?, ?it/s]"
      ],
      "application/vnd.jupyter.widget-view+json": {
       "version_major": 2,
       "version_minor": 0,
       "model_id": "7967efa05ab94d548d370fba5c0a408f"
      }
     },
     "metadata": {},
     "output_type": "display_data"
    },
    {
     "data": {
      "text/plain": [
       "  0%|          | 0/50 [00:00<?, ?it/s]"
      ],
      "application/vnd.jupyter.widget-view+json": {
       "version_major": 2,
       "version_minor": 0,
       "model_id": "7543ae0edae14477a17dcbba4da01e69"
      }
     },
     "metadata": {},
     "output_type": "display_data"
    },
    {
     "data": {
      "text/plain": [
       "  0%|          | 0/50 [00:00<?, ?it/s]"
      ],
      "application/vnd.jupyter.widget-view+json": {
       "version_major": 2,
       "version_minor": 0,
       "model_id": "9e627139de71480f80ede4d465a01558"
      }
     },
     "metadata": {},
     "output_type": "display_data"
    },
    {
     "data": {
      "text/plain": [
       "  0%|          | 0/50 [00:00<?, ?it/s]"
      ],
      "application/vnd.jupyter.widget-view+json": {
       "version_major": 2,
       "version_minor": 0,
       "model_id": "43c8702c27a04df48da0db961b0ee90e"
      }
     },
     "metadata": {},
     "output_type": "display_data"
    },
    {
     "data": {
      "text/plain": [
       "  0%|          | 0/50 [00:00<?, ?it/s]"
      ],
      "application/vnd.jupyter.widget-view+json": {
       "version_major": 2,
       "version_minor": 0,
       "model_id": "67248c4d301341288f8d084b6dc88a9d"
      }
     },
     "metadata": {},
     "output_type": "display_data"
    },
    {
     "data": {
      "text/plain": [
       "  0%|          | 0/50 [00:00<?, ?it/s]"
      ],
      "application/vnd.jupyter.widget-view+json": {
       "version_major": 2,
       "version_minor": 0,
       "model_id": "5db21432477647519164beeaf04d9d2c"
      }
     },
     "metadata": {},
     "output_type": "display_data"
    },
    {
     "data": {
      "text/plain": [
       "  0%|          | 0/50 [00:00<?, ?it/s]"
      ],
      "application/vnd.jupyter.widget-view+json": {
       "version_major": 2,
       "version_minor": 0,
       "model_id": "40a5c52f115b4a33aa2c4d8b9827503b"
      }
     },
     "metadata": {},
     "output_type": "display_data"
    },
    {
     "data": {
      "text/plain": [
       "  0%|          | 0/50 [00:00<?, ?it/s]"
      ],
      "application/vnd.jupyter.widget-view+json": {
       "version_major": 2,
       "version_minor": 0,
       "model_id": "30ab3127f6654f6e8c3d40381f206ba8"
      }
     },
     "metadata": {},
     "output_type": "display_data"
    },
    {
     "data": {
      "text/plain": [
       "  0%|          | 0/50 [00:00<?, ?it/s]"
      ],
      "application/vnd.jupyter.widget-view+json": {
       "version_major": 2,
       "version_minor": 0,
       "model_id": "24593cffb7ab4073ba77e005744f3702"
      }
     },
     "metadata": {},
     "output_type": "display_data"
    },
    {
     "data": {
      "text/plain": [
       "  0%|          | 0/50 [00:00<?, ?it/s]"
      ],
      "application/vnd.jupyter.widget-view+json": {
       "version_major": 2,
       "version_minor": 0,
       "model_id": "d68c8376e2e04c049ea293911fc2c8e7"
      }
     },
     "metadata": {},
     "output_type": "display_data"
    },
    {
     "data": {
      "text/plain": [
       "  0%|          | 0/50 [00:00<?, ?it/s]"
      ],
      "application/vnd.jupyter.widget-view+json": {
       "version_major": 2,
       "version_minor": 0,
       "model_id": "7f37a6df27664db2ae965d8f07c89253"
      }
     },
     "metadata": {},
     "output_type": "display_data"
    },
    {
     "data": {
      "text/plain": [
       "  0%|          | 0/50 [00:00<?, ?it/s]"
      ],
      "application/vnd.jupyter.widget-view+json": {
       "version_major": 2,
       "version_minor": 0,
       "model_id": "e1e4e0e9ffc5490aa0d5b8a6bf9493bc"
      }
     },
     "metadata": {},
     "output_type": "display_data"
    },
    {
     "data": {
      "text/plain": [
       "  0%|          | 0/50 [00:00<?, ?it/s]"
      ],
      "application/vnd.jupyter.widget-view+json": {
       "version_major": 2,
       "version_minor": 0,
       "model_id": "1d7a512ef12e47818f5633fb54f6c653"
      }
     },
     "metadata": {},
     "output_type": "display_data"
    },
    {
     "data": {
      "text/plain": [
       "  0%|          | 0/50 [00:00<?, ?it/s]"
      ],
      "application/vnd.jupyter.widget-view+json": {
       "version_major": 2,
       "version_minor": 0,
       "model_id": "2537815083034ed79f26cdc73b2b3410"
      }
     },
     "metadata": {},
     "output_type": "display_data"
    },
    {
     "data": {
      "text/plain": [
       "  0%|          | 0/50 [00:00<?, ?it/s]"
      ],
      "application/vnd.jupyter.widget-view+json": {
       "version_major": 2,
       "version_minor": 0,
       "model_id": "2f0e4e1260ed48bdb821296d68440bcd"
      }
     },
     "metadata": {},
     "output_type": "display_data"
    },
    {
     "data": {
      "text/plain": [
       "  0%|          | 0/50 [00:00<?, ?it/s]"
      ],
      "application/vnd.jupyter.widget-view+json": {
       "version_major": 2,
       "version_minor": 0,
       "model_id": "a5065c65393a4beeaaa074b1816fbaed"
      }
     },
     "metadata": {},
     "output_type": "display_data"
    },
    {
     "data": {
      "text/plain": [
       "  0%|          | 0/50 [00:00<?, ?it/s]"
      ],
      "application/vnd.jupyter.widget-view+json": {
       "version_major": 2,
       "version_minor": 0,
       "model_id": "ff1388a81eab41458d5cdfdaf5173930"
      }
     },
     "metadata": {},
     "output_type": "display_data"
    },
    {
     "data": {
      "text/plain": [
       "  0%|          | 0/50 [00:00<?, ?it/s]"
      ],
      "application/vnd.jupyter.widget-view+json": {
       "version_major": 2,
       "version_minor": 0,
       "model_id": "03699c5d09ef4fa89166ab9d34f94803"
      }
     },
     "metadata": {},
     "output_type": "display_data"
    },
    {
     "data": {
      "text/plain": [
       "  0%|          | 0/50 [00:00<?, ?it/s]"
      ],
      "application/vnd.jupyter.widget-view+json": {
       "version_major": 2,
       "version_minor": 0,
       "model_id": "b1421bed5412407286216b95af0b0289"
      }
     },
     "metadata": {},
     "output_type": "display_data"
    },
    {
     "data": {
      "text/plain": [
       "  0%|          | 0/50 [00:00<?, ?it/s]"
      ],
      "application/vnd.jupyter.widget-view+json": {
       "version_major": 2,
       "version_minor": 0,
       "model_id": "1d9317f9c6564019b34a65400b71c375"
      }
     },
     "metadata": {},
     "output_type": "display_data"
    },
    {
     "data": {
      "text/plain": [
       "  0%|          | 0/50 [00:00<?, ?it/s]"
      ],
      "application/vnd.jupyter.widget-view+json": {
       "version_major": 2,
       "version_minor": 0,
       "model_id": "0dc02b15efb6489ab48490a03a8fe195"
      }
     },
     "metadata": {},
     "output_type": "display_data"
    },
    {
     "data": {
      "text/plain": [
       "  0%|          | 0/50 [00:00<?, ?it/s]"
      ],
      "application/vnd.jupyter.widget-view+json": {
       "version_major": 2,
       "version_minor": 0,
       "model_id": "6be9b5ca558e404e94de60d1ff6a7553"
      }
     },
     "metadata": {},
     "output_type": "display_data"
    },
    {
     "data": {
      "text/plain": [
       "  0%|          | 0/50 [00:00<?, ?it/s]"
      ],
      "application/vnd.jupyter.widget-view+json": {
       "version_major": 2,
       "version_minor": 0,
       "model_id": "6473c8ee89ed46c2a40eff632289351a"
      }
     },
     "metadata": {},
     "output_type": "display_data"
    },
    {
     "data": {
      "text/plain": [
       "  0%|          | 0/50 [00:00<?, ?it/s]"
      ],
      "application/vnd.jupyter.widget-view+json": {
       "version_major": 2,
       "version_minor": 0,
       "model_id": "9328416a30dc449db314e4234bf68657"
      }
     },
     "metadata": {},
     "output_type": "display_data"
    },
    {
     "data": {
      "text/plain": [
       "  0%|          | 0/50 [00:00<?, ?it/s]"
      ],
      "application/vnd.jupyter.widget-view+json": {
       "version_major": 2,
       "version_minor": 0,
       "model_id": "5bea0942a8644a87b106a244dc4436f3"
      }
     },
     "metadata": {},
     "output_type": "display_data"
    },
    {
     "data": {
      "text/plain": [
       "  0%|          | 0/50 [00:00<?, ?it/s]"
      ],
      "application/vnd.jupyter.widget-view+json": {
       "version_major": 2,
       "version_minor": 0,
       "model_id": "77d500e3b6a14282babef953f04ea0ef"
      }
     },
     "metadata": {},
     "output_type": "display_data"
    },
    {
     "data": {
      "text/plain": [
       "  0%|          | 0/50 [00:00<?, ?it/s]"
      ],
      "application/vnd.jupyter.widget-view+json": {
       "version_major": 2,
       "version_minor": 0,
       "model_id": "e15135a5f99d455aa636d44f35991072"
      }
     },
     "metadata": {},
     "output_type": "display_data"
    },
    {
     "data": {
      "text/plain": [
       "  0%|          | 0/50 [00:00<?, ?it/s]"
      ],
      "application/vnd.jupyter.widget-view+json": {
       "version_major": 2,
       "version_minor": 0,
       "model_id": "207e8633c19345cb808a608f790c5084"
      }
     },
     "metadata": {},
     "output_type": "display_data"
    },
    {
     "data": {
      "text/plain": [
       "  0%|          | 0/50 [00:00<?, ?it/s]"
      ],
      "application/vnd.jupyter.widget-view+json": {
       "version_major": 2,
       "version_minor": 0,
       "model_id": "bfa00c88d548485e8d1c1a8805ab932b"
      }
     },
     "metadata": {},
     "output_type": "display_data"
    },
    {
     "data": {
      "text/plain": [
       "  0%|          | 0/50 [00:00<?, ?it/s]"
      ],
      "application/vnd.jupyter.widget-view+json": {
       "version_major": 2,
       "version_minor": 0,
       "model_id": "8517c09c9a2d48f9a6f3a241d0ba6f36"
      }
     },
     "metadata": {},
     "output_type": "display_data"
    },
    {
     "data": {
      "text/plain": [
       "  0%|          | 0/50 [00:00<?, ?it/s]"
      ],
      "application/vnd.jupyter.widget-view+json": {
       "version_major": 2,
       "version_minor": 0,
       "model_id": "50c63c73c7e249c3bf95f3d2937dd90d"
      }
     },
     "metadata": {},
     "output_type": "display_data"
    },
    {
     "data": {
      "text/plain": [
       "  0%|          | 0/50 [00:00<?, ?it/s]"
      ],
      "application/vnd.jupyter.widget-view+json": {
       "version_major": 2,
       "version_minor": 0,
       "model_id": "909715886b214592b02d4cc90379bcc5"
      }
     },
     "metadata": {},
     "output_type": "display_data"
    },
    {
     "data": {
      "text/plain": [
       "  0%|          | 0/50 [00:00<?, ?it/s]"
      ],
      "application/vnd.jupyter.widget-view+json": {
       "version_major": 2,
       "version_minor": 0,
       "model_id": "371328c0216b439db65822f91505aab0"
      }
     },
     "metadata": {},
     "output_type": "display_data"
    },
    {
     "data": {
      "text/plain": [
       "  0%|          | 0/50 [00:00<?, ?it/s]"
      ],
      "application/vnd.jupyter.widget-view+json": {
       "version_major": 2,
       "version_minor": 0,
       "model_id": "9f70f47b51054850bbba6136cdfd307e"
      }
     },
     "metadata": {},
     "output_type": "display_data"
    },
    {
     "data": {
      "text/plain": [
       "  0%|          | 0/50 [00:00<?, ?it/s]"
      ],
      "application/vnd.jupyter.widget-view+json": {
       "version_major": 2,
       "version_minor": 0,
       "model_id": "456affc27496404289320681ecabc98e"
      }
     },
     "metadata": {},
     "output_type": "display_data"
    },
    {
     "data": {
      "text/plain": [
       "  0%|          | 0/50 [00:00<?, ?it/s]"
      ],
      "application/vnd.jupyter.widget-view+json": {
       "version_major": 2,
       "version_minor": 0,
       "model_id": "163d799a6d444fa19810accc871318dc"
      }
     },
     "metadata": {},
     "output_type": "display_data"
    },
    {
     "data": {
      "text/plain": [
       "  0%|          | 0/50 [00:00<?, ?it/s]"
      ],
      "application/vnd.jupyter.widget-view+json": {
       "version_major": 2,
       "version_minor": 0,
       "model_id": "5a4126656bf94fa29f55d68881bff77f"
      }
     },
     "metadata": {},
     "output_type": "display_data"
    },
    {
     "data": {
      "text/plain": [
       "  0%|          | 0/50 [00:00<?, ?it/s]"
      ],
      "application/vnd.jupyter.widget-view+json": {
       "version_major": 2,
       "version_minor": 0,
       "model_id": "d5fb384e82b54a4aa884dc72df970f25"
      }
     },
     "metadata": {},
     "output_type": "display_data"
    },
    {
     "data": {
      "text/plain": [
       "  0%|          | 0/50 [00:00<?, ?it/s]"
      ],
      "application/vnd.jupyter.widget-view+json": {
       "version_major": 2,
       "version_minor": 0,
       "model_id": "46c7f30b1ec341f19289270e66b905ea"
      }
     },
     "metadata": {},
     "output_type": "display_data"
    },
    {
     "data": {
      "text/plain": [
       "  0%|          | 0/50 [00:00<?, ?it/s]"
      ],
      "application/vnd.jupyter.widget-view+json": {
       "version_major": 2,
       "version_minor": 0,
       "model_id": "9e9581448ced44b1afaa12edb5cd95fd"
      }
     },
     "metadata": {},
     "output_type": "display_data"
    },
    {
     "data": {
      "text/plain": [
       "  0%|          | 0/50 [00:00<?, ?it/s]"
      ],
      "application/vnd.jupyter.widget-view+json": {
       "version_major": 2,
       "version_minor": 0,
       "model_id": "b584d46eaa2545678792db2750a366a7"
      }
     },
     "metadata": {},
     "output_type": "display_data"
    },
    {
     "data": {
      "text/plain": [
       "  0%|          | 0/50 [00:00<?, ?it/s]"
      ],
      "application/vnd.jupyter.widget-view+json": {
       "version_major": 2,
       "version_minor": 0,
       "model_id": "4d26ea6ed26444f7915230518b4e4293"
      }
     },
     "metadata": {},
     "output_type": "display_data"
    },
    {
     "data": {
      "text/plain": [
       "  0%|          | 0/50 [00:00<?, ?it/s]"
      ],
      "application/vnd.jupyter.widget-view+json": {
       "version_major": 2,
       "version_minor": 0,
       "model_id": "485057366c6b4177975a1179b36b7ad6"
      }
     },
     "metadata": {},
     "output_type": "display_data"
    },
    {
     "data": {
      "text/plain": [
       "  0%|          | 0/50 [00:00<?, ?it/s]"
      ],
      "application/vnd.jupyter.widget-view+json": {
       "version_major": 2,
       "version_minor": 0,
       "model_id": "7d0e77b3158645c2a546a103076171c4"
      }
     },
     "metadata": {},
     "output_type": "display_data"
    },
    {
     "data": {
      "text/plain": [
       "  0%|          | 0/50 [00:00<?, ?it/s]"
      ],
      "application/vnd.jupyter.widget-view+json": {
       "version_major": 2,
       "version_minor": 0,
       "model_id": "f01d5a0676814a9b81b28cd964500870"
      }
     },
     "metadata": {},
     "output_type": "display_data"
    },
    {
     "data": {
      "text/plain": [
       "  0%|          | 0/50 [00:00<?, ?it/s]"
      ],
      "application/vnd.jupyter.widget-view+json": {
       "version_major": 2,
       "version_minor": 0,
       "model_id": "44dea0f8530f403083b477e405aec617"
      }
     },
     "metadata": {},
     "output_type": "display_data"
    },
    {
     "data": {
      "text/plain": [
       "  0%|          | 0/50 [00:00<?, ?it/s]"
      ],
      "application/vnd.jupyter.widget-view+json": {
       "version_major": 2,
       "version_minor": 0,
       "model_id": "3f4ecfda8c7b454d89674505da58593c"
      }
     },
     "metadata": {},
     "output_type": "display_data"
    },
    {
     "data": {
      "text/plain": [
       "  0%|          | 0/50 [00:00<?, ?it/s]"
      ],
      "application/vnd.jupyter.widget-view+json": {
       "version_major": 2,
       "version_minor": 0,
       "model_id": "fe52949dabd64477baa213d4809f28c9"
      }
     },
     "metadata": {},
     "output_type": "display_data"
    },
    {
     "data": {
      "text/plain": [
       "  0%|          | 0/50 [00:00<?, ?it/s]"
      ],
      "application/vnd.jupyter.widget-view+json": {
       "version_major": 2,
       "version_minor": 0,
       "model_id": "864019af2b404d0d96518e67f4bcc991"
      }
     },
     "metadata": {},
     "output_type": "display_data"
    },
    {
     "data": {
      "text/plain": [
       "  0%|          | 0/50 [00:00<?, ?it/s]"
      ],
      "application/vnd.jupyter.widget-view+json": {
       "version_major": 2,
       "version_minor": 0,
       "model_id": "267b7aa988974ae6904c1b9bc6bcbf27"
      }
     },
     "metadata": {},
     "output_type": "display_data"
    },
    {
     "data": {
      "text/plain": [
       "  0%|          | 0/50 [00:00<?, ?it/s]"
      ],
      "application/vnd.jupyter.widget-view+json": {
       "version_major": 2,
       "version_minor": 0,
       "model_id": "94a1e9a6fa5d4dc3b8728eeefb210953"
      }
     },
     "metadata": {},
     "output_type": "display_data"
    },
    {
     "data": {
      "text/plain": [
       "  0%|          | 0/50 [00:00<?, ?it/s]"
      ],
      "application/vnd.jupyter.widget-view+json": {
       "version_major": 2,
       "version_minor": 0,
       "model_id": "7b892237ec06454abc84283d2a2c8081"
      }
     },
     "metadata": {},
     "output_type": "display_data"
    },
    {
     "data": {
      "text/plain": [
       "  0%|          | 0/50 [00:00<?, ?it/s]"
      ],
      "application/vnd.jupyter.widget-view+json": {
       "version_major": 2,
       "version_minor": 0,
       "model_id": "5fcd1e7db92b4b9a9bb0d5f21520bf14"
      }
     },
     "metadata": {},
     "output_type": "display_data"
    },
    {
     "data": {
      "text/plain": [
       "  0%|          | 0/50 [00:00<?, ?it/s]"
      ],
      "application/vnd.jupyter.widget-view+json": {
       "version_major": 2,
       "version_minor": 0,
       "model_id": "7067e44cba0c4822abcdf926c7759d97"
      }
     },
     "metadata": {},
     "output_type": "display_data"
    },
    {
     "data": {
      "text/plain": [
       "  0%|          | 0/50 [00:00<?, ?it/s]"
      ],
      "application/vnd.jupyter.widget-view+json": {
       "version_major": 2,
       "version_minor": 0,
       "model_id": "9b167a9306b64f49a628d08b1bd26946"
      }
     },
     "metadata": {},
     "output_type": "display_data"
    },
    {
     "data": {
      "text/plain": [
       "  0%|          | 0/50 [00:00<?, ?it/s]"
      ],
      "application/vnd.jupyter.widget-view+json": {
       "version_major": 2,
       "version_minor": 0,
       "model_id": "2e3bdfc9932b425c97a3518f5ae35746"
      }
     },
     "metadata": {},
     "output_type": "display_data"
    },
    {
     "data": {
      "text/plain": [
       "  0%|          | 0/50 [00:00<?, ?it/s]"
      ],
      "application/vnd.jupyter.widget-view+json": {
       "version_major": 2,
       "version_minor": 0,
       "model_id": "31ffb9ac81464302bfbfece25f673745"
      }
     },
     "metadata": {},
     "output_type": "display_data"
    },
    {
     "data": {
      "text/plain": [
       "  0%|          | 0/50 [00:00<?, ?it/s]"
      ],
      "application/vnd.jupyter.widget-view+json": {
       "version_major": 2,
       "version_minor": 0,
       "model_id": "e30c86d4e7414989a8a27d2583bc5ad5"
      }
     },
     "metadata": {},
     "output_type": "display_data"
    },
    {
     "data": {
      "text/plain": [
       "  0%|          | 0/50 [00:00<?, ?it/s]"
      ],
      "application/vnd.jupyter.widget-view+json": {
       "version_major": 2,
       "version_minor": 0,
       "model_id": "31f3b0efb9b145a683de5f53542f275a"
      }
     },
     "metadata": {},
     "output_type": "display_data"
    },
    {
     "data": {
      "text/plain": [
       "  0%|          | 0/50 [00:00<?, ?it/s]"
      ],
      "application/vnd.jupyter.widget-view+json": {
       "version_major": 2,
       "version_minor": 0,
       "model_id": "1eb4ea9c9f694cbd8bed700b5ecd6bff"
      }
     },
     "metadata": {},
     "output_type": "display_data"
    },
    {
     "data": {
      "text/plain": [
       "  0%|          | 0/50 [00:00<?, ?it/s]"
      ],
      "application/vnd.jupyter.widget-view+json": {
       "version_major": 2,
       "version_minor": 0,
       "model_id": "a6a2b9266dbb46b6a5b50cec1e421e50"
      }
     },
     "metadata": {},
     "output_type": "display_data"
    },
    {
     "data": {
      "text/plain": [
       "  0%|          | 0/50 [00:00<?, ?it/s]"
      ],
      "application/vnd.jupyter.widget-view+json": {
       "version_major": 2,
       "version_minor": 0,
       "model_id": "accba4a938c542a9b62ce792ab1f0804"
      }
     },
     "metadata": {},
     "output_type": "display_data"
    },
    {
     "data": {
      "text/plain": [
       "  0%|          | 0/50 [00:00<?, ?it/s]"
      ],
      "application/vnd.jupyter.widget-view+json": {
       "version_major": 2,
       "version_minor": 0,
       "model_id": "5b3de7c9985b48af9af1e86b88b92792"
      }
     },
     "metadata": {},
     "output_type": "display_data"
    },
    {
     "data": {
      "text/plain": [
       "  0%|          | 0/50 [00:00<?, ?it/s]"
      ],
      "application/vnd.jupyter.widget-view+json": {
       "version_major": 2,
       "version_minor": 0,
       "model_id": "5281a748364f452295bbd1204892a6b7"
      }
     },
     "metadata": {},
     "output_type": "display_data"
    },
    {
     "data": {
      "text/plain": [
       "  0%|          | 0/50 [00:00<?, ?it/s]"
      ],
      "application/vnd.jupyter.widget-view+json": {
       "version_major": 2,
       "version_minor": 0,
       "model_id": "087f3597df0148759e67d58ca3f1eebe"
      }
     },
     "metadata": {},
     "output_type": "display_data"
    },
    {
     "data": {
      "text/plain": [
       "  0%|          | 0/50 [00:00<?, ?it/s]"
      ],
      "application/vnd.jupyter.widget-view+json": {
       "version_major": 2,
       "version_minor": 0,
       "model_id": "9af8eb67444a498c8bdc2740cf0b5bda"
      }
     },
     "metadata": {},
     "output_type": "display_data"
    },
    {
     "data": {
      "text/plain": [
       "  0%|          | 0/50 [00:00<?, ?it/s]"
      ],
      "application/vnd.jupyter.widget-view+json": {
       "version_major": 2,
       "version_minor": 0,
       "model_id": "fa7e4d71ed0b4aefb23c2099f42e2fef"
      }
     },
     "metadata": {},
     "output_type": "display_data"
    },
    {
     "data": {
      "text/plain": [
       "  0%|          | 0/50 [00:00<?, ?it/s]"
      ],
      "application/vnd.jupyter.widget-view+json": {
       "version_major": 2,
       "version_minor": 0,
       "model_id": "39e5665855e64786a1e81d5869adaba9"
      }
     },
     "metadata": {},
     "output_type": "display_data"
    },
    {
     "data": {
      "text/plain": [
       "  0%|          | 0/50 [00:00<?, ?it/s]"
      ],
      "application/vnd.jupyter.widget-view+json": {
       "version_major": 2,
       "version_minor": 0,
       "model_id": "d878e1b8d23347f5997640d2634d38eb"
      }
     },
     "metadata": {},
     "output_type": "display_data"
    },
    {
     "data": {
      "text/plain": [
       "  0%|          | 0/50 [00:00<?, ?it/s]"
      ],
      "application/vnd.jupyter.widget-view+json": {
       "version_major": 2,
       "version_minor": 0,
       "model_id": "911b3594bfb54c969ed9285353eb0edd"
      }
     },
     "metadata": {},
     "output_type": "display_data"
    },
    {
     "data": {
      "text/plain": [
       "  0%|          | 0/50 [00:00<?, ?it/s]"
      ],
      "application/vnd.jupyter.widget-view+json": {
       "version_major": 2,
       "version_minor": 0,
       "model_id": "577f1763fbfd431f98bc0babc7c3cdf1"
      }
     },
     "metadata": {},
     "output_type": "display_data"
    },
    {
     "data": {
      "text/plain": [
       "  0%|          | 0/50 [00:00<?, ?it/s]"
      ],
      "application/vnd.jupyter.widget-view+json": {
       "version_major": 2,
       "version_minor": 0,
       "model_id": "a0f7bcd83a5c493a990571515285802e"
      }
     },
     "metadata": {},
     "output_type": "display_data"
    },
    {
     "data": {
      "text/plain": [
       "  0%|          | 0/50 [00:00<?, ?it/s]"
      ],
      "application/vnd.jupyter.widget-view+json": {
       "version_major": 2,
       "version_minor": 0,
       "model_id": "12c06e0ba62b4fe38f71e2444ac1b618"
      }
     },
     "metadata": {},
     "output_type": "display_data"
    },
    {
     "data": {
      "text/plain": [
       "  0%|          | 0/50 [00:00<?, ?it/s]"
      ],
      "application/vnd.jupyter.widget-view+json": {
       "version_major": 2,
       "version_minor": 0,
       "model_id": "193a06f31ca9415b85f90ef1a3ff44de"
      }
     },
     "metadata": {},
     "output_type": "display_data"
    },
    {
     "data": {
      "text/plain": [
       "  0%|          | 0/50 [00:00<?, ?it/s]"
      ],
      "application/vnd.jupyter.widget-view+json": {
       "version_major": 2,
       "version_minor": 0,
       "model_id": "efad1bcf39e342c6983d3b086194230f"
      }
     },
     "metadata": {},
     "output_type": "display_data"
    },
    {
     "data": {
      "text/plain": [
       "  0%|          | 0/50 [00:00<?, ?it/s]"
      ],
      "application/vnd.jupyter.widget-view+json": {
       "version_major": 2,
       "version_minor": 0,
       "model_id": "4c4e16256b0447538b7943781045652f"
      }
     },
     "metadata": {},
     "output_type": "display_data"
    },
    {
     "data": {
      "text/plain": [
       "  0%|          | 0/50 [00:00<?, ?it/s]"
      ],
      "application/vnd.jupyter.widget-view+json": {
       "version_major": 2,
       "version_minor": 0,
       "model_id": "3e0c42684b4842dca1f1357974ca2240"
      }
     },
     "metadata": {},
     "output_type": "display_data"
    },
    {
     "data": {
      "text/plain": [
       "  0%|          | 0/50 [00:00<?, ?it/s]"
      ],
      "application/vnd.jupyter.widget-view+json": {
       "version_major": 2,
       "version_minor": 0,
       "model_id": "b044be062ace44d28c985d1a8d2a280c"
      }
     },
     "metadata": {},
     "output_type": "display_data"
    },
    {
     "data": {
      "text/plain": [
       "  0%|          | 0/50 [00:00<?, ?it/s]"
      ],
      "application/vnd.jupyter.widget-view+json": {
       "version_major": 2,
       "version_minor": 0,
       "model_id": "de7a5a0375bb48d4be88c5d767b056fa"
      }
     },
     "metadata": {},
     "output_type": "display_data"
    },
    {
     "data": {
      "text/plain": [
       "  0%|          | 0/50 [00:00<?, ?it/s]"
      ],
      "application/vnd.jupyter.widget-view+json": {
       "version_major": 2,
       "version_minor": 0,
       "model_id": "2a3c5315ecb141ce9b13c2a2972a9dd1"
      }
     },
     "metadata": {},
     "output_type": "display_data"
    },
    {
     "data": {
      "text/plain": [
       "  0%|          | 0/50 [00:00<?, ?it/s]"
      ],
      "application/vnd.jupyter.widget-view+json": {
       "version_major": 2,
       "version_minor": 0,
       "model_id": "938331cfcc5e4395bd09ca87847146a3"
      }
     },
     "metadata": {},
     "output_type": "display_data"
    },
    {
     "data": {
      "text/plain": [
       "  0%|          | 0/50 [00:00<?, ?it/s]"
      ],
      "application/vnd.jupyter.widget-view+json": {
       "version_major": 2,
       "version_minor": 0,
       "model_id": "247605d04f4f4065a7fcf85b7ae8679c"
      }
     },
     "metadata": {},
     "output_type": "display_data"
    },
    {
     "data": {
      "text/plain": [
       "  0%|          | 0/50 [00:00<?, ?it/s]"
      ],
      "application/vnd.jupyter.widget-view+json": {
       "version_major": 2,
       "version_minor": 0,
       "model_id": "06d247eec8a14007b756cad90f7b4957"
      }
     },
     "metadata": {},
     "output_type": "display_data"
    },
    {
     "data": {
      "text/plain": [
       "  0%|          | 0/50 [00:00<?, ?it/s]"
      ],
      "application/vnd.jupyter.widget-view+json": {
       "version_major": 2,
       "version_minor": 0,
       "model_id": "63f95e50bacd4eb7ae4770fcdc49a94d"
      }
     },
     "metadata": {},
     "output_type": "display_data"
    },
    {
     "data": {
      "text/plain": [
       "  0%|          | 0/50 [00:00<?, ?it/s]"
      ],
      "application/vnd.jupyter.widget-view+json": {
       "version_major": 2,
       "version_minor": 0,
       "model_id": "8f6059435114495d91a5678faaa3ec7b"
      }
     },
     "metadata": {},
     "output_type": "display_data"
    },
    {
     "data": {
      "text/plain": [
       "  0%|          | 0/50 [00:00<?, ?it/s]"
      ],
      "application/vnd.jupyter.widget-view+json": {
       "version_major": 2,
       "version_minor": 0,
       "model_id": "7b7b66b03f36462b86d5d0cae244b1d7"
      }
     },
     "metadata": {},
     "output_type": "display_data"
    },
    {
     "data": {
      "text/plain": [
       "  0%|          | 0/50 [00:00<?, ?it/s]"
      ],
      "application/vnd.jupyter.widget-view+json": {
       "version_major": 2,
       "version_minor": 0,
       "model_id": "979bf0d47851474d936baaaa930e0543"
      }
     },
     "metadata": {},
     "output_type": "display_data"
    },
    {
     "data": {
      "text/plain": [
       "  0%|          | 0/50 [00:00<?, ?it/s]"
      ],
      "application/vnd.jupyter.widget-view+json": {
       "version_major": 2,
       "version_minor": 0,
       "model_id": "3fe84d1f642d4005b1cb48c82b14d7a0"
      }
     },
     "metadata": {},
     "output_type": "display_data"
    },
    {
     "data": {
      "text/plain": [
       "  0%|          | 0/50 [00:00<?, ?it/s]"
      ],
      "application/vnd.jupyter.widget-view+json": {
       "version_major": 2,
       "version_minor": 0,
       "model_id": "a20c50d36b06413a8f220f6110e03d99"
      }
     },
     "metadata": {},
     "output_type": "display_data"
    },
    {
     "data": {
      "text/plain": [
       "  0%|          | 0/50 [00:00<?, ?it/s]"
      ],
      "application/vnd.jupyter.widget-view+json": {
       "version_major": 2,
       "version_minor": 0,
       "model_id": "3146feb744bf4c74bf26eaaf5a809a9d"
      }
     },
     "metadata": {},
     "output_type": "display_data"
    },
    {
     "data": {
      "text/plain": [
       "  0%|          | 0/50 [00:00<?, ?it/s]"
      ],
      "application/vnd.jupyter.widget-view+json": {
       "version_major": 2,
       "version_minor": 0,
       "model_id": "dcd3b9a9e8984229a8d018d1c34047ed"
      }
     },
     "metadata": {},
     "output_type": "display_data"
    },
    {
     "data": {
      "text/plain": [
       "  0%|          | 0/50 [00:00<?, ?it/s]"
      ],
      "application/vnd.jupyter.widget-view+json": {
       "version_major": 2,
       "version_minor": 0,
       "model_id": "b70f9b8126814742a75bd950723c1b6d"
      }
     },
     "metadata": {},
     "output_type": "display_data"
    },
    {
     "data": {
      "text/plain": [
       "  0%|          | 0/50 [00:00<?, ?it/s]"
      ],
      "application/vnd.jupyter.widget-view+json": {
       "version_major": 2,
       "version_minor": 0,
       "model_id": "a464f1ef05964482a5f12fa8796bc9fb"
      }
     },
     "metadata": {},
     "output_type": "display_data"
    },
    {
     "data": {
      "text/plain": [
       "  0%|          | 0/50 [00:00<?, ?it/s]"
      ],
      "application/vnd.jupyter.widget-view+json": {
       "version_major": 2,
       "version_minor": 0,
       "model_id": "2f91fd3cf6d44212b9ef1b76f9d59b9d"
      }
     },
     "metadata": {},
     "output_type": "display_data"
    },
    {
     "data": {
      "text/plain": [
       "  0%|          | 0/50 [00:00<?, ?it/s]"
      ],
      "application/vnd.jupyter.widget-view+json": {
       "version_major": 2,
       "version_minor": 0,
       "model_id": "663ebf6c9e7e49e5bfd97fff3d2532fc"
      }
     },
     "metadata": {},
     "output_type": "display_data"
    },
    {
     "data": {
      "text/plain": [
       "  0%|          | 0/50 [00:00<?, ?it/s]"
      ],
      "application/vnd.jupyter.widget-view+json": {
       "version_major": 2,
       "version_minor": 0,
       "model_id": "e9c4e495e0c94a7d949e0d41e1e54eb3"
      }
     },
     "metadata": {},
     "output_type": "display_data"
    },
    {
     "data": {
      "text/plain": [
       "  0%|          | 0/50 [00:00<?, ?it/s]"
      ],
      "application/vnd.jupyter.widget-view+json": {
       "version_major": 2,
       "version_minor": 0,
       "model_id": "e9ef8221946040a2b63214cc6ae9bbeb"
      }
     },
     "metadata": {},
     "output_type": "display_data"
    },
    {
     "data": {
      "text/plain": [
       "  0%|          | 0/50 [00:00<?, ?it/s]"
      ],
      "application/vnd.jupyter.widget-view+json": {
       "version_major": 2,
       "version_minor": 0,
       "model_id": "74438a16811347e4abe7b29c8fc0d1cb"
      }
     },
     "metadata": {},
     "output_type": "display_data"
    },
    {
     "data": {
      "text/plain": [
       "  0%|          | 0/50 [00:00<?, ?it/s]"
      ],
      "application/vnd.jupyter.widget-view+json": {
       "version_major": 2,
       "version_minor": 0,
       "model_id": "bfcff5800e5b4e73b29ad369a232af15"
      }
     },
     "metadata": {},
     "output_type": "display_data"
    },
    {
     "data": {
      "text/plain": [
       "  0%|          | 0/50 [00:00<?, ?it/s]"
      ],
      "application/vnd.jupyter.widget-view+json": {
       "version_major": 2,
       "version_minor": 0,
       "model_id": "3019ffa2f5df424dbb29ecfeabbd454d"
      }
     },
     "metadata": {},
     "output_type": "display_data"
    },
    {
     "data": {
      "text/plain": [
       "  0%|          | 0/50 [00:00<?, ?it/s]"
      ],
      "application/vnd.jupyter.widget-view+json": {
       "version_major": 2,
       "version_minor": 0,
       "model_id": "82819bf0b3b1455694b950bc2b78eee0"
      }
     },
     "metadata": {},
     "output_type": "display_data"
    },
    {
     "data": {
      "text/plain": [
       "  0%|          | 0/50 [00:00<?, ?it/s]"
      ],
      "application/vnd.jupyter.widget-view+json": {
       "version_major": 2,
       "version_minor": 0,
       "model_id": "2488eb31dbab4084aa5df7a2ff3ae09f"
      }
     },
     "metadata": {},
     "output_type": "display_data"
    },
    {
     "data": {
      "text/plain": [
       "  0%|          | 0/50 [00:00<?, ?it/s]"
      ],
      "application/vnd.jupyter.widget-view+json": {
       "version_major": 2,
       "version_minor": 0,
       "model_id": "9d6bdb34a15646229b67db55472af11c"
      }
     },
     "metadata": {},
     "output_type": "display_data"
    },
    {
     "data": {
      "text/plain": [
       "  0%|          | 0/50 [00:00<?, ?it/s]"
      ],
      "application/vnd.jupyter.widget-view+json": {
       "version_major": 2,
       "version_minor": 0,
       "model_id": "d028c1d6be3d48de8d4ed0662a92f80d"
      }
     },
     "metadata": {},
     "output_type": "display_data"
    },
    {
     "data": {
      "text/plain": [
       "  0%|          | 0/50 [00:00<?, ?it/s]"
      ],
      "application/vnd.jupyter.widget-view+json": {
       "version_major": 2,
       "version_minor": 0,
       "model_id": "5869b5f8742745c5a596ffd126f8240b"
      }
     },
     "metadata": {},
     "output_type": "display_data"
    },
    {
     "data": {
      "text/plain": [
       "  0%|          | 0/50 [00:00<?, ?it/s]"
      ],
      "application/vnd.jupyter.widget-view+json": {
       "version_major": 2,
       "version_minor": 0,
       "model_id": "089b4d75720e48b387fecdbb64757141"
      }
     },
     "metadata": {},
     "output_type": "display_data"
    },
    {
     "data": {
      "text/plain": [
       "  0%|          | 0/50 [00:00<?, ?it/s]"
      ],
      "application/vnd.jupyter.widget-view+json": {
       "version_major": 2,
       "version_minor": 0,
       "model_id": "7e759a38b0314beba4072c14e5ec5cfc"
      }
     },
     "metadata": {},
     "output_type": "display_data"
    },
    {
     "data": {
      "text/plain": [
       "  0%|          | 0/50 [00:00<?, ?it/s]"
      ],
      "application/vnd.jupyter.widget-view+json": {
       "version_major": 2,
       "version_minor": 0,
       "model_id": "e0a4e06ee78e49c6817d6ed39d8550b7"
      }
     },
     "metadata": {},
     "output_type": "display_data"
    },
    {
     "data": {
      "text/plain": [
       "  0%|          | 0/50 [00:00<?, ?it/s]"
      ],
      "application/vnd.jupyter.widget-view+json": {
       "version_major": 2,
       "version_minor": 0,
       "model_id": "41d5c8447bf64763864f0c14a4f42ab3"
      }
     },
     "metadata": {},
     "output_type": "display_data"
    },
    {
     "name": "stderr",
     "output_type": "stream",
     "text": [
      "Potential NSFW content was detected in one or more images. A black image will be returned instead. Try again with a different prompt and/or seed.\n"
     ]
    },
    {
     "data": {
      "text/plain": [
       "  0%|          | 0/50 [00:00<?, ?it/s]"
      ],
      "application/vnd.jupyter.widget-view+json": {
       "version_major": 2,
       "version_minor": 0,
       "model_id": "ae1b82510d084d88af71419fdc55ca7a"
      }
     },
     "metadata": {},
     "output_type": "display_data"
    },
    {
     "data": {
      "text/plain": [
       "  0%|          | 0/50 [00:00<?, ?it/s]"
      ],
      "application/vnd.jupyter.widget-view+json": {
       "version_major": 2,
       "version_minor": 0,
       "model_id": "832b4a6ad54344b488be6252fe01c71d"
      }
     },
     "metadata": {},
     "output_type": "display_data"
    },
    {
     "data": {
      "text/plain": [
       "  0%|          | 0/50 [00:00<?, ?it/s]"
      ],
      "application/vnd.jupyter.widget-view+json": {
       "version_major": 2,
       "version_minor": 0,
       "model_id": "0c2f538a0f84406a92cb1cbf749da520"
      }
     },
     "metadata": {},
     "output_type": "display_data"
    },
    {
     "data": {
      "text/plain": [
       "  0%|          | 0/50 [00:00<?, ?it/s]"
      ],
      "application/vnd.jupyter.widget-view+json": {
       "version_major": 2,
       "version_minor": 0,
       "model_id": "c2ae9b3e40dc45678a8eee57a3cca4b6"
      }
     },
     "metadata": {},
     "output_type": "display_data"
    },
    {
     "data": {
      "text/plain": [
       "  0%|          | 0/50 [00:00<?, ?it/s]"
      ],
      "application/vnd.jupyter.widget-view+json": {
       "version_major": 2,
       "version_minor": 0,
       "model_id": "ad0723d885744ab2bb516ecd7fd6d0e2"
      }
     },
     "metadata": {},
     "output_type": "display_data"
    },
    {
     "data": {
      "text/plain": [
       "  0%|          | 0/50 [00:00<?, ?it/s]"
      ],
      "application/vnd.jupyter.widget-view+json": {
       "version_major": 2,
       "version_minor": 0,
       "model_id": "d1687b88835c4669abe6c7962915915c"
      }
     },
     "metadata": {},
     "output_type": "display_data"
    },
    {
     "data": {
      "text/plain": [
       "  0%|          | 0/50 [00:00<?, ?it/s]"
      ],
      "application/vnd.jupyter.widget-view+json": {
       "version_major": 2,
       "version_minor": 0,
       "model_id": "c78648cf3f67434aa2b71f82db4769a5"
      }
     },
     "metadata": {},
     "output_type": "display_data"
    },
    {
     "data": {
      "text/plain": [
       "  0%|          | 0/50 [00:00<?, ?it/s]"
      ],
      "application/vnd.jupyter.widget-view+json": {
       "version_major": 2,
       "version_minor": 0,
       "model_id": "80aa904fb3da4e87aac5b184ec93a320"
      }
     },
     "metadata": {},
     "output_type": "display_data"
    },
    {
     "data": {
      "text/plain": [
       "  0%|          | 0/50 [00:00<?, ?it/s]"
      ],
      "application/vnd.jupyter.widget-view+json": {
       "version_major": 2,
       "version_minor": 0,
       "model_id": "1988a40b5b9646abaa90bd6599659879"
      }
     },
     "metadata": {},
     "output_type": "display_data"
    },
    {
     "data": {
      "text/plain": [
       "  0%|          | 0/50 [00:00<?, ?it/s]"
      ],
      "application/vnd.jupyter.widget-view+json": {
       "version_major": 2,
       "version_minor": 0,
       "model_id": "9866d121f4394d25b803b7faf2374d49"
      }
     },
     "metadata": {},
     "output_type": "display_data"
    },
    {
     "data": {
      "text/plain": [
       "  0%|          | 0/50 [00:00<?, ?it/s]"
      ],
      "application/vnd.jupyter.widget-view+json": {
       "version_major": 2,
       "version_minor": 0,
       "model_id": "4fc12f1821e44b75b4d01d4544f2a41b"
      }
     },
     "metadata": {},
     "output_type": "display_data"
    },
    {
     "data": {
      "text/plain": [
       "  0%|          | 0/50 [00:00<?, ?it/s]"
      ],
      "application/vnd.jupyter.widget-view+json": {
       "version_major": 2,
       "version_minor": 0,
       "model_id": "0157297b984a434d8d158bda116070de"
      }
     },
     "metadata": {},
     "output_type": "display_data"
    },
    {
     "data": {
      "text/plain": [
       "  0%|          | 0/50 [00:00<?, ?it/s]"
      ],
      "application/vnd.jupyter.widget-view+json": {
       "version_major": 2,
       "version_minor": 0,
       "model_id": "d0bef2e1d01e4dc19c6b441637fadaf8"
      }
     },
     "metadata": {},
     "output_type": "display_data"
    },
    {
     "data": {
      "text/plain": [
       "  0%|          | 0/50 [00:00<?, ?it/s]"
      ],
      "application/vnd.jupyter.widget-view+json": {
       "version_major": 2,
       "version_minor": 0,
       "model_id": "a8279093af4e4a17ad58b87afd2eace1"
      }
     },
     "metadata": {},
     "output_type": "display_data"
    },
    {
     "data": {
      "text/plain": [
       "  0%|          | 0/50 [00:00<?, ?it/s]"
      ],
      "application/vnd.jupyter.widget-view+json": {
       "version_major": 2,
       "version_minor": 0,
       "model_id": "0fa580d838994b539f5c91b3c24c800b"
      }
     },
     "metadata": {},
     "output_type": "display_data"
    },
    {
     "data": {
      "text/plain": [
       "  0%|          | 0/50 [00:00<?, ?it/s]"
      ],
      "application/vnd.jupyter.widget-view+json": {
       "version_major": 2,
       "version_minor": 0,
       "model_id": "031f67517e3549869e493d0ce762c3a1"
      }
     },
     "metadata": {},
     "output_type": "display_data"
    },
    {
     "data": {
      "text/plain": [
       "  0%|          | 0/50 [00:00<?, ?it/s]"
      ],
      "application/vnd.jupyter.widget-view+json": {
       "version_major": 2,
       "version_minor": 0,
       "model_id": "1c7335e33a004b49a73cfcb15c2eb1c3"
      }
     },
     "metadata": {},
     "output_type": "display_data"
    },
    {
     "data": {
      "text/plain": [
       "  0%|          | 0/50 [00:00<?, ?it/s]"
      ],
      "application/vnd.jupyter.widget-view+json": {
       "version_major": 2,
       "version_minor": 0,
       "model_id": "e968a3a2483849528c07b41424aaa1a4"
      }
     },
     "metadata": {},
     "output_type": "display_data"
    },
    {
     "data": {
      "text/plain": [
       "  0%|          | 0/50 [00:00<?, ?it/s]"
      ],
      "application/vnd.jupyter.widget-view+json": {
       "version_major": 2,
       "version_minor": 0,
       "model_id": "a38bdd081c154967a52b400afe35a453"
      }
     },
     "metadata": {},
     "output_type": "display_data"
    },
    {
     "data": {
      "text/plain": [
       "  0%|          | 0/50 [00:00<?, ?it/s]"
      ],
      "application/vnd.jupyter.widget-view+json": {
       "version_major": 2,
       "version_minor": 0,
       "model_id": "70843a4d69684a7caca382c9b5b26810"
      }
     },
     "metadata": {},
     "output_type": "display_data"
    },
    {
     "data": {
      "text/plain": [
       "  0%|          | 0/50 [00:00<?, ?it/s]"
      ],
      "application/vnd.jupyter.widget-view+json": {
       "version_major": 2,
       "version_minor": 0,
       "model_id": "0cf5ce38cee5443f8e8a55868ec4516a"
      }
     },
     "metadata": {},
     "output_type": "display_data"
    },
    {
     "data": {
      "text/plain": [
       "  0%|          | 0/50 [00:00<?, ?it/s]"
      ],
      "application/vnd.jupyter.widget-view+json": {
       "version_major": 2,
       "version_minor": 0,
       "model_id": "ffa17d3cbf5e458e86a03c9cc15fe9a8"
      }
     },
     "metadata": {},
     "output_type": "display_data"
    },
    {
     "data": {
      "text/plain": [
       "  0%|          | 0/50 [00:00<?, ?it/s]"
      ],
      "application/vnd.jupyter.widget-view+json": {
       "version_major": 2,
       "version_minor": 0,
       "model_id": "8df2002687fe4a759f61ee379d6e235d"
      }
     },
     "metadata": {},
     "output_type": "display_data"
    },
    {
     "data": {
      "text/plain": [
       "  0%|          | 0/50 [00:00<?, ?it/s]"
      ],
      "application/vnd.jupyter.widget-view+json": {
       "version_major": 2,
       "version_minor": 0,
       "model_id": "f41900a73315451492715a257ecdffac"
      }
     },
     "metadata": {},
     "output_type": "display_data"
    },
    {
     "data": {
      "text/plain": [
       "  0%|          | 0/50 [00:00<?, ?it/s]"
      ],
      "application/vnd.jupyter.widget-view+json": {
       "version_major": 2,
       "version_minor": 0,
       "model_id": "d6b2a617056c4beba2414a2ac8fc59af"
      }
     },
     "metadata": {},
     "output_type": "display_data"
    },
    {
     "data": {
      "text/plain": [
       "  0%|          | 0/50 [00:00<?, ?it/s]"
      ],
      "application/vnd.jupyter.widget-view+json": {
       "version_major": 2,
       "version_minor": 0,
       "model_id": "520c84e8d06a44f08fcc95ff2825a001"
      }
     },
     "metadata": {},
     "output_type": "display_data"
    },
    {
     "data": {
      "text/plain": [
       "  0%|          | 0/50 [00:00<?, ?it/s]"
      ],
      "application/vnd.jupyter.widget-view+json": {
       "version_major": 2,
       "version_minor": 0,
       "model_id": "b1b571781041418da383ec9b24244b95"
      }
     },
     "metadata": {},
     "output_type": "display_data"
    },
    {
     "data": {
      "text/plain": [
       "  0%|          | 0/50 [00:00<?, ?it/s]"
      ],
      "application/vnd.jupyter.widget-view+json": {
       "version_major": 2,
       "version_minor": 0,
       "model_id": "e52f593b1ede4a00b061421d77dd74a5"
      }
     },
     "metadata": {},
     "output_type": "display_data"
    },
    {
     "data": {
      "text/plain": [
       "  0%|          | 0/50 [00:00<?, ?it/s]"
      ],
      "application/vnd.jupyter.widget-view+json": {
       "version_major": 2,
       "version_minor": 0,
       "model_id": "4d5db34d5c834857884ff97e8a959977"
      }
     },
     "metadata": {},
     "output_type": "display_data"
    },
    {
     "data": {
      "text/plain": [
       "  0%|          | 0/50 [00:00<?, ?it/s]"
      ],
      "application/vnd.jupyter.widget-view+json": {
       "version_major": 2,
       "version_minor": 0,
       "model_id": "43937638d54446da996a1fca83e71807"
      }
     },
     "metadata": {},
     "output_type": "display_data"
    },
    {
     "data": {
      "text/plain": [
       "  0%|          | 0/50 [00:00<?, ?it/s]"
      ],
      "application/vnd.jupyter.widget-view+json": {
       "version_major": 2,
       "version_minor": 0,
       "model_id": "e908c9a72a574e8184036fa9ce36911c"
      }
     },
     "metadata": {},
     "output_type": "display_data"
    },
    {
     "data": {
      "text/plain": [
       "  0%|          | 0/50 [00:00<?, ?it/s]"
      ],
      "application/vnd.jupyter.widget-view+json": {
       "version_major": 2,
       "version_minor": 0,
       "model_id": "3579dcfe1a3e40ec9c5fd53456cb3fc8"
      }
     },
     "metadata": {},
     "output_type": "display_data"
    },
    {
     "name": "stderr",
     "output_type": "stream",
     "text": [
      "Potential NSFW content was detected in one or more images. A black image will be returned instead. Try again with a different prompt and/or seed.\n"
     ]
    },
    {
     "data": {
      "text/plain": [
       "  0%|          | 0/50 [00:00<?, ?it/s]"
      ],
      "application/vnd.jupyter.widget-view+json": {
       "version_major": 2,
       "version_minor": 0,
       "model_id": "b76de14ad38f4dd8ad3771e918fe804c"
      }
     },
     "metadata": {},
     "output_type": "display_data"
    },
    {
     "data": {
      "text/plain": [
       "  0%|          | 0/50 [00:00<?, ?it/s]"
      ],
      "application/vnd.jupyter.widget-view+json": {
       "version_major": 2,
       "version_minor": 0,
       "model_id": "e07a5ffdace74a7d9d4867c5bfca7477"
      }
     },
     "metadata": {},
     "output_type": "display_data"
    },
    {
     "data": {
      "text/plain": [
       "  0%|          | 0/50 [00:00<?, ?it/s]"
      ],
      "application/vnd.jupyter.widget-view+json": {
       "version_major": 2,
       "version_minor": 0,
       "model_id": "3e79e129925b4c78a7fa69f0ed447bb3"
      }
     },
     "metadata": {},
     "output_type": "display_data"
    },
    {
     "data": {
      "text/plain": [
       "  0%|          | 0/50 [00:00<?, ?it/s]"
      ],
      "application/vnd.jupyter.widget-view+json": {
       "version_major": 2,
       "version_minor": 0,
       "model_id": "6876ad9734d0411cb0e7fdccbe053e07"
      }
     },
     "metadata": {},
     "output_type": "display_data"
    },
    {
     "data": {
      "text/plain": [
       "  0%|          | 0/50 [00:00<?, ?it/s]"
      ],
      "application/vnd.jupyter.widget-view+json": {
       "version_major": 2,
       "version_minor": 0,
       "model_id": "c96c7addcf184197a9dac2dc6cc3e4f4"
      }
     },
     "metadata": {},
     "output_type": "display_data"
    },
    {
     "data": {
      "text/plain": [
       "  0%|          | 0/50 [00:00<?, ?it/s]"
      ],
      "application/vnd.jupyter.widget-view+json": {
       "version_major": 2,
       "version_minor": 0,
       "model_id": "adcd5488482649c4b669f639efdf3043"
      }
     },
     "metadata": {},
     "output_type": "display_data"
    },
    {
     "data": {
      "text/plain": [
       "  0%|          | 0/50 [00:00<?, ?it/s]"
      ],
      "application/vnd.jupyter.widget-view+json": {
       "version_major": 2,
       "version_minor": 0,
       "model_id": "eecb1ed8b9aa4c1a9503372f7650b240"
      }
     },
     "metadata": {},
     "output_type": "display_data"
    },
    {
     "data": {
      "text/plain": [
       "  0%|          | 0/50 [00:00<?, ?it/s]"
      ],
      "application/vnd.jupyter.widget-view+json": {
       "version_major": 2,
       "version_minor": 0,
       "model_id": "0bd5a9af9880405db810ad405918b3a9"
      }
     },
     "metadata": {},
     "output_type": "display_data"
    },
    {
     "data": {
      "text/plain": [
       "  0%|          | 0/50 [00:00<?, ?it/s]"
      ],
      "application/vnd.jupyter.widget-view+json": {
       "version_major": 2,
       "version_minor": 0,
       "model_id": "8ec94931f4884a42a202e32d601c4f30"
      }
     },
     "metadata": {},
     "output_type": "display_data"
    },
    {
     "data": {
      "text/plain": [
       "  0%|          | 0/50 [00:00<?, ?it/s]"
      ],
      "application/vnd.jupyter.widget-view+json": {
       "version_major": 2,
       "version_minor": 0,
       "model_id": "396f154f476c43c49b1b313a6de1622e"
      }
     },
     "metadata": {},
     "output_type": "display_data"
    },
    {
     "data": {
      "text/plain": [
       "  0%|          | 0/50 [00:00<?, ?it/s]"
      ],
      "application/vnd.jupyter.widget-view+json": {
       "version_major": 2,
       "version_minor": 0,
       "model_id": "70f0d9d975b84a9b882e3c0dd3105061"
      }
     },
     "metadata": {},
     "output_type": "display_data"
    },
    {
     "data": {
      "text/plain": [
       "  0%|          | 0/50 [00:00<?, ?it/s]"
      ],
      "application/vnd.jupyter.widget-view+json": {
       "version_major": 2,
       "version_minor": 0,
       "model_id": "149219929c74435e80306d52fbf4c52d"
      }
     },
     "metadata": {},
     "output_type": "display_data"
    },
    {
     "data": {
      "text/plain": [
       "  0%|          | 0/50 [00:00<?, ?it/s]"
      ],
      "application/vnd.jupyter.widget-view+json": {
       "version_major": 2,
       "version_minor": 0,
       "model_id": "3688f8724f3f48cf8079427807814179"
      }
     },
     "metadata": {},
     "output_type": "display_data"
    },
    {
     "data": {
      "text/plain": [
       "  0%|          | 0/50 [00:00<?, ?it/s]"
      ],
      "application/vnd.jupyter.widget-view+json": {
       "version_major": 2,
       "version_minor": 0,
       "model_id": "54b14562996e4168a2414822f5ab4618"
      }
     },
     "metadata": {},
     "output_type": "display_data"
    },
    {
     "data": {
      "text/plain": [
       "  0%|          | 0/50 [00:00<?, ?it/s]"
      ],
      "application/vnd.jupyter.widget-view+json": {
       "version_major": 2,
       "version_minor": 0,
       "model_id": "46fe028fd8f44725a6ea91e8433a8437"
      }
     },
     "metadata": {},
     "output_type": "display_data"
    },
    {
     "data": {
      "text/plain": [
       "  0%|          | 0/50 [00:00<?, ?it/s]"
      ],
      "application/vnd.jupyter.widget-view+json": {
       "version_major": 2,
       "version_minor": 0,
       "model_id": "9084caed5bc445919370e1956580ed97"
      }
     },
     "metadata": {},
     "output_type": "display_data"
    },
    {
     "data": {
      "text/plain": [
       "  0%|          | 0/50 [00:00<?, ?it/s]"
      ],
      "application/vnd.jupyter.widget-view+json": {
       "version_major": 2,
       "version_minor": 0,
       "model_id": "361cfdbef4ba4312a3defcc3ab7684f8"
      }
     },
     "metadata": {},
     "output_type": "display_data"
    },
    {
     "data": {
      "text/plain": [
       "  0%|          | 0/50 [00:00<?, ?it/s]"
      ],
      "application/vnd.jupyter.widget-view+json": {
       "version_major": 2,
       "version_minor": 0,
       "model_id": "3d2f49eb1b7746618ba9eedec588c1fc"
      }
     },
     "metadata": {},
     "output_type": "display_data"
    },
    {
     "data": {
      "text/plain": [
       "  0%|          | 0/50 [00:00<?, ?it/s]"
      ],
      "application/vnd.jupyter.widget-view+json": {
       "version_major": 2,
       "version_minor": 0,
       "model_id": "4d16dc2c7cea4fcb9dea7287188f9098"
      }
     },
     "metadata": {},
     "output_type": "display_data"
    },
    {
     "data": {
      "text/plain": [
       "  0%|          | 0/50 [00:00<?, ?it/s]"
      ],
      "application/vnd.jupyter.widget-view+json": {
       "version_major": 2,
       "version_minor": 0,
       "model_id": "874f8186c5a74f91854319c9dad2ba3c"
      }
     },
     "metadata": {},
     "output_type": "display_data"
    },
    {
     "data": {
      "text/plain": [
       "  0%|          | 0/50 [00:00<?, ?it/s]"
      ],
      "application/vnd.jupyter.widget-view+json": {
       "version_major": 2,
       "version_minor": 0,
       "model_id": "723504b1349c4933a53d354e4e36d968"
      }
     },
     "metadata": {},
     "output_type": "display_data"
    },
    {
     "data": {
      "text/plain": [
       "  0%|          | 0/50 [00:00<?, ?it/s]"
      ],
      "application/vnd.jupyter.widget-view+json": {
       "version_major": 2,
       "version_minor": 0,
       "model_id": "6c793fd9f2f24c5eb61354346081695a"
      }
     },
     "metadata": {},
     "output_type": "display_data"
    },
    {
     "data": {
      "text/plain": [
       "  0%|          | 0/50 [00:00<?, ?it/s]"
      ],
      "application/vnd.jupyter.widget-view+json": {
       "version_major": 2,
       "version_minor": 0,
       "model_id": "4957c978cc684794925c6b5d6757837e"
      }
     },
     "metadata": {},
     "output_type": "display_data"
    },
    {
     "data": {
      "text/plain": [
       "  0%|          | 0/50 [00:00<?, ?it/s]"
      ],
      "application/vnd.jupyter.widget-view+json": {
       "version_major": 2,
       "version_minor": 0,
       "model_id": "60db91a4205e4c74b25166ab7df5ffb0"
      }
     },
     "metadata": {},
     "output_type": "display_data"
    },
    {
     "data": {
      "text/plain": [
       "  0%|          | 0/50 [00:00<?, ?it/s]"
      ],
      "application/vnd.jupyter.widget-view+json": {
       "version_major": 2,
       "version_minor": 0,
       "model_id": "01b55a9664f244b6ab6f3a1a40f0e8d9"
      }
     },
     "metadata": {},
     "output_type": "display_data"
    },
    {
     "data": {
      "text/plain": [
       "  0%|          | 0/50 [00:00<?, ?it/s]"
      ],
      "application/vnd.jupyter.widget-view+json": {
       "version_major": 2,
       "version_minor": 0,
       "model_id": "1a6989589cf04d618c2ab3981138975b"
      }
     },
     "metadata": {},
     "output_type": "display_data"
    },
    {
     "data": {
      "text/plain": [
       "  0%|          | 0/50 [00:00<?, ?it/s]"
      ],
      "application/vnd.jupyter.widget-view+json": {
       "version_major": 2,
       "version_minor": 0,
       "model_id": "75980cf3a00c4b75adaa5d880a49a6ce"
      }
     },
     "metadata": {},
     "output_type": "display_data"
    },
    {
     "data": {
      "text/plain": [
       "  0%|          | 0/50 [00:00<?, ?it/s]"
      ],
      "application/vnd.jupyter.widget-view+json": {
       "version_major": 2,
       "version_minor": 0,
       "model_id": "7e6a477625c14203918c06301c8d0b75"
      }
     },
     "metadata": {},
     "output_type": "display_data"
    },
    {
     "data": {
      "text/plain": [
       "  0%|          | 0/50 [00:00<?, ?it/s]"
      ],
      "application/vnd.jupyter.widget-view+json": {
       "version_major": 2,
       "version_minor": 0,
       "model_id": "a2dbd4f2574849d8a9d7fdef7a18204c"
      }
     },
     "metadata": {},
     "output_type": "display_data"
    },
    {
     "data": {
      "text/plain": [
       "  0%|          | 0/50 [00:00<?, ?it/s]"
      ],
      "application/vnd.jupyter.widget-view+json": {
       "version_major": 2,
       "version_minor": 0,
       "model_id": "8657d6c0c0a94075835444c077ab944b"
      }
     },
     "metadata": {},
     "output_type": "display_data"
    },
    {
     "data": {
      "text/plain": [
       "  0%|          | 0/50 [00:00<?, ?it/s]"
      ],
      "application/vnd.jupyter.widget-view+json": {
       "version_major": 2,
       "version_minor": 0,
       "model_id": "29114a70d5e042f693962ca1fb2c4144"
      }
     },
     "metadata": {},
     "output_type": "display_data"
    },
    {
     "data": {
      "text/plain": [
       "  0%|          | 0/50 [00:00<?, ?it/s]"
      ],
      "application/vnd.jupyter.widget-view+json": {
       "version_major": 2,
       "version_minor": 0,
       "model_id": "e9b18b4851984053ad7647aa8bb1c55e"
      }
     },
     "metadata": {},
     "output_type": "display_data"
    },
    {
     "data": {
      "text/plain": [
       "  0%|          | 0/50 [00:00<?, ?it/s]"
      ],
      "application/vnd.jupyter.widget-view+json": {
       "version_major": 2,
       "version_minor": 0,
       "model_id": "ac01e4199c0b4e96a66cf6c635a33c60"
      }
     },
     "metadata": {},
     "output_type": "display_data"
    },
    {
     "data": {
      "text/plain": [
       "  0%|          | 0/50 [00:00<?, ?it/s]"
      ],
      "application/vnd.jupyter.widget-view+json": {
       "version_major": 2,
       "version_minor": 0,
       "model_id": "117382ec01dd40a09d5906aa1b8f9f14"
      }
     },
     "metadata": {},
     "output_type": "display_data"
    },
    {
     "data": {
      "text/plain": [
       "  0%|          | 0/50 [00:00<?, ?it/s]"
      ],
      "application/vnd.jupyter.widget-view+json": {
       "version_major": 2,
       "version_minor": 0,
       "model_id": "33fe38025d08437fbb68498c27c739e5"
      }
     },
     "metadata": {},
     "output_type": "display_data"
    },
    {
     "data": {
      "text/plain": [
       "  0%|          | 0/50 [00:00<?, ?it/s]"
      ],
      "application/vnd.jupyter.widget-view+json": {
       "version_major": 2,
       "version_minor": 0,
       "model_id": "422f2d1609cc45a1a915b2ef164a8ad3"
      }
     },
     "metadata": {},
     "output_type": "display_data"
    },
    {
     "data": {
      "text/plain": [
       "  0%|          | 0/50 [00:00<?, ?it/s]"
      ],
      "application/vnd.jupyter.widget-view+json": {
       "version_major": 2,
       "version_minor": 0,
       "model_id": "5d41e219462d413fb8f741826f201d77"
      }
     },
     "metadata": {},
     "output_type": "display_data"
    },
    {
     "data": {
      "text/plain": [
       "  0%|          | 0/50 [00:00<?, ?it/s]"
      ],
      "application/vnd.jupyter.widget-view+json": {
       "version_major": 2,
       "version_minor": 0,
       "model_id": "b6be23a7f2ad4921ace06ae0654ccb93"
      }
     },
     "metadata": {},
     "output_type": "display_data"
    },
    {
     "data": {
      "text/plain": [
       "  0%|          | 0/50 [00:00<?, ?it/s]"
      ],
      "application/vnd.jupyter.widget-view+json": {
       "version_major": 2,
       "version_minor": 0,
       "model_id": "f828cd4b28944f569d35d280bc815e3b"
      }
     },
     "metadata": {},
     "output_type": "display_data"
    },
    {
     "data": {
      "text/plain": [
       "  0%|          | 0/50 [00:00<?, ?it/s]"
      ],
      "application/vnd.jupyter.widget-view+json": {
       "version_major": 2,
       "version_minor": 0,
       "model_id": "5d8c52bed56c480586cea6962984bd99"
      }
     },
     "metadata": {},
     "output_type": "display_data"
    },
    {
     "data": {
      "text/plain": [
       "  0%|          | 0/50 [00:00<?, ?it/s]"
      ],
      "application/vnd.jupyter.widget-view+json": {
       "version_major": 2,
       "version_minor": 0,
       "model_id": "bdc692257e79454fbb2fa93b3519f64d"
      }
     },
     "metadata": {},
     "output_type": "display_data"
    },
    {
     "data": {
      "text/plain": [
       "  0%|          | 0/50 [00:00<?, ?it/s]"
      ],
      "application/vnd.jupyter.widget-view+json": {
       "version_major": 2,
       "version_minor": 0,
       "model_id": "93c5086a096948e3bb0e2448bf97629e"
      }
     },
     "metadata": {},
     "output_type": "display_data"
    },
    {
     "data": {
      "text/plain": [
       "  0%|          | 0/50 [00:00<?, ?it/s]"
      ],
      "application/vnd.jupyter.widget-view+json": {
       "version_major": 2,
       "version_minor": 0,
       "model_id": "664a92f1dfd64c29aceea4f2577045ad"
      }
     },
     "metadata": {},
     "output_type": "display_data"
    },
    {
     "data": {
      "text/plain": [
       "  0%|          | 0/50 [00:00<?, ?it/s]"
      ],
      "application/vnd.jupyter.widget-view+json": {
       "version_major": 2,
       "version_minor": 0,
       "model_id": "c831e9c3e251457484fae9a3dc4fbbd4"
      }
     },
     "metadata": {},
     "output_type": "display_data"
    },
    {
     "data": {
      "text/plain": [
       "  0%|          | 0/50 [00:00<?, ?it/s]"
      ],
      "application/vnd.jupyter.widget-view+json": {
       "version_major": 2,
       "version_minor": 0,
       "model_id": "56c9549adc844dfc81665b6bf5435b48"
      }
     },
     "metadata": {},
     "output_type": "display_data"
    },
    {
     "data": {
      "text/plain": [
       "  0%|          | 0/50 [00:00<?, ?it/s]"
      ],
      "application/vnd.jupyter.widget-view+json": {
       "version_major": 2,
       "version_minor": 0,
       "model_id": "df937d8618274016889be0bc9b1b47fd"
      }
     },
     "metadata": {},
     "output_type": "display_data"
    },
    {
     "data": {
      "text/plain": [
       "  0%|          | 0/50 [00:00<?, ?it/s]"
      ],
      "application/vnd.jupyter.widget-view+json": {
       "version_major": 2,
       "version_minor": 0,
       "model_id": "ea2972bb238d44eaae8946857795ddd1"
      }
     },
     "metadata": {},
     "output_type": "display_data"
    },
    {
     "data": {
      "text/plain": [
       "  0%|          | 0/50 [00:00<?, ?it/s]"
      ],
      "application/vnd.jupyter.widget-view+json": {
       "version_major": 2,
       "version_minor": 0,
       "model_id": "670f0c92c047409898c7f67dd6b89316"
      }
     },
     "metadata": {},
     "output_type": "display_data"
    },
    {
     "data": {
      "text/plain": [
       "  0%|          | 0/50 [00:00<?, ?it/s]"
      ],
      "application/vnd.jupyter.widget-view+json": {
       "version_major": 2,
       "version_minor": 0,
       "model_id": "f79f2c6b70254483aacbd2823ea04046"
      }
     },
     "metadata": {},
     "output_type": "display_data"
    },
    {
     "data": {
      "text/plain": [
       "  0%|          | 0/50 [00:00<?, ?it/s]"
      ],
      "application/vnd.jupyter.widget-view+json": {
       "version_major": 2,
       "version_minor": 0,
       "model_id": "278b75fc3def4a328440e0e256c7ed68"
      }
     },
     "metadata": {},
     "output_type": "display_data"
    },
    {
     "data": {
      "text/plain": [
       "  0%|          | 0/50 [00:00<?, ?it/s]"
      ],
      "application/vnd.jupyter.widget-view+json": {
       "version_major": 2,
       "version_minor": 0,
       "model_id": "739548cd5eda41b49d2e3e9cd864d062"
      }
     },
     "metadata": {},
     "output_type": "display_data"
    },
    {
     "data": {
      "text/plain": [
       "  0%|          | 0/50 [00:00<?, ?it/s]"
      ],
      "application/vnd.jupyter.widget-view+json": {
       "version_major": 2,
       "version_minor": 0,
       "model_id": "ce55fafb458a40ac9addc2bdd81482dc"
      }
     },
     "metadata": {},
     "output_type": "display_data"
    },
    {
     "data": {
      "text/plain": [
       "  0%|          | 0/50 [00:00<?, ?it/s]"
      ],
      "application/vnd.jupyter.widget-view+json": {
       "version_major": 2,
       "version_minor": 0,
       "model_id": "faac76558b2545eeb71f4507b1ee9eae"
      }
     },
     "metadata": {},
     "output_type": "display_data"
    },
    {
     "data": {
      "text/plain": [
       "  0%|          | 0/50 [00:00<?, ?it/s]"
      ],
      "application/vnd.jupyter.widget-view+json": {
       "version_major": 2,
       "version_minor": 0,
       "model_id": "ed5fe8253430477b8c2b064afe08a902"
      }
     },
     "metadata": {},
     "output_type": "display_data"
    },
    {
     "data": {
      "text/plain": [
       "  0%|          | 0/50 [00:00<?, ?it/s]"
      ],
      "application/vnd.jupyter.widget-view+json": {
       "version_major": 2,
       "version_minor": 0,
       "model_id": "8f1437317b714cf3b16d230e0f3ac144"
      }
     },
     "metadata": {},
     "output_type": "display_data"
    },
    {
     "data": {
      "text/plain": [
       "  0%|          | 0/50 [00:00<?, ?it/s]"
      ],
      "application/vnd.jupyter.widget-view+json": {
       "version_major": 2,
       "version_minor": 0,
       "model_id": "03fe31114eec4ead95be90dbc23188a7"
      }
     },
     "metadata": {},
     "output_type": "display_data"
    },
    {
     "data": {
      "text/plain": [
       "  0%|          | 0/50 [00:00<?, ?it/s]"
      ],
      "application/vnd.jupyter.widget-view+json": {
       "version_major": 2,
       "version_minor": 0,
       "model_id": "cf8ef4637c01484f9bd8548393f07959"
      }
     },
     "metadata": {},
     "output_type": "display_data"
    },
    {
     "data": {
      "text/plain": [
       "  0%|          | 0/50 [00:00<?, ?it/s]"
      ],
      "application/vnd.jupyter.widget-view+json": {
       "version_major": 2,
       "version_minor": 0,
       "model_id": "fb86644504e44412ba4a934e2022dac9"
      }
     },
     "metadata": {},
     "output_type": "display_data"
    },
    {
     "data": {
      "text/plain": [
       "  0%|          | 0/50 [00:00<?, ?it/s]"
      ],
      "application/vnd.jupyter.widget-view+json": {
       "version_major": 2,
       "version_minor": 0,
       "model_id": "19e5d27c91184c5284ea9fb0f0dc51db"
      }
     },
     "metadata": {},
     "output_type": "display_data"
    },
    {
     "data": {
      "text/plain": [
       "  0%|          | 0/50 [00:00<?, ?it/s]"
      ],
      "application/vnd.jupyter.widget-view+json": {
       "version_major": 2,
       "version_minor": 0,
       "model_id": "a9a35572a3164be792f9e788d7d33734"
      }
     },
     "metadata": {},
     "output_type": "display_data"
    },
    {
     "data": {
      "text/plain": [
       "  0%|          | 0/50 [00:00<?, ?it/s]"
      ],
      "application/vnd.jupyter.widget-view+json": {
       "version_major": 2,
       "version_minor": 0,
       "model_id": "429ee0d7ce5a48e1a6d98af8ea173a8f"
      }
     },
     "metadata": {},
     "output_type": "display_data"
    },
    {
     "data": {
      "text/plain": [
       "  0%|          | 0/50 [00:00<?, ?it/s]"
      ],
      "application/vnd.jupyter.widget-view+json": {
       "version_major": 2,
       "version_minor": 0,
       "model_id": "403103ba27744568b6b2b5a590f48656"
      }
     },
     "metadata": {},
     "output_type": "display_data"
    },
    {
     "data": {
      "text/plain": [
       "  0%|          | 0/50 [00:00<?, ?it/s]"
      ],
      "application/vnd.jupyter.widget-view+json": {
       "version_major": 2,
       "version_minor": 0,
       "model_id": "c07db8f947eb4d35b267925740746f24"
      }
     },
     "metadata": {},
     "output_type": "display_data"
    },
    {
     "data": {
      "text/plain": [
       "  0%|          | 0/50 [00:00<?, ?it/s]"
      ],
      "application/vnd.jupyter.widget-view+json": {
       "version_major": 2,
       "version_minor": 0,
       "model_id": "c8dc1e74b82543ffa57be7abe98b69ef"
      }
     },
     "metadata": {},
     "output_type": "display_data"
    },
    {
     "data": {
      "text/plain": [
       "  0%|          | 0/50 [00:00<?, ?it/s]"
      ],
      "application/vnd.jupyter.widget-view+json": {
       "version_major": 2,
       "version_minor": 0,
       "model_id": "b7b1b33a0a0a45ee8e96002f7db80eec"
      }
     },
     "metadata": {},
     "output_type": "display_data"
    },
    {
     "data": {
      "text/plain": [
       "  0%|          | 0/50 [00:00<?, ?it/s]"
      ],
      "application/vnd.jupyter.widget-view+json": {
       "version_major": 2,
       "version_minor": 0,
       "model_id": "f664e8c44750472eb757feafcbc979ed"
      }
     },
     "metadata": {},
     "output_type": "display_data"
    },
    {
     "data": {
      "text/plain": [
       "  0%|          | 0/50 [00:00<?, ?it/s]"
      ],
      "application/vnd.jupyter.widget-view+json": {
       "version_major": 2,
       "version_minor": 0,
       "model_id": "6730311362044eb99d036b7ed0561a1a"
      }
     },
     "metadata": {},
     "output_type": "display_data"
    },
    {
     "data": {
      "text/plain": [
       "  0%|          | 0/50 [00:00<?, ?it/s]"
      ],
      "application/vnd.jupyter.widget-view+json": {
       "version_major": 2,
       "version_minor": 0,
       "model_id": "3d6451a46c4846b782b688996e052438"
      }
     },
     "metadata": {},
     "output_type": "display_data"
    },
    {
     "data": {
      "text/plain": [
       "  0%|          | 0/50 [00:00<?, ?it/s]"
      ],
      "application/vnd.jupyter.widget-view+json": {
       "version_major": 2,
       "version_minor": 0,
       "model_id": "c25bf71b63bd422786f1bf0cdcf81aee"
      }
     },
     "metadata": {},
     "output_type": "display_data"
    },
    {
     "data": {
      "text/plain": [
       "  0%|          | 0/50 [00:00<?, ?it/s]"
      ],
      "application/vnd.jupyter.widget-view+json": {
       "version_major": 2,
       "version_minor": 0,
       "model_id": "edd5f07e114d4cd9b99c97028c487563"
      }
     },
     "metadata": {},
     "output_type": "display_data"
    },
    {
     "data": {
      "text/plain": [
       "  0%|          | 0/50 [00:00<?, ?it/s]"
      ],
      "application/vnd.jupyter.widget-view+json": {
       "version_major": 2,
       "version_minor": 0,
       "model_id": "fbfd532e62f043f3a93352f93fa0a818"
      }
     },
     "metadata": {},
     "output_type": "display_data"
    },
    {
     "data": {
      "text/plain": [
       "  0%|          | 0/50 [00:00<?, ?it/s]"
      ],
      "application/vnd.jupyter.widget-view+json": {
       "version_major": 2,
       "version_minor": 0,
       "model_id": "e08d42fca32f44f0a7a62b3663cfb966"
      }
     },
     "metadata": {},
     "output_type": "display_data"
    },
    {
     "data": {
      "text/plain": [
       "  0%|          | 0/50 [00:00<?, ?it/s]"
      ],
      "application/vnd.jupyter.widget-view+json": {
       "version_major": 2,
       "version_minor": 0,
       "model_id": "fd7e6c73e05d48c6afbe0f9b07a6c5d8"
      }
     },
     "metadata": {},
     "output_type": "display_data"
    },
    {
     "data": {
      "text/plain": [
       "  0%|          | 0/50 [00:00<?, ?it/s]"
      ],
      "application/vnd.jupyter.widget-view+json": {
       "version_major": 2,
       "version_minor": 0,
       "model_id": "bdc93d7e95e54aa4bd66a876e53f4be2"
      }
     },
     "metadata": {},
     "output_type": "display_data"
    },
    {
     "data": {
      "text/plain": [
       "  0%|          | 0/50 [00:00<?, ?it/s]"
      ],
      "application/vnd.jupyter.widget-view+json": {
       "version_major": 2,
       "version_minor": 0,
       "model_id": "224a578f16b94a83a48cb099c6c45b70"
      }
     },
     "metadata": {},
     "output_type": "display_data"
    },
    {
     "data": {
      "text/plain": [
       "  0%|          | 0/50 [00:00<?, ?it/s]"
      ],
      "application/vnd.jupyter.widget-view+json": {
       "version_major": 2,
       "version_minor": 0,
       "model_id": "2b841c7f30f542ee99822919a18bcafa"
      }
     },
     "metadata": {},
     "output_type": "display_data"
    },
    {
     "data": {
      "text/plain": [
       "  0%|          | 0/50 [00:00<?, ?it/s]"
      ],
      "application/vnd.jupyter.widget-view+json": {
       "version_major": 2,
       "version_minor": 0,
       "model_id": "57c9cad189bb4235bf6a78d65b9a47b8"
      }
     },
     "metadata": {},
     "output_type": "display_data"
    },
    {
     "data": {
      "text/plain": [
       "  0%|          | 0/50 [00:00<?, ?it/s]"
      ],
      "application/vnd.jupyter.widget-view+json": {
       "version_major": 2,
       "version_minor": 0,
       "model_id": "9dcf614efbe34266ab09ab1655896a30"
      }
     },
     "metadata": {},
     "output_type": "display_data"
    },
    {
     "data": {
      "text/plain": [
       "  0%|          | 0/50 [00:00<?, ?it/s]"
      ],
      "application/vnd.jupyter.widget-view+json": {
       "version_major": 2,
       "version_minor": 0,
       "model_id": "ed5a24ebec8f4a00b39bed25578eff86"
      }
     },
     "metadata": {},
     "output_type": "display_data"
    },
    {
     "data": {
      "text/plain": [
       "  0%|          | 0/50 [00:00<?, ?it/s]"
      ],
      "application/vnd.jupyter.widget-view+json": {
       "version_major": 2,
       "version_minor": 0,
       "model_id": "649096b3dd454bfe9f865a818fd0d7e4"
      }
     },
     "metadata": {},
     "output_type": "display_data"
    },
    {
     "data": {
      "text/plain": [
       "  0%|          | 0/50 [00:00<?, ?it/s]"
      ],
      "application/vnd.jupyter.widget-view+json": {
       "version_major": 2,
       "version_minor": 0,
       "model_id": "8827d06186b544feba36459888db1bb1"
      }
     },
     "metadata": {},
     "output_type": "display_data"
    },
    {
     "data": {
      "text/plain": [
       "  0%|          | 0/50 [00:00<?, ?it/s]"
      ],
      "application/vnd.jupyter.widget-view+json": {
       "version_major": 2,
       "version_minor": 0,
       "model_id": "0749c12d8d19453eb0ddc4dadafed972"
      }
     },
     "metadata": {},
     "output_type": "display_data"
    },
    {
     "data": {
      "text/plain": [
       "  0%|          | 0/50 [00:00<?, ?it/s]"
      ],
      "application/vnd.jupyter.widget-view+json": {
       "version_major": 2,
       "version_minor": 0,
       "model_id": "29b963b3dbe34914a8749eda02270e3e"
      }
     },
     "metadata": {},
     "output_type": "display_data"
    },
    {
     "data": {
      "text/plain": [
       "  0%|          | 0/50 [00:00<?, ?it/s]"
      ],
      "application/vnd.jupyter.widget-view+json": {
       "version_major": 2,
       "version_minor": 0,
       "model_id": "dc1b881aea694fa1ad7c91b88c6f4aee"
      }
     },
     "metadata": {},
     "output_type": "display_data"
    },
    {
     "data": {
      "text/plain": [
       "  0%|          | 0/50 [00:00<?, ?it/s]"
      ],
      "application/vnd.jupyter.widget-view+json": {
       "version_major": 2,
       "version_minor": 0,
       "model_id": "c08d37d527e942a99ab94ecb16af7cc9"
      }
     },
     "metadata": {},
     "output_type": "display_data"
    },
    {
     "data": {
      "text/plain": [
       "  0%|          | 0/50 [00:00<?, ?it/s]"
      ],
      "application/vnd.jupyter.widget-view+json": {
       "version_major": 2,
       "version_minor": 0,
       "model_id": "882ee912d0d74cd7a4aafbb2d7954fc6"
      }
     },
     "metadata": {},
     "output_type": "display_data"
    },
    {
     "data": {
      "text/plain": [
       "  0%|          | 0/50 [00:00<?, ?it/s]"
      ],
      "application/vnd.jupyter.widget-view+json": {
       "version_major": 2,
       "version_minor": 0,
       "model_id": "e6a45050cc2c46a8bfd12ee63ba541ff"
      }
     },
     "metadata": {},
     "output_type": "display_data"
    },
    {
     "data": {
      "text/plain": [
       "  0%|          | 0/50 [00:00<?, ?it/s]"
      ],
      "application/vnd.jupyter.widget-view+json": {
       "version_major": 2,
       "version_minor": 0,
       "model_id": "df40ce516c2c4a9fb7dc3870a9ba53ec"
      }
     },
     "metadata": {},
     "output_type": "display_data"
    },
    {
     "data": {
      "text/plain": [
       "  0%|          | 0/50 [00:00<?, ?it/s]"
      ],
      "application/vnd.jupyter.widget-view+json": {
       "version_major": 2,
       "version_minor": 0,
       "model_id": "ddeaecd039f647faaf36bdef9bfa5f91"
      }
     },
     "metadata": {},
     "output_type": "display_data"
    },
    {
     "data": {
      "text/plain": [
       "  0%|          | 0/50 [00:00<?, ?it/s]"
      ],
      "application/vnd.jupyter.widget-view+json": {
       "version_major": 2,
       "version_minor": 0,
       "model_id": "6a2d5e78f208468a921653efee038107"
      }
     },
     "metadata": {},
     "output_type": "display_data"
    },
    {
     "data": {
      "text/plain": [
       "  0%|          | 0/50 [00:00<?, ?it/s]"
      ],
      "application/vnd.jupyter.widget-view+json": {
       "version_major": 2,
       "version_minor": 0,
       "model_id": "56811db9f10a48889eb742784de66aab"
      }
     },
     "metadata": {},
     "output_type": "display_data"
    },
    {
     "data": {
      "text/plain": [
       "  0%|          | 0/50 [00:00<?, ?it/s]"
      ],
      "application/vnd.jupyter.widget-view+json": {
       "version_major": 2,
       "version_minor": 0,
       "model_id": "3b07826f859142e2b4a3b5d46c332b8a"
      }
     },
     "metadata": {},
     "output_type": "display_data"
    },
    {
     "data": {
      "text/plain": [
       "  0%|          | 0/50 [00:00<?, ?it/s]"
      ],
      "application/vnd.jupyter.widget-view+json": {
       "version_major": 2,
       "version_minor": 0,
       "model_id": "381ae79ffc8f4faab3a27bc689d0204a"
      }
     },
     "metadata": {},
     "output_type": "display_data"
    },
    {
     "data": {
      "text/plain": [
       "  0%|          | 0/50 [00:00<?, ?it/s]"
      ],
      "application/vnd.jupyter.widget-view+json": {
       "version_major": 2,
       "version_minor": 0,
       "model_id": "6da82ba57c614900be430b057e840cee"
      }
     },
     "metadata": {},
     "output_type": "display_data"
    },
    {
     "data": {
      "text/plain": [
       "  0%|          | 0/50 [00:00<?, ?it/s]"
      ],
      "application/vnd.jupyter.widget-view+json": {
       "version_major": 2,
       "version_minor": 0,
       "model_id": "e725db174f324298a981270348cffe52"
      }
     },
     "metadata": {},
     "output_type": "display_data"
    },
    {
     "data": {
      "text/plain": [
       "  0%|          | 0/50 [00:00<?, ?it/s]"
      ],
      "application/vnd.jupyter.widget-view+json": {
       "version_major": 2,
       "version_minor": 0,
       "model_id": "88ef9b81cffe484dbb70497a8a0e1e79"
      }
     },
     "metadata": {},
     "output_type": "display_data"
    },
    {
     "data": {
      "text/plain": [
       "  0%|          | 0/50 [00:00<?, ?it/s]"
      ],
      "application/vnd.jupyter.widget-view+json": {
       "version_major": 2,
       "version_minor": 0,
       "model_id": "aa94fb29c5104cc88f473b4997d69f4b"
      }
     },
     "metadata": {},
     "output_type": "display_data"
    },
    {
     "data": {
      "text/plain": [
       "  0%|          | 0/50 [00:00<?, ?it/s]"
      ],
      "application/vnd.jupyter.widget-view+json": {
       "version_major": 2,
       "version_minor": 0,
       "model_id": "691f1011d5ef451388b5c320f150f520"
      }
     },
     "metadata": {},
     "output_type": "display_data"
    },
    {
     "data": {
      "text/plain": [
       "  0%|          | 0/50 [00:00<?, ?it/s]"
      ],
      "application/vnd.jupyter.widget-view+json": {
       "version_major": 2,
       "version_minor": 0,
       "model_id": "00ec2162facf419c9938f36e3441c5d8"
      }
     },
     "metadata": {},
     "output_type": "display_data"
    },
    {
     "data": {
      "text/plain": [
       "  0%|          | 0/50 [00:00<?, ?it/s]"
      ],
      "application/vnd.jupyter.widget-view+json": {
       "version_major": 2,
       "version_minor": 0,
       "model_id": "cc993e283b8b4b41bcd3941856ba3155"
      }
     },
     "metadata": {},
     "output_type": "display_data"
    },
    {
     "data": {
      "text/plain": [
       "  0%|          | 0/50 [00:00<?, ?it/s]"
      ],
      "application/vnd.jupyter.widget-view+json": {
       "version_major": 2,
       "version_minor": 0,
       "model_id": "d9248a1cb82c43769c6072253ec3f6ed"
      }
     },
     "metadata": {},
     "output_type": "display_data"
    },
    {
     "data": {
      "text/plain": [
       "  0%|          | 0/50 [00:00<?, ?it/s]"
      ],
      "application/vnd.jupyter.widget-view+json": {
       "version_major": 2,
       "version_minor": 0,
       "model_id": "e8a8ff7ee8f841c789958c622bf93064"
      }
     },
     "metadata": {},
     "output_type": "display_data"
    },
    {
     "data": {
      "text/plain": [
       "  0%|          | 0/50 [00:00<?, ?it/s]"
      ],
      "application/vnd.jupyter.widget-view+json": {
       "version_major": 2,
       "version_minor": 0,
       "model_id": "dd9b17c5c5ff4104a7b273d58e9dd428"
      }
     },
     "metadata": {},
     "output_type": "display_data"
    },
    {
     "data": {
      "text/plain": [
       "  0%|          | 0/50 [00:00<?, ?it/s]"
      ],
      "application/vnd.jupyter.widget-view+json": {
       "version_major": 2,
       "version_minor": 0,
       "model_id": "969c90fec32642498fdb9f0f6f9fdca7"
      }
     },
     "metadata": {},
     "output_type": "display_data"
    },
    {
     "data": {
      "text/plain": [
       "  0%|          | 0/50 [00:00<?, ?it/s]"
      ],
      "application/vnd.jupyter.widget-view+json": {
       "version_major": 2,
       "version_minor": 0,
       "model_id": "84c30edfb1c5444fbba7e218c4ccdff0"
      }
     },
     "metadata": {},
     "output_type": "display_data"
    },
    {
     "data": {
      "text/plain": [
       "  0%|          | 0/50 [00:00<?, ?it/s]"
      ],
      "application/vnd.jupyter.widget-view+json": {
       "version_major": 2,
       "version_minor": 0,
       "model_id": "1cfa6801929a4e1889fcea1142bc69b7"
      }
     },
     "metadata": {},
     "output_type": "display_data"
    },
    {
     "data": {
      "text/plain": [
       "  0%|          | 0/50 [00:00<?, ?it/s]"
      ],
      "application/vnd.jupyter.widget-view+json": {
       "version_major": 2,
       "version_minor": 0,
       "model_id": "19679a8ec78c40b6bcbd3fddb41772f0"
      }
     },
     "metadata": {},
     "output_type": "display_data"
    },
    {
     "data": {
      "text/plain": [
       "  0%|          | 0/50 [00:00<?, ?it/s]"
      ],
      "application/vnd.jupyter.widget-view+json": {
       "version_major": 2,
       "version_minor": 0,
       "model_id": "90727becf11a4cdbab154a22b4074745"
      }
     },
     "metadata": {},
     "output_type": "display_data"
    },
    {
     "data": {
      "text/plain": [
       "  0%|          | 0/50 [00:00<?, ?it/s]"
      ],
      "application/vnd.jupyter.widget-view+json": {
       "version_major": 2,
       "version_minor": 0,
       "model_id": "1939e52da1ad4f129ba2fa993b41a85f"
      }
     },
     "metadata": {},
     "output_type": "display_data"
    },
    {
     "data": {
      "text/plain": [
       "  0%|          | 0/50 [00:00<?, ?it/s]"
      ],
      "application/vnd.jupyter.widget-view+json": {
       "version_major": 2,
       "version_minor": 0,
       "model_id": "37c9277ef4ed4c7f98119951735058da"
      }
     },
     "metadata": {},
     "output_type": "display_data"
    },
    {
     "data": {
      "text/plain": [
       "  0%|          | 0/50 [00:00<?, ?it/s]"
      ],
      "application/vnd.jupyter.widget-view+json": {
       "version_major": 2,
       "version_minor": 0,
       "model_id": "d21cd2eb503445b4b9620ff5de98374c"
      }
     },
     "metadata": {},
     "output_type": "display_data"
    },
    {
     "data": {
      "text/plain": [
       "  0%|          | 0/50 [00:00<?, ?it/s]"
      ],
      "application/vnd.jupyter.widget-view+json": {
       "version_major": 2,
       "version_minor": 0,
       "model_id": "ffc7bbe564614159993a5c8425c2d389"
      }
     },
     "metadata": {},
     "output_type": "display_data"
    },
    {
     "data": {
      "text/plain": [
       "  0%|          | 0/50 [00:00<?, ?it/s]"
      ],
      "application/vnd.jupyter.widget-view+json": {
       "version_major": 2,
       "version_minor": 0,
       "model_id": "4cbc5e55e2da4df1823ff59c297e9b04"
      }
     },
     "metadata": {},
     "output_type": "display_data"
    },
    {
     "data": {
      "text/plain": [
       "  0%|          | 0/50 [00:00<?, ?it/s]"
      ],
      "application/vnd.jupyter.widget-view+json": {
       "version_major": 2,
       "version_minor": 0,
       "model_id": "dc38213fd0684a64b55641b82cd4a24a"
      }
     },
     "metadata": {},
     "output_type": "display_data"
    },
    {
     "data": {
      "text/plain": [
       "  0%|          | 0/50 [00:00<?, ?it/s]"
      ],
      "application/vnd.jupyter.widget-view+json": {
       "version_major": 2,
       "version_minor": 0,
       "model_id": "a19fb6e51ff74d7895712d0b0739ab60"
      }
     },
     "metadata": {},
     "output_type": "display_data"
    },
    {
     "data": {
      "text/plain": [
       "  0%|          | 0/50 [00:00<?, ?it/s]"
      ],
      "application/vnd.jupyter.widget-view+json": {
       "version_major": 2,
       "version_minor": 0,
       "model_id": "5b3e8559340f4c2b92a65c999271c97f"
      }
     },
     "metadata": {},
     "output_type": "display_data"
    },
    {
     "data": {
      "text/plain": [
       "  0%|          | 0/50 [00:00<?, ?it/s]"
      ],
      "application/vnd.jupyter.widget-view+json": {
       "version_major": 2,
       "version_minor": 0,
       "model_id": "7250c21e54424a2a9c96491c136b27ff"
      }
     },
     "metadata": {},
     "output_type": "display_data"
    },
    {
     "data": {
      "text/plain": [
       "  0%|          | 0/50 [00:00<?, ?it/s]"
      ],
      "application/vnd.jupyter.widget-view+json": {
       "version_major": 2,
       "version_minor": 0,
       "model_id": "21b6b4b857aa49798ea17971af3b983d"
      }
     },
     "metadata": {},
     "output_type": "display_data"
    },
    {
     "data": {
      "text/plain": [
       "  0%|          | 0/50 [00:00<?, ?it/s]"
      ],
      "application/vnd.jupyter.widget-view+json": {
       "version_major": 2,
       "version_minor": 0,
       "model_id": "7923651af5f94f148e9e9e8b23927518"
      }
     },
     "metadata": {},
     "output_type": "display_data"
    },
    {
     "data": {
      "text/plain": [
       "  0%|          | 0/50 [00:00<?, ?it/s]"
      ],
      "application/vnd.jupyter.widget-view+json": {
       "version_major": 2,
       "version_minor": 0,
       "model_id": "34b042f230fd4b5284d1a24f34284196"
      }
     },
     "metadata": {},
     "output_type": "display_data"
    },
    {
     "data": {
      "text/plain": [
       "  0%|          | 0/50 [00:00<?, ?it/s]"
      ],
      "application/vnd.jupyter.widget-view+json": {
       "version_major": 2,
       "version_minor": 0,
       "model_id": "0ddc544f0bad411fa981ef8428d4131f"
      }
     },
     "metadata": {},
     "output_type": "display_data"
    },
    {
     "data": {
      "text/plain": [
       "  0%|          | 0/50 [00:00<?, ?it/s]"
      ],
      "application/vnd.jupyter.widget-view+json": {
       "version_major": 2,
       "version_minor": 0,
       "model_id": "ac4318c4846f4689a9af05140a63188a"
      }
     },
     "metadata": {},
     "output_type": "display_data"
    },
    {
     "data": {
      "text/plain": [
       "  0%|          | 0/50 [00:00<?, ?it/s]"
      ],
      "application/vnd.jupyter.widget-view+json": {
       "version_major": 2,
       "version_minor": 0,
       "model_id": "18e7caa93aa74bcc8c7f0520c43d8ba2"
      }
     },
     "metadata": {},
     "output_type": "display_data"
    },
    {
     "data": {
      "text/plain": [
       "  0%|          | 0/50 [00:00<?, ?it/s]"
      ],
      "application/vnd.jupyter.widget-view+json": {
       "version_major": 2,
       "version_minor": 0,
       "model_id": "6c61379560ad4eccb9ca60e2ead64823"
      }
     },
     "metadata": {},
     "output_type": "display_data"
    },
    {
     "data": {
      "text/plain": [
       "  0%|          | 0/50 [00:00<?, ?it/s]"
      ],
      "application/vnd.jupyter.widget-view+json": {
       "version_major": 2,
       "version_minor": 0,
       "model_id": "2d9c242f189d4c5797b6afbdb2e99e07"
      }
     },
     "metadata": {},
     "output_type": "display_data"
    },
    {
     "data": {
      "text/plain": [
       "  0%|          | 0/50 [00:00<?, ?it/s]"
      ],
      "application/vnd.jupyter.widget-view+json": {
       "version_major": 2,
       "version_minor": 0,
       "model_id": "ac66d2a37f8444de9a1363dd1947ec4a"
      }
     },
     "metadata": {},
     "output_type": "display_data"
    },
    {
     "data": {
      "text/plain": [
       "  0%|          | 0/50 [00:00<?, ?it/s]"
      ],
      "application/vnd.jupyter.widget-view+json": {
       "version_major": 2,
       "version_minor": 0,
       "model_id": "77b44d3918f048ee9eb17baa8b3d9fd5"
      }
     },
     "metadata": {},
     "output_type": "display_data"
    },
    {
     "data": {
      "text/plain": [
       "  0%|          | 0/50 [00:00<?, ?it/s]"
      ],
      "application/vnd.jupyter.widget-view+json": {
       "version_major": 2,
       "version_minor": 0,
       "model_id": "e7c81a264ff541d68cfa29e66489e504"
      }
     },
     "metadata": {},
     "output_type": "display_data"
    },
    {
     "data": {
      "text/plain": [
       "  0%|          | 0/50 [00:00<?, ?it/s]"
      ],
      "application/vnd.jupyter.widget-view+json": {
       "version_major": 2,
       "version_minor": 0,
       "model_id": "3ebf3f3e52ee498f855567574ab741e7"
      }
     },
     "metadata": {},
     "output_type": "display_data"
    },
    {
     "data": {
      "text/plain": [
       "  0%|          | 0/50 [00:00<?, ?it/s]"
      ],
      "application/vnd.jupyter.widget-view+json": {
       "version_major": 2,
       "version_minor": 0,
       "model_id": "bb857429ba0d445d8702e1e474d60347"
      }
     },
     "metadata": {},
     "output_type": "display_data"
    },
    {
     "data": {
      "text/plain": [
       "  0%|          | 0/50 [00:00<?, ?it/s]"
      ],
      "application/vnd.jupyter.widget-view+json": {
       "version_major": 2,
       "version_minor": 0,
       "model_id": "83fdef8e02344ace91f6e17f4c69f256"
      }
     },
     "metadata": {},
     "output_type": "display_data"
    },
    {
     "data": {
      "text/plain": [
       "  0%|          | 0/50 [00:00<?, ?it/s]"
      ],
      "application/vnd.jupyter.widget-view+json": {
       "version_major": 2,
       "version_minor": 0,
       "model_id": "f2bcf5b2f009480eac467a9d41541b69"
      }
     },
     "metadata": {},
     "output_type": "display_data"
    },
    {
     "data": {
      "text/plain": [
       "  0%|          | 0/50 [00:00<?, ?it/s]"
      ],
      "application/vnd.jupyter.widget-view+json": {
       "version_major": 2,
       "version_minor": 0,
       "model_id": "90bdb8500eab44639e91ff1532657f92"
      }
     },
     "metadata": {},
     "output_type": "display_data"
    },
    {
     "data": {
      "text/plain": [
       "  0%|          | 0/50 [00:00<?, ?it/s]"
      ],
      "application/vnd.jupyter.widget-view+json": {
       "version_major": 2,
       "version_minor": 0,
       "model_id": "d44135cc9d514b28bce884ec3da7d371"
      }
     },
     "metadata": {},
     "output_type": "display_data"
    },
    {
     "data": {
      "text/plain": [
       "  0%|          | 0/50 [00:00<?, ?it/s]"
      ],
      "application/vnd.jupyter.widget-view+json": {
       "version_major": 2,
       "version_minor": 0,
       "model_id": "87cecac24c344a2e8f1f9e4d25da8487"
      }
     },
     "metadata": {},
     "output_type": "display_data"
    },
    {
     "data": {
      "text/plain": [
       "  0%|          | 0/50 [00:00<?, ?it/s]"
      ],
      "application/vnd.jupyter.widget-view+json": {
       "version_major": 2,
       "version_minor": 0,
       "model_id": "87094b89819c4b309d7db76b1ffd2685"
      }
     },
     "metadata": {},
     "output_type": "display_data"
    },
    {
     "data": {
      "text/plain": [
       "  0%|          | 0/50 [00:00<?, ?it/s]"
      ],
      "application/vnd.jupyter.widget-view+json": {
       "version_major": 2,
       "version_minor": 0,
       "model_id": "647b4e07809c4a1597fd6ccb0b8dee65"
      }
     },
     "metadata": {},
     "output_type": "display_data"
    },
    {
     "data": {
      "text/plain": [
       "  0%|          | 0/50 [00:00<?, ?it/s]"
      ],
      "application/vnd.jupyter.widget-view+json": {
       "version_major": 2,
       "version_minor": 0,
       "model_id": "c779fcccff9c47c0946f7a4469f16f62"
      }
     },
     "metadata": {},
     "output_type": "display_data"
    },
    {
     "data": {
      "text/plain": [
       "  0%|          | 0/50 [00:00<?, ?it/s]"
      ],
      "application/vnd.jupyter.widget-view+json": {
       "version_major": 2,
       "version_minor": 0,
       "model_id": "05b5d86d722f47f9b2a38c61b93b08ba"
      }
     },
     "metadata": {},
     "output_type": "display_data"
    },
    {
     "data": {
      "text/plain": [
       "  0%|          | 0/50 [00:00<?, ?it/s]"
      ],
      "application/vnd.jupyter.widget-view+json": {
       "version_major": 2,
       "version_minor": 0,
       "model_id": "01421e59d59b48a6b81b68724aecd590"
      }
     },
     "metadata": {},
     "output_type": "display_data"
    },
    {
     "data": {
      "text/plain": [
       "  0%|          | 0/50 [00:00<?, ?it/s]"
      ],
      "application/vnd.jupyter.widget-view+json": {
       "version_major": 2,
       "version_minor": 0,
       "model_id": "a1771dfb7d894de29ab5556f44cc9d73"
      }
     },
     "metadata": {},
     "output_type": "display_data"
    },
    {
     "data": {
      "text/plain": [
       "  0%|          | 0/50 [00:00<?, ?it/s]"
      ],
      "application/vnd.jupyter.widget-view+json": {
       "version_major": 2,
       "version_minor": 0,
       "model_id": "f9d3c824284c4bbf8397e405e4946ae1"
      }
     },
     "metadata": {},
     "output_type": "display_data"
    },
    {
     "data": {
      "text/plain": [
       "  0%|          | 0/50 [00:00<?, ?it/s]"
      ],
      "application/vnd.jupyter.widget-view+json": {
       "version_major": 2,
       "version_minor": 0,
       "model_id": "94d2e2a147cd438293d275cc7ddf9b07"
      }
     },
     "metadata": {},
     "output_type": "display_data"
    },
    {
     "data": {
      "text/plain": [
       "  0%|          | 0/50 [00:00<?, ?it/s]"
      ],
      "application/vnd.jupyter.widget-view+json": {
       "version_major": 2,
       "version_minor": 0,
       "model_id": "9d176c4505b0435cafbb28eac8b8218b"
      }
     },
     "metadata": {},
     "output_type": "display_data"
    },
    {
     "data": {
      "text/plain": [
       "  0%|          | 0/50 [00:00<?, ?it/s]"
      ],
      "application/vnd.jupyter.widget-view+json": {
       "version_major": 2,
       "version_minor": 0,
       "model_id": "9065576e56c24e1e8d9dd13bd63ced30"
      }
     },
     "metadata": {},
     "output_type": "display_data"
    },
    {
     "data": {
      "text/plain": [
       "  0%|          | 0/50 [00:00<?, ?it/s]"
      ],
      "application/vnd.jupyter.widget-view+json": {
       "version_major": 2,
       "version_minor": 0,
       "model_id": "5f47bca11f234ee4be66d08b93811043"
      }
     },
     "metadata": {},
     "output_type": "display_data"
    },
    {
     "data": {
      "text/plain": [
       "  0%|          | 0/50 [00:00<?, ?it/s]"
      ],
      "application/vnd.jupyter.widget-view+json": {
       "version_major": 2,
       "version_minor": 0,
       "model_id": "0ff5097df19e4a07b004ded0b2d49bd4"
      }
     },
     "metadata": {},
     "output_type": "display_data"
    },
    {
     "data": {
      "text/plain": [
       "  0%|          | 0/50 [00:00<?, ?it/s]"
      ],
      "application/vnd.jupyter.widget-view+json": {
       "version_major": 2,
       "version_minor": 0,
       "model_id": "1fa8eecf68bc43319a018babbc16c8f8"
      }
     },
     "metadata": {},
     "output_type": "display_data"
    },
    {
     "data": {
      "text/plain": [
       "  0%|          | 0/50 [00:00<?, ?it/s]"
      ],
      "application/vnd.jupyter.widget-view+json": {
       "version_major": 2,
       "version_minor": 0,
       "model_id": "4879c28de01940419b8ee2e1bfd0736b"
      }
     },
     "metadata": {},
     "output_type": "display_data"
    },
    {
     "data": {
      "text/plain": [
       "  0%|          | 0/50 [00:00<?, ?it/s]"
      ],
      "application/vnd.jupyter.widget-view+json": {
       "version_major": 2,
       "version_minor": 0,
       "model_id": "aed5e4501d484d4f9119bcfdef6ecce9"
      }
     },
     "metadata": {},
     "output_type": "display_data"
    },
    {
     "data": {
      "text/plain": [
       "  0%|          | 0/50 [00:00<?, ?it/s]"
      ],
      "application/vnd.jupyter.widget-view+json": {
       "version_major": 2,
       "version_minor": 0,
       "model_id": "a4e5fe0c9bb84ab7b02d3c2d3c05146a"
      }
     },
     "metadata": {},
     "output_type": "display_data"
    },
    {
     "data": {
      "text/plain": [
       "  0%|          | 0/50 [00:00<?, ?it/s]"
      ],
      "application/vnd.jupyter.widget-view+json": {
       "version_major": 2,
       "version_minor": 0,
       "model_id": "3bd185bf61d240b2a0d18f19cd5f2139"
      }
     },
     "metadata": {},
     "output_type": "display_data"
    },
    {
     "data": {
      "text/plain": [
       "  0%|          | 0/50 [00:00<?, ?it/s]"
      ],
      "application/vnd.jupyter.widget-view+json": {
       "version_major": 2,
       "version_minor": 0,
       "model_id": "6dd8f7a213084184907bf136c9ae9c52"
      }
     },
     "metadata": {},
     "output_type": "display_data"
    },
    {
     "data": {
      "text/plain": [
       "  0%|          | 0/50 [00:00<?, ?it/s]"
      ],
      "application/vnd.jupyter.widget-view+json": {
       "version_major": 2,
       "version_minor": 0,
       "model_id": "4c6b9fd5a9784207807bddac314929bf"
      }
     },
     "metadata": {},
     "output_type": "display_data"
    },
    {
     "data": {
      "text/plain": [
       "  0%|          | 0/50 [00:00<?, ?it/s]"
      ],
      "application/vnd.jupyter.widget-view+json": {
       "version_major": 2,
       "version_minor": 0,
       "model_id": "fd3453712a684a8c9f5d3848280973c9"
      }
     },
     "metadata": {},
     "output_type": "display_data"
    },
    {
     "data": {
      "text/plain": [
       "  0%|          | 0/50 [00:00<?, ?it/s]"
      ],
      "application/vnd.jupyter.widget-view+json": {
       "version_major": 2,
       "version_minor": 0,
       "model_id": "33e5badfcde342a6a614c439dd235f6e"
      }
     },
     "metadata": {},
     "output_type": "display_data"
    },
    {
     "data": {
      "text/plain": [
       "  0%|          | 0/50 [00:00<?, ?it/s]"
      ],
      "application/vnd.jupyter.widget-view+json": {
       "version_major": 2,
       "version_minor": 0,
       "model_id": "3465260c42a8454491ae4a39c19cb972"
      }
     },
     "metadata": {},
     "output_type": "display_data"
    },
    {
     "data": {
      "text/plain": [
       "  0%|          | 0/50 [00:00<?, ?it/s]"
      ],
      "application/vnd.jupyter.widget-view+json": {
       "version_major": 2,
       "version_minor": 0,
       "model_id": "09ff2e926ae746aab1fc4fc210c0fbf9"
      }
     },
     "metadata": {},
     "output_type": "display_data"
    },
    {
     "data": {
      "text/plain": [
       "  0%|          | 0/50 [00:00<?, ?it/s]"
      ],
      "application/vnd.jupyter.widget-view+json": {
       "version_major": 2,
       "version_minor": 0,
       "model_id": "36cdc925c57d4ba080d93b36259ac07d"
      }
     },
     "metadata": {},
     "output_type": "display_data"
    },
    {
     "data": {
      "text/plain": [
       "  0%|          | 0/50 [00:00<?, ?it/s]"
      ],
      "application/vnd.jupyter.widget-view+json": {
       "version_major": 2,
       "version_minor": 0,
       "model_id": "aa887e3a5b064adcb002663873978525"
      }
     },
     "metadata": {},
     "output_type": "display_data"
    },
    {
     "data": {
      "text/plain": [
       "  0%|          | 0/50 [00:00<?, ?it/s]"
      ],
      "application/vnd.jupyter.widget-view+json": {
       "version_major": 2,
       "version_minor": 0,
       "model_id": "e6a1a1b995af4f019b79dcb5457dc506"
      }
     },
     "metadata": {},
     "output_type": "display_data"
    },
    {
     "data": {
      "text/plain": [
       "  0%|          | 0/50 [00:00<?, ?it/s]"
      ],
      "application/vnd.jupyter.widget-view+json": {
       "version_major": 2,
       "version_minor": 0,
       "model_id": "0d1211d5c51c43e1943d4db324b76185"
      }
     },
     "metadata": {},
     "output_type": "display_data"
    },
    {
     "data": {
      "text/plain": [
       "  0%|          | 0/50 [00:00<?, ?it/s]"
      ],
      "application/vnd.jupyter.widget-view+json": {
       "version_major": 2,
       "version_minor": 0,
       "model_id": "42c2f6e1b53e46e096e82067235c4966"
      }
     },
     "metadata": {},
     "output_type": "display_data"
    },
    {
     "data": {
      "text/plain": [
       "  0%|          | 0/50 [00:00<?, ?it/s]"
      ],
      "application/vnd.jupyter.widget-view+json": {
       "version_major": 2,
       "version_minor": 0,
       "model_id": "4fa33e6ebcd3406ab1c7666ac6897fff"
      }
     },
     "metadata": {},
     "output_type": "display_data"
    },
    {
     "data": {
      "text/plain": [
       "  0%|          | 0/50 [00:00<?, ?it/s]"
      ],
      "application/vnd.jupyter.widget-view+json": {
       "version_major": 2,
       "version_minor": 0,
       "model_id": "e55a382d043748debbf10dd28beaf6cc"
      }
     },
     "metadata": {},
     "output_type": "display_data"
    },
    {
     "data": {
      "text/plain": [
       "  0%|          | 0/50 [00:00<?, ?it/s]"
      ],
      "application/vnd.jupyter.widget-view+json": {
       "version_major": 2,
       "version_minor": 0,
       "model_id": "f83c88dea4c44c83841e515ba96f0fac"
      }
     },
     "metadata": {},
     "output_type": "display_data"
    },
    {
     "data": {
      "text/plain": [
       "  0%|          | 0/50 [00:00<?, ?it/s]"
      ],
      "application/vnd.jupyter.widget-view+json": {
       "version_major": 2,
       "version_minor": 0,
       "model_id": "771b95b41d414d24881c333118208134"
      }
     },
     "metadata": {},
     "output_type": "display_data"
    },
    {
     "data": {
      "text/plain": [
       "  0%|          | 0/50 [00:00<?, ?it/s]"
      ],
      "application/vnd.jupyter.widget-view+json": {
       "version_major": 2,
       "version_minor": 0,
       "model_id": "43e332f0c9c84a12b37207a5dd91efde"
      }
     },
     "metadata": {},
     "output_type": "display_data"
    },
    {
     "data": {
      "text/plain": [
       "  0%|          | 0/50 [00:00<?, ?it/s]"
      ],
      "application/vnd.jupyter.widget-view+json": {
       "version_major": 2,
       "version_minor": 0,
       "model_id": "73950a904e934f0a8a2b8ec6ad26bb6d"
      }
     },
     "metadata": {},
     "output_type": "display_data"
    },
    {
     "data": {
      "text/plain": [
       "  0%|          | 0/50 [00:00<?, ?it/s]"
      ],
      "application/vnd.jupyter.widget-view+json": {
       "version_major": 2,
       "version_minor": 0,
       "model_id": "dae54ebe885e42aaa8593ce288deb300"
      }
     },
     "metadata": {},
     "output_type": "display_data"
    },
    {
     "data": {
      "text/plain": [
       "  0%|          | 0/50 [00:00<?, ?it/s]"
      ],
      "application/vnd.jupyter.widget-view+json": {
       "version_major": 2,
       "version_minor": 0,
       "model_id": "f585803977bb40979ded55c21d96cd56"
      }
     },
     "metadata": {},
     "output_type": "display_data"
    },
    {
     "data": {
      "text/plain": [
       "  0%|          | 0/50 [00:00<?, ?it/s]"
      ],
      "application/vnd.jupyter.widget-view+json": {
       "version_major": 2,
       "version_minor": 0,
       "model_id": "dd5cb607054247748015b59aefd6563d"
      }
     },
     "metadata": {},
     "output_type": "display_data"
    },
    {
     "data": {
      "text/plain": [
       "  0%|          | 0/50 [00:00<?, ?it/s]"
      ],
      "application/vnd.jupyter.widget-view+json": {
       "version_major": 2,
       "version_minor": 0,
       "model_id": "15af0d488aec447d848821bd25158a8a"
      }
     },
     "metadata": {},
     "output_type": "display_data"
    },
    {
     "data": {
      "text/plain": [
       "  0%|          | 0/50 [00:00<?, ?it/s]"
      ],
      "application/vnd.jupyter.widget-view+json": {
       "version_major": 2,
       "version_minor": 0,
       "model_id": "ffbbdf6072654804a50b1fe89369eda6"
      }
     },
     "metadata": {},
     "output_type": "display_data"
    },
    {
     "data": {
      "text/plain": [
       "  0%|          | 0/50 [00:00<?, ?it/s]"
      ],
      "application/vnd.jupyter.widget-view+json": {
       "version_major": 2,
       "version_minor": 0,
       "model_id": "40d9ce6c558a4fe0bcfc083f4ffba2b2"
      }
     },
     "metadata": {},
     "output_type": "display_data"
    },
    {
     "data": {
      "text/plain": [
       "  0%|          | 0/50 [00:00<?, ?it/s]"
      ],
      "application/vnd.jupyter.widget-view+json": {
       "version_major": 2,
       "version_minor": 0,
       "model_id": "9145198c082349ceaf65ca9b6c1f2e37"
      }
     },
     "metadata": {},
     "output_type": "display_data"
    },
    {
     "data": {
      "text/plain": [
       "  0%|          | 0/50 [00:00<?, ?it/s]"
      ],
      "application/vnd.jupyter.widget-view+json": {
       "version_major": 2,
       "version_minor": 0,
       "model_id": "143887adda4d4f7bbf4b69063f109d98"
      }
     },
     "metadata": {},
     "output_type": "display_data"
    },
    {
     "data": {
      "text/plain": [
       "  0%|          | 0/50 [00:00<?, ?it/s]"
      ],
      "application/vnd.jupyter.widget-view+json": {
       "version_major": 2,
       "version_minor": 0,
       "model_id": "cb734836e18c4b6c96f6e72c5d6624cd"
      }
     },
     "metadata": {},
     "output_type": "display_data"
    },
    {
     "data": {
      "text/plain": [
       "  0%|          | 0/50 [00:00<?, ?it/s]"
      ],
      "application/vnd.jupyter.widget-view+json": {
       "version_major": 2,
       "version_minor": 0,
       "model_id": "4909edd73ccf47aea97ac395ffdc71c9"
      }
     },
     "metadata": {},
     "output_type": "display_data"
    },
    {
     "data": {
      "text/plain": [
       "  0%|          | 0/50 [00:00<?, ?it/s]"
      ],
      "application/vnd.jupyter.widget-view+json": {
       "version_major": 2,
       "version_minor": 0,
       "model_id": "9e0447e69938416b823b4f03e49f0136"
      }
     },
     "metadata": {},
     "output_type": "display_data"
    },
    {
     "data": {
      "text/plain": [
       "  0%|          | 0/50 [00:00<?, ?it/s]"
      ],
      "application/vnd.jupyter.widget-view+json": {
       "version_major": 2,
       "version_minor": 0,
       "model_id": "15de96171ab746b3a1a09fe12f30b596"
      }
     },
     "metadata": {},
     "output_type": "display_data"
    },
    {
     "data": {
      "text/plain": [
       "  0%|          | 0/50 [00:00<?, ?it/s]"
      ],
      "application/vnd.jupyter.widget-view+json": {
       "version_major": 2,
       "version_minor": 0,
       "model_id": "411460c4ac5045be9c9278b17ce9fae6"
      }
     },
     "metadata": {},
     "output_type": "display_data"
    },
    {
     "data": {
      "text/plain": [
       "  0%|          | 0/50 [00:00<?, ?it/s]"
      ],
      "application/vnd.jupyter.widget-view+json": {
       "version_major": 2,
       "version_minor": 0,
       "model_id": "dd89f9f30777491c839bc0b3c4610c0a"
      }
     },
     "metadata": {},
     "output_type": "display_data"
    },
    {
     "data": {
      "text/plain": [
       "  0%|          | 0/50 [00:00<?, ?it/s]"
      ],
      "application/vnd.jupyter.widget-view+json": {
       "version_major": 2,
       "version_minor": 0,
       "model_id": "0a3b563bbf4e4830bc1032a71ad34db7"
      }
     },
     "metadata": {},
     "output_type": "display_data"
    },
    {
     "data": {
      "text/plain": [
       "  0%|          | 0/50 [00:00<?, ?it/s]"
      ],
      "application/vnd.jupyter.widget-view+json": {
       "version_major": 2,
       "version_minor": 0,
       "model_id": "6ed64785423d46e19a8f7cf3390ead6d"
      }
     },
     "metadata": {},
     "output_type": "display_data"
    },
    {
     "data": {
      "text/plain": [
       "  0%|          | 0/50 [00:00<?, ?it/s]"
      ],
      "application/vnd.jupyter.widget-view+json": {
       "version_major": 2,
       "version_minor": 0,
       "model_id": "e8a952afea0e42b9a8bab054dc6152b9"
      }
     },
     "metadata": {},
     "output_type": "display_data"
    },
    {
     "data": {
      "text/plain": [
       "  0%|          | 0/50 [00:00<?, ?it/s]"
      ],
      "application/vnd.jupyter.widget-view+json": {
       "version_major": 2,
       "version_minor": 0,
       "model_id": "b44a0dd4f989468a84d0dad0b17e6f54"
      }
     },
     "metadata": {},
     "output_type": "display_data"
    },
    {
     "data": {
      "text/plain": [
       "  0%|          | 0/50 [00:00<?, ?it/s]"
      ],
      "application/vnd.jupyter.widget-view+json": {
       "version_major": 2,
       "version_minor": 0,
       "model_id": "2617a4657c6f4a42b8d3db8d669d95c7"
      }
     },
     "metadata": {},
     "output_type": "display_data"
    },
    {
     "data": {
      "text/plain": [
       "  0%|          | 0/50 [00:00<?, ?it/s]"
      ],
      "application/vnd.jupyter.widget-view+json": {
       "version_major": 2,
       "version_minor": 0,
       "model_id": "971f0dccbe5c440998f256e851611d68"
      }
     },
     "metadata": {},
     "output_type": "display_data"
    },
    {
     "data": {
      "text/plain": [
       "  0%|          | 0/50 [00:00<?, ?it/s]"
      ],
      "application/vnd.jupyter.widget-view+json": {
       "version_major": 2,
       "version_minor": 0,
       "model_id": "10d493b7089049948b62ffe2f5a0eecc"
      }
     },
     "metadata": {},
     "output_type": "display_data"
    },
    {
     "data": {
      "text/plain": [
       "  0%|          | 0/50 [00:00<?, ?it/s]"
      ],
      "application/vnd.jupyter.widget-view+json": {
       "version_major": 2,
       "version_minor": 0,
       "model_id": "bc509c6f75fb4ba5988e3180991a8e71"
      }
     },
     "metadata": {},
     "output_type": "display_data"
    },
    {
     "data": {
      "text/plain": [
       "  0%|          | 0/50 [00:00<?, ?it/s]"
      ],
      "application/vnd.jupyter.widget-view+json": {
       "version_major": 2,
       "version_minor": 0,
       "model_id": "0292ca8e88b341f6b3b869e18e2ddce0"
      }
     },
     "metadata": {},
     "output_type": "display_data"
    },
    {
     "data": {
      "text/plain": [
       "  0%|          | 0/50 [00:00<?, ?it/s]"
      ],
      "application/vnd.jupyter.widget-view+json": {
       "version_major": 2,
       "version_minor": 0,
       "model_id": "ad31526f7c0a417b93d389617432cf65"
      }
     },
     "metadata": {},
     "output_type": "display_data"
    },
    {
     "data": {
      "text/plain": [
       "  0%|          | 0/50 [00:00<?, ?it/s]"
      ],
      "application/vnd.jupyter.widget-view+json": {
       "version_major": 2,
       "version_minor": 0,
       "model_id": "2cb3d674fdc94e7290a50931ea7eb764"
      }
     },
     "metadata": {},
     "output_type": "display_data"
    },
    {
     "data": {
      "text/plain": [
       "  0%|          | 0/50 [00:00<?, ?it/s]"
      ],
      "application/vnd.jupyter.widget-view+json": {
       "version_major": 2,
       "version_minor": 0,
       "model_id": "cd80656f44c147a2aac76dda478e0541"
      }
     },
     "metadata": {},
     "output_type": "display_data"
    },
    {
     "data": {
      "text/plain": [
       "  0%|          | 0/50 [00:00<?, ?it/s]"
      ],
      "application/vnd.jupyter.widget-view+json": {
       "version_major": 2,
       "version_minor": 0,
       "model_id": "f56e91313a2b40638e3cc838e93e385a"
      }
     },
     "metadata": {},
     "output_type": "display_data"
    },
    {
     "data": {
      "text/plain": [
       "  0%|          | 0/50 [00:00<?, ?it/s]"
      ],
      "application/vnd.jupyter.widget-view+json": {
       "version_major": 2,
       "version_minor": 0,
       "model_id": "b0b5948addf9482393d25ed5ecf2b77a"
      }
     },
     "metadata": {},
     "output_type": "display_data"
    },
    {
     "data": {
      "text/plain": [
       "  0%|          | 0/50 [00:00<?, ?it/s]"
      ],
      "application/vnd.jupyter.widget-view+json": {
       "version_major": 2,
       "version_minor": 0,
       "model_id": "445ec79b76634acca22406c931d57426"
      }
     },
     "metadata": {},
     "output_type": "display_data"
    },
    {
     "data": {
      "text/plain": [
       "  0%|          | 0/50 [00:00<?, ?it/s]"
      ],
      "application/vnd.jupyter.widget-view+json": {
       "version_major": 2,
       "version_minor": 0,
       "model_id": "b48fa87e713e424c8cea76c3712d505e"
      }
     },
     "metadata": {},
     "output_type": "display_data"
    },
    {
     "data": {
      "text/plain": [
       "  0%|          | 0/50 [00:00<?, ?it/s]"
      ],
      "application/vnd.jupyter.widget-view+json": {
       "version_major": 2,
       "version_minor": 0,
       "model_id": "ff1936002978481d83fc9bb62c97a7c7"
      }
     },
     "metadata": {},
     "output_type": "display_data"
    },
    {
     "data": {
      "text/plain": [
       "  0%|          | 0/50 [00:00<?, ?it/s]"
      ],
      "application/vnd.jupyter.widget-view+json": {
       "version_major": 2,
       "version_minor": 0,
       "model_id": "d836acfa4e504645980131f1a256eb43"
      }
     },
     "metadata": {},
     "output_type": "display_data"
    },
    {
     "data": {
      "text/plain": [
       "  0%|          | 0/50 [00:00<?, ?it/s]"
      ],
      "application/vnd.jupyter.widget-view+json": {
       "version_major": 2,
       "version_minor": 0,
       "model_id": "2bdc2210a943466da784c91f053b2966"
      }
     },
     "metadata": {},
     "output_type": "display_data"
    },
    {
     "data": {
      "text/plain": [
       "  0%|          | 0/50 [00:00<?, ?it/s]"
      ],
      "application/vnd.jupyter.widget-view+json": {
       "version_major": 2,
       "version_minor": 0,
       "model_id": "20cbc29aa575472c8dc62d0f776f0084"
      }
     },
     "metadata": {},
     "output_type": "display_data"
    },
    {
     "data": {
      "text/plain": [
       "  0%|          | 0/50 [00:00<?, ?it/s]"
      ],
      "application/vnd.jupyter.widget-view+json": {
       "version_major": 2,
       "version_minor": 0,
       "model_id": "72b29b0a8e4b4921964e0e17a3c2d222"
      }
     },
     "metadata": {},
     "output_type": "display_data"
    },
    {
     "data": {
      "text/plain": [
       "  0%|          | 0/50 [00:00<?, ?it/s]"
      ],
      "application/vnd.jupyter.widget-view+json": {
       "version_major": 2,
       "version_minor": 0,
       "model_id": "b8e468a273ea4f1f914560f6ebbdb3f2"
      }
     },
     "metadata": {},
     "output_type": "display_data"
    },
    {
     "data": {
      "text/plain": [
       "  0%|          | 0/50 [00:00<?, ?it/s]"
      ],
      "application/vnd.jupyter.widget-view+json": {
       "version_major": 2,
       "version_minor": 0,
       "model_id": "dcb28f45635a4ef48c625ac1728e28eb"
      }
     },
     "metadata": {},
     "output_type": "display_data"
    },
    {
     "data": {
      "text/plain": [
       "  0%|          | 0/50 [00:00<?, ?it/s]"
      ],
      "application/vnd.jupyter.widget-view+json": {
       "version_major": 2,
       "version_minor": 0,
       "model_id": "2905a24c08f04d2ea33e22de3f2bd2f8"
      }
     },
     "metadata": {},
     "output_type": "display_data"
    },
    {
     "data": {
      "text/plain": [
       "  0%|          | 0/50 [00:00<?, ?it/s]"
      ],
      "application/vnd.jupyter.widget-view+json": {
       "version_major": 2,
       "version_minor": 0,
       "model_id": "ec7b2efa8daa4a6493a878d8e234b1f1"
      }
     },
     "metadata": {},
     "output_type": "display_data"
    },
    {
     "data": {
      "text/plain": [
       "  0%|          | 0/50 [00:00<?, ?it/s]"
      ],
      "application/vnd.jupyter.widget-view+json": {
       "version_major": 2,
       "version_minor": 0,
       "model_id": "50ad385d671e478984037c977561eb71"
      }
     },
     "metadata": {},
     "output_type": "display_data"
    },
    {
     "data": {
      "text/plain": [
       "  0%|          | 0/50 [00:00<?, ?it/s]"
      ],
      "application/vnd.jupyter.widget-view+json": {
       "version_major": 2,
       "version_minor": 0,
       "model_id": "3c9071c28fca447881d52201eb919582"
      }
     },
     "metadata": {},
     "output_type": "display_data"
    },
    {
     "data": {
      "text/plain": [
       "  0%|          | 0/50 [00:00<?, ?it/s]"
      ],
      "application/vnd.jupyter.widget-view+json": {
       "version_major": 2,
       "version_minor": 0,
       "model_id": "5ec1e159637a471b9bfb7ffe78e1b852"
      }
     },
     "metadata": {},
     "output_type": "display_data"
    },
    {
     "data": {
      "text/plain": [
       "  0%|          | 0/50 [00:00<?, ?it/s]"
      ],
      "application/vnd.jupyter.widget-view+json": {
       "version_major": 2,
       "version_minor": 0,
       "model_id": "8357e66bb3d641de8a8095578f13c809"
      }
     },
     "metadata": {},
     "output_type": "display_data"
    },
    {
     "data": {
      "text/plain": [
       "  0%|          | 0/50 [00:00<?, ?it/s]"
      ],
      "application/vnd.jupyter.widget-view+json": {
       "version_major": 2,
       "version_minor": 0,
       "model_id": "365c70845b064c4ebfc19b83e59d4555"
      }
     },
     "metadata": {},
     "output_type": "display_data"
    },
    {
     "data": {
      "text/plain": [
       "  0%|          | 0/50 [00:00<?, ?it/s]"
      ],
      "application/vnd.jupyter.widget-view+json": {
       "version_major": 2,
       "version_minor": 0,
       "model_id": "f54cab4e17764a9fb69e5b7535da324a"
      }
     },
     "metadata": {},
     "output_type": "display_data"
    },
    {
     "data": {
      "text/plain": [
       "  0%|          | 0/50 [00:00<?, ?it/s]"
      ],
      "application/vnd.jupyter.widget-view+json": {
       "version_major": 2,
       "version_minor": 0,
       "model_id": "6a0ee6cefb714b9f8d4296c802087f43"
      }
     },
     "metadata": {},
     "output_type": "display_data"
    },
    {
     "data": {
      "text/plain": [
       "  0%|          | 0/50 [00:00<?, ?it/s]"
      ],
      "application/vnd.jupyter.widget-view+json": {
       "version_major": 2,
       "version_minor": 0,
       "model_id": "9e565a6ff4e04ab89a94f857e457ab81"
      }
     },
     "metadata": {},
     "output_type": "display_data"
    },
    {
     "data": {
      "text/plain": [
       "  0%|          | 0/50 [00:00<?, ?it/s]"
      ],
      "application/vnd.jupyter.widget-view+json": {
       "version_major": 2,
       "version_minor": 0,
       "model_id": "7c0e09dc7d0f4f8ab1128a3c1ccfb334"
      }
     },
     "metadata": {},
     "output_type": "display_data"
    },
    {
     "data": {
      "text/plain": [
       "  0%|          | 0/50 [00:00<?, ?it/s]"
      ],
      "application/vnd.jupyter.widget-view+json": {
       "version_major": 2,
       "version_minor": 0,
       "model_id": "7c8f5207919f437594965b8331d7b38d"
      }
     },
     "metadata": {},
     "output_type": "display_data"
    },
    {
     "data": {
      "text/plain": [
       "  0%|          | 0/50 [00:00<?, ?it/s]"
      ],
      "application/vnd.jupyter.widget-view+json": {
       "version_major": 2,
       "version_minor": 0,
       "model_id": "b69a1eb25fdf4db39cb09dbbdf4c9901"
      }
     },
     "metadata": {},
     "output_type": "display_data"
    },
    {
     "data": {
      "text/plain": [
       "  0%|          | 0/50 [00:00<?, ?it/s]"
      ],
      "application/vnd.jupyter.widget-view+json": {
       "version_major": 2,
       "version_minor": 0,
       "model_id": "db992ba7a82044f299dc9bda7b18863e"
      }
     },
     "metadata": {},
     "output_type": "display_data"
    },
    {
     "data": {
      "text/plain": [
       "  0%|          | 0/50 [00:00<?, ?it/s]"
      ],
      "application/vnd.jupyter.widget-view+json": {
       "version_major": 2,
       "version_minor": 0,
       "model_id": "93e2778389894ec8aa947ef0cdf7715b"
      }
     },
     "metadata": {},
     "output_type": "display_data"
    },
    {
     "data": {
      "text/plain": [
       "  0%|          | 0/50 [00:00<?, ?it/s]"
      ],
      "application/vnd.jupyter.widget-view+json": {
       "version_major": 2,
       "version_minor": 0,
       "model_id": "3495fb5d9de24b0f851d08a2e6619e5c"
      }
     },
     "metadata": {},
     "output_type": "display_data"
    },
    {
     "data": {
      "text/plain": [
       "  0%|          | 0/50 [00:00<?, ?it/s]"
      ],
      "application/vnd.jupyter.widget-view+json": {
       "version_major": 2,
       "version_minor": 0,
       "model_id": "47c8db31227c4eb9b15e65d229043a95"
      }
     },
     "metadata": {},
     "output_type": "display_data"
    },
    {
     "data": {
      "text/plain": [
       "  0%|          | 0/50 [00:00<?, ?it/s]"
      ],
      "application/vnd.jupyter.widget-view+json": {
       "version_major": 2,
       "version_minor": 0,
       "model_id": "0cedc01bb18b4f3789f8ae4ae967e721"
      }
     },
     "metadata": {},
     "output_type": "display_data"
    },
    {
     "data": {
      "text/plain": [
       "  0%|          | 0/50 [00:00<?, ?it/s]"
      ],
      "application/vnd.jupyter.widget-view+json": {
       "version_major": 2,
       "version_minor": 0,
       "model_id": "084a0355c27d405590c214ada8d466e2"
      }
     },
     "metadata": {},
     "output_type": "display_data"
    },
    {
     "data": {
      "text/plain": [
       "  0%|          | 0/50 [00:00<?, ?it/s]"
      ],
      "application/vnd.jupyter.widget-view+json": {
       "version_major": 2,
       "version_minor": 0,
       "model_id": "0f9a1f396fd848c3bcd5d242c81f485b"
      }
     },
     "metadata": {},
     "output_type": "display_data"
    },
    {
     "data": {
      "text/plain": [
       "  0%|          | 0/50 [00:00<?, ?it/s]"
      ],
      "application/vnd.jupyter.widget-view+json": {
       "version_major": 2,
       "version_minor": 0,
       "model_id": "0bbf057a88ae405db6b8c6c559856373"
      }
     },
     "metadata": {},
     "output_type": "display_data"
    },
    {
     "data": {
      "text/plain": [
       "  0%|          | 0/50 [00:00<?, ?it/s]"
      ],
      "application/vnd.jupyter.widget-view+json": {
       "version_major": 2,
       "version_minor": 0,
       "model_id": "74e7894ba1ce4a5e8bf5d72ced0b6cff"
      }
     },
     "metadata": {},
     "output_type": "display_data"
    },
    {
     "data": {
      "text/plain": [
       "  0%|          | 0/50 [00:00<?, ?it/s]"
      ],
      "application/vnd.jupyter.widget-view+json": {
       "version_major": 2,
       "version_minor": 0,
       "model_id": "f794b532588f454a910c62c72e1b60ee"
      }
     },
     "metadata": {},
     "output_type": "display_data"
    },
    {
     "data": {
      "text/plain": [
       "  0%|          | 0/50 [00:00<?, ?it/s]"
      ],
      "application/vnd.jupyter.widget-view+json": {
       "version_major": 2,
       "version_minor": 0,
       "model_id": "0170564afd344ede9313c60fd9974618"
      }
     },
     "metadata": {},
     "output_type": "display_data"
    },
    {
     "data": {
      "text/plain": [
       "  0%|          | 0/50 [00:00<?, ?it/s]"
      ],
      "application/vnd.jupyter.widget-view+json": {
       "version_major": 2,
       "version_minor": 0,
       "model_id": "75e48143dc2640b59ff6bf9b96adfc0d"
      }
     },
     "metadata": {},
     "output_type": "display_data"
    },
    {
     "data": {
      "text/plain": [
       "  0%|          | 0/50 [00:00<?, ?it/s]"
      ],
      "application/vnd.jupyter.widget-view+json": {
       "version_major": 2,
       "version_minor": 0,
       "model_id": "7fbf40399c87403995be64c698b2e7ed"
      }
     },
     "metadata": {},
     "output_type": "display_data"
    },
    {
     "data": {
      "text/plain": [
       "  0%|          | 0/50 [00:00<?, ?it/s]"
      ],
      "application/vnd.jupyter.widget-view+json": {
       "version_major": 2,
       "version_minor": 0,
       "model_id": "15ba1245ddeb48b0893c6111db40e1fc"
      }
     },
     "metadata": {},
     "output_type": "display_data"
    },
    {
     "data": {
      "text/plain": [
       "  0%|          | 0/50 [00:00<?, ?it/s]"
      ],
      "application/vnd.jupyter.widget-view+json": {
       "version_major": 2,
       "version_minor": 0,
       "model_id": "70efeb4f855b44e9a4cb4593a55e0a57"
      }
     },
     "metadata": {},
     "output_type": "display_data"
    },
    {
     "data": {
      "text/plain": [
       "  0%|          | 0/50 [00:00<?, ?it/s]"
      ],
      "application/vnd.jupyter.widget-view+json": {
       "version_major": 2,
       "version_minor": 0,
       "model_id": "8fda42e98a4b4759b8c2db88a7d22304"
      }
     },
     "metadata": {},
     "output_type": "display_data"
    },
    {
     "data": {
      "text/plain": [
       "  0%|          | 0/50 [00:00<?, ?it/s]"
      ],
      "application/vnd.jupyter.widget-view+json": {
       "version_major": 2,
       "version_minor": 0,
       "model_id": "7184fd38112b4af8b423d68b372498fb"
      }
     },
     "metadata": {},
     "output_type": "display_data"
    },
    {
     "data": {
      "text/plain": [
       "  0%|          | 0/50 [00:00<?, ?it/s]"
      ],
      "application/vnd.jupyter.widget-view+json": {
       "version_major": 2,
       "version_minor": 0,
       "model_id": "83dc1071be8e4e499586a633974baf94"
      }
     },
     "metadata": {},
     "output_type": "display_data"
    },
    {
     "data": {
      "text/plain": [
       "  0%|          | 0/50 [00:00<?, ?it/s]"
      ],
      "application/vnd.jupyter.widget-view+json": {
       "version_major": 2,
       "version_minor": 0,
       "model_id": "873ea980a178422c8d80e41e57785628"
      }
     },
     "metadata": {},
     "output_type": "display_data"
    },
    {
     "data": {
      "text/plain": [
       "  0%|          | 0/50 [00:00<?, ?it/s]"
      ],
      "application/vnd.jupyter.widget-view+json": {
       "version_major": 2,
       "version_minor": 0,
       "model_id": "3a967baf985644d4840a2a2794b2207a"
      }
     },
     "metadata": {},
     "output_type": "display_data"
    },
    {
     "data": {
      "text/plain": [
       "  0%|          | 0/50 [00:00<?, ?it/s]"
      ],
      "application/vnd.jupyter.widget-view+json": {
       "version_major": 2,
       "version_minor": 0,
       "model_id": "27f30cf183254d0ba7d4545eb561ba10"
      }
     },
     "metadata": {},
     "output_type": "display_data"
    },
    {
     "data": {
      "text/plain": [
       "  0%|          | 0/50 [00:00<?, ?it/s]"
      ],
      "application/vnd.jupyter.widget-view+json": {
       "version_major": 2,
       "version_minor": 0,
       "model_id": "4a4e50b4ed23466196813d5788f85a03"
      }
     },
     "metadata": {},
     "output_type": "display_data"
    },
    {
     "data": {
      "text/plain": [
       "  0%|          | 0/50 [00:00<?, ?it/s]"
      ],
      "application/vnd.jupyter.widget-view+json": {
       "version_major": 2,
       "version_minor": 0,
       "model_id": "33f5dafe3def4f53a3243010a686b7c2"
      }
     },
     "metadata": {},
     "output_type": "display_data"
    },
    {
     "data": {
      "text/plain": [
       "  0%|          | 0/50 [00:00<?, ?it/s]"
      ],
      "application/vnd.jupyter.widget-view+json": {
       "version_major": 2,
       "version_minor": 0,
       "model_id": "43a57647c054429bbe46f332da30d849"
      }
     },
     "metadata": {},
     "output_type": "display_data"
    },
    {
     "data": {
      "text/plain": [
       "  0%|          | 0/50 [00:00<?, ?it/s]"
      ],
      "application/vnd.jupyter.widget-view+json": {
       "version_major": 2,
       "version_minor": 0,
       "model_id": "8664c50b626b4023a724cc569e7aaceb"
      }
     },
     "metadata": {},
     "output_type": "display_data"
    },
    {
     "data": {
      "text/plain": [
       "  0%|          | 0/50 [00:00<?, ?it/s]"
      ],
      "application/vnd.jupyter.widget-view+json": {
       "version_major": 2,
       "version_minor": 0,
       "model_id": "85ceba7f74a848cd9c158b6e45e63370"
      }
     },
     "metadata": {},
     "output_type": "display_data"
    },
    {
     "data": {
      "text/plain": [
       "  0%|          | 0/50 [00:00<?, ?it/s]"
      ],
      "application/vnd.jupyter.widget-view+json": {
       "version_major": 2,
       "version_minor": 0,
       "model_id": "ac1792c50355433c8860d2a0dd3898e0"
      }
     },
     "metadata": {},
     "output_type": "display_data"
    },
    {
     "data": {
      "text/plain": [
       "  0%|          | 0/50 [00:00<?, ?it/s]"
      ],
      "application/vnd.jupyter.widget-view+json": {
       "version_major": 2,
       "version_minor": 0,
       "model_id": "4420d1703eb8431b990532b1acdaec76"
      }
     },
     "metadata": {},
     "output_type": "display_data"
    },
    {
     "data": {
      "text/plain": [
       "  0%|          | 0/50 [00:00<?, ?it/s]"
      ],
      "application/vnd.jupyter.widget-view+json": {
       "version_major": 2,
       "version_minor": 0,
       "model_id": "fee5cddd99954b229b860273c2f73ce1"
      }
     },
     "metadata": {},
     "output_type": "display_data"
    },
    {
     "data": {
      "text/plain": [
       "  0%|          | 0/50 [00:00<?, ?it/s]"
      ],
      "application/vnd.jupyter.widget-view+json": {
       "version_major": 2,
       "version_minor": 0,
       "model_id": "e74fe6165ba14b07bcd17fdee16e758f"
      }
     },
     "metadata": {},
     "output_type": "display_data"
    },
    {
     "data": {
      "text/plain": [
       "  0%|          | 0/50 [00:00<?, ?it/s]"
      ],
      "application/vnd.jupyter.widget-view+json": {
       "version_major": 2,
       "version_minor": 0,
       "model_id": "ffa7304c2ce2413fa06da4e9ba0a632b"
      }
     },
     "metadata": {},
     "output_type": "display_data"
    },
    {
     "data": {
      "text/plain": [
       "  0%|          | 0/50 [00:00<?, ?it/s]"
      ],
      "application/vnd.jupyter.widget-view+json": {
       "version_major": 2,
       "version_minor": 0,
       "model_id": "7120b63da05a4efb8b63f10d6df6b67a"
      }
     },
     "metadata": {},
     "output_type": "display_data"
    },
    {
     "data": {
      "text/plain": [
       "  0%|          | 0/50 [00:00<?, ?it/s]"
      ],
      "application/vnd.jupyter.widget-view+json": {
       "version_major": 2,
       "version_minor": 0,
       "model_id": "553cf3d53e9d4be096c93cc10794ebfc"
      }
     },
     "metadata": {},
     "output_type": "display_data"
    },
    {
     "data": {
      "text/plain": [
       "  0%|          | 0/50 [00:00<?, ?it/s]"
      ],
      "application/vnd.jupyter.widget-view+json": {
       "version_major": 2,
       "version_minor": 0,
       "model_id": "e101996948a846be8d4ff80b23015253"
      }
     },
     "metadata": {},
     "output_type": "display_data"
    },
    {
     "data": {
      "text/plain": [
       "  0%|          | 0/50 [00:00<?, ?it/s]"
      ],
      "application/vnd.jupyter.widget-view+json": {
       "version_major": 2,
       "version_minor": 0,
       "model_id": "9fcb9a3d94644860ba9a2371e2dcc7a0"
      }
     },
     "metadata": {},
     "output_type": "display_data"
    },
    {
     "data": {
      "text/plain": [
       "  0%|          | 0/50 [00:00<?, ?it/s]"
      ],
      "application/vnd.jupyter.widget-view+json": {
       "version_major": 2,
       "version_minor": 0,
       "model_id": "01dbe1b098764122b736e471590e4985"
      }
     },
     "metadata": {},
     "output_type": "display_data"
    },
    {
     "data": {
      "text/plain": [
       "  0%|          | 0/50 [00:00<?, ?it/s]"
      ],
      "application/vnd.jupyter.widget-view+json": {
       "version_major": 2,
       "version_minor": 0,
       "model_id": "87e8c3e953a64293a6d79795ffe11af2"
      }
     },
     "metadata": {},
     "output_type": "display_data"
    },
    {
     "data": {
      "text/plain": [
       "  0%|          | 0/50 [00:00<?, ?it/s]"
      ],
      "application/vnd.jupyter.widget-view+json": {
       "version_major": 2,
       "version_minor": 0,
       "model_id": "073c4c7ae7c64b758c7668a2a36e512b"
      }
     },
     "metadata": {},
     "output_type": "display_data"
    },
    {
     "data": {
      "text/plain": [
       "  0%|          | 0/50 [00:00<?, ?it/s]"
      ],
      "application/vnd.jupyter.widget-view+json": {
       "version_major": 2,
       "version_minor": 0,
       "model_id": "37ac96b4b157499ca885139397dd7190"
      }
     },
     "metadata": {},
     "output_type": "display_data"
    },
    {
     "data": {
      "text/plain": [
       "  0%|          | 0/50 [00:00<?, ?it/s]"
      ],
      "application/vnd.jupyter.widget-view+json": {
       "version_major": 2,
       "version_minor": 0,
       "model_id": "ec04ea27f29349759587ea90173908b4"
      }
     },
     "metadata": {},
     "output_type": "display_data"
    },
    {
     "data": {
      "text/plain": [
       "  0%|          | 0/50 [00:00<?, ?it/s]"
      ],
      "application/vnd.jupyter.widget-view+json": {
       "version_major": 2,
       "version_minor": 0,
       "model_id": "904518daa1b04366a5972c46721d8fd0"
      }
     },
     "metadata": {},
     "output_type": "display_data"
    },
    {
     "data": {
      "text/plain": [
       "  0%|          | 0/50 [00:00<?, ?it/s]"
      ],
      "application/vnd.jupyter.widget-view+json": {
       "version_major": 2,
       "version_minor": 0,
       "model_id": "e494765892464528859219fef65eff42"
      }
     },
     "metadata": {},
     "output_type": "display_data"
    },
    {
     "data": {
      "text/plain": [
       "  0%|          | 0/50 [00:00<?, ?it/s]"
      ],
      "application/vnd.jupyter.widget-view+json": {
       "version_major": 2,
       "version_minor": 0,
       "model_id": "9c1bd10341274736b5b691f60dda0f18"
      }
     },
     "metadata": {},
     "output_type": "display_data"
    },
    {
     "data": {
      "text/plain": [
       "  0%|          | 0/50 [00:00<?, ?it/s]"
      ],
      "application/vnd.jupyter.widget-view+json": {
       "version_major": 2,
       "version_minor": 0,
       "model_id": "14aa5283633245c59f21c96e4832ed38"
      }
     },
     "metadata": {},
     "output_type": "display_data"
    },
    {
     "data": {
      "text/plain": [
       "  0%|          | 0/50 [00:00<?, ?it/s]"
      ],
      "application/vnd.jupyter.widget-view+json": {
       "version_major": 2,
       "version_minor": 0,
       "model_id": "8a71d8f84d8648afa5d23a3aebe22156"
      }
     },
     "metadata": {},
     "output_type": "display_data"
    },
    {
     "data": {
      "text/plain": [
       "  0%|          | 0/50 [00:00<?, ?it/s]"
      ],
      "application/vnd.jupyter.widget-view+json": {
       "version_major": 2,
       "version_minor": 0,
       "model_id": "9e9ad28cc00a4b7f85934e0e07919e4c"
      }
     },
     "metadata": {},
     "output_type": "display_data"
    },
    {
     "data": {
      "text/plain": [
       "  0%|          | 0/50 [00:00<?, ?it/s]"
      ],
      "application/vnd.jupyter.widget-view+json": {
       "version_major": 2,
       "version_minor": 0,
       "model_id": "e901589926e945968716d8fc09df211d"
      }
     },
     "metadata": {},
     "output_type": "display_data"
    },
    {
     "data": {
      "text/plain": [
       "  0%|          | 0/50 [00:00<?, ?it/s]"
      ],
      "application/vnd.jupyter.widget-view+json": {
       "version_major": 2,
       "version_minor": 0,
       "model_id": "82cf1640c8544e35a0c2110fb9d5ae82"
      }
     },
     "metadata": {},
     "output_type": "display_data"
    },
    {
     "data": {
      "text/plain": [
       "  0%|          | 0/50 [00:00<?, ?it/s]"
      ],
      "application/vnd.jupyter.widget-view+json": {
       "version_major": 2,
       "version_minor": 0,
       "model_id": "03c7abe3866244be81cc16e7ecca2fad"
      }
     },
     "metadata": {},
     "output_type": "display_data"
    },
    {
     "data": {
      "text/plain": [
       "  0%|          | 0/50 [00:00<?, ?it/s]"
      ],
      "application/vnd.jupyter.widget-view+json": {
       "version_major": 2,
       "version_minor": 0,
       "model_id": "35170b9766474da48e786cc41eacf566"
      }
     },
     "metadata": {},
     "output_type": "display_data"
    },
    {
     "data": {
      "text/plain": [
       "  0%|          | 0/50 [00:00<?, ?it/s]"
      ],
      "application/vnd.jupyter.widget-view+json": {
       "version_major": 2,
       "version_minor": 0,
       "model_id": "98a496a69a3b4a438a19b391f6f648d2"
      }
     },
     "metadata": {},
     "output_type": "display_data"
    },
    {
     "data": {
      "text/plain": [
       "  0%|          | 0/50 [00:00<?, ?it/s]"
      ],
      "application/vnd.jupyter.widget-view+json": {
       "version_major": 2,
       "version_minor": 0,
       "model_id": "d601b6376c0c482e9941861e7eec1cb1"
      }
     },
     "metadata": {},
     "output_type": "display_data"
    },
    {
     "data": {
      "text/plain": [
       "  0%|          | 0/50 [00:00<?, ?it/s]"
      ],
      "application/vnd.jupyter.widget-view+json": {
       "version_major": 2,
       "version_minor": 0,
       "model_id": "ac2b0be9e1ad4e46a6065ce81a7a4e1d"
      }
     },
     "metadata": {},
     "output_type": "display_data"
    },
    {
     "data": {
      "text/plain": [
       "  0%|          | 0/50 [00:00<?, ?it/s]"
      ],
      "application/vnd.jupyter.widget-view+json": {
       "version_major": 2,
       "version_minor": 0,
       "model_id": "42aa65b4d6644c1181bee1f96c506dde"
      }
     },
     "metadata": {},
     "output_type": "display_data"
    },
    {
     "data": {
      "text/plain": [
       "  0%|          | 0/50 [00:00<?, ?it/s]"
      ],
      "application/vnd.jupyter.widget-view+json": {
       "version_major": 2,
       "version_minor": 0,
       "model_id": "135354a487d04150899ca5835bc78604"
      }
     },
     "metadata": {},
     "output_type": "display_data"
    },
    {
     "data": {
      "text/plain": [
       "  0%|          | 0/50 [00:00<?, ?it/s]"
      ],
      "application/vnd.jupyter.widget-view+json": {
       "version_major": 2,
       "version_minor": 0,
       "model_id": "b0ff749b846845b3ba69f1c58e7bb7ec"
      }
     },
     "metadata": {},
     "output_type": "display_data"
    },
    {
     "data": {
      "text/plain": [
       "  0%|          | 0/50 [00:00<?, ?it/s]"
      ],
      "application/vnd.jupyter.widget-view+json": {
       "version_major": 2,
       "version_minor": 0,
       "model_id": "5fe8e58c0b4d457388072300dd94226b"
      }
     },
     "metadata": {},
     "output_type": "display_data"
    },
    {
     "data": {
      "text/plain": [
       "  0%|          | 0/50 [00:00<?, ?it/s]"
      ],
      "application/vnd.jupyter.widget-view+json": {
       "version_major": 2,
       "version_minor": 0,
       "model_id": "535597ee5ced4bb4a36b697504ef4c00"
      }
     },
     "metadata": {},
     "output_type": "display_data"
    },
    {
     "data": {
      "text/plain": [
       "  0%|          | 0/50 [00:00<?, ?it/s]"
      ],
      "application/vnd.jupyter.widget-view+json": {
       "version_major": 2,
       "version_minor": 0,
       "model_id": "8b99967f70c6456087af322fea08ae1d"
      }
     },
     "metadata": {},
     "output_type": "display_data"
    },
    {
     "data": {
      "text/plain": [
       "  0%|          | 0/50 [00:00<?, ?it/s]"
      ],
      "application/vnd.jupyter.widget-view+json": {
       "version_major": 2,
       "version_minor": 0,
       "model_id": "24279bd0eee3432bb128c5663c04bc77"
      }
     },
     "metadata": {},
     "output_type": "display_data"
    },
    {
     "data": {
      "text/plain": [
       "  0%|          | 0/50 [00:00<?, ?it/s]"
      ],
      "application/vnd.jupyter.widget-view+json": {
       "version_major": 2,
       "version_minor": 0,
       "model_id": "7b147728e25746da8b99d102b98186cc"
      }
     },
     "metadata": {},
     "output_type": "display_data"
    },
    {
     "data": {
      "text/plain": [
       "  0%|          | 0/50 [00:00<?, ?it/s]"
      ],
      "application/vnd.jupyter.widget-view+json": {
       "version_major": 2,
       "version_minor": 0,
       "model_id": "8aec957384c9439f940d0796d1292181"
      }
     },
     "metadata": {},
     "output_type": "display_data"
    },
    {
     "data": {
      "text/plain": [
       "  0%|          | 0/50 [00:00<?, ?it/s]"
      ],
      "application/vnd.jupyter.widget-view+json": {
       "version_major": 2,
       "version_minor": 0,
       "model_id": "6c52145948334e15aeda5af0514801b2"
      }
     },
     "metadata": {},
     "output_type": "display_data"
    },
    {
     "data": {
      "text/plain": [
       "  0%|          | 0/50 [00:00<?, ?it/s]"
      ],
      "application/vnd.jupyter.widget-view+json": {
       "version_major": 2,
       "version_minor": 0,
       "model_id": "fabea2cb5e9d4a06be0d045f956c5d7f"
      }
     },
     "metadata": {},
     "output_type": "display_data"
    },
    {
     "data": {
      "text/plain": [
       "  0%|          | 0/50 [00:00<?, ?it/s]"
      ],
      "application/vnd.jupyter.widget-view+json": {
       "version_major": 2,
       "version_minor": 0,
       "model_id": "fc28589ca78c40d7bbc4838ac080b2c8"
      }
     },
     "metadata": {},
     "output_type": "display_data"
    },
    {
     "data": {
      "text/plain": [
       "  0%|          | 0/50 [00:00<?, ?it/s]"
      ],
      "application/vnd.jupyter.widget-view+json": {
       "version_major": 2,
       "version_minor": 0,
       "model_id": "c7e8d7a4ea364e66b67a1c1ab109d08a"
      }
     },
     "metadata": {},
     "output_type": "display_data"
    },
    {
     "data": {
      "text/plain": [
       "  0%|          | 0/50 [00:00<?, ?it/s]"
      ],
      "application/vnd.jupyter.widget-view+json": {
       "version_major": 2,
       "version_minor": 0,
       "model_id": "2b1261c3f6764d2697f5d3ef4a09ab4d"
      }
     },
     "metadata": {},
     "output_type": "display_data"
    },
    {
     "data": {
      "text/plain": [
       "  0%|          | 0/50 [00:00<?, ?it/s]"
      ],
      "application/vnd.jupyter.widget-view+json": {
       "version_major": 2,
       "version_minor": 0,
       "model_id": "ae3c06b3b44e4ff1a6d02ffcd422be39"
      }
     },
     "metadata": {},
     "output_type": "display_data"
    },
    {
     "data": {
      "text/plain": [
       "  0%|          | 0/50 [00:00<?, ?it/s]"
      ],
      "application/vnd.jupyter.widget-view+json": {
       "version_major": 2,
       "version_minor": 0,
       "model_id": "aab3768286ed434d989f69ff1bae8fac"
      }
     },
     "metadata": {},
     "output_type": "display_data"
    },
    {
     "data": {
      "text/plain": [
       "  0%|          | 0/50 [00:00<?, ?it/s]"
      ],
      "application/vnd.jupyter.widget-view+json": {
       "version_major": 2,
       "version_minor": 0,
       "model_id": "746c47a86542442787ae565dfeee9fed"
      }
     },
     "metadata": {},
     "output_type": "display_data"
    },
    {
     "data": {
      "text/plain": [
       "  0%|          | 0/50 [00:00<?, ?it/s]"
      ],
      "application/vnd.jupyter.widget-view+json": {
       "version_major": 2,
       "version_minor": 0,
       "model_id": "95b2484380e54ff2b06ca7549de3179b"
      }
     },
     "metadata": {},
     "output_type": "display_data"
    },
    {
     "data": {
      "text/plain": [
       "  0%|          | 0/50 [00:00<?, ?it/s]"
      ],
      "application/vnd.jupyter.widget-view+json": {
       "version_major": 2,
       "version_minor": 0,
       "model_id": "3e3c099958a34a4e9a210e4bed04902d"
      }
     },
     "metadata": {},
     "output_type": "display_data"
    },
    {
     "data": {
      "text/plain": [
       "  0%|          | 0/50 [00:00<?, ?it/s]"
      ],
      "application/vnd.jupyter.widget-view+json": {
       "version_major": 2,
       "version_minor": 0,
       "model_id": "dc52ac18aeb14250898fd8994a21155b"
      }
     },
     "metadata": {},
     "output_type": "display_data"
    },
    {
     "data": {
      "text/plain": [
       "  0%|          | 0/50 [00:00<?, ?it/s]"
      ],
      "application/vnd.jupyter.widget-view+json": {
       "version_major": 2,
       "version_minor": 0,
       "model_id": "5fa5f30ae25946d6bbb198a35d7d58dc"
      }
     },
     "metadata": {},
     "output_type": "display_data"
    },
    {
     "data": {
      "text/plain": [
       "  0%|          | 0/50 [00:00<?, ?it/s]"
      ],
      "application/vnd.jupyter.widget-view+json": {
       "version_major": 2,
       "version_minor": 0,
       "model_id": "0d43c08b70e04ce782fa275ec2bf757d"
      }
     },
     "metadata": {},
     "output_type": "display_data"
    },
    {
     "data": {
      "text/plain": [
       "  0%|          | 0/50 [00:00<?, ?it/s]"
      ],
      "application/vnd.jupyter.widget-view+json": {
       "version_major": 2,
       "version_minor": 0,
       "model_id": "7e0365fc4b874241bc8e84929add04ea"
      }
     },
     "metadata": {},
     "output_type": "display_data"
    },
    {
     "data": {
      "text/plain": [
       "  0%|          | 0/50 [00:00<?, ?it/s]"
      ],
      "application/vnd.jupyter.widget-view+json": {
       "version_major": 2,
       "version_minor": 0,
       "model_id": "e75451cadf1446c09b58309a1df4d259"
      }
     },
     "metadata": {},
     "output_type": "display_data"
    },
    {
     "data": {
      "text/plain": [
       "  0%|          | 0/50 [00:00<?, ?it/s]"
      ],
      "application/vnd.jupyter.widget-view+json": {
       "version_major": 2,
       "version_minor": 0,
       "model_id": "ce6b9ac7d0634787a2bf81ac278babb3"
      }
     },
     "metadata": {},
     "output_type": "display_data"
    },
    {
     "data": {
      "text/plain": [
       "  0%|          | 0/50 [00:00<?, ?it/s]"
      ],
      "application/vnd.jupyter.widget-view+json": {
       "version_major": 2,
       "version_minor": 0,
       "model_id": "778148e5dd5d4adfa0397ab87c1dac42"
      }
     },
     "metadata": {},
     "output_type": "display_data"
    },
    {
     "data": {
      "text/plain": [
       "  0%|          | 0/50 [00:00<?, ?it/s]"
      ],
      "application/vnd.jupyter.widget-view+json": {
       "version_major": 2,
       "version_minor": 0,
       "model_id": "1ff551135a9b4995885282f5a04752be"
      }
     },
     "metadata": {},
     "output_type": "display_data"
    },
    {
     "data": {
      "text/plain": [
       "  0%|          | 0/50 [00:00<?, ?it/s]"
      ],
      "application/vnd.jupyter.widget-view+json": {
       "version_major": 2,
       "version_minor": 0,
       "model_id": "cd28c8942ffe4db1be1a30a0f5fe429c"
      }
     },
     "metadata": {},
     "output_type": "display_data"
    },
    {
     "data": {
      "text/plain": [
       "  0%|          | 0/50 [00:00<?, ?it/s]"
      ],
      "application/vnd.jupyter.widget-view+json": {
       "version_major": 2,
       "version_minor": 0,
       "model_id": "beea99d221fa4c5c9ca4439c61ee03e9"
      }
     },
     "metadata": {},
     "output_type": "display_data"
    },
    {
     "data": {
      "text/plain": [
       "  0%|          | 0/50 [00:00<?, ?it/s]"
      ],
      "application/vnd.jupyter.widget-view+json": {
       "version_major": 2,
       "version_minor": 0,
       "model_id": "fe0a9c12ead04a3da7346f7d7136e062"
      }
     },
     "metadata": {},
     "output_type": "display_data"
    },
    {
     "data": {
      "text/plain": [
       "  0%|          | 0/50 [00:00<?, ?it/s]"
      ],
      "application/vnd.jupyter.widget-view+json": {
       "version_major": 2,
       "version_minor": 0,
       "model_id": "581eae22b14848158dbf6e8a3b9af6ae"
      }
     },
     "metadata": {},
     "output_type": "display_data"
    },
    {
     "data": {
      "text/plain": [
       "  0%|          | 0/50 [00:00<?, ?it/s]"
      ],
      "application/vnd.jupyter.widget-view+json": {
       "version_major": 2,
       "version_minor": 0,
       "model_id": "e7aaeacb78a84a42ba18141eab1c904a"
      }
     },
     "metadata": {},
     "output_type": "display_data"
    },
    {
     "data": {
      "text/plain": [
       "  0%|          | 0/50 [00:00<?, ?it/s]"
      ],
      "application/vnd.jupyter.widget-view+json": {
       "version_major": 2,
       "version_minor": 0,
       "model_id": "c51584bb35b64aab8e93de7e89c82342"
      }
     },
     "metadata": {},
     "output_type": "display_data"
    },
    {
     "data": {
      "text/plain": [
       "  0%|          | 0/50 [00:00<?, ?it/s]"
      ],
      "application/vnd.jupyter.widget-view+json": {
       "version_major": 2,
       "version_minor": 0,
       "model_id": "e5f1556a21194eb1a967bad28b3b3d79"
      }
     },
     "metadata": {},
     "output_type": "display_data"
    },
    {
     "data": {
      "text/plain": [
       "  0%|          | 0/50 [00:00<?, ?it/s]"
      ],
      "application/vnd.jupyter.widget-view+json": {
       "version_major": 2,
       "version_minor": 0,
       "model_id": "98e2a168a0454dde8ae84503df8b099c"
      }
     },
     "metadata": {},
     "output_type": "display_data"
    },
    {
     "data": {
      "text/plain": [
       "  0%|          | 0/50 [00:00<?, ?it/s]"
      ],
      "application/vnd.jupyter.widget-view+json": {
       "version_major": 2,
       "version_minor": 0,
       "model_id": "d4e17b68922b4b33b73aa20e3e39c27a"
      }
     },
     "metadata": {},
     "output_type": "display_data"
    },
    {
     "data": {
      "text/plain": [
       "  0%|          | 0/50 [00:00<?, ?it/s]"
      ],
      "application/vnd.jupyter.widget-view+json": {
       "version_major": 2,
       "version_minor": 0,
       "model_id": "9e979b9cf81d4922bbc2641ae960702e"
      }
     },
     "metadata": {},
     "output_type": "display_data"
    },
    {
     "data": {
      "text/plain": [
       "  0%|          | 0/50 [00:00<?, ?it/s]"
      ],
      "application/vnd.jupyter.widget-view+json": {
       "version_major": 2,
       "version_minor": 0,
       "model_id": "a9ce784c6af8449cae0b086f55894acc"
      }
     },
     "metadata": {},
     "output_type": "display_data"
    },
    {
     "data": {
      "text/plain": [
       "  0%|          | 0/50 [00:00<?, ?it/s]"
      ],
      "application/vnd.jupyter.widget-view+json": {
       "version_major": 2,
       "version_minor": 0,
       "model_id": "ff1fd634ed914cf6a8b63c80a53200b7"
      }
     },
     "metadata": {},
     "output_type": "display_data"
    },
    {
     "data": {
      "text/plain": [
       "  0%|          | 0/50 [00:00<?, ?it/s]"
      ],
      "application/vnd.jupyter.widget-view+json": {
       "version_major": 2,
       "version_minor": 0,
       "model_id": "c79aef60f631407ab5f4e137c8937ffd"
      }
     },
     "metadata": {},
     "output_type": "display_data"
    },
    {
     "data": {
      "text/plain": [
       "  0%|          | 0/50 [00:00<?, ?it/s]"
      ],
      "application/vnd.jupyter.widget-view+json": {
       "version_major": 2,
       "version_minor": 0,
       "model_id": "ffb4063ae5f547b1a7929687ca61b06a"
      }
     },
     "metadata": {},
     "output_type": "display_data"
    },
    {
     "data": {
      "text/plain": [
       "  0%|          | 0/50 [00:00<?, ?it/s]"
      ],
      "application/vnd.jupyter.widget-view+json": {
       "version_major": 2,
       "version_minor": 0,
       "model_id": "fe4dd658ed2c4d8787f3973a2e030df4"
      }
     },
     "metadata": {},
     "output_type": "display_data"
    },
    {
     "data": {
      "text/plain": [
       "  0%|          | 0/50 [00:00<?, ?it/s]"
      ],
      "application/vnd.jupyter.widget-view+json": {
       "version_major": 2,
       "version_minor": 0,
       "model_id": "37df91f2a3e24c8dbfb415cf489739e7"
      }
     },
     "metadata": {},
     "output_type": "display_data"
    },
    {
     "data": {
      "text/plain": [
       "  0%|          | 0/50 [00:00<?, ?it/s]"
      ],
      "application/vnd.jupyter.widget-view+json": {
       "version_major": 2,
       "version_minor": 0,
       "model_id": "083ffd237b3c4abca6be61c3f00db6a4"
      }
     },
     "metadata": {},
     "output_type": "display_data"
    },
    {
     "data": {
      "text/plain": [
       "  0%|          | 0/50 [00:00<?, ?it/s]"
      ],
      "application/vnd.jupyter.widget-view+json": {
       "version_major": 2,
       "version_minor": 0,
       "model_id": "6b3e7de08d464aa5989de0110a091129"
      }
     },
     "metadata": {},
     "output_type": "display_data"
    },
    {
     "data": {
      "text/plain": [
       "  0%|          | 0/50 [00:00<?, ?it/s]"
      ],
      "application/vnd.jupyter.widget-view+json": {
       "version_major": 2,
       "version_minor": 0,
       "model_id": "3e5a00d5e7f3492ab992f719ea4b7a49"
      }
     },
     "metadata": {},
     "output_type": "display_data"
    },
    {
     "data": {
      "text/plain": [
       "  0%|          | 0/50 [00:00<?, ?it/s]"
      ],
      "application/vnd.jupyter.widget-view+json": {
       "version_major": 2,
       "version_minor": 0,
       "model_id": "d512f2bd8ec841a3ba42eb50c139a255"
      }
     },
     "metadata": {},
     "output_type": "display_data"
    },
    {
     "data": {
      "text/plain": [
       "  0%|          | 0/50 [00:00<?, ?it/s]"
      ],
      "application/vnd.jupyter.widget-view+json": {
       "version_major": 2,
       "version_minor": 0,
       "model_id": "01aeba29faa044fc868538a990d1912c"
      }
     },
     "metadata": {},
     "output_type": "display_data"
    },
    {
     "data": {
      "text/plain": [
       "  0%|          | 0/50 [00:00<?, ?it/s]"
      ],
      "application/vnd.jupyter.widget-view+json": {
       "version_major": 2,
       "version_minor": 0,
       "model_id": "a2528c9b66d5415395df3efd030aeb76"
      }
     },
     "metadata": {},
     "output_type": "display_data"
    },
    {
     "data": {
      "text/plain": [
       "  0%|          | 0/50 [00:00<?, ?it/s]"
      ],
      "application/vnd.jupyter.widget-view+json": {
       "version_major": 2,
       "version_minor": 0,
       "model_id": "6ae9cf665a7a47e8be969aaf7b95393d"
      }
     },
     "metadata": {},
     "output_type": "display_data"
    },
    {
     "data": {
      "text/plain": [
       "  0%|          | 0/50 [00:00<?, ?it/s]"
      ],
      "application/vnd.jupyter.widget-view+json": {
       "version_major": 2,
       "version_minor": 0,
       "model_id": "178291a637bb48399683aa6ee347b963"
      }
     },
     "metadata": {},
     "output_type": "display_data"
    },
    {
     "data": {
      "text/plain": [
       "  0%|          | 0/50 [00:00<?, ?it/s]"
      ],
      "application/vnd.jupyter.widget-view+json": {
       "version_major": 2,
       "version_minor": 0,
       "model_id": "22bcd5c116b2436baade9f378a1d8e66"
      }
     },
     "metadata": {},
     "output_type": "display_data"
    },
    {
     "data": {
      "text/plain": [
       "  0%|          | 0/50 [00:00<?, ?it/s]"
      ],
      "application/vnd.jupyter.widget-view+json": {
       "version_major": 2,
       "version_minor": 0,
       "model_id": "4ecb696eab1342d0ac06a0997e43d245"
      }
     },
     "metadata": {},
     "output_type": "display_data"
    },
    {
     "data": {
      "text/plain": [
       "  0%|          | 0/50 [00:00<?, ?it/s]"
      ],
      "application/vnd.jupyter.widget-view+json": {
       "version_major": 2,
       "version_minor": 0,
       "model_id": "c55e87a316da47b4b3a79cf7182b5f56"
      }
     },
     "metadata": {},
     "output_type": "display_data"
    },
    {
     "data": {
      "text/plain": [
       "  0%|          | 0/50 [00:00<?, ?it/s]"
      ],
      "application/vnd.jupyter.widget-view+json": {
       "version_major": 2,
       "version_minor": 0,
       "model_id": "adc748bdb4ae42dc85276156b99905e7"
      }
     },
     "metadata": {},
     "output_type": "display_data"
    },
    {
     "data": {
      "text/plain": [
       "  0%|          | 0/50 [00:00<?, ?it/s]"
      ],
      "application/vnd.jupyter.widget-view+json": {
       "version_major": 2,
       "version_minor": 0,
       "model_id": "780c697ba7394838b14c191c4e5fb1b3"
      }
     },
     "metadata": {},
     "output_type": "display_data"
    },
    {
     "data": {
      "text/plain": [
       "  0%|          | 0/50 [00:00<?, ?it/s]"
      ],
      "application/vnd.jupyter.widget-view+json": {
       "version_major": 2,
       "version_minor": 0,
       "model_id": "489f51e6028a43c39caf5f804f5011c0"
      }
     },
     "metadata": {},
     "output_type": "display_data"
    },
    {
     "data": {
      "text/plain": [
       "  0%|          | 0/50 [00:00<?, ?it/s]"
      ],
      "application/vnd.jupyter.widget-view+json": {
       "version_major": 2,
       "version_minor": 0,
       "model_id": "d816a56a77ff4334b63134c315bdf7cb"
      }
     },
     "metadata": {},
     "output_type": "display_data"
    },
    {
     "data": {
      "text/plain": [
       "  0%|          | 0/50 [00:00<?, ?it/s]"
      ],
      "application/vnd.jupyter.widget-view+json": {
       "version_major": 2,
       "version_minor": 0,
       "model_id": "5cc8bcf09fae4be9ad189aaad0503f37"
      }
     },
     "metadata": {},
     "output_type": "display_data"
    },
    {
     "data": {
      "text/plain": [
       "  0%|          | 0/50 [00:00<?, ?it/s]"
      ],
      "application/vnd.jupyter.widget-view+json": {
       "version_major": 2,
       "version_minor": 0,
       "model_id": "8461e0d3829042e7a1e8c906845a4c5d"
      }
     },
     "metadata": {},
     "output_type": "display_data"
    },
    {
     "data": {
      "text/plain": [
       "  0%|          | 0/50 [00:00<?, ?it/s]"
      ],
      "application/vnd.jupyter.widget-view+json": {
       "version_major": 2,
       "version_minor": 0,
       "model_id": "8df7a946e1d8480e8ede4315552eb292"
      }
     },
     "metadata": {},
     "output_type": "display_data"
    },
    {
     "data": {
      "text/plain": [
       "  0%|          | 0/50 [00:00<?, ?it/s]"
      ],
      "application/vnd.jupyter.widget-view+json": {
       "version_major": 2,
       "version_minor": 0,
       "model_id": "3bdc96f40c5343788756aa4aae7f6fba"
      }
     },
     "metadata": {},
     "output_type": "display_data"
    },
    {
     "data": {
      "text/plain": [
       "  0%|          | 0/50 [00:00<?, ?it/s]"
      ],
      "application/vnd.jupyter.widget-view+json": {
       "version_major": 2,
       "version_minor": 0,
       "model_id": "b813bf7caf624f578780778ff9d0a782"
      }
     },
     "metadata": {},
     "output_type": "display_data"
    },
    {
     "data": {
      "text/plain": [
       "  0%|          | 0/50 [00:00<?, ?it/s]"
      ],
      "application/vnd.jupyter.widget-view+json": {
       "version_major": 2,
       "version_minor": 0,
       "model_id": "36692c14b42f42c9ae66313f20fa4831"
      }
     },
     "metadata": {},
     "output_type": "display_data"
    },
    {
     "data": {
      "text/plain": [
       "  0%|          | 0/50 [00:00<?, ?it/s]"
      ],
      "application/vnd.jupyter.widget-view+json": {
       "version_major": 2,
       "version_minor": 0,
       "model_id": "a2ba4a6643a24e64a68ef2810d45f8a1"
      }
     },
     "metadata": {},
     "output_type": "display_data"
    },
    {
     "data": {
      "text/plain": [
       "  0%|          | 0/50 [00:00<?, ?it/s]"
      ],
      "application/vnd.jupyter.widget-view+json": {
       "version_major": 2,
       "version_minor": 0,
       "model_id": "da1ec3fee9b542a58cba89ba1a502ce8"
      }
     },
     "metadata": {},
     "output_type": "display_data"
    },
    {
     "data": {
      "text/plain": [
       "  0%|          | 0/50 [00:00<?, ?it/s]"
      ],
      "application/vnd.jupyter.widget-view+json": {
       "version_major": 2,
       "version_minor": 0,
       "model_id": "17865ffaa12d48d999a2526545774b30"
      }
     },
     "metadata": {},
     "output_type": "display_data"
    },
    {
     "data": {
      "text/plain": [
       "  0%|          | 0/50 [00:00<?, ?it/s]"
      ],
      "application/vnd.jupyter.widget-view+json": {
       "version_major": 2,
       "version_minor": 0,
       "model_id": "b6ea9b922e5a40ddbb016288a96e42ff"
      }
     },
     "metadata": {},
     "output_type": "display_data"
    },
    {
     "data": {
      "text/plain": [
       "  0%|          | 0/50 [00:00<?, ?it/s]"
      ],
      "application/vnd.jupyter.widget-view+json": {
       "version_major": 2,
       "version_minor": 0,
       "model_id": "60f705a383af4a23b6d93e40e483f610"
      }
     },
     "metadata": {},
     "output_type": "display_data"
    },
    {
     "data": {
      "text/plain": [
       "  0%|          | 0/50 [00:00<?, ?it/s]"
      ],
      "application/vnd.jupyter.widget-view+json": {
       "version_major": 2,
       "version_minor": 0,
       "model_id": "9aaafefac1eb4b3a82188e7686bf4af9"
      }
     },
     "metadata": {},
     "output_type": "display_data"
    },
    {
     "data": {
      "text/plain": [
       "  0%|          | 0/50 [00:00<?, ?it/s]"
      ],
      "application/vnd.jupyter.widget-view+json": {
       "version_major": 2,
       "version_minor": 0,
       "model_id": "566c10fac9fe4dddb55083d3be860f3b"
      }
     },
     "metadata": {},
     "output_type": "display_data"
    },
    {
     "data": {
      "text/plain": [
       "  0%|          | 0/50 [00:00<?, ?it/s]"
      ],
      "application/vnd.jupyter.widget-view+json": {
       "version_major": 2,
       "version_minor": 0,
       "model_id": "071481a663bf45e8bb4a7dc5de712982"
      }
     },
     "metadata": {},
     "output_type": "display_data"
    },
    {
     "data": {
      "text/plain": [
       "  0%|          | 0/50 [00:00<?, ?it/s]"
      ],
      "application/vnd.jupyter.widget-view+json": {
       "version_major": 2,
       "version_minor": 0,
       "model_id": "43e7b90bf1294c51a4152000f59b0e78"
      }
     },
     "metadata": {},
     "output_type": "display_data"
    },
    {
     "data": {
      "text/plain": [
       "  0%|          | 0/50 [00:00<?, ?it/s]"
      ],
      "application/vnd.jupyter.widget-view+json": {
       "version_major": 2,
       "version_minor": 0,
       "model_id": "4d4c074101754f04ab6a0063ddeeba01"
      }
     },
     "metadata": {},
     "output_type": "display_data"
    },
    {
     "data": {
      "text/plain": [
       "  0%|          | 0/50 [00:00<?, ?it/s]"
      ],
      "application/vnd.jupyter.widget-view+json": {
       "version_major": 2,
       "version_minor": 0,
       "model_id": "84bf3c1e4ba543148cb814c2f0af71ec"
      }
     },
     "metadata": {},
     "output_type": "display_data"
    },
    {
     "data": {
      "text/plain": [
       "  0%|          | 0/50 [00:00<?, ?it/s]"
      ],
      "application/vnd.jupyter.widget-view+json": {
       "version_major": 2,
       "version_minor": 0,
       "model_id": "0850ab588da2447eb29d1805d7be1889"
      }
     },
     "metadata": {},
     "output_type": "display_data"
    },
    {
     "data": {
      "text/plain": [
       "  0%|          | 0/50 [00:00<?, ?it/s]"
      ],
      "application/vnd.jupyter.widget-view+json": {
       "version_major": 2,
       "version_minor": 0,
       "model_id": "b086857892b54d6c8d6267e638f11a9a"
      }
     },
     "metadata": {},
     "output_type": "display_data"
    },
    {
     "data": {
      "text/plain": [
       "  0%|          | 0/50 [00:00<?, ?it/s]"
      ],
      "application/vnd.jupyter.widget-view+json": {
       "version_major": 2,
       "version_minor": 0,
       "model_id": "02eada9602324769bee5fdc97dbe1a42"
      }
     },
     "metadata": {},
     "output_type": "display_data"
    },
    {
     "data": {
      "text/plain": [
       "  0%|          | 0/50 [00:00<?, ?it/s]"
      ],
      "application/vnd.jupyter.widget-view+json": {
       "version_major": 2,
       "version_minor": 0,
       "model_id": "c07394cba1e44d72abdafe2eec8493b0"
      }
     },
     "metadata": {},
     "output_type": "display_data"
    },
    {
     "name": "stderr",
     "output_type": "stream",
     "text": [
      "Potential NSFW content was detected in one or more images. A black image will be returned instead. Try again with a different prompt and/or seed.\n"
     ]
    },
    {
     "data": {
      "text/plain": [
       "  0%|          | 0/50 [00:00<?, ?it/s]"
      ],
      "application/vnd.jupyter.widget-view+json": {
       "version_major": 2,
       "version_minor": 0,
       "model_id": "c2640149a28d4d35860df0c47832b200"
      }
     },
     "metadata": {},
     "output_type": "display_data"
    },
    {
     "data": {
      "text/plain": [
       "  0%|          | 0/50 [00:00<?, ?it/s]"
      ],
      "application/vnd.jupyter.widget-view+json": {
       "version_major": 2,
       "version_minor": 0,
       "model_id": "a89cfe2d470c416cbcf9ce6e7ae342a3"
      }
     },
     "metadata": {},
     "output_type": "display_data"
    },
    {
     "data": {
      "text/plain": [
       "  0%|          | 0/50 [00:00<?, ?it/s]"
      ],
      "application/vnd.jupyter.widget-view+json": {
       "version_major": 2,
       "version_minor": 0,
       "model_id": "570fe5d2063e45f394720466ec67ee81"
      }
     },
     "metadata": {},
     "output_type": "display_data"
    },
    {
     "data": {
      "text/plain": [
       "  0%|          | 0/50 [00:00<?, ?it/s]"
      ],
      "application/vnd.jupyter.widget-view+json": {
       "version_major": 2,
       "version_minor": 0,
       "model_id": "d7b3ac3f2cc444ad88d7ee95f03c8756"
      }
     },
     "metadata": {},
     "output_type": "display_data"
    },
    {
     "data": {
      "text/plain": [
       "  0%|          | 0/50 [00:00<?, ?it/s]"
      ],
      "application/vnd.jupyter.widget-view+json": {
       "version_major": 2,
       "version_minor": 0,
       "model_id": "04394d3c491f4c5bb4367d1165584e01"
      }
     },
     "metadata": {},
     "output_type": "display_data"
    },
    {
     "data": {
      "text/plain": [
       "  0%|          | 0/50 [00:00<?, ?it/s]"
      ],
      "application/vnd.jupyter.widget-view+json": {
       "version_major": 2,
       "version_minor": 0,
       "model_id": "2fabca340f59480c8a5eba687f620e4d"
      }
     },
     "metadata": {},
     "output_type": "display_data"
    },
    {
     "data": {
      "text/plain": [
       "  0%|          | 0/50 [00:00<?, ?it/s]"
      ],
      "application/vnd.jupyter.widget-view+json": {
       "version_major": 2,
       "version_minor": 0,
       "model_id": "e9f65561661344a3ba53e1ad5a971972"
      }
     },
     "metadata": {},
     "output_type": "display_data"
    },
    {
     "data": {
      "text/plain": [
       "  0%|          | 0/50 [00:00<?, ?it/s]"
      ],
      "application/vnd.jupyter.widget-view+json": {
       "version_major": 2,
       "version_minor": 0,
       "model_id": "e42e81ea9a114d8294f2bd9fd2ea4840"
      }
     },
     "metadata": {},
     "output_type": "display_data"
    },
    {
     "data": {
      "text/plain": [
       "  0%|          | 0/50 [00:00<?, ?it/s]"
      ],
      "application/vnd.jupyter.widget-view+json": {
       "version_major": 2,
       "version_minor": 0,
       "model_id": "c86303355d604ccdac9af87cc5d93caa"
      }
     },
     "metadata": {},
     "output_type": "display_data"
    },
    {
     "data": {
      "text/plain": [
       "  0%|          | 0/50 [00:00<?, ?it/s]"
      ],
      "application/vnd.jupyter.widget-view+json": {
       "version_major": 2,
       "version_minor": 0,
       "model_id": "fe79a0ed65024837be082e97e332db90"
      }
     },
     "metadata": {},
     "output_type": "display_data"
    },
    {
     "data": {
      "text/plain": [
       "  0%|          | 0/50 [00:00<?, ?it/s]"
      ],
      "application/vnd.jupyter.widget-view+json": {
       "version_major": 2,
       "version_minor": 0,
       "model_id": "7217f15c38ca4b39800c4dceca81118b"
      }
     },
     "metadata": {},
     "output_type": "display_data"
    },
    {
     "data": {
      "text/plain": [
       "  0%|          | 0/50 [00:00<?, ?it/s]"
      ],
      "application/vnd.jupyter.widget-view+json": {
       "version_major": 2,
       "version_minor": 0,
       "model_id": "e047946f12db4f77878c8322325957cb"
      }
     },
     "metadata": {},
     "output_type": "display_data"
    },
    {
     "data": {
      "text/plain": [
       "  0%|          | 0/50 [00:00<?, ?it/s]"
      ],
      "application/vnd.jupyter.widget-view+json": {
       "version_major": 2,
       "version_minor": 0,
       "model_id": "6c1b73ad0303483484d50426f6a0f2ef"
      }
     },
     "metadata": {},
     "output_type": "display_data"
    },
    {
     "data": {
      "text/plain": [
       "  0%|          | 0/50 [00:00<?, ?it/s]"
      ],
      "application/vnd.jupyter.widget-view+json": {
       "version_major": 2,
       "version_minor": 0,
       "model_id": "1be0892f4928478684dc05ad37d491e1"
      }
     },
     "metadata": {},
     "output_type": "display_data"
    },
    {
     "data": {
      "text/plain": [
       "  0%|          | 0/50 [00:00<?, ?it/s]"
      ],
      "application/vnd.jupyter.widget-view+json": {
       "version_major": 2,
       "version_minor": 0,
       "model_id": "54ed21bac5ad4ec1a2c55ce1fb886610"
      }
     },
     "metadata": {},
     "output_type": "display_data"
    },
    {
     "data": {
      "text/plain": [
       "  0%|          | 0/50 [00:00<?, ?it/s]"
      ],
      "application/vnd.jupyter.widget-view+json": {
       "version_major": 2,
       "version_minor": 0,
       "model_id": "0905cab69a4d4c069a39a73768eedfd4"
      }
     },
     "metadata": {},
     "output_type": "display_data"
    },
    {
     "data": {
      "text/plain": [
       "  0%|          | 0/50 [00:00<?, ?it/s]"
      ],
      "application/vnd.jupyter.widget-view+json": {
       "version_major": 2,
       "version_minor": 0,
       "model_id": "9a08202b8c5f440bb686900ab974c456"
      }
     },
     "metadata": {},
     "output_type": "display_data"
    },
    {
     "data": {
      "text/plain": [
       "  0%|          | 0/50 [00:00<?, ?it/s]"
      ],
      "application/vnd.jupyter.widget-view+json": {
       "version_major": 2,
       "version_minor": 0,
       "model_id": "bbfd8da622f84ce3a5f44b2ead7908f4"
      }
     },
     "metadata": {},
     "output_type": "display_data"
    },
    {
     "data": {
      "text/plain": [
       "  0%|          | 0/50 [00:00<?, ?it/s]"
      ],
      "application/vnd.jupyter.widget-view+json": {
       "version_major": 2,
       "version_minor": 0,
       "model_id": "05383f66ef0d4fefb46ec8383dbd5dd3"
      }
     },
     "metadata": {},
     "output_type": "display_data"
    },
    {
     "data": {
      "text/plain": [
       "  0%|          | 0/50 [00:00<?, ?it/s]"
      ],
      "application/vnd.jupyter.widget-view+json": {
       "version_major": 2,
       "version_minor": 0,
       "model_id": "0464a13904594143b062d4f8668be29b"
      }
     },
     "metadata": {},
     "output_type": "display_data"
    },
    {
     "data": {
      "text/plain": [
       "  0%|          | 0/50 [00:00<?, ?it/s]"
      ],
      "application/vnd.jupyter.widget-view+json": {
       "version_major": 2,
       "version_minor": 0,
       "model_id": "bca940f60e8e431ea99adf78af703572"
      }
     },
     "metadata": {},
     "output_type": "display_data"
    },
    {
     "data": {
      "text/plain": [
       "  0%|          | 0/50 [00:00<?, ?it/s]"
      ],
      "application/vnd.jupyter.widget-view+json": {
       "version_major": 2,
       "version_minor": 0,
       "model_id": "2ff5df9c30a1417ea7fcd8645904bb2a"
      }
     },
     "metadata": {},
     "output_type": "display_data"
    },
    {
     "data": {
      "text/plain": [
       "  0%|          | 0/50 [00:00<?, ?it/s]"
      ],
      "application/vnd.jupyter.widget-view+json": {
       "version_major": 2,
       "version_minor": 0,
       "model_id": "2f71d4aa332f4e038e474b0319834de6"
      }
     },
     "metadata": {},
     "output_type": "display_data"
    },
    {
     "data": {
      "text/plain": [
       "  0%|          | 0/50 [00:00<?, ?it/s]"
      ],
      "application/vnd.jupyter.widget-view+json": {
       "version_major": 2,
       "version_minor": 0,
       "model_id": "788d0448461e4fd786ee919b23794231"
      }
     },
     "metadata": {},
     "output_type": "display_data"
    },
    {
     "data": {
      "text/plain": [
       "  0%|          | 0/50 [00:00<?, ?it/s]"
      ],
      "application/vnd.jupyter.widget-view+json": {
       "version_major": 2,
       "version_minor": 0,
       "model_id": "9045e84fe0c34fe3b7f1dab159bdb142"
      }
     },
     "metadata": {},
     "output_type": "display_data"
    },
    {
     "data": {
      "text/plain": [
       "  0%|          | 0/50 [00:00<?, ?it/s]"
      ],
      "application/vnd.jupyter.widget-view+json": {
       "version_major": 2,
       "version_minor": 0,
       "model_id": "3abef330b89a48609621d2c65b8b18ad"
      }
     },
     "metadata": {},
     "output_type": "display_data"
    },
    {
     "data": {
      "text/plain": [
       "  0%|          | 0/50 [00:00<?, ?it/s]"
      ],
      "application/vnd.jupyter.widget-view+json": {
       "version_major": 2,
       "version_minor": 0,
       "model_id": "2f2ab7e1d40946d791caf33ff4d078a9"
      }
     },
     "metadata": {},
     "output_type": "display_data"
    },
    {
     "data": {
      "text/plain": [
       "  0%|          | 0/50 [00:00<?, ?it/s]"
      ],
      "application/vnd.jupyter.widget-view+json": {
       "version_major": 2,
       "version_minor": 0,
       "model_id": "21978fe6e7cd4da9bbe8b18decc3ad14"
      }
     },
     "metadata": {},
     "output_type": "display_data"
    },
    {
     "data": {
      "text/plain": [
       "  0%|          | 0/50 [00:00<?, ?it/s]"
      ],
      "application/vnd.jupyter.widget-view+json": {
       "version_major": 2,
       "version_minor": 0,
       "model_id": "bd1321e4556c41dc93579a687e0879ef"
      }
     },
     "metadata": {},
     "output_type": "display_data"
    },
    {
     "data": {
      "text/plain": [
       "  0%|          | 0/50 [00:00<?, ?it/s]"
      ],
      "application/vnd.jupyter.widget-view+json": {
       "version_major": 2,
       "version_minor": 0,
       "model_id": "d2af53cf6cf44a5cae0eb35e2c8ca29e"
      }
     },
     "metadata": {},
     "output_type": "display_data"
    },
    {
     "data": {
      "text/plain": [
       "  0%|          | 0/50 [00:00<?, ?it/s]"
      ],
      "application/vnd.jupyter.widget-view+json": {
       "version_major": 2,
       "version_minor": 0,
       "model_id": "36c8ee6ccf454ea0bad781b7e111dc5e"
      }
     },
     "metadata": {},
     "output_type": "display_data"
    },
    {
     "data": {
      "text/plain": [
       "  0%|          | 0/50 [00:00<?, ?it/s]"
      ],
      "application/vnd.jupyter.widget-view+json": {
       "version_major": 2,
       "version_minor": 0,
       "model_id": "86c388c43117483e94863e17a909108f"
      }
     },
     "metadata": {},
     "output_type": "display_data"
    },
    {
     "data": {
      "text/plain": [
       "  0%|          | 0/50 [00:00<?, ?it/s]"
      ],
      "application/vnd.jupyter.widget-view+json": {
       "version_major": 2,
       "version_minor": 0,
       "model_id": "d89bbb9923604bef9db3bffabfb09aff"
      }
     },
     "metadata": {},
     "output_type": "display_data"
    },
    {
     "data": {
      "text/plain": [
       "  0%|          | 0/50 [00:00<?, ?it/s]"
      ],
      "application/vnd.jupyter.widget-view+json": {
       "version_major": 2,
       "version_minor": 0,
       "model_id": "7fb129cf1e04467c8cb7c4eb5c128a0c"
      }
     },
     "metadata": {},
     "output_type": "display_data"
    },
    {
     "data": {
      "text/plain": [
       "  0%|          | 0/50 [00:00<?, ?it/s]"
      ],
      "application/vnd.jupyter.widget-view+json": {
       "version_major": 2,
       "version_minor": 0,
       "model_id": "ee9c1153ccd149f3b6e906c31230734a"
      }
     },
     "metadata": {},
     "output_type": "display_data"
    },
    {
     "data": {
      "text/plain": [
       "  0%|          | 0/50 [00:00<?, ?it/s]"
      ],
      "application/vnd.jupyter.widget-view+json": {
       "version_major": 2,
       "version_minor": 0,
       "model_id": "da8ed36ed46e422e94cb22ac272a272f"
      }
     },
     "metadata": {},
     "output_type": "display_data"
    },
    {
     "data": {
      "text/plain": [
       "  0%|          | 0/50 [00:00<?, ?it/s]"
      ],
      "application/vnd.jupyter.widget-view+json": {
       "version_major": 2,
       "version_minor": 0,
       "model_id": "4597206325b1458985c3ed7d59f6e5ae"
      }
     },
     "metadata": {},
     "output_type": "display_data"
    },
    {
     "data": {
      "text/plain": [
       "  0%|          | 0/50 [00:00<?, ?it/s]"
      ],
      "application/vnd.jupyter.widget-view+json": {
       "version_major": 2,
       "version_minor": 0,
       "model_id": "33d60f89bb5e47a38fd7ef2e6b7fb439"
      }
     },
     "metadata": {},
     "output_type": "display_data"
    },
    {
     "data": {
      "text/plain": [
       "  0%|          | 0/50 [00:00<?, ?it/s]"
      ],
      "application/vnd.jupyter.widget-view+json": {
       "version_major": 2,
       "version_minor": 0,
       "model_id": "37cfb8750d004d2dab851361997223be"
      }
     },
     "metadata": {},
     "output_type": "display_data"
    },
    {
     "data": {
      "text/plain": [
       "  0%|          | 0/50 [00:00<?, ?it/s]"
      ],
      "application/vnd.jupyter.widget-view+json": {
       "version_major": 2,
       "version_minor": 0,
       "model_id": "21013b41c6d6427bbefb562bc552b970"
      }
     },
     "metadata": {},
     "output_type": "display_data"
    },
    {
     "data": {
      "text/plain": [
       "  0%|          | 0/50 [00:00<?, ?it/s]"
      ],
      "application/vnd.jupyter.widget-view+json": {
       "version_major": 2,
       "version_minor": 0,
       "model_id": "dfef2afb12d64990aa4514a064fe7ee8"
      }
     },
     "metadata": {},
     "output_type": "display_data"
    },
    {
     "data": {
      "text/plain": [
       "  0%|          | 0/50 [00:00<?, ?it/s]"
      ],
      "application/vnd.jupyter.widget-view+json": {
       "version_major": 2,
       "version_minor": 0,
       "model_id": "0e313cfa1d934b1ea0c16589629f87f2"
      }
     },
     "metadata": {},
     "output_type": "display_data"
    },
    {
     "data": {
      "text/plain": [
       "  0%|          | 0/50 [00:00<?, ?it/s]"
      ],
      "application/vnd.jupyter.widget-view+json": {
       "version_major": 2,
       "version_minor": 0,
       "model_id": "cacb6b7541d04de1beea9ae32473e89b"
      }
     },
     "metadata": {},
     "output_type": "display_data"
    },
    {
     "data": {
      "text/plain": [
       "  0%|          | 0/50 [00:00<?, ?it/s]"
      ],
      "application/vnd.jupyter.widget-view+json": {
       "version_major": 2,
       "version_minor": 0,
       "model_id": "aaf2164ec2ee49369e73493954bdb2b4"
      }
     },
     "metadata": {},
     "output_type": "display_data"
    },
    {
     "data": {
      "text/plain": [
       "  0%|          | 0/50 [00:00<?, ?it/s]"
      ],
      "application/vnd.jupyter.widget-view+json": {
       "version_major": 2,
       "version_minor": 0,
       "model_id": "99bec35c28df4cf19cfb7e2a261d3b88"
      }
     },
     "metadata": {},
     "output_type": "display_data"
    },
    {
     "data": {
      "text/plain": [
       "  0%|          | 0/50 [00:00<?, ?it/s]"
      ],
      "application/vnd.jupyter.widget-view+json": {
       "version_major": 2,
       "version_minor": 0,
       "model_id": "393cf1a4438c4707b25d8664f63dd6a0"
      }
     },
     "metadata": {},
     "output_type": "display_data"
    },
    {
     "data": {
      "text/plain": [
       "  0%|          | 0/50 [00:00<?, ?it/s]"
      ],
      "application/vnd.jupyter.widget-view+json": {
       "version_major": 2,
       "version_minor": 0,
       "model_id": "064f9a8786dc4d259fd2f3913593efaf"
      }
     },
     "metadata": {},
     "output_type": "display_data"
    },
    {
     "data": {
      "text/plain": [
       "  0%|          | 0/50 [00:00<?, ?it/s]"
      ],
      "application/vnd.jupyter.widget-view+json": {
       "version_major": 2,
       "version_minor": 0,
       "model_id": "b5be5ade19894c7485030a4c9e6bc4b3"
      }
     },
     "metadata": {},
     "output_type": "display_data"
    },
    {
     "data": {
      "text/plain": [
       "  0%|          | 0/50 [00:00<?, ?it/s]"
      ],
      "application/vnd.jupyter.widget-view+json": {
       "version_major": 2,
       "version_minor": 0,
       "model_id": "7dedf106cb774c62a1c8a21a9b492658"
      }
     },
     "metadata": {},
     "output_type": "display_data"
    },
    {
     "data": {
      "text/plain": [
       "  0%|          | 0/50 [00:00<?, ?it/s]"
      ],
      "application/vnd.jupyter.widget-view+json": {
       "version_major": 2,
       "version_minor": 0,
       "model_id": "5ddb66fd89eb4b7689bd2aa296a0e8dc"
      }
     },
     "metadata": {},
     "output_type": "display_data"
    },
    {
     "data": {
      "text/plain": [
       "  0%|          | 0/50 [00:00<?, ?it/s]"
      ],
      "application/vnd.jupyter.widget-view+json": {
       "version_major": 2,
       "version_minor": 0,
       "model_id": "ff0b801fb6e1495eb8d942e4a61c0fd1"
      }
     },
     "metadata": {},
     "output_type": "display_data"
    },
    {
     "data": {
      "text/plain": [
       "  0%|          | 0/50 [00:00<?, ?it/s]"
      ],
      "application/vnd.jupyter.widget-view+json": {
       "version_major": 2,
       "version_minor": 0,
       "model_id": "bbd1dd39e2a64333b355914eab7f4861"
      }
     },
     "metadata": {},
     "output_type": "display_data"
    },
    {
     "data": {
      "text/plain": [
       "  0%|          | 0/50 [00:00<?, ?it/s]"
      ],
      "application/vnd.jupyter.widget-view+json": {
       "version_major": 2,
       "version_minor": 0,
       "model_id": "3c260781d5dc415cb779dbc718429239"
      }
     },
     "metadata": {},
     "output_type": "display_data"
    },
    {
     "data": {
      "text/plain": [
       "  0%|          | 0/50 [00:00<?, ?it/s]"
      ],
      "application/vnd.jupyter.widget-view+json": {
       "version_major": 2,
       "version_minor": 0,
       "model_id": "a9f9f5f96b8f4ff9a7c311066619fd56"
      }
     },
     "metadata": {},
     "output_type": "display_data"
    },
    {
     "data": {
      "text/plain": [
       "  0%|          | 0/50 [00:00<?, ?it/s]"
      ],
      "application/vnd.jupyter.widget-view+json": {
       "version_major": 2,
       "version_minor": 0,
       "model_id": "780f5e20e38249f9887a6685a40b29b3"
      }
     },
     "metadata": {},
     "output_type": "display_data"
    },
    {
     "data": {
      "text/plain": [
       "  0%|          | 0/50 [00:00<?, ?it/s]"
      ],
      "application/vnd.jupyter.widget-view+json": {
       "version_major": 2,
       "version_minor": 0,
       "model_id": "bcfb11d515704dae8b466cbb89bd8e4f"
      }
     },
     "metadata": {},
     "output_type": "display_data"
    },
    {
     "data": {
      "text/plain": [
       "  0%|          | 0/50 [00:00<?, ?it/s]"
      ],
      "application/vnd.jupyter.widget-view+json": {
       "version_major": 2,
       "version_minor": 0,
       "model_id": "6479c80ea7ce4d4f9804d3e50e795bd8"
      }
     },
     "metadata": {},
     "output_type": "display_data"
    },
    {
     "data": {
      "text/plain": [
       "  0%|          | 0/50 [00:00<?, ?it/s]"
      ],
      "application/vnd.jupyter.widget-view+json": {
       "version_major": 2,
       "version_minor": 0,
       "model_id": "a23138f1ee6848c2a8752c33be6c194f"
      }
     },
     "metadata": {},
     "output_type": "display_data"
    },
    {
     "data": {
      "text/plain": [
       "  0%|          | 0/50 [00:00<?, ?it/s]"
      ],
      "application/vnd.jupyter.widget-view+json": {
       "version_major": 2,
       "version_minor": 0,
       "model_id": "e196d20eb3a24f18a44e712803e0be0b"
      }
     },
     "metadata": {},
     "output_type": "display_data"
    },
    {
     "data": {
      "text/plain": [
       "  0%|          | 0/50 [00:00<?, ?it/s]"
      ],
      "application/vnd.jupyter.widget-view+json": {
       "version_major": 2,
       "version_minor": 0,
       "model_id": "4a26ea7496bd4cd596ec2dc0deaae93a"
      }
     },
     "metadata": {},
     "output_type": "display_data"
    },
    {
     "data": {
      "text/plain": [
       "  0%|          | 0/50 [00:00<?, ?it/s]"
      ],
      "application/vnd.jupyter.widget-view+json": {
       "version_major": 2,
       "version_minor": 0,
       "model_id": "7c11b971224a40ce95e4b0279a2784dc"
      }
     },
     "metadata": {},
     "output_type": "display_data"
    },
    {
     "data": {
      "text/plain": [
       "  0%|          | 0/50 [00:00<?, ?it/s]"
      ],
      "application/vnd.jupyter.widget-view+json": {
       "version_major": 2,
       "version_minor": 0,
       "model_id": "13b9ca6636e74ea68a822b625d601cf3"
      }
     },
     "metadata": {},
     "output_type": "display_data"
    },
    {
     "data": {
      "text/plain": [
       "  0%|          | 0/50 [00:00<?, ?it/s]"
      ],
      "application/vnd.jupyter.widget-view+json": {
       "version_major": 2,
       "version_minor": 0,
       "model_id": "a3472181361a49a09b8840379b3a9c4c"
      }
     },
     "metadata": {},
     "output_type": "display_data"
    },
    {
     "data": {
      "text/plain": [
       "  0%|          | 0/50 [00:00<?, ?it/s]"
      ],
      "application/vnd.jupyter.widget-view+json": {
       "version_major": 2,
       "version_minor": 0,
       "model_id": "47bb0db2c7684bd5b7479134f21d6275"
      }
     },
     "metadata": {},
     "output_type": "display_data"
    },
    {
     "data": {
      "text/plain": [
       "  0%|          | 0/50 [00:00<?, ?it/s]"
      ],
      "application/vnd.jupyter.widget-view+json": {
       "version_major": 2,
       "version_minor": 0,
       "model_id": "0e25e7bc75b74a0a93b8b63f8f3e57b9"
      }
     },
     "metadata": {},
     "output_type": "display_data"
    },
    {
     "data": {
      "text/plain": [
       "  0%|          | 0/50 [00:00<?, ?it/s]"
      ],
      "application/vnd.jupyter.widget-view+json": {
       "version_major": 2,
       "version_minor": 0,
       "model_id": "efb335b991ff4bab98ffe852e20cac1b"
      }
     },
     "metadata": {},
     "output_type": "display_data"
    },
    {
     "data": {
      "text/plain": [
       "  0%|          | 0/50 [00:00<?, ?it/s]"
      ],
      "application/vnd.jupyter.widget-view+json": {
       "version_major": 2,
       "version_minor": 0,
       "model_id": "6034b9f5d23941cda3b6b5b2ef8b5148"
      }
     },
     "metadata": {},
     "output_type": "display_data"
    },
    {
     "data": {
      "text/plain": [
       "  0%|          | 0/50 [00:00<?, ?it/s]"
      ],
      "application/vnd.jupyter.widget-view+json": {
       "version_major": 2,
       "version_minor": 0,
       "model_id": "dd42d1ac88be4d4f8b63181486bcaeb5"
      }
     },
     "metadata": {},
     "output_type": "display_data"
    },
    {
     "data": {
      "text/plain": [
       "  0%|          | 0/50 [00:00<?, ?it/s]"
      ],
      "application/vnd.jupyter.widget-view+json": {
       "version_major": 2,
       "version_minor": 0,
       "model_id": "acdf0ae1254b4d0f87c86abd145a6931"
      }
     },
     "metadata": {},
     "output_type": "display_data"
    },
    {
     "data": {
      "text/plain": [
       "  0%|          | 0/50 [00:00<?, ?it/s]"
      ],
      "application/vnd.jupyter.widget-view+json": {
       "version_major": 2,
       "version_minor": 0,
       "model_id": "47586e6de4234259b78f7ffcad2b3b16"
      }
     },
     "metadata": {},
     "output_type": "display_data"
    },
    {
     "data": {
      "text/plain": [
       "  0%|          | 0/50 [00:00<?, ?it/s]"
      ],
      "application/vnd.jupyter.widget-view+json": {
       "version_major": 2,
       "version_minor": 0,
       "model_id": "30452419bb2344dda36d9bbe7c283440"
      }
     },
     "metadata": {},
     "output_type": "display_data"
    },
    {
     "data": {
      "text/plain": [
       "  0%|          | 0/50 [00:00<?, ?it/s]"
      ],
      "application/vnd.jupyter.widget-view+json": {
       "version_major": 2,
       "version_minor": 0,
       "model_id": "68d9bea8ef904e60a5cbeb6b28a7d1ab"
      }
     },
     "metadata": {},
     "output_type": "display_data"
    },
    {
     "data": {
      "text/plain": [
       "  0%|          | 0/50 [00:00<?, ?it/s]"
      ],
      "application/vnd.jupyter.widget-view+json": {
       "version_major": 2,
       "version_minor": 0,
       "model_id": "ae2a2fe3a479438990bc25f5973bf20c"
      }
     },
     "metadata": {},
     "output_type": "display_data"
    },
    {
     "data": {
      "text/plain": [
       "  0%|          | 0/50 [00:00<?, ?it/s]"
      ],
      "application/vnd.jupyter.widget-view+json": {
       "version_major": 2,
       "version_minor": 0,
       "model_id": "8aeaaea65172409383c51e49f2ba4b6e"
      }
     },
     "metadata": {},
     "output_type": "display_data"
    },
    {
     "data": {
      "text/plain": [
       "  0%|          | 0/50 [00:00<?, ?it/s]"
      ],
      "application/vnd.jupyter.widget-view+json": {
       "version_major": 2,
       "version_minor": 0,
       "model_id": "bd6b5888684e4ffab7613153f0f54878"
      }
     },
     "metadata": {},
     "output_type": "display_data"
    },
    {
     "data": {
      "text/plain": [
       "  0%|          | 0/50 [00:00<?, ?it/s]"
      ],
      "application/vnd.jupyter.widget-view+json": {
       "version_major": 2,
       "version_minor": 0,
       "model_id": "1455327b0b664362a9a6f93a4bca037c"
      }
     },
     "metadata": {},
     "output_type": "display_data"
    },
    {
     "data": {
      "text/plain": [
       "  0%|          | 0/50 [00:00<?, ?it/s]"
      ],
      "application/vnd.jupyter.widget-view+json": {
       "version_major": 2,
       "version_minor": 0,
       "model_id": "488795b4d56d43c69a8d3c7558b41875"
      }
     },
     "metadata": {},
     "output_type": "display_data"
    },
    {
     "data": {
      "text/plain": [
       "  0%|          | 0/50 [00:00<?, ?it/s]"
      ],
      "application/vnd.jupyter.widget-view+json": {
       "version_major": 2,
       "version_minor": 0,
       "model_id": "73c266d4cd704236bae74439b7324a67"
      }
     },
     "metadata": {},
     "output_type": "display_data"
    },
    {
     "data": {
      "text/plain": [
       "  0%|          | 0/50 [00:00<?, ?it/s]"
      ],
      "application/vnd.jupyter.widget-view+json": {
       "version_major": 2,
       "version_minor": 0,
       "model_id": "e8287a59b0ff40ceb3bf0c71f6922148"
      }
     },
     "metadata": {},
     "output_type": "display_data"
    },
    {
     "data": {
      "text/plain": [
       "  0%|          | 0/50 [00:00<?, ?it/s]"
      ],
      "application/vnd.jupyter.widget-view+json": {
       "version_major": 2,
       "version_minor": 0,
       "model_id": "9f644d2ee8dd43e1815bc4a2db61ccf1"
      }
     },
     "metadata": {},
     "output_type": "display_data"
    },
    {
     "data": {
      "text/plain": [
       "  0%|          | 0/50 [00:00<?, ?it/s]"
      ],
      "application/vnd.jupyter.widget-view+json": {
       "version_major": 2,
       "version_minor": 0,
       "model_id": "99e6762882b742ac934c4bf016701ce8"
      }
     },
     "metadata": {},
     "output_type": "display_data"
    },
    {
     "data": {
      "text/plain": [
       "  0%|          | 0/50 [00:00<?, ?it/s]"
      ],
      "application/vnd.jupyter.widget-view+json": {
       "version_major": 2,
       "version_minor": 0,
       "model_id": "236f66995b1f494a9d966da7af733f9b"
      }
     },
     "metadata": {},
     "output_type": "display_data"
    },
    {
     "data": {
      "text/plain": [
       "  0%|          | 0/50 [00:00<?, ?it/s]"
      ],
      "application/vnd.jupyter.widget-view+json": {
       "version_major": 2,
       "version_minor": 0,
       "model_id": "df136651e8e84629aaf372411fe10031"
      }
     },
     "metadata": {},
     "output_type": "display_data"
    },
    {
     "data": {
      "text/plain": [
       "  0%|          | 0/50 [00:00<?, ?it/s]"
      ],
      "application/vnd.jupyter.widget-view+json": {
       "version_major": 2,
       "version_minor": 0,
       "model_id": "7ef044bd06e8402f921f9ba8532ecdef"
      }
     },
     "metadata": {},
     "output_type": "display_data"
    },
    {
     "data": {
      "text/plain": [
       "  0%|          | 0/50 [00:00<?, ?it/s]"
      ],
      "application/vnd.jupyter.widget-view+json": {
       "version_major": 2,
       "version_minor": 0,
       "model_id": "0faac0442a6643c69e94b3510872e2fb"
      }
     },
     "metadata": {},
     "output_type": "display_data"
    },
    {
     "data": {
      "text/plain": [
       "  0%|          | 0/50 [00:00<?, ?it/s]"
      ],
      "application/vnd.jupyter.widget-view+json": {
       "version_major": 2,
       "version_minor": 0,
       "model_id": "3d26283fe5e044258c32471132c1af4a"
      }
     },
     "metadata": {},
     "output_type": "display_data"
    },
    {
     "data": {
      "text/plain": [
       "  0%|          | 0/50 [00:00<?, ?it/s]"
      ],
      "application/vnd.jupyter.widget-view+json": {
       "version_major": 2,
       "version_minor": 0,
       "model_id": "7c9d57b1a12640f58e845990dbaa1413"
      }
     },
     "metadata": {},
     "output_type": "display_data"
    },
    {
     "data": {
      "text/plain": [
       "  0%|          | 0/50 [00:00<?, ?it/s]"
      ],
      "application/vnd.jupyter.widget-view+json": {
       "version_major": 2,
       "version_minor": 0,
       "model_id": "5260abeedeb64285a6a15855ca88fb6c"
      }
     },
     "metadata": {},
     "output_type": "display_data"
    },
    {
     "data": {
      "text/plain": [
       "  0%|          | 0/50 [00:00<?, ?it/s]"
      ],
      "application/vnd.jupyter.widget-view+json": {
       "version_major": 2,
       "version_minor": 0,
       "model_id": "5038434c39324ce0a9c81d366cfdc188"
      }
     },
     "metadata": {},
     "output_type": "display_data"
    },
    {
     "data": {
      "text/plain": [
       "  0%|          | 0/50 [00:00<?, ?it/s]"
      ],
      "application/vnd.jupyter.widget-view+json": {
       "version_major": 2,
       "version_minor": 0,
       "model_id": "b7589cb0db9e4f7c85e8008a26121abd"
      }
     },
     "metadata": {},
     "output_type": "display_data"
    },
    {
     "data": {
      "text/plain": [
       "  0%|          | 0/50 [00:00<?, ?it/s]"
      ],
      "application/vnd.jupyter.widget-view+json": {
       "version_major": 2,
       "version_minor": 0,
       "model_id": "1603efe3c3054dc0baaf57d980221f44"
      }
     },
     "metadata": {},
     "output_type": "display_data"
    },
    {
     "data": {
      "text/plain": [
       "  0%|          | 0/50 [00:00<?, ?it/s]"
      ],
      "application/vnd.jupyter.widget-view+json": {
       "version_major": 2,
       "version_minor": 0,
       "model_id": "b8884071717e46a1890ee7b5726ce929"
      }
     },
     "metadata": {},
     "output_type": "display_data"
    },
    {
     "data": {
      "text/plain": [
       "  0%|          | 0/50 [00:00<?, ?it/s]"
      ],
      "application/vnd.jupyter.widget-view+json": {
       "version_major": 2,
       "version_minor": 0,
       "model_id": "ee965bc8c39e4d748a86ce4450358c61"
      }
     },
     "metadata": {},
     "output_type": "display_data"
    },
    {
     "data": {
      "text/plain": [
       "  0%|          | 0/50 [00:00<?, ?it/s]"
      ],
      "application/vnd.jupyter.widget-view+json": {
       "version_major": 2,
       "version_minor": 0,
       "model_id": "9ac7aa5f8d0e4de4a6fdad6931472c3a"
      }
     },
     "metadata": {},
     "output_type": "display_data"
    },
    {
     "data": {
      "text/plain": [
       "  0%|          | 0/50 [00:00<?, ?it/s]"
      ],
      "application/vnd.jupyter.widget-view+json": {
       "version_major": 2,
       "version_minor": 0,
       "model_id": "978c65a3bbf14e348bca5f70a4da2b70"
      }
     },
     "metadata": {},
     "output_type": "display_data"
    },
    {
     "data": {
      "text/plain": [
       "  0%|          | 0/50 [00:00<?, ?it/s]"
      ],
      "application/vnd.jupyter.widget-view+json": {
       "version_major": 2,
       "version_minor": 0,
       "model_id": "176b81585ee04260b6c512f3c7054a01"
      }
     },
     "metadata": {},
     "output_type": "display_data"
    },
    {
     "data": {
      "text/plain": [
       "  0%|          | 0/50 [00:00<?, ?it/s]"
      ],
      "application/vnd.jupyter.widget-view+json": {
       "version_major": 2,
       "version_minor": 0,
       "model_id": "c86fd2c9f20a4129891de789a83d4e47"
      }
     },
     "metadata": {},
     "output_type": "display_data"
    },
    {
     "data": {
      "text/plain": [
       "  0%|          | 0/50 [00:00<?, ?it/s]"
      ],
      "application/vnd.jupyter.widget-view+json": {
       "version_major": 2,
       "version_minor": 0,
       "model_id": "090b06219c0f4f5a97727d516ef5ffa7"
      }
     },
     "metadata": {},
     "output_type": "display_data"
    },
    {
     "data": {
      "text/plain": [
       "  0%|          | 0/50 [00:00<?, ?it/s]"
      ],
      "application/vnd.jupyter.widget-view+json": {
       "version_major": 2,
       "version_minor": 0,
       "model_id": "a5fc22991a484c039c880c4e576ef46d"
      }
     },
     "metadata": {},
     "output_type": "display_data"
    },
    {
     "data": {
      "text/plain": [
       "  0%|          | 0/50 [00:00<?, ?it/s]"
      ],
      "application/vnd.jupyter.widget-view+json": {
       "version_major": 2,
       "version_minor": 0,
       "model_id": "40ba71f88f584792981d1554ec4362db"
      }
     },
     "metadata": {},
     "output_type": "display_data"
    },
    {
     "data": {
      "text/plain": [
       "  0%|          | 0/50 [00:00<?, ?it/s]"
      ],
      "application/vnd.jupyter.widget-view+json": {
       "version_major": 2,
       "version_minor": 0,
       "model_id": "a1984ced2d1b4852a2381baa665fd444"
      }
     },
     "metadata": {},
     "output_type": "display_data"
    },
    {
     "data": {
      "text/plain": [
       "  0%|          | 0/50 [00:00<?, ?it/s]"
      ],
      "application/vnd.jupyter.widget-view+json": {
       "version_major": 2,
       "version_minor": 0,
       "model_id": "9b405e9f74224ee3aa9fad878090cee3"
      }
     },
     "metadata": {},
     "output_type": "display_data"
    },
    {
     "data": {
      "text/plain": [
       "  0%|          | 0/50 [00:00<?, ?it/s]"
      ],
      "application/vnd.jupyter.widget-view+json": {
       "version_major": 2,
       "version_minor": 0,
       "model_id": "8947898b067e42d4bcd64b0e5f8e1fd7"
      }
     },
     "metadata": {},
     "output_type": "display_data"
    },
    {
     "data": {
      "text/plain": [
       "  0%|          | 0/50 [00:00<?, ?it/s]"
      ],
      "application/vnd.jupyter.widget-view+json": {
       "version_major": 2,
       "version_minor": 0,
       "model_id": "8e22d310a68b4a5b8e36ee015a7cdf75"
      }
     },
     "metadata": {},
     "output_type": "display_data"
    }
   ],
   "execution_count": 140
  },
  {
   "metadata": {},
   "cell_type": "code",
   "outputs": [],
   "execution_count": null,
   "source": "",
   "id": "54039eef557ee582"
  }
 ],
 "metadata": {
  "kernelspec": {
   "display_name": "Python 3",
   "language": "python",
   "name": "python3"
  },
  "language_info": {
   "codemirror_mode": {
    "name": "ipython",
    "version": 2
   },
   "file_extension": ".py",
   "mimetype": "text/x-python",
   "name": "python",
   "nbconvert_exporter": "python",
   "pygments_lexer": "ipython2",
   "version": "2.7.6"
  }
 },
 "nbformat": 4,
 "nbformat_minor": 5
}
